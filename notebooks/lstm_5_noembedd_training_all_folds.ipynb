{
 "cells": [
  {
   "cell_type": "code",
   "execution_count": 1,
   "id": "2871f7d2",
   "metadata": {
    "ExecuteTime": {
     "end_time": "2022-02-05T01:00:44.710820Z",
     "start_time": "2022-02-05T01:00:44.176564Z"
    }
   },
   "outputs": [],
   "source": [
    "import numpy as np\n",
    "import pandas as pd\n",
    "import pickle\n",
    "from datetime import datetime\n",
    "from matplotlib import pyplot as plt\n",
    "from sklearn.preprocessing import LabelEncoder\n",
    "from sklearn.model_selection import GroupKFold\n",
    "import dateutil.easter as easter"
   ]
  },
  {
   "cell_type": "code",
   "execution_count": 2,
   "id": "20376c34",
   "metadata": {
    "ExecuteTime": {
     "end_time": "2022-02-05T01:00:45.788167Z",
     "start_time": "2022-02-05T01:00:44.713091Z"
    }
   },
   "outputs": [],
   "source": [
    "import torch\n",
    "import torch.nn as nn\n",
    "from torch.autograd import Variable"
   ]
  },
  {
   "cell_type": "code",
   "execution_count": 3,
   "id": "4ab55994",
   "metadata": {
    "ExecuteTime": {
     "end_time": "2022-02-05T01:00:45.794946Z",
     "start_time": "2022-02-05T01:00:45.790993Z"
    }
   },
   "outputs": [],
   "source": [
    "from torch.utils.data import Dataset, DataLoader"
   ]
  },
  {
   "cell_type": "code",
   "execution_count": 4,
   "id": "1049193c",
   "metadata": {
    "ExecuteTime": {
     "end_time": "2022-02-05T01:00:45.814970Z",
     "start_time": "2022-02-05T01:00:45.798798Z"
    }
   },
   "outputs": [],
   "source": [
    "from accelerate import Accelerator\n",
    "import torch.optim as optim"
   ]
  },
  {
   "cell_type": "code",
   "execution_count": 5,
   "id": "8531998e",
   "metadata": {
    "ExecuteTime": {
     "end_time": "2022-02-05T01:00:45.820700Z",
     "start_time": "2022-02-05T01:00:45.816934Z"
    }
   },
   "outputs": [],
   "source": [
    "from sklearn.model_selection import train_test_split"
   ]
  },
  {
   "cell_type": "code",
   "execution_count": 6,
   "id": "a2c3273f",
   "metadata": {
    "ExecuteTime": {
     "end_time": "2022-02-05T01:00:45.824903Z",
     "start_time": "2022-02-05T01:00:45.822522Z"
    }
   },
   "outputs": [],
   "source": [
    "import time"
   ]
  },
  {
   "cell_type": "code",
   "execution_count": 7,
   "id": "e193ac80",
   "metadata": {
    "ExecuteTime": {
     "end_time": "2022-02-05T01:00:45.830241Z",
     "start_time": "2022-02-05T01:00:45.827702Z"
    }
   },
   "outputs": [],
   "source": [
    "from tqdm.notebook import tqdm"
   ]
  },
  {
   "cell_type": "code",
   "execution_count": 8,
   "id": "c3139064",
   "metadata": {
    "ExecuteTime": {
     "end_time": "2022-02-05T01:00:45.834914Z",
     "start_time": "2022-02-05T01:00:45.832581Z"
    }
   },
   "outputs": [],
   "source": [
    "import gc"
   ]
  },
  {
   "cell_type": "markdown",
   "id": "d6eaf56d",
   "metadata": {},
   "source": [
    "## Global Variables ###"
   ]
  },
  {
   "cell_type": "code",
   "execution_count": 9,
   "id": "21027ebf",
   "metadata": {
    "ExecuteTime": {
     "end_time": "2022-02-05T01:00:46.157872Z",
     "start_time": "2022-02-05T01:00:45.836536Z"
    }
   },
   "outputs": [],
   "source": [
    "device = torch.device(\"cuda:0\" if torch.cuda.is_available() else \"cpu\")"
   ]
  },
  {
   "cell_type": "code",
   "execution_count": 10,
   "id": "6ea9d196",
   "metadata": {
    "ExecuteTime": {
     "end_time": "2022-02-05T01:00:46.171483Z",
     "start_time": "2022-02-05T01:00:46.161439Z"
    }
   },
   "outputs": [
    {
     "data": {
      "text/plain": [
       "device(type='cuda', index=0)"
      ]
     },
     "execution_count": 10,
     "metadata": {},
     "output_type": "execute_result"
    }
   ],
   "source": [
    "device"
   ]
  },
  {
   "cell_type": "code",
   "execution_count": 11,
   "id": "181a735a",
   "metadata": {
    "ExecuteTime": {
     "end_time": "2022-02-05T01:00:46.177364Z",
     "start_time": "2022-02-05T01:00:46.173674Z"
    }
   },
   "outputs": [],
   "source": [
    "from colorama import Fore, Back, Style\n",
    "r_ = Fore.RED\n",
    "b_ = Fore.BLUE\n",
    "c_ = Fore.CYAN\n",
    "g_ = Fore.GREEN\n",
    "y_ = Fore.YELLOW\n",
    "m_ = Fore.MAGENTA\n",
    "sr_ = Style.RESET_ALL"
   ]
  },
  {
   "cell_type": "code",
   "execution_count": 12,
   "id": "9e80a83b",
   "metadata": {
    "ExecuteTime": {
     "end_time": "2022-02-05T01:00:46.182462Z",
     "start_time": "2022-02-05T01:00:46.179335Z"
    }
   },
   "outputs": [],
   "source": [
    "BASE_DIR = '/sharedHDD/rohit/timeseries_learning/ubiquant/'\n",
    "DATA_DIR = BASE_DIR+'data/parquet/'\n",
    "INPUT_DIR = BASE_DIR+'input/'\n",
    "WEIGHTS_DIR = BASE_DIR + 'weights/'"
   ]
  },
  {
   "cell_type": "code",
   "execution_count": 13,
   "id": "ac6ca023",
   "metadata": {
    "ExecuteTime": {
     "end_time": "2022-02-05T01:00:46.187023Z",
     "start_time": "2022-02-05T01:00:46.184608Z"
    }
   },
   "outputs": [],
   "source": [
    "input_chunk_length = 5\n",
    "output_chunk_length = 1\n",
    "# embedding_dim = 56 ## Investment id embedding dim"
   ]
  },
  {
   "cell_type": "code",
   "execution_count": 14,
   "id": "848b6f03",
   "metadata": {
    "ExecuteTime": {
     "end_time": "2022-02-05T01:00:46.191560Z",
     "start_time": "2022-02-05T01:00:46.188782Z"
    }
   },
   "outputs": [],
   "source": [
    "features = [f'f_{i}' for i in range(300)]"
   ]
  },
  {
   "cell_type": "markdown",
   "id": "9a6a2638",
   "metadata": {},
   "source": [
    "## Load data ##"
   ]
  },
  {
   "cell_type": "code",
   "execution_count": 15,
   "id": "c7ca36d9",
   "metadata": {
    "ExecuteTime": {
     "end_time": "2022-02-05T01:00:50.277265Z",
     "start_time": "2022-02-05T01:00:46.193345Z"
    }
   },
   "outputs": [
    {
     "name": "stdout",
     "output_type": "stream",
     "text": [
      "CPU times: user 8.56 s, sys: 13.9 s, total: 22.5 s\n",
      "Wall time: 4.07 s\n"
     ]
    }
   ],
   "source": [
    "%%time\n",
    "train_df = pd.read_parquet(DATA_DIR+'train_low_mem.parquet')"
   ]
  },
  {
   "cell_type": "code",
   "execution_count": 16,
   "id": "8724391b",
   "metadata": {
    "ExecuteTime": {
     "end_time": "2022-02-05T01:00:50.310786Z",
     "start_time": "2022-02-05T01:00:50.281653Z"
    }
   },
   "outputs": [],
   "source": [
    "investment_ids = train_df.investment_id.unique().tolist()"
   ]
  },
  {
   "cell_type": "code",
   "execution_count": 17,
   "id": "4addc72f",
   "metadata": {
    "ExecuteTime": {
     "end_time": "2022-02-05T01:00:50.317610Z",
     "start_time": "2022-02-05T01:00:50.312983Z"
    }
   },
   "outputs": [
    {
     "data": {
      "text/plain": [
       "3773"
      ]
     },
     "execution_count": 17,
     "metadata": {},
     "output_type": "execute_result"
    }
   ],
   "source": [
    "max(investment_ids)"
   ]
  },
  {
   "cell_type": "code",
   "execution_count": 18,
   "id": "352ef909",
   "metadata": {
    "ExecuteTime": {
     "end_time": "2022-02-05T01:00:51.061382Z",
     "start_time": "2022-02-05T01:00:50.318908Z"
    }
   },
   "outputs": [],
   "source": [
    "with open(BASE_DIR+'input/folds.pickle', 'rb') as f:\n",
    "    folds = pickle.load(f)"
   ]
  },
  {
   "cell_type": "markdown",
   "id": "3884c918",
   "metadata": {},
   "source": [
    "#### Utility functions ######"
   ]
  },
  {
   "cell_type": "code",
   "execution_count": 19,
   "id": "ca7b6b55",
   "metadata": {
    "ExecuteTime": {
     "end_time": "2022-02-05T01:00:51.066495Z",
     "start_time": "2022-02-05T01:00:51.063781Z"
    }
   },
   "outputs": [],
   "source": [
    "all_features_columns = ['target'] #+ features"
   ]
  },
  {
   "cell_type": "code",
   "execution_count": 20,
   "id": "fd3d4c5d",
   "metadata": {
    "ExecuteTime": {
     "end_time": "2022-02-05T01:00:51.071600Z",
     "start_time": "2022-02-05T01:00:51.068333Z"
    }
   },
   "outputs": [],
   "source": [
    "def get_feature_array_train(rows):\n",
    "    target_val = rows.target.values\n",
    "    \n",
    "    inp_vec = rows[all_features_columns].values\n",
    "    \n",
    "#     future_covariates = rows[['investment_id']+features].values\n",
    "    \n",
    "    future_covariates = rows[features].values\n",
    "    \n",
    "    return inp_vec,target_val,future_covariates"
   ]
  },
  {
   "cell_type": "code",
   "execution_count": 21,
   "id": "1498fc8d",
   "metadata": {
    "ExecuteTime": {
     "end_time": "2022-02-05T01:00:51.178939Z",
     "start_time": "2022-02-05T01:00:51.073440Z"
    }
   },
   "outputs": [],
   "source": [
    "def sliding_windows(X,Y,FCVs, seq_length,prediction_length):\n",
    "    x = []\n",
    "    y = []\n",
    "    future_covariates = []\n",
    "    for i in range(len(X)-(prediction_length+seq_length)):\n",
    "        _x = X[i:(i+seq_length),:].reshape(seq_length,-1)\n",
    "#         _y = Y[(i+seq_length):(i+prediction_length+seq_length),:]\n",
    "        _y = Y[i+seq_length]\n",
    "        _future_covariate = FCVs[i+seq_length]\n",
    "        x.append(_x)\n",
    "        y.append(_y)\n",
    "        future_covariates.append(_future_covariate)\n",
    "\n",
    "    return x,y,future_covariates"
   ]
  },
  {
   "cell_type": "code",
   "execution_count": 22,
   "id": "46496544",
   "metadata": {
    "ExecuteTime": {
     "end_time": "2022-02-05T01:00:51.189105Z",
     "start_time": "2022-02-05T01:00:51.183259Z"
    }
   },
   "outputs": [],
   "source": [
    "def make_sequences(df,to_exclude_ids):\n",
    "    x = []\n",
    "    y = []\n",
    "    future_covariates = []\n",
    "    investment_ids = df.investment_id.unique()\n",
    "    for iid in investment_ids:\n",
    "        if iid not in to_exclude_ids:\n",
    "            df_tmp = df[df.investment_id == iid].sort_values('time_id')\n",
    "            tmp_X,tmp_Y,tmp_fcvs = get_feature_array_train(df_tmp)\n",
    "            _x,_y,_fcv = sliding_windows(tmp_X,tmp_Y,tmp_fcvs,input_chunk_length,output_chunk_length)\n",
    "            x.extend(_x)\n",
    "            y.extend(_y)\n",
    "            future_covariates.extend(_fcv)\n",
    "            \n",
    "#             gc.collect()\n",
    "        # else:\n",
    "        #     print('Not including iid:', iid)\n",
    "    \n",
    "    return np.float32(np.array(x)),np.float32(np.array(y)),np.float32(np.array(future_covariates))"
   ]
  },
  {
   "cell_type": "code",
   "execution_count": 23,
   "id": "638478fd",
   "metadata": {
    "ExecuteTime": {
     "end_time": "2022-02-05T01:00:51.386656Z",
     "start_time": "2022-02-05T01:00:51.191564Z"
    }
   },
   "outputs": [
    {
     "data": {
      "text/plain": [
       "40"
      ]
     },
     "execution_count": 23,
     "metadata": {},
     "output_type": "execute_result"
    }
   ],
   "source": [
    "gc.collect()"
   ]
  },
  {
   "cell_type": "markdown",
   "id": "d50eb104",
   "metadata": {},
   "source": [
    "## Modeling ##"
   ]
  },
  {
   "cell_type": "code",
   "execution_count": 24,
   "id": "e815508e",
   "metadata": {
    "ExecuteTime": {
     "end_time": "2022-02-05T01:00:51.392665Z",
     "start_time": "2022-02-05T01:00:51.388396Z"
    }
   },
   "outputs": [],
   "source": [
    "config = {\n",
    "    'seq_length' : input_chunk_length,\n",
    "    'num_epochs' : 100,\n",
    "    'lr' : 0.00026,\n",
    "    'input_size' : 1,\n",
    "    'hidden_size' : 3,\n",
    "    'num_layers' : 1,\n",
    "    'num_classes' :1, ## This is  output dimension\n",
    "    'train_shuffle': True,\n",
    "    'val_shuffle': True,\n",
    "    'batch_size' : 4096*2,\n",
    "    'best_model_name' : 'lstm5_c5',\n",
    "    'bidirectional' : False,\n",
    "    'only_last_hidden': True,\n",
    "    'early_stopping_patience':10,\n",
    "}"
   ]
  },
  {
   "cell_type": "code",
   "execution_count": 25,
   "id": "0dd280c3",
   "metadata": {
    "ExecuteTime": {
     "end_time": "2022-02-05T01:00:51.406151Z",
     "start_time": "2022-02-05T01:00:51.396385Z"
    }
   },
   "outputs": [],
   "source": [
    "class TSDataset(Dataset):\n",
    "    \n",
    "    def __init__(self,x,y,future_covariates):\n",
    "        \"\"\"\n",
    "        Args:\n",
    "        \"\"\"\n",
    "        self.x=x\n",
    "        self.y=y\n",
    "        self.future_covariates = future_covariates\n",
    "\n",
    "    def __len__(self):\n",
    "        return len(self.x)\n",
    "\n",
    "    def __getitem__(self, idx):\n",
    "        \n",
    "        sample = [torch.Tensor(self.x[idx]),torch.Tensor(self.y[idx]),torch.Tensor(self.future_covariates[idx])]\n",
    "        return sample"
   ]
  },
  {
   "cell_type": "markdown",
   "id": "f8d07125",
   "metadata": {},
   "source": [
    "#### Model ####"
   ]
  },
  {
   "cell_type": "code",
   "execution_count": 26,
   "id": "1b5e373f",
   "metadata": {
    "ExecuteTime": {
     "end_time": "2022-02-05T01:00:51.412229Z",
     "start_time": "2022-02-05T01:00:51.408207Z"
    }
   },
   "outputs": [],
   "source": [
    "num_epochs = config['num_epochs']\n",
    "lr = config['lr']\n",
    "input_size = config['input_size']\n",
    "hidden_size = config['hidden_size']\n",
    "num_layers = config['num_layers']\n",
    "num_classes = config['num_classes']\n",
    "seq_length = config['seq_length']\n",
    "bidirectional = config['bidirectional']\n",
    "only_last_hidden = config['only_last_hidden']\n",
    "early_stopping_patience = config['early_stopping_patience']"
   ]
  },
  {
   "cell_type": "markdown",
   "id": "e9f67d68",
   "metadata": {},
   "source": [
    "#### Loss function ######"
   ]
  },
  {
   "cell_type": "code",
   "execution_count": 27,
   "id": "7f9bb16a",
   "metadata": {
    "ExecuteTime": {
     "end_time": "2022-02-05T01:00:51.418455Z",
     "start_time": "2022-02-05T01:00:51.414243Z"
    }
   },
   "outputs": [],
   "source": [
    "def pearson_loss(x, y):\n",
    "    xd = x - x.mean()\n",
    "    yd = y - y.mean()\n",
    "    nom = (xd * yd).sum()\n",
    "    denom = ((xd ** 2).sum() * (yd ** 2).sum()).sqrt()\n",
    "    return 1 - nom / denom"
   ]
  },
  {
   "cell_type": "code",
   "execution_count": 28,
   "id": "d9f8103a",
   "metadata": {
    "ExecuteTime": {
     "end_time": "2022-02-05T01:00:51.436530Z",
     "start_time": "2022-02-05T01:00:51.421988Z"
    }
   },
   "outputs": [],
   "source": [
    "class LstmTsModel(nn.Module):\n",
    "\n",
    "    def __init__(self, num_classes, input_size, hidden_size, num_layers,seq_length):\n",
    "        super(LstmTsModel, self).__init__()\n",
    "        \n",
    "        self.num_classes = num_classes\n",
    "        self.num_layers = num_layers\n",
    "        self.input_size = input_size\n",
    "        self.hidden_size = hidden_size\n",
    "        self.seq_length = seq_length\n",
    "        \n",
    "        cat_input_dim: int = 3774\n",
    "        \n",
    "#         self.embedding = nn.Embedding(cat_input_dim, embedding_dim)\n",
    "        \n",
    "        self.lstm = nn.LSTM(input_size=input_size, hidden_size=hidden_size,\n",
    "                            num_layers=num_layers, batch_first=True,bidirectional=bidirectional)\n",
    "        \n",
    "        if bidirectional:\n",
    "            m=2\n",
    "        else:\n",
    "            m=1\n",
    "        \n",
    "        if only_last_hidden:\n",
    "            input_fc_dim = (hidden_size*m)+(len(features))\n",
    "        else:\n",
    "            input_fc_dim = (self.seq_length*hidden_size*m)+(len(features))\n",
    "        \n",
    "        print(input_fc_dim)\n",
    "        \n",
    "        self.fc = nn.Sequential(nn.Linear(input_fc_dim, 508),\n",
    "#                                 nn.BatchNorm1d(num_features=508),\n",
    "                                nn.ReLU(),\n",
    "                                nn.Dropout(0.42),\n",
    "                                \n",
    "                                nn.Linear(508, 405),\n",
    "#                                 nn.BatchNorm1d(num_features=405),\n",
    "                                nn.Dropout(0.42),\n",
    "                                nn.ReLU(),\n",
    "                                \n",
    "#                                 nn.Linear(input_fc_dim//16, input_fc_dim//32),\n",
    "#                                 nn.BatchNorm1d(num_features=input_fc_dim//32),\n",
    "#                                 # nn.Dropout(0.2),\n",
    "#                                 nn.ReLU(),\n",
    "                                \n",
    "                                \n",
    "                                nn.Linear(405, self.num_classes)\n",
    "                                )\n",
    "    \n",
    "    def forward(self, x, fcv):\n",
    "                                # Propagate input through LSTM\n",
    "        h_out, (h_n, _) = self.lstm(x)\n",
    "        if only_last_hidden:\n",
    "            h_out = h_out[:,-1:,:]\n",
    "        \n",
    "        h_out = h_out.flatten(start_dim=1)\n",
    "        \n",
    "        \n",
    "#         investment_ids = fcv[:,0].type(torch.LongTensor).to(device)\n",
    "#         embeddings = self.embedding(investment_ids)\n",
    "        \n",
    "        h_out = torch.cat([fcv,h_out], dim=1)\n",
    "        \n",
    "        out = self.fc(h_out)\n",
    "        \n",
    "        return out"
   ]
  },
  {
   "cell_type": "code",
   "execution_count": 29,
   "id": "42377443",
   "metadata": {
    "ExecuteTime": {
     "end_time": "2022-02-05T01:00:51.450234Z",
     "start_time": "2022-02-05T01:00:51.438287Z"
    }
   },
   "outputs": [],
   "source": [
    "def run(model,train_dl,val_dl,fold):\n",
    "    def evaluate(model,valid_loader):\n",
    "        model.eval()\n",
    "        valid_loss = 0\n",
    "        rec_loss = 0\n",
    "        with torch.no_grad():\n",
    "            for i, inputs in enumerate(tqdm(valid_loader)):\n",
    "                dataX = inputs[0]\n",
    "                dataY = inputs[1]\n",
    "                dataFCV = inputs[2]\n",
    "                outputs = model(dataX,dataFCV)\n",
    "                loss = criterion(outputs, dataY)\n",
    "                valid_loss += loss.item()\n",
    "\n",
    "        valid_loss /= len(valid_loader)\n",
    "        return valid_loss\n",
    "    \n",
    "    def train_and_evaluate_loop(train_loader,model,optimizer,criterion,epoch,lr_scheduler=None,valid_loader=None, best_loss=99999):\n",
    "        train_loss = 0\n",
    "        improvement = False\n",
    "        for i, inputs in enumerate(tqdm(train_loader)):\n",
    "            optimizer.zero_grad()\n",
    "            model.train()\n",
    "            \n",
    "            dataX = inputs[0]\n",
    "            dataY = inputs[1]\n",
    "            dataFCV = inputs[2]\n",
    "            outputs = model(dataX,dataFCV)\n",
    "            loss = criterion(outputs, dataY)\n",
    "            \n",
    "            loss.backward()\n",
    "            optimizer.step()\n",
    "            \n",
    "            train_loss += loss.item()\n",
    "            \n",
    "            if lr_scheduler:\n",
    "                lr_scheduler.step()\n",
    "        \n",
    "        train_loss /= len(train_loader)\n",
    "        if valid_loader:\n",
    "            valid_loss = evaluate(model,valid_loader) \n",
    "            print(f\"Epoch:{epoch} |Train Loss:{train_loss}|Valid Loss:{valid_loss}\")\n",
    "            if valid_loss <= best_loss:\n",
    "                print(f\"{g_}Loss Decreased from {best_loss} to {valid_loss}{sr_}\")\n",
    "\n",
    "                best_loss = valid_loss\n",
    "                torch.save(model.state_dict(), WEIGHTS_DIR+str(fold)+'_'+config['best_model_name'])\n",
    "                improvement = True\n",
    "        else:\n",
    "            print(f\"Epoch:{epoch} |Train Loss:{train_loss}\")\n",
    "            \n",
    "                    \n",
    "        return best_loss,improvement\n",
    "    \n",
    "    accelerator = Accelerator()\n",
    "    print(f\"{accelerator.device} is used\")\n",
    "\n",
    "    \n",
    "    \n",
    "    optimizer = optim.Adam(model.parameters(),lr=config['lr'],amsgrad=False)\n",
    "    criterion = pearson_loss\n",
    "    \n",
    "    # lr_scheduler = CosineAnnealingWarmupRestarts(optimizer, **config_lr)\n",
    "    # lr_scheduler =  torch.optim.lr_scheduler.CosineAnnealingLR(optimizer, **config_lr)\n",
    "    lr_scheduler = None\n",
    "\n",
    "    model,train_dl,val_dl,optimizer,lr_scheduler,criterion = accelerator.prepare(model,train_dl,val_dl,optimizer,lr_scheduler,criterion)\n",
    "\n",
    "    best_loss = 9999999\n",
    "    start_time = time.time()\n",
    "    current_patience = 0\n",
    "    for epoch in tqdm(range(config[\"num_epochs\"])):\n",
    "        print(f\"Epoch Started:{epoch}\")\n",
    "        best_loss,improvement = train_and_evaluate_loop(train_dl,model,optimizer,criterion,epoch,lr_scheduler,valid_loader=val_dl, best_loss=best_loss)\n",
    "        \n",
    "        if not improvement:\n",
    "            current_patience+=1\n",
    "        else:\n",
    "            current_patience = 0\n",
    "            \n",
    "        \n",
    "        if current_patience == early_stopping_patience:\n",
    "            print(f'{g_}EARLY STOPPING')\n",
    "            break\n",
    "            \n",
    "            \n",
    "        \n",
    "        end_time = time.time()\n",
    "        print(f\"{m_}Time taken by epoch {epoch} is {end_time-start_time:.2f}s{sr_}\")\n",
    "        start_time = end_time\n",
    "        \n",
    "    return best_loss, model"
   ]
  },
  {
   "cell_type": "code",
   "execution_count": null,
   "id": "556c2af6",
   "metadata": {},
   "outputs": [],
   "source": []
  },
  {
   "cell_type": "code",
   "execution_count": 30,
   "id": "1892e844",
   "metadata": {
    "ExecuteTime": {
     "end_time": "2022-02-05T01:00:51.617421Z",
     "start_time": "2022-02-05T01:00:51.452163Z"
    }
   },
   "outputs": [
    {
     "data": {
      "text/plain": [
       "20"
      ]
     },
     "execution_count": 30,
     "metadata": {},
     "output_type": "execute_result"
    }
   ],
   "source": [
    "gc.collect()"
   ]
  },
  {
   "cell_type": "code",
   "execution_count": null,
   "id": "a933e1eb",
   "metadata": {},
   "outputs": [],
   "source": []
  },
  {
   "cell_type": "code",
   "execution_count": 31,
   "id": "0dd54406",
   "metadata": {
    "ExecuteTime": {
     "end_time": "2022-02-05T01:43:36.440833Z",
     "start_time": "2022-02-05T01:00:51.619277Z"
    }
   },
   "outputs": [
    {
     "name": "stdout",
     "output_type": "stream",
     "text": [
      "Starting for fold: 4\u001b[31m\n",
      "Preparing training data for fold: 4\u001b[35m\n",
      "(2619339, 304)\n",
      "(2597877, 5, 1) (2597877, 1) (2597877, 300)\n",
      "(500649, 5, 1) (500649, 1) (2597877, 300)\n",
      "303\n",
      "cuda is used\n"
     ]
    },
    {
     "data": {
      "application/vnd.jupyter.widget-view+json": {
       "model_id": "7e391664b5c64d258367a8b85f9629a2",
       "version_major": 2,
       "version_minor": 0
      },
      "text/plain": [
       "  0%|          | 0/100 [00:00<?, ?it/s]"
      ]
     },
     "metadata": {},
     "output_type": "display_data"
    },
    {
     "name": "stdout",
     "output_type": "stream",
     "text": [
      "Epoch Started:0\n"
     ]
    },
    {
     "data": {
      "application/vnd.jupyter.widget-view+json": {
       "model_id": "3bb7231e3c9f47c0bf03595417885036",
       "version_major": 2,
       "version_minor": 0
      },
      "text/plain": [
       "  0%|          | 0/318 [00:00<?, ?it/s]"
      ]
     },
     "metadata": {},
     "output_type": "display_data"
    },
    {
     "data": {
      "application/vnd.jupyter.widget-view+json": {
       "model_id": "0f787ae9ec2d4339be17ad4a2c749b39",
       "version_major": 2,
       "version_minor": 0
      },
      "text/plain": [
       "  0%|          | 0/62 [00:00<?, ?it/s]"
      ]
     },
     "metadata": {},
     "output_type": "display_data"
    },
    {
     "name": "stdout",
     "output_type": "stream",
     "text": [
      "Epoch:0 |Train Loss:0.8638482133172593|Valid Loss:0.8650945251987826\n",
      "\u001b[32mLoss Decreased from 9999999 to 0.8650945251987826\u001b[0m\n",
      "\u001b[35mTime taken by epoch 0 is 89.72s\u001b[0m\n",
      "Epoch Started:1\n"
     ]
    },
    {
     "data": {
      "application/vnd.jupyter.widget-view+json": {
       "model_id": "5e3313b30e9b4850a7c36c3a097a9de4",
       "version_major": 2,
       "version_minor": 0
      },
      "text/plain": [
       "  0%|          | 0/318 [00:00<?, ?it/s]"
      ]
     },
     "metadata": {},
     "output_type": "display_data"
    },
    {
     "data": {
      "application/vnd.jupyter.widget-view+json": {
       "model_id": "51f72358b2644588a32ce437ae70364b",
       "version_major": 2,
       "version_minor": 0
      },
      "text/plain": [
       "  0%|          | 0/62 [00:00<?, ?it/s]"
      ]
     },
     "metadata": {},
     "output_type": "display_data"
    },
    {
     "name": "stdout",
     "output_type": "stream",
     "text": [
      "Epoch:1 |Train Loss:0.8209382929142166|Valid Loss:0.8403703464615729\n",
      "\u001b[32mLoss Decreased from 0.8650945251987826 to 0.8403703464615729\u001b[0m\n",
      "\u001b[35mTime taken by epoch 1 is 88.75s\u001b[0m\n",
      "Epoch Started:2\n"
     ]
    },
    {
     "data": {
      "application/vnd.jupyter.widget-view+json": {
       "model_id": "e42ed174070e4db6af6c4c53b5d8f30b",
       "version_major": 2,
       "version_minor": 0
      },
      "text/plain": [
       "  0%|          | 0/318 [00:00<?, ?it/s]"
      ]
     },
     "metadata": {},
     "output_type": "display_data"
    },
    {
     "data": {
      "application/vnd.jupyter.widget-view+json": {
       "model_id": "9ba34d4f534643fe83e942f34969360c",
       "version_major": 2,
       "version_minor": 0
      },
      "text/plain": [
       "  0%|          | 0/62 [00:00<?, ?it/s]"
      ]
     },
     "metadata": {},
     "output_type": "display_data"
    },
    {
     "name": "stdout",
     "output_type": "stream",
     "text": [
      "Epoch:2 |Train Loss:0.8041231815919936|Valid Loss:0.8308976561792435\n",
      "\u001b[32mLoss Decreased from 0.8403703464615729 to 0.8308976561792435\u001b[0m\n",
      "\u001b[35mTime taken by epoch 2 is 88.55s\u001b[0m\n",
      "Epoch Started:3\n"
     ]
    },
    {
     "data": {
      "application/vnd.jupyter.widget-view+json": {
       "model_id": "9b6310bfae624391847b63bdea471efe",
       "version_major": 2,
       "version_minor": 0
      },
      "text/plain": [
       "  0%|          | 0/318 [00:00<?, ?it/s]"
      ]
     },
     "metadata": {},
     "output_type": "display_data"
    },
    {
     "data": {
      "application/vnd.jupyter.widget-view+json": {
       "model_id": "d8bb4f56d4704727acd92c57f7686063",
       "version_major": 2,
       "version_minor": 0
      },
      "text/plain": [
       "  0%|          | 0/62 [00:00<?, ?it/s]"
      ]
     },
     "metadata": {},
     "output_type": "display_data"
    },
    {
     "name": "stdout",
     "output_type": "stream",
     "text": [
      "Epoch:3 |Train Loss:0.7966262578214489|Valid Loss:0.8282429095237486\n",
      "\u001b[32mLoss Decreased from 0.8308976561792435 to 0.8282429095237486\u001b[0m\n",
      "\u001b[35mTime taken by epoch 3 is 88.22s\u001b[0m\n",
      "Epoch Started:4\n"
     ]
    },
    {
     "data": {
      "application/vnd.jupyter.widget-view+json": {
       "model_id": "568289737e16496e928f51c67f62f56a",
       "version_major": 2,
       "version_minor": 0
      },
      "text/plain": [
       "  0%|          | 0/318 [00:00<?, ?it/s]"
      ]
     },
     "metadata": {},
     "output_type": "display_data"
    },
    {
     "data": {
      "application/vnd.jupyter.widget-view+json": {
       "model_id": "223f6f48c07c4bba92c5eaa9daa7acaf",
       "version_major": 2,
       "version_minor": 0
      },
      "text/plain": [
       "  0%|          | 0/62 [00:00<?, ?it/s]"
      ]
     },
     "metadata": {},
     "output_type": "display_data"
    },
    {
     "name": "stdout",
     "output_type": "stream",
     "text": [
      "Epoch:4 |Train Loss:0.7911034938674303|Valid Loss:0.8256528242941825\n",
      "\u001b[32mLoss Decreased from 0.8282429095237486 to 0.8256528242941825\u001b[0m\n",
      "\u001b[35mTime taken by epoch 4 is 88.76s\u001b[0m\n",
      "Epoch Started:5\n"
     ]
    },
    {
     "data": {
      "application/vnd.jupyter.widget-view+json": {
       "model_id": "8b7b9615b58e4a15851e1207818bfd71",
       "version_major": 2,
       "version_minor": 0
      },
      "text/plain": [
       "  0%|          | 0/318 [00:00<?, ?it/s]"
      ]
     },
     "metadata": {},
     "output_type": "display_data"
    },
    {
     "data": {
      "application/vnd.jupyter.widget-view+json": {
       "model_id": "8761c23f24624f03bd108d2080df22f3",
       "version_major": 2,
       "version_minor": 0
      },
      "text/plain": [
       "  0%|          | 0/62 [00:00<?, ?it/s]"
      ]
     },
     "metadata": {},
     "output_type": "display_data"
    },
    {
     "name": "stdout",
     "output_type": "stream",
     "text": [
      "Epoch:5 |Train Loss:0.7866495204796581|Valid Loss:0.8211064300229473\n",
      "\u001b[32mLoss Decreased from 0.8256528242941825 to 0.8211064300229473\u001b[0m\n",
      "\u001b[35mTime taken by epoch 5 is 88.60s\u001b[0m\n",
      "Epoch Started:6\n"
     ]
    },
    {
     "data": {
      "application/vnd.jupyter.widget-view+json": {
       "model_id": "a5bb4fb8158c406cbedf07e30b2699bb",
       "version_major": 2,
       "version_minor": 0
      },
      "text/plain": [
       "  0%|          | 0/318 [00:00<?, ?it/s]"
      ]
     },
     "metadata": {},
     "output_type": "display_data"
    },
    {
     "data": {
      "application/vnd.jupyter.widget-view+json": {
       "model_id": "6ef5b4463af04784ac63fcc28c20e742",
       "version_major": 2,
       "version_minor": 0
      },
      "text/plain": [
       "  0%|          | 0/62 [00:00<?, ?it/s]"
      ]
     },
     "metadata": {},
     "output_type": "display_data"
    },
    {
     "name": "stdout",
     "output_type": "stream",
     "text": [
      "Epoch:6 |Train Loss:0.7820891644219933|Valid Loss:0.8209402993802102\n",
      "\u001b[32mLoss Decreased from 0.8211064300229473 to 0.8209402993802102\u001b[0m\n",
      "\u001b[35mTime taken by epoch 6 is 88.36s\u001b[0m\n",
      "Epoch Started:7\n"
     ]
    },
    {
     "data": {
      "application/vnd.jupyter.widget-view+json": {
       "model_id": "06e740f0f86e49d191796f658b7821b9",
       "version_major": 2,
       "version_minor": 0
      },
      "text/plain": [
       "  0%|          | 0/318 [00:00<?, ?it/s]"
      ]
     },
     "metadata": {},
     "output_type": "display_data"
    },
    {
     "data": {
      "application/vnd.jupyter.widget-view+json": {
       "model_id": "7f2d07b456314f7f954a16c297beb6b5",
       "version_major": 2,
       "version_minor": 0
      },
      "text/plain": [
       "  0%|          | 0/62 [00:00<?, ?it/s]"
      ]
     },
     "metadata": {},
     "output_type": "display_data"
    },
    {
     "name": "stdout",
     "output_type": "stream",
     "text": [
      "Epoch:7 |Train Loss:0.7780725614829633|Valid Loss:0.8177004668020433\n",
      "\u001b[32mLoss Decreased from 0.8209402993802102 to 0.8177004668020433\u001b[0m\n",
      "\u001b[35mTime taken by epoch 7 is 88.54s\u001b[0m\n",
      "Epoch Started:8\n"
     ]
    },
    {
     "data": {
      "application/vnd.jupyter.widget-view+json": {
       "model_id": "dd0921dc66ce4a6eb2d85a8a7b9836b1",
       "version_major": 2,
       "version_minor": 0
      },
      "text/plain": [
       "  0%|          | 0/318 [00:00<?, ?it/s]"
      ]
     },
     "metadata": {},
     "output_type": "display_data"
    },
    {
     "data": {
      "application/vnd.jupyter.widget-view+json": {
       "model_id": "8fae19e24c454d8fb2b06d402c2825ec",
       "version_major": 2,
       "version_minor": 0
      },
      "text/plain": [
       "  0%|          | 0/62 [00:00<?, ?it/s]"
      ]
     },
     "metadata": {},
     "output_type": "display_data"
    },
    {
     "name": "stdout",
     "output_type": "stream",
     "text": [
      "Epoch:8 |Train Loss:0.773944099931597|Valid Loss:0.8146293172913213\n",
      "\u001b[32mLoss Decreased from 0.8177004668020433 to 0.8146293172913213\u001b[0m\n",
      "\u001b[35mTime taken by epoch 8 is 88.66s\u001b[0m\n",
      "Epoch Started:9\n"
     ]
    },
    {
     "data": {
      "application/vnd.jupyter.widget-view+json": {
       "model_id": "a22d0b0c6fa646c9854357c0947b5708",
       "version_major": 2,
       "version_minor": 0
      },
      "text/plain": [
       "  0%|          | 0/318 [00:00<?, ?it/s]"
      ]
     },
     "metadata": {},
     "output_type": "display_data"
    },
    {
     "data": {
      "application/vnd.jupyter.widget-view+json": {
       "model_id": "41c12efbb13944de9b34d6ecc49003bf",
       "version_major": 2,
       "version_minor": 0
      },
      "text/plain": [
       "  0%|          | 0/62 [00:00<?, ?it/s]"
      ]
     },
     "metadata": {},
     "output_type": "display_data"
    },
    {
     "name": "stdout",
     "output_type": "stream",
     "text": [
      "Epoch:9 |Train Loss:0.7705915197261475|Valid Loss:0.8102734761853372\n",
      "\u001b[32mLoss Decreased from 0.8146293172913213 to 0.8102734761853372\u001b[0m\n",
      "\u001b[35mTime taken by epoch 9 is 88.16s\u001b[0m\n",
      "Epoch Started:10\n"
     ]
    },
    {
     "data": {
      "application/vnd.jupyter.widget-view+json": {
       "model_id": "74bfc75ebb984934ab78a845578be17d",
       "version_major": 2,
       "version_minor": 0
      },
      "text/plain": [
       "  0%|          | 0/318 [00:00<?, ?it/s]"
      ]
     },
     "metadata": {},
     "output_type": "display_data"
    },
    {
     "data": {
      "application/vnd.jupyter.widget-view+json": {
       "model_id": "02c6c8e870704a77b1fb9f9eb88733ed",
       "version_major": 2,
       "version_minor": 0
      },
      "text/plain": [
       "  0%|          | 0/62 [00:00<?, ?it/s]"
      ]
     },
     "metadata": {},
     "output_type": "display_data"
    },
    {
     "name": "stdout",
     "output_type": "stream",
     "text": [
      "Epoch:10 |Train Loss:0.7665435939839801|Valid Loss:0.8132490515708923\n",
      "\u001b[35mTime taken by epoch 10 is 88.70s\u001b[0m\n",
      "Epoch Started:11\n"
     ]
    },
    {
     "data": {
      "application/vnd.jupyter.widget-view+json": {
       "model_id": "c40b68dfdde34ad7a96ca4ff5a3b2c0d",
       "version_major": 2,
       "version_minor": 0
      },
      "text/plain": [
       "  0%|          | 0/318 [00:00<?, ?it/s]"
      ]
     },
     "metadata": {},
     "output_type": "display_data"
    },
    {
     "data": {
      "application/vnd.jupyter.widget-view+json": {
       "model_id": "b9a3baeae7984f5b8d762f3524b45802",
       "version_major": 2,
       "version_minor": 0
      },
      "text/plain": [
       "  0%|          | 0/62 [00:00<?, ?it/s]"
      ]
     },
     "metadata": {},
     "output_type": "display_data"
    },
    {
     "name": "stdout",
     "output_type": "stream",
     "text": [
      "Epoch:11 |Train Loss:0.763226477604992|Valid Loss:0.8144470760899205\n",
      "\u001b[35mTime taken by epoch 11 is 88.96s\u001b[0m\n",
      "Epoch Started:12\n"
     ]
    },
    {
     "data": {
      "application/vnd.jupyter.widget-view+json": {
       "model_id": "d3c12b4b89204a0a86048ad7312596aa",
       "version_major": 2,
       "version_minor": 0
      },
      "text/plain": [
       "  0%|          | 0/318 [00:00<?, ?it/s]"
      ]
     },
     "metadata": {},
     "output_type": "display_data"
    },
    {
     "data": {
      "application/vnd.jupyter.widget-view+json": {
       "model_id": "a47b07817f0c469cb8c02305897793ac",
       "version_major": 2,
       "version_minor": 0
      },
      "text/plain": [
       "  0%|          | 0/62 [00:00<?, ?it/s]"
      ]
     },
     "metadata": {},
     "output_type": "display_data"
    },
    {
     "name": "stdout",
     "output_type": "stream",
     "text": [
      "Epoch:12 |Train Loss:0.7594265834715381|Valid Loss:0.8137496642528042\n",
      "\u001b[35mTime taken by epoch 12 is 89.10s\u001b[0m\n",
      "Epoch Started:13\n"
     ]
    },
    {
     "data": {
      "application/vnd.jupyter.widget-view+json": {
       "model_id": "a941d54dd946449d94a240e9bde06d55",
       "version_major": 2,
       "version_minor": 0
      },
      "text/plain": [
       "  0%|          | 0/318 [00:00<?, ?it/s]"
      ]
     },
     "metadata": {},
     "output_type": "display_data"
    },
    {
     "data": {
      "application/vnd.jupyter.widget-view+json": {
       "model_id": "952094c6c93641e0ac4bc4fff1aa73a7",
       "version_major": 2,
       "version_minor": 0
      },
      "text/plain": [
       "  0%|          | 0/62 [00:00<?, ?it/s]"
      ]
     },
     "metadata": {},
     "output_type": "display_data"
    },
    {
     "name": "stdout",
     "output_type": "stream",
     "text": [
      "Epoch:13 |Train Loss:0.7565914328743077|Valid Loss:0.8147330207209433\n",
      "\u001b[35mTime taken by epoch 13 is 88.76s\u001b[0m\n",
      "Epoch Started:14\n"
     ]
    },
    {
     "data": {
      "application/vnd.jupyter.widget-view+json": {
       "model_id": "f77db27a4a504f689a3ef2d708dbb818",
       "version_major": 2,
       "version_minor": 0
      },
      "text/plain": [
       "  0%|          | 0/318 [00:00<?, ?it/s]"
      ]
     },
     "metadata": {},
     "output_type": "display_data"
    },
    {
     "data": {
      "application/vnd.jupyter.widget-view+json": {
       "model_id": "a11264c4d7964d798ec6f63ca19f9287",
       "version_major": 2,
       "version_minor": 0
      },
      "text/plain": [
       "  0%|          | 0/62 [00:00<?, ?it/s]"
      ]
     },
     "metadata": {},
     "output_type": "display_data"
    },
    {
     "name": "stdout",
     "output_type": "stream",
     "text": [
      "Epoch:14 |Train Loss:0.7534111254620102|Valid Loss:0.8131025443153996\n",
      "\u001b[35mTime taken by epoch 14 is 91.06s\u001b[0m\n",
      "Epoch Started:15\n"
     ]
    },
    {
     "data": {
      "application/vnd.jupyter.widget-view+json": {
       "model_id": "b7a27a7a26a64cbabd2a9df1290cdd93",
       "version_major": 2,
       "version_minor": 0
      },
      "text/plain": [
       "  0%|          | 0/318 [00:00<?, ?it/s]"
      ]
     },
     "metadata": {},
     "output_type": "display_data"
    },
    {
     "data": {
      "application/vnd.jupyter.widget-view+json": {
       "model_id": "9be0ed4d64e34a818358489bc34f3d4d",
       "version_major": 2,
       "version_minor": 0
      },
      "text/plain": [
       "  0%|          | 0/62 [00:00<?, ?it/s]"
      ]
     },
     "metadata": {},
     "output_type": "display_data"
    },
    {
     "name": "stdout",
     "output_type": "stream",
     "text": [
      "Epoch:15 |Train Loss:0.7503894053915012|Valid Loss:0.8157717739382098\n",
      "\u001b[35mTime taken by epoch 15 is 90.31s\u001b[0m\n",
      "Epoch Started:16\n"
     ]
    },
    {
     "data": {
      "application/vnd.jupyter.widget-view+json": {
       "model_id": "f70fcdc8203a4a2d8898677912fa9136",
       "version_major": 2,
       "version_minor": 0
      },
      "text/plain": [
       "  0%|          | 0/318 [00:00<?, ?it/s]"
      ]
     },
     "metadata": {},
     "output_type": "display_data"
    },
    {
     "data": {
      "application/vnd.jupyter.widget-view+json": {
       "model_id": "c2ec4996fe66424e8a5d886047e253ea",
       "version_major": 2,
       "version_minor": 0
      },
      "text/plain": [
       "  0%|          | 0/62 [00:00<?, ?it/s]"
      ]
     },
     "metadata": {},
     "output_type": "display_data"
    },
    {
     "name": "stdout",
     "output_type": "stream",
     "text": [
      "Epoch:16 |Train Loss:0.7469208231137233|Valid Loss:0.8145730860771672\n",
      "\u001b[35mTime taken by epoch 16 is 90.76s\u001b[0m\n",
      "Epoch Started:17\n"
     ]
    },
    {
     "data": {
      "application/vnd.jupyter.widget-view+json": {
       "model_id": "53eb8e4580c446258037bc9da85f2251",
       "version_major": 2,
       "version_minor": 0
      },
      "text/plain": [
       "  0%|          | 0/318 [00:00<?, ?it/s]"
      ]
     },
     "metadata": {},
     "output_type": "display_data"
    },
    {
     "data": {
      "application/vnd.jupyter.widget-view+json": {
       "model_id": "36dff6858d59497a9e95278aa9c7d55d",
       "version_major": 2,
       "version_minor": 0
      },
      "text/plain": [
       "  0%|          | 0/62 [00:00<?, ?it/s]"
      ]
     },
     "metadata": {},
     "output_type": "display_data"
    },
    {
     "name": "stdout",
     "output_type": "stream",
     "text": [
      "Epoch:17 |Train Loss:0.7434416552009823|Valid Loss:0.8091362022584484\n",
      "\u001b[32mLoss Decreased from 0.8102734761853372 to 0.8091362022584484\u001b[0m\n",
      "\u001b[35mTime taken by epoch 17 is 89.78s\u001b[0m\n",
      "Epoch Started:18\n"
     ]
    },
    {
     "data": {
      "application/vnd.jupyter.widget-view+json": {
       "model_id": "a0a2518442af4e038fe6d79111ac5df0",
       "version_major": 2,
       "version_minor": 0
      },
      "text/plain": [
       "  0%|          | 0/318 [00:00<?, ?it/s]"
      ]
     },
     "metadata": {},
     "output_type": "display_data"
    },
    {
     "data": {
      "application/vnd.jupyter.widget-view+json": {
       "model_id": "8f4d67e35d604dec8fb89af365ad75aa",
       "version_major": 2,
       "version_minor": 0
      },
      "text/plain": [
       "  0%|          | 0/62 [00:00<?, ?it/s]"
      ]
     },
     "metadata": {},
     "output_type": "display_data"
    },
    {
     "name": "stdout",
     "output_type": "stream",
     "text": [
      "Epoch:18 |Train Loss:0.7400947679888528|Valid Loss:0.8138916300189111\n",
      "\u001b[35mTime taken by epoch 18 is 90.71s\u001b[0m\n",
      "Epoch Started:19\n"
     ]
    },
    {
     "data": {
      "application/vnd.jupyter.widget-view+json": {
       "model_id": "6212632440334599bbb2a6cafe596649",
       "version_major": 2,
       "version_minor": 0
      },
      "text/plain": [
       "  0%|          | 0/318 [00:00<?, ?it/s]"
      ]
     },
     "metadata": {},
     "output_type": "display_data"
    },
    {
     "data": {
      "application/vnd.jupyter.widget-view+json": {
       "model_id": "6f772ba74fd34d9b820f2a75f4c98c7b",
       "version_major": 2,
       "version_minor": 0
      },
      "text/plain": [
       "  0%|          | 0/62 [00:00<?, ?it/s]"
      ]
     },
     "metadata": {},
     "output_type": "display_data"
    },
    {
     "name": "stdout",
     "output_type": "stream",
     "text": [
      "Epoch:19 |Train Loss:0.7374532786930132|Valid Loss:0.8145896436706666\n",
      "\u001b[35mTime taken by epoch 19 is 89.76s\u001b[0m\n",
      "Epoch Started:20\n"
     ]
    },
    {
     "data": {
      "application/vnd.jupyter.widget-view+json": {
       "model_id": "65f4d804a72c4908a66b33ecd717dbb7",
       "version_major": 2,
       "version_minor": 0
      },
      "text/plain": [
       "  0%|          | 0/318 [00:00<?, ?it/s]"
      ]
     },
     "metadata": {},
     "output_type": "display_data"
    },
    {
     "data": {
      "application/vnd.jupyter.widget-view+json": {
       "model_id": "91fa40e6e0e54ec399acad71dbaa5f14",
       "version_major": 2,
       "version_minor": 0
      },
      "text/plain": [
       "  0%|          | 0/62 [00:00<?, ?it/s]"
      ]
     },
     "metadata": {},
     "output_type": "display_data"
    },
    {
     "name": "stdout",
     "output_type": "stream",
     "text": [
      "Epoch:20 |Train Loss:0.7345530463839477|Valid Loss:0.8108352557305367\n",
      "\u001b[35mTime taken by epoch 20 is 91.19s\u001b[0m\n",
      "Epoch Started:21\n"
     ]
    },
    {
     "data": {
      "application/vnd.jupyter.widget-view+json": {
       "model_id": "2216316978c4493fb32972a2041285fb",
       "version_major": 2,
       "version_minor": 0
      },
      "text/plain": [
       "  0%|          | 0/318 [00:00<?, ?it/s]"
      ]
     },
     "metadata": {},
     "output_type": "display_data"
    },
    {
     "data": {
      "application/vnd.jupyter.widget-view+json": {
       "model_id": "3b5bb4efc60a4b4585519c65022b210a",
       "version_major": 2,
       "version_minor": 0
      },
      "text/plain": [
       "  0%|          | 0/62 [00:00<?, ?it/s]"
      ]
     },
     "metadata": {},
     "output_type": "display_data"
    },
    {
     "name": "stdout",
     "output_type": "stream",
     "text": [
      "Epoch:21 |Train Loss:0.7317182991489675|Valid Loss:0.8153303957754566\n",
      "\u001b[35mTime taken by epoch 21 is 90.27s\u001b[0m\n",
      "Epoch Started:22\n"
     ]
    },
    {
     "data": {
      "application/vnd.jupyter.widget-view+json": {
       "model_id": "b1fab665fcf8417dbf26b9771609eca9",
       "version_major": 2,
       "version_minor": 0
      },
      "text/plain": [
       "  0%|          | 0/318 [00:00<?, ?it/s]"
      ]
     },
     "metadata": {},
     "output_type": "display_data"
    },
    {
     "data": {
      "application/vnd.jupyter.widget-view+json": {
       "model_id": "b7f77e1e7c4d435092080f5bd38fb047",
       "version_major": 2,
       "version_minor": 0
      },
      "text/plain": [
       "  0%|          | 0/62 [00:00<?, ?it/s]"
      ]
     },
     "metadata": {},
     "output_type": "display_data"
    },
    {
     "name": "stdout",
     "output_type": "stream",
     "text": [
      "Epoch:22 |Train Loss:0.7288091420752447|Valid Loss:0.8171450716833915\n",
      "\u001b[35mTime taken by epoch 22 is 91.15s\u001b[0m\n",
      "Epoch Started:23\n"
     ]
    },
    {
     "data": {
      "application/vnd.jupyter.widget-view+json": {
       "model_id": "f70d917d7de444ef855c367dcc1e3c13",
       "version_major": 2,
       "version_minor": 0
      },
      "text/plain": [
       "  0%|          | 0/318 [00:00<?, ?it/s]"
      ]
     },
     "metadata": {},
     "output_type": "display_data"
    },
    {
     "data": {
      "application/vnd.jupyter.widget-view+json": {
       "model_id": "9b95670b9cc14f318a7e78244e21e939",
       "version_major": 2,
       "version_minor": 0
      },
      "text/plain": [
       "  0%|          | 0/62 [00:00<?, ?it/s]"
      ]
     },
     "metadata": {},
     "output_type": "display_data"
    },
    {
     "name": "stdout",
     "output_type": "stream",
     "text": [
      "Epoch:23 |Train Loss:0.7266913742389319|Valid Loss:0.8179707979002306\n",
      "\u001b[35mTime taken by epoch 23 is 90.64s\u001b[0m\n",
      "Epoch Started:24\n"
     ]
    },
    {
     "data": {
      "application/vnd.jupyter.widget-view+json": {
       "model_id": "f4a7bd768d624a22854aecd003618b44",
       "version_major": 2,
       "version_minor": 0
      },
      "text/plain": [
       "  0%|          | 0/318 [00:00<?, ?it/s]"
      ]
     },
     "metadata": {},
     "output_type": "display_data"
    },
    {
     "data": {
      "application/vnd.jupyter.widget-view+json": {
       "model_id": "fa44e01f01fd41d998330646ec9532ef",
       "version_major": 2,
       "version_minor": 0
      },
      "text/plain": [
       "  0%|          | 0/62 [00:00<?, ?it/s]"
      ]
     },
     "metadata": {},
     "output_type": "display_data"
    },
    {
     "name": "stdout",
     "output_type": "stream",
     "text": [
      "Epoch:24 |Train Loss:0.7238376536084421|Valid Loss:0.8148956269987168\n",
      "\u001b[35mTime taken by epoch 24 is 90.37s\u001b[0m\n",
      "Epoch Started:25\n"
     ]
    },
    {
     "data": {
      "application/vnd.jupyter.widget-view+json": {
       "model_id": "799bd78553d841f2987a2cbe5670c9ba",
       "version_major": 2,
       "version_minor": 0
      },
      "text/plain": [
       "  0%|          | 0/318 [00:00<?, ?it/s]"
      ]
     },
     "metadata": {},
     "output_type": "display_data"
    },
    {
     "data": {
      "application/vnd.jupyter.widget-view+json": {
       "model_id": "1bfa0654fd5b49a5877c944ac59453c0",
       "version_major": 2,
       "version_minor": 0
      },
      "text/plain": [
       "  0%|          | 0/62 [00:00<?, ?it/s]"
      ]
     },
     "metadata": {},
     "output_type": "display_data"
    },
    {
     "name": "stdout",
     "output_type": "stream",
     "text": [
      "Epoch:25 |Train Loss:0.7220470940916793|Valid Loss:0.8122834313300348\n",
      "\u001b[35mTime taken by epoch 25 is 90.23s\u001b[0m\n",
      "Epoch Started:26\n"
     ]
    },
    {
     "data": {
      "application/vnd.jupyter.widget-view+json": {
       "model_id": "90422b78667945ee81b0d9b298555a6b",
       "version_major": 2,
       "version_minor": 0
      },
      "text/plain": [
       "  0%|          | 0/318 [00:00<?, ?it/s]"
      ]
     },
     "metadata": {},
     "output_type": "display_data"
    },
    {
     "data": {
      "application/vnd.jupyter.widget-view+json": {
       "model_id": "e4b4f4e701124445b9e2d4ef7d1a84e2",
       "version_major": 2,
       "version_minor": 0
      },
      "text/plain": [
       "  0%|          | 0/62 [00:00<?, ?it/s]"
      ]
     },
     "metadata": {},
     "output_type": "display_data"
    },
    {
     "name": "stdout",
     "output_type": "stream",
     "text": [
      "Epoch:26 |Train Loss:0.7195036900493333|Valid Loss:0.8154813464610807\n",
      "\u001b[35mTime taken by epoch 26 is 89.15s\u001b[0m\n",
      "Epoch Started:27\n"
     ]
    },
    {
     "data": {
      "application/vnd.jupyter.widget-view+json": {
       "model_id": "76dfb5f7fcb640aaa813e324c455a066",
       "version_major": 2,
       "version_minor": 0
      },
      "text/plain": [
       "  0%|          | 0/318 [00:00<?, ?it/s]"
      ]
     },
     "metadata": {},
     "output_type": "display_data"
    },
    {
     "data": {
      "application/vnd.jupyter.widget-view+json": {
       "model_id": "6ece1f3f28ed46458104d2dcc6c84b63",
       "version_major": 2,
       "version_minor": 0
      },
      "text/plain": [
       "  0%|          | 0/62 [00:00<?, ?it/s]"
      ]
     },
     "metadata": {},
     "output_type": "display_data"
    },
    {
     "name": "stdout",
     "output_type": "stream",
     "text": [
      "Epoch:27 |Train Loss:0.71780519346771|Valid Loss:0.8191986593507952\n",
      "\u001b[32mEARLY STOPPING\n"
     ]
    }
   ],
   "source": [
    "# for fold in folds.keys():\n",
    "for fold in [4]:\n",
    "    print(f'Starting for fold: {fold}{r_}')\n",
    "    print(f'Preparing training data for fold: {fold}{m_}')\n",
    "    train_indxs = folds[fold]['train']\n",
    "    test_indxs = folds[fold]['test']\n",
    "    test_f_df = train_df[train_df.index.isin(test_indxs)].reset_index(drop=True)\n",
    "    train_f_df = train_df[train_df.index.isin(train_indxs)].reset_index(drop=True)\n",
    "    \n",
    "    print(train_f_df.shape)\n",
    "    count_df = train_f_df.groupby('investment_id',as_index=False).agg(c = ('time_id', len))\n",
    "    to_exclude_ids = count_df[count_df.c<input_chunk_length+1].investment_id.unique().tolist()\n",
    "    \n",
    "    X_train, Y_train, FCV_train = make_sequences(train_f_df,to_exclude_ids)\n",
    "    Y_train = Y_train.reshape(-1,1)\n",
    "    print(X_train.shape,Y_train.shape,FCV_train.shape)\n",
    "    \n",
    "    X_val, Y_val, FCV_val = make_sequences(test_f_df,to_exclude_ids)\n",
    "    Y_val = Y_val.reshape(-1,1)\n",
    "    print(X_val.shape,Y_val.shape,FCV_train.shape)\n",
    "    \n",
    "    model = LstmTsModel(num_classes, input_size, hidden_size, num_layers,seq_length)\n",
    "    train_dl = DataLoader(TSDataset(X_train, Y_train, FCV_train), batch_size=config['batch_size'], shuffle=config['train_shuffle'], num_workers=0)\n",
    "    val_dl = DataLoader(TSDataset(X_val, Y_val, FCV_val), batch_size=config['batch_size'], shuffle=config['train_shuffle'], num_workers=0)\n",
    "    \n",
    "    best_loss, model = run(model,train_dl,val_dl,fold)\n",
    "    \n",
    "    gc.collect()\n",
    "    "
   ]
  },
  {
   "cell_type": "code",
   "execution_count": null,
   "id": "b081e214",
   "metadata": {},
   "outputs": [],
   "source": []
  }
 ],
 "metadata": {
  "kernelspec": {
   "display_name": "Python 3",
   "language": "python",
   "name": "python3"
  },
  "language_info": {
   "codemirror_mode": {
    "name": "ipython",
    "version": 3
   },
   "file_extension": ".py",
   "mimetype": "text/x-python",
   "name": "python",
   "nbconvert_exporter": "python",
   "pygments_lexer": "ipython3",
   "version": "3.8.5"
  },
  "toc": {
   "base_numbering": 1,
   "nav_menu": {},
   "number_sections": false,
   "sideBar": true,
   "skip_h1_title": false,
   "title_cell": "Table of Contents",
   "title_sidebar": "Contents",
   "toc_cell": false,
   "toc_position": {},
   "toc_section_display": true,
   "toc_window_display": false
  }
 },
 "nbformat": 4,
 "nbformat_minor": 5
}
