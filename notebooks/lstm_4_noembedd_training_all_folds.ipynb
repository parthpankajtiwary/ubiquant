{
 "cells": [
  {
   "cell_type": "code",
   "execution_count": 1,
   "id": "2871f7d2",
   "metadata": {
    "ExecuteTime": {
     "end_time": "2022-02-02T22:27:14.329811Z",
     "start_time": "2022-02-02T22:27:13.817919Z"
    }
   },
   "outputs": [],
   "source": [
    "import numpy as np\n",
    "import pandas as pd\n",
    "import pickle\n",
    "from datetime import datetime\n",
    "from matplotlib import pyplot as plt\n",
    "from sklearn.preprocessing import LabelEncoder\n",
    "from sklearn.model_selection import GroupKFold\n",
    "import dateutil.easter as easter"
   ]
  },
  {
   "cell_type": "code",
   "execution_count": 2,
   "id": "20376c34",
   "metadata": {
    "ExecuteTime": {
     "end_time": "2022-02-02T22:27:15.335960Z",
     "start_time": "2022-02-02T22:27:14.332218Z"
    }
   },
   "outputs": [],
   "source": [
    "import torch\n",
    "import torch.nn as nn\n",
    "from torch.autograd import Variable"
   ]
  },
  {
   "cell_type": "code",
   "execution_count": 3,
   "id": "4ab55994",
   "metadata": {
    "ExecuteTime": {
     "end_time": "2022-02-02T22:27:15.345538Z",
     "start_time": "2022-02-02T22:27:15.340458Z"
    }
   },
   "outputs": [],
   "source": [
    "from torch.utils.data import Dataset, DataLoader"
   ]
  },
  {
   "cell_type": "code",
   "execution_count": 4,
   "id": "1049193c",
   "metadata": {
    "ExecuteTime": {
     "end_time": "2022-02-02T22:27:15.361354Z",
     "start_time": "2022-02-02T22:27:15.348394Z"
    }
   },
   "outputs": [],
   "source": [
    "from accelerate import Accelerator\n",
    "import torch.optim as optim"
   ]
  },
  {
   "cell_type": "code",
   "execution_count": 5,
   "id": "8531998e",
   "metadata": {
    "ExecuteTime": {
     "end_time": "2022-02-02T22:27:15.367735Z",
     "start_time": "2022-02-02T22:27:15.363801Z"
    }
   },
   "outputs": [],
   "source": [
    "from sklearn.model_selection import train_test_split"
   ]
  },
  {
   "cell_type": "code",
   "execution_count": 6,
   "id": "a2c3273f",
   "metadata": {
    "ExecuteTime": {
     "end_time": "2022-02-02T22:27:15.372221Z",
     "start_time": "2022-02-02T22:27:15.369553Z"
    }
   },
   "outputs": [],
   "source": [
    "import time"
   ]
  },
  {
   "cell_type": "code",
   "execution_count": 7,
   "id": "e193ac80",
   "metadata": {
    "ExecuteTime": {
     "end_time": "2022-02-02T22:27:15.377532Z",
     "start_time": "2022-02-02T22:27:15.374957Z"
    }
   },
   "outputs": [],
   "source": [
    "from tqdm.notebook import tqdm"
   ]
  },
  {
   "cell_type": "code",
   "execution_count": 8,
   "id": "c3139064",
   "metadata": {
    "ExecuteTime": {
     "end_time": "2022-02-02T22:27:15.382780Z",
     "start_time": "2022-02-02T22:27:15.380038Z"
    }
   },
   "outputs": [],
   "source": [
    "import gc"
   ]
  },
  {
   "cell_type": "markdown",
   "id": "d6eaf56d",
   "metadata": {},
   "source": [
    "## Global Variables ###"
   ]
  },
  {
   "cell_type": "code",
   "execution_count": 9,
   "id": "21027ebf",
   "metadata": {
    "ExecuteTime": {
     "end_time": "2022-02-02T22:27:15.607655Z",
     "start_time": "2022-02-02T22:27:15.384609Z"
    }
   },
   "outputs": [],
   "source": [
    "device = torch.device(\"cuda:0\" if torch.cuda.is_available() else \"cpu\")"
   ]
  },
  {
   "cell_type": "code",
   "execution_count": 10,
   "id": "6ea9d196",
   "metadata": {
    "ExecuteTime": {
     "end_time": "2022-02-02T22:27:15.615697Z",
     "start_time": "2022-02-02T22:27:15.609712Z"
    }
   },
   "outputs": [
    {
     "data": {
      "text/plain": [
       "device(type='cuda', index=0)"
      ]
     },
     "execution_count": 10,
     "metadata": {},
     "output_type": "execute_result"
    }
   ],
   "source": [
    "device"
   ]
  },
  {
   "cell_type": "code",
   "execution_count": 11,
   "id": "181a735a",
   "metadata": {
    "ExecuteTime": {
     "end_time": "2022-02-02T22:27:15.621251Z",
     "start_time": "2022-02-02T22:27:15.617934Z"
    }
   },
   "outputs": [],
   "source": [
    "from colorama import Fore, Back, Style\n",
    "r_ = Fore.RED\n",
    "b_ = Fore.BLUE\n",
    "c_ = Fore.CYAN\n",
    "g_ = Fore.GREEN\n",
    "y_ = Fore.YELLOW\n",
    "m_ = Fore.MAGENTA\n",
    "sr_ = Style.RESET_ALL"
   ]
  },
  {
   "cell_type": "code",
   "execution_count": 12,
   "id": "9e80a83b",
   "metadata": {
    "ExecuteTime": {
     "end_time": "2022-02-02T22:27:15.627510Z",
     "start_time": "2022-02-02T22:27:15.624034Z"
    }
   },
   "outputs": [],
   "source": [
    "BASE_DIR = '/sharedHDD/rohit/timeseries_learning/ubiquant/'\n",
    "DATA_DIR = BASE_DIR+'data/parquet/'\n",
    "INPUT_DIR = BASE_DIR+'input/'\n",
    "WEIGHTS_DIR = BASE_DIR + 'weights/'"
   ]
  },
  {
   "cell_type": "code",
   "execution_count": 13,
   "id": "ac6ca023",
   "metadata": {
    "ExecuteTime": {
     "end_time": "2022-02-02T22:27:15.632964Z",
     "start_time": "2022-02-02T22:27:15.629989Z"
    }
   },
   "outputs": [],
   "source": [
    "input_chunk_length = 30\n",
    "output_chunk_length = 1\n",
    "# embedding_dim = 56 ## Investment id embedding dim"
   ]
  },
  {
   "cell_type": "code",
   "execution_count": 14,
   "id": "848b6f03",
   "metadata": {
    "ExecuteTime": {
     "end_time": "2022-02-02T22:27:15.637976Z",
     "start_time": "2022-02-02T22:27:15.635181Z"
    }
   },
   "outputs": [],
   "source": [
    "features = [f'f_{i}' for i in range(300)]"
   ]
  },
  {
   "cell_type": "markdown",
   "id": "9a6a2638",
   "metadata": {},
   "source": [
    "## Load data ##"
   ]
  },
  {
   "cell_type": "code",
   "execution_count": 15,
   "id": "c7ca36d9",
   "metadata": {
    "ExecuteTime": {
     "end_time": "2022-02-02T22:27:19.538229Z",
     "start_time": "2022-02-02T22:27:15.639694Z"
    }
   },
   "outputs": [
    {
     "name": "stdout",
     "output_type": "stream",
     "text": [
      "CPU times: user 8.8 s, sys: 13.4 s, total: 22.2 s\n",
      "Wall time: 3.89 s\n"
     ]
    }
   ],
   "source": [
    "%%time\n",
    "train_df = pd.read_parquet(DATA_DIR+'train_low_mem.parquet')"
   ]
  },
  {
   "cell_type": "code",
   "execution_count": 16,
   "id": "8724391b",
   "metadata": {
    "ExecuteTime": {
     "end_time": "2022-02-02T22:27:19.566881Z",
     "start_time": "2022-02-02T22:27:19.542312Z"
    }
   },
   "outputs": [],
   "source": [
    "investment_ids = train_df.investment_id.unique().tolist()"
   ]
  },
  {
   "cell_type": "code",
   "execution_count": 17,
   "id": "4addc72f",
   "metadata": {
    "ExecuteTime": {
     "end_time": "2022-02-02T22:27:19.574812Z",
     "start_time": "2022-02-02T22:27:19.569592Z"
    }
   },
   "outputs": [
    {
     "data": {
      "text/plain": [
       "3773"
      ]
     },
     "execution_count": 17,
     "metadata": {},
     "output_type": "execute_result"
    }
   ],
   "source": [
    "max(investment_ids)"
   ]
  },
  {
   "cell_type": "code",
   "execution_count": 18,
   "id": "352ef909",
   "metadata": {
    "ExecuteTime": {
     "end_time": "2022-02-02T22:27:20.252724Z",
     "start_time": "2022-02-02T22:27:19.576802Z"
    }
   },
   "outputs": [],
   "source": [
    "with open(BASE_DIR+'input/folds.pickle', 'rb') as f:\n",
    "    folds = pickle.load(f)"
   ]
  },
  {
   "cell_type": "markdown",
   "id": "3884c918",
   "metadata": {},
   "source": [
    "#### Utility functions ######"
   ]
  },
  {
   "cell_type": "code",
   "execution_count": 19,
   "id": "ca7b6b55",
   "metadata": {
    "ExecuteTime": {
     "end_time": "2022-02-02T22:27:20.259795Z",
     "start_time": "2022-02-02T22:27:20.256018Z"
    }
   },
   "outputs": [],
   "source": [
    "all_features_columns = ['target'] #+ features"
   ]
  },
  {
   "cell_type": "code",
   "execution_count": 20,
   "id": "fd3d4c5d",
   "metadata": {
    "ExecuteTime": {
     "end_time": "2022-02-02T22:27:20.266378Z",
     "start_time": "2022-02-02T22:27:20.262588Z"
    }
   },
   "outputs": [],
   "source": [
    "def get_feature_array_train(rows):\n",
    "    target_val = rows.target.values\n",
    "    \n",
    "    inp_vec = rows[all_features_columns].values\n",
    "    \n",
    "#     future_covariates = rows[['investment_id']+features].values\n",
    "    \n",
    "    future_covariates = rows[features].values\n",
    "    \n",
    "    return inp_vec,target_val,future_covariates"
   ]
  },
  {
   "cell_type": "code",
   "execution_count": 21,
   "id": "1498fc8d",
   "metadata": {
    "ExecuteTime": {
     "end_time": "2022-02-02T22:27:20.376350Z",
     "start_time": "2022-02-02T22:27:20.268687Z"
    }
   },
   "outputs": [],
   "source": [
    "def sliding_windows(X,Y,FCVs, seq_length,prediction_length):\n",
    "    x = []\n",
    "    y = []\n",
    "    future_covariates = []\n",
    "    for i in range(len(X)-(prediction_length+seq_length)):\n",
    "        _x = X[i:(i+seq_length),:].reshape(seq_length,-1)\n",
    "#         _y = Y[(i+seq_length):(i+prediction_length+seq_length),:]\n",
    "        _y = Y[i+seq_length]\n",
    "        _future_covariate = FCVs[i+seq_length]\n",
    "        x.append(_x)\n",
    "        y.append(_y)\n",
    "        future_covariates.append(_future_covariate)\n",
    "\n",
    "    return x,y,future_covariates"
   ]
  },
  {
   "cell_type": "code",
   "execution_count": 22,
   "id": "46496544",
   "metadata": {
    "ExecuteTime": {
     "end_time": "2022-02-02T22:27:20.385363Z",
     "start_time": "2022-02-02T22:27:20.380304Z"
    }
   },
   "outputs": [],
   "source": [
    "def make_sequences(df,to_exclude_ids):\n",
    "    x = []\n",
    "    y = []\n",
    "    future_covariates = []\n",
    "    investment_ids = df.investment_id.unique()\n",
    "    for iid in investment_ids:\n",
    "        if iid not in to_exclude_ids:\n",
    "            df_tmp = df[df.investment_id == iid].sort_values('time_id')\n",
    "            tmp_X,tmp_Y,tmp_fcvs = get_feature_array_train(df_tmp)\n",
    "            _x,_y,_fcv = sliding_windows(tmp_X,tmp_Y,tmp_fcvs,input_chunk_length,output_chunk_length)\n",
    "            x.extend(_x)\n",
    "            y.extend(_y)\n",
    "            future_covariates.extend(_fcv)\n",
    "            \n",
    "#             gc.collect()\n",
    "        # else:\n",
    "        #     print('Not including iid:', iid)\n",
    "    \n",
    "    return np.float32(np.array(x)),np.float32(np.array(y)),np.float32(np.array(future_covariates))"
   ]
  },
  {
   "cell_type": "code",
   "execution_count": 23,
   "id": "638478fd",
   "metadata": {
    "ExecuteTime": {
     "end_time": "2022-02-02T22:27:20.568291Z",
     "start_time": "2022-02-02T22:27:20.387625Z"
    }
   },
   "outputs": [
    {
     "data": {
      "text/plain": [
       "40"
      ]
     },
     "execution_count": 23,
     "metadata": {},
     "output_type": "execute_result"
    }
   ],
   "source": [
    "gc.collect()"
   ]
  },
  {
   "cell_type": "markdown",
   "id": "d50eb104",
   "metadata": {},
   "source": [
    "## Modeling ##"
   ]
  },
  {
   "cell_type": "code",
   "execution_count": 24,
   "id": "e815508e",
   "metadata": {
    "ExecuteTime": {
     "end_time": "2022-02-02T22:27:20.574441Z",
     "start_time": "2022-02-02T22:27:20.570538Z"
    }
   },
   "outputs": [],
   "source": [
    "config = {\n",
    "    'seq_length' : input_chunk_length,\n",
    "    'num_epochs' : 100,\n",
    "    'lr' : 0.00026,\n",
    "    'input_size' : 1,\n",
    "    'hidden_size' : 25,\n",
    "    'num_layers' : 1,\n",
    "    'num_classes' :1, ## This is  output dimension\n",
    "    'train_shuffle': True,\n",
    "    'val_shuffle': True,\n",
    "    'batch_size' : 4096*2,\n",
    "    'best_model_name' : 'lstm4',\n",
    "    'bidirectional' : False,\n",
    "    'only_last_hidden': True,\n",
    "    'early_stopping_patience':10,\n",
    "}"
   ]
  },
  {
   "cell_type": "code",
   "execution_count": 25,
   "id": "0dd280c3",
   "metadata": {
    "ExecuteTime": {
     "end_time": "2022-02-02T22:27:20.580769Z",
     "start_time": "2022-02-02T22:27:20.576196Z"
    }
   },
   "outputs": [],
   "source": [
    "class TSDataset(Dataset):\n",
    "    \n",
    "    def __init__(self,x,y,future_covariates):\n",
    "        \"\"\"\n",
    "        Args:\n",
    "        \"\"\"\n",
    "        self.x=x\n",
    "        self.y=y\n",
    "        self.future_covariates = future_covariates\n",
    "\n",
    "    def __len__(self):\n",
    "        return len(self.x)\n",
    "\n",
    "    def __getitem__(self, idx):\n",
    "        \n",
    "        sample = [torch.Tensor(self.x[idx]),torch.Tensor(self.y[idx]),torch.Tensor(self.future_covariates[idx])]\n",
    "        return sample"
   ]
  },
  {
   "cell_type": "markdown",
   "id": "f8d07125",
   "metadata": {},
   "source": [
    "#### Model ####"
   ]
  },
  {
   "cell_type": "code",
   "execution_count": 26,
   "id": "1b5e373f",
   "metadata": {
    "ExecuteTime": {
     "end_time": "2022-02-02T22:27:20.586407Z",
     "start_time": "2022-02-02T22:27:20.582836Z"
    }
   },
   "outputs": [],
   "source": [
    "num_epochs = config['num_epochs']\n",
    "lr = config['lr']\n",
    "input_size = config['input_size']\n",
    "hidden_size = config['hidden_size']\n",
    "num_layers = config['num_layers']\n",
    "num_classes = config['num_classes']\n",
    "seq_length = config['seq_length']\n",
    "bidirectional = config['bidirectional']\n",
    "only_last_hidden = config['only_last_hidden']\n",
    "early_stopping_patience = config['early_stopping_patience']"
   ]
  },
  {
   "cell_type": "markdown",
   "id": "e9f67d68",
   "metadata": {},
   "source": [
    "#### Loss function ######"
   ]
  },
  {
   "cell_type": "code",
   "execution_count": 27,
   "id": "7f9bb16a",
   "metadata": {
    "ExecuteTime": {
     "end_time": "2022-02-02T22:27:20.592122Z",
     "start_time": "2022-02-02T22:27:20.588324Z"
    }
   },
   "outputs": [],
   "source": [
    "def pearson_loss(x, y):\n",
    "    xd = x - x.mean()\n",
    "    yd = y - y.mean()\n",
    "    nom = (xd * yd).sum()\n",
    "    denom = ((xd ** 2).sum() * (yd ** 2).sum()).sqrt()\n",
    "    return 1 - nom / denom"
   ]
  },
  {
   "cell_type": "code",
   "execution_count": 28,
   "id": "d9f8103a",
   "metadata": {
    "ExecuteTime": {
     "end_time": "2022-02-02T22:27:20.601991Z",
     "start_time": "2022-02-02T22:27:20.594066Z"
    }
   },
   "outputs": [],
   "source": [
    "class LstmTsModel(nn.Module):\n",
    "\n",
    "    def __init__(self, num_classes, input_size, hidden_size, num_layers,seq_length):\n",
    "        super(LstmTsModel, self).__init__()\n",
    "        \n",
    "        self.num_classes = num_classes\n",
    "        self.num_layers = num_layers\n",
    "        self.input_size = input_size\n",
    "        self.hidden_size = hidden_size\n",
    "        self.seq_length = seq_length\n",
    "        \n",
    "        cat_input_dim: int = 3774\n",
    "        \n",
    "#         self.embedding = nn.Embedding(cat_input_dim, embedding_dim)\n",
    "        \n",
    "        self.lstm = nn.LSTM(input_size=input_size, hidden_size=hidden_size,\n",
    "                            num_layers=num_layers, batch_first=True,bidirectional=bidirectional)\n",
    "        \n",
    "        if bidirectional:\n",
    "            m=2\n",
    "        else:\n",
    "            m=1\n",
    "        \n",
    "        if only_last_hidden:\n",
    "            input_fc_dim = (hidden_size*m)+(len(features))\n",
    "        else:\n",
    "            input_fc_dim = (self.seq_length*hidden_size*m)+(len(features))\n",
    "        \n",
    "        print(input_fc_dim)\n",
    "        \n",
    "        self.fc = nn.Sequential(nn.Linear(input_fc_dim, 508),\n",
    "#                                 nn.BatchNorm1d(num_features=508),\n",
    "                                nn.ReLU(),\n",
    "                                nn.Dropout(0.42),\n",
    "                                \n",
    "                                nn.Linear(508, 405),\n",
    "#                                 nn.BatchNorm1d(num_features=405),\n",
    "                                nn.Dropout(0.42),\n",
    "                                nn.ReLU(),\n",
    "                                \n",
    "#                                 nn.Linear(input_fc_dim//16, input_fc_dim//32),\n",
    "#                                 nn.BatchNorm1d(num_features=input_fc_dim//32),\n",
    "#                                 # nn.Dropout(0.2),\n",
    "#                                 nn.ReLU(),\n",
    "                                \n",
    "                                \n",
    "                                nn.Linear(405, self.num_classes)\n",
    "                                )\n",
    "    \n",
    "    def forward(self, x, fcv):\n",
    "                                # Propagate input through LSTM\n",
    "        h_out, (h_n, _) = self.lstm(x)\n",
    "        if only_last_hidden:\n",
    "            h_out = h_out[:,-1:,:]\n",
    "        \n",
    "        h_out = h_out.flatten(start_dim=1)\n",
    "        \n",
    "        \n",
    "#         investment_ids = fcv[:,0].type(torch.LongTensor).to(device)\n",
    "#         embeddings = self.embedding(investment_ids)\n",
    "        \n",
    "        h_out = torch.cat([fcv,h_out], dim=1)\n",
    "        \n",
    "        out = self.fc(h_out)\n",
    "        \n",
    "        return out"
   ]
  },
  {
   "cell_type": "code",
   "execution_count": 29,
   "id": "42377443",
   "metadata": {
    "ExecuteTime": {
     "end_time": "2022-02-02T22:27:20.615653Z",
     "start_time": "2022-02-02T22:27:20.604074Z"
    }
   },
   "outputs": [],
   "source": [
    "def run(model,train_dl,val_dl,fold):\n",
    "    def evaluate(model,valid_loader):\n",
    "        model.eval()\n",
    "        valid_loss = 0\n",
    "        rec_loss = 0\n",
    "        with torch.no_grad():\n",
    "            for i, inputs in enumerate(tqdm(valid_loader)):\n",
    "                dataX = inputs[0]\n",
    "                dataY = inputs[1]\n",
    "                dataFCV = inputs[2]\n",
    "                outputs = model(dataX,dataFCV)\n",
    "                loss = criterion(outputs, dataY)\n",
    "                valid_loss += loss.item()\n",
    "\n",
    "        valid_loss /= len(valid_loader)\n",
    "        return valid_loss\n",
    "    \n",
    "    def train_and_evaluate_loop(train_loader,model,optimizer,criterion,epoch,lr_scheduler=None,valid_loader=None, best_loss=99999):\n",
    "        train_loss = 0\n",
    "        improvement = False\n",
    "        for i, inputs in enumerate(tqdm(train_loader)):\n",
    "            optimizer.zero_grad()\n",
    "            model.train()\n",
    "            \n",
    "            dataX = inputs[0]\n",
    "            dataY = inputs[1]\n",
    "            dataFCV = inputs[2]\n",
    "            outputs = model(dataX,dataFCV)\n",
    "            loss = criterion(outputs, dataY)\n",
    "            \n",
    "            loss.backward()\n",
    "            optimizer.step()\n",
    "            \n",
    "            train_loss += loss.item()\n",
    "            \n",
    "            if lr_scheduler:\n",
    "                lr_scheduler.step()\n",
    "        \n",
    "        train_loss /= len(train_loader)\n",
    "        if valid_loader:\n",
    "            valid_loss = evaluate(model,valid_loader) \n",
    "            print(f\"Epoch:{epoch} |Train Loss:{train_loss}|Valid Loss:{valid_loss}\")\n",
    "            if valid_loss <= best_loss:\n",
    "                print(f\"{g_}Loss Decreased from {best_loss} to {valid_loss}{sr_}\")\n",
    "\n",
    "                best_loss = valid_loss\n",
    "                torch.save(model.state_dict(), WEIGHTS_DIR+str(fold)+'_'+config['best_model_name'])\n",
    "                improvement = True\n",
    "        else:\n",
    "            print(f\"Epoch:{epoch} |Train Loss:{train_loss}\")\n",
    "            \n",
    "                    \n",
    "        return best_loss,improvement\n",
    "    \n",
    "    accelerator = Accelerator()\n",
    "    print(f\"{accelerator.device} is used\")\n",
    "\n",
    "    \n",
    "    \n",
    "    optimizer = optim.Adam(model.parameters(),lr=config['lr'],amsgrad=False)\n",
    "    criterion = pearson_loss\n",
    "    \n",
    "    # lr_scheduler = CosineAnnealingWarmupRestarts(optimizer, **config_lr)\n",
    "    # lr_scheduler =  torch.optim.lr_scheduler.CosineAnnealingLR(optimizer, **config_lr)\n",
    "    lr_scheduler = None\n",
    "\n",
    "    model,train_dl,val_dl,optimizer,lr_scheduler,criterion = accelerator.prepare(model,train_dl,val_dl,optimizer,lr_scheduler,criterion)\n",
    "\n",
    "    best_loss = 9999999\n",
    "    start_time = time.time()\n",
    "    current_patience = 0\n",
    "    for epoch in tqdm(range(config[\"num_epochs\"])):\n",
    "        print(f\"Epoch Started:{epoch}\")\n",
    "        best_loss,improvement = train_and_evaluate_loop(train_dl,model,optimizer,criterion,epoch,lr_scheduler,valid_loader=val_dl, best_loss=best_loss)\n",
    "        \n",
    "        if not improvement:\n",
    "            current_patience+=1\n",
    "        else:\n",
    "            current_patience = 0\n",
    "            \n",
    "        \n",
    "        if current_patience == early_stopping_patience:\n",
    "            print(f'{g_}EARLY STOPPING')\n",
    "            break\n",
    "            \n",
    "            \n",
    "        \n",
    "        end_time = time.time()\n",
    "        print(f\"{m_}Time taken by epoch {epoch} is {end_time-start_time:.2f}s{sr_}\")\n",
    "        start_time = end_time\n",
    "        \n",
    "    return best_loss, model"
   ]
  },
  {
   "cell_type": "code",
   "execution_count": null,
   "id": "556c2af6",
   "metadata": {},
   "outputs": [],
   "source": []
  },
  {
   "cell_type": "code",
   "execution_count": 30,
   "id": "1892e844",
   "metadata": {
    "ExecuteTime": {
     "end_time": "2022-02-02T22:27:20.777454Z",
     "start_time": "2022-02-02T22:27:20.617566Z"
    }
   },
   "outputs": [
    {
     "data": {
      "text/plain": [
       "20"
      ]
     },
     "execution_count": 30,
     "metadata": {},
     "output_type": "execute_result"
    }
   ],
   "source": [
    "gc.collect()"
   ]
  },
  {
   "cell_type": "code",
   "execution_count": null,
   "id": "a933e1eb",
   "metadata": {},
   "outputs": [],
   "source": []
  },
  {
   "cell_type": "code",
   "execution_count": 31,
   "id": "0dd54406",
   "metadata": {
    "ExecuteTime": {
     "end_time": "2022-02-03T00:02:34.326808Z",
     "start_time": "2022-02-02T22:27:20.779222Z"
    }
   },
   "outputs": [
    {
     "name": "stdout",
     "output_type": "stream",
     "text": [
      "Starting for fold: 0\u001b[31m\n",
      "Preparing training data for fold: 0\u001b[35m\n",
      "(531075, 304)\n",
      "(421258, 30, 1) (421258, 1) (421258, 300)\n",
      "(412467, 30, 1) (412467, 1) (421258, 300)\n",
      "325\n",
      "cuda is used\n"
     ]
    },
    {
     "data": {
      "application/vnd.jupyter.widget-view+json": {
       "model_id": "5ef2a42a3116499e827ac203f9ac2c2c",
       "version_major": 2,
       "version_minor": 0
      },
      "text/plain": [
       "  0%|          | 0/100 [00:00<?, ?it/s]"
      ]
     },
     "metadata": {},
     "output_type": "display_data"
    },
    {
     "name": "stdout",
     "output_type": "stream",
     "text": [
      "Epoch Started:0\n"
     ]
    },
    {
     "data": {
      "application/vnd.jupyter.widget-view+json": {
       "model_id": "a54f057277204dc2bc9e91fb7a2bad19",
       "version_major": 2,
       "version_minor": 0
      },
      "text/plain": [
       "  0%|          | 0/52 [00:00<?, ?it/s]"
      ]
     },
     "metadata": {},
     "output_type": "display_data"
    },
    {
     "data": {
      "application/vnd.jupyter.widget-view+json": {
       "model_id": "9e6eddb7e4404ded8286615d3759a84a",
       "version_major": 2,
       "version_minor": 0
      },
      "text/plain": [
       "  0%|          | 0/51 [00:00<?, ?it/s]"
      ]
     },
     "metadata": {},
     "output_type": "display_data"
    },
    {
     "name": "stdout",
     "output_type": "stream",
     "text": [
      "Epoch:0 |Train Loss:0.8977224780963018|Valid Loss:0.8527518931557151\n",
      "\u001b[32mLoss Decreased from 9999999 to 0.8527518931557151\u001b[0m\n",
      "\u001b[35mTime taken by epoch 0 is 22.32s\u001b[0m\n",
      "Epoch Started:1\n"
     ]
    },
    {
     "data": {
      "application/vnd.jupyter.widget-view+json": {
       "model_id": "e6b09189a48d4bb9868cb48e628f099a",
       "version_major": 2,
       "version_minor": 0
      },
      "text/plain": [
       "  0%|          | 0/52 [00:00<?, ?it/s]"
      ]
     },
     "metadata": {},
     "output_type": "display_data"
    },
    {
     "data": {
      "application/vnd.jupyter.widget-view+json": {
       "model_id": "05b05ef7aa3a48d882a9da782d8981e7",
       "version_major": 2,
       "version_minor": 0
      },
      "text/plain": [
       "  0%|          | 0/51 [00:00<?, ?it/s]"
      ]
     },
     "metadata": {},
     "output_type": "display_data"
    },
    {
     "name": "stdout",
     "output_type": "stream",
     "text": [
      "Epoch:1 |Train Loss:0.8558844064290707|Valid Loss:0.8362051201801673\n",
      "\u001b[32mLoss Decreased from 0.8527518931557151 to 0.8362051201801673\u001b[0m\n",
      "\u001b[35mTime taken by epoch 1 is 22.32s\u001b[0m\n",
      "Epoch Started:2\n"
     ]
    },
    {
     "data": {
      "application/vnd.jupyter.widget-view+json": {
       "model_id": "36ba41ddd863465fa0ac253080d0ab43",
       "version_major": 2,
       "version_minor": 0
      },
      "text/plain": [
       "  0%|          | 0/52 [00:00<?, ?it/s]"
      ]
     },
     "metadata": {},
     "output_type": "display_data"
    },
    {
     "data": {
      "application/vnd.jupyter.widget-view+json": {
       "model_id": "cb11bda5d3294085a0d978d9acb78c69",
       "version_major": 2,
       "version_minor": 0
      },
      "text/plain": [
       "  0%|          | 0/51 [00:00<?, ?it/s]"
      ]
     },
     "metadata": {},
     "output_type": "display_data"
    },
    {
     "name": "stdout",
     "output_type": "stream",
     "text": [
      "Epoch:2 |Train Loss:0.8345682460528153|Valid Loss:0.8182147227081598\n",
      "\u001b[32mLoss Decreased from 0.8362051201801673 to 0.8182147227081598\u001b[0m\n",
      "\u001b[35mTime taken by epoch 2 is 22.70s\u001b[0m\n",
      "Epoch Started:3\n"
     ]
    },
    {
     "data": {
      "application/vnd.jupyter.widget-view+json": {
       "model_id": "640f569673d949c89047bf985fbba279",
       "version_major": 2,
       "version_minor": 0
      },
      "text/plain": [
       "  0%|          | 0/52 [00:00<?, ?it/s]"
      ]
     },
     "metadata": {},
     "output_type": "display_data"
    },
    {
     "data": {
      "application/vnd.jupyter.widget-view+json": {
       "model_id": "b1505f1699774d02b436729ba8b23241",
       "version_major": 2,
       "version_minor": 0
      },
      "text/plain": [
       "  0%|          | 0/51 [00:00<?, ?it/s]"
      ]
     },
     "metadata": {},
     "output_type": "display_data"
    },
    {
     "name": "stdout",
     "output_type": "stream",
     "text": [
      "Epoch:3 |Train Loss:0.8123257962556986|Valid Loss:0.8087994058926901\n",
      "\u001b[32mLoss Decreased from 0.8182147227081598 to 0.8087994058926901\u001b[0m\n",
      "\u001b[35mTime taken by epoch 3 is 22.62s\u001b[0m\n",
      "Epoch Started:4\n"
     ]
    },
    {
     "data": {
      "application/vnd.jupyter.widget-view+json": {
       "model_id": "e0d918a30a0248e58ed7514b6b9b85ac",
       "version_major": 2,
       "version_minor": 0
      },
      "text/plain": [
       "  0%|          | 0/52 [00:00<?, ?it/s]"
      ]
     },
     "metadata": {},
     "output_type": "display_data"
    },
    {
     "data": {
      "application/vnd.jupyter.widget-view+json": {
       "model_id": "fc7a76ffa7984440861b5ae8d11f0f05",
       "version_major": 2,
       "version_minor": 0
      },
      "text/plain": [
       "  0%|          | 0/51 [00:00<?, ?it/s]"
      ]
     },
     "metadata": {},
     "output_type": "display_data"
    },
    {
     "name": "stdout",
     "output_type": "stream",
     "text": [
      "Epoch:4 |Train Loss:0.7981252463964316|Valid Loss:0.8025700683687248\n",
      "\u001b[32mLoss Decreased from 0.8087994058926901 to 0.8025700683687248\u001b[0m\n",
      "\u001b[35mTime taken by epoch 4 is 22.34s\u001b[0m\n",
      "Epoch Started:5\n"
     ]
    },
    {
     "data": {
      "application/vnd.jupyter.widget-view+json": {
       "model_id": "76406fb1df8a4552a14a32a444374995",
       "version_major": 2,
       "version_minor": 0
      },
      "text/plain": [
       "  0%|          | 0/52 [00:00<?, ?it/s]"
      ]
     },
     "metadata": {},
     "output_type": "display_data"
    },
    {
     "data": {
      "application/vnd.jupyter.widget-view+json": {
       "model_id": "5e1553ad3d0546edb99c64c3a737d765",
       "version_major": 2,
       "version_minor": 0
      },
      "text/plain": [
       "  0%|          | 0/51 [00:00<?, ?it/s]"
      ]
     },
     "metadata": {},
     "output_type": "display_data"
    },
    {
     "name": "stdout",
     "output_type": "stream",
     "text": [
      "Epoch:5 |Train Loss:0.789990266928306|Valid Loss:0.8011722821815341\n",
      "\u001b[32mLoss Decreased from 0.8025700683687248 to 0.8011722821815341\u001b[0m\n",
      "\u001b[35mTime taken by epoch 5 is 25.04s\u001b[0m\n",
      "Epoch Started:6\n"
     ]
    },
    {
     "data": {
      "application/vnd.jupyter.widget-view+json": {
       "model_id": "a21ca5f7228749b5a2c61ea62eff9de4",
       "version_major": 2,
       "version_minor": 0
      },
      "text/plain": [
       "  0%|          | 0/52 [00:00<?, ?it/s]"
      ]
     },
     "metadata": {},
     "output_type": "display_data"
    },
    {
     "data": {
      "application/vnd.jupyter.widget-view+json": {
       "model_id": "8d2150270ee346a194c663e06fbd6dd9",
       "version_major": 2,
       "version_minor": 0
      },
      "text/plain": [
       "  0%|          | 0/51 [00:00<?, ?it/s]"
      ]
     },
     "metadata": {},
     "output_type": "display_data"
    },
    {
     "name": "stdout",
     "output_type": "stream",
     "text": [
      "Epoch:6 |Train Loss:0.785698570884191|Valid Loss:0.7984549274631575\n",
      "\u001b[32mLoss Decreased from 0.8011722821815341 to 0.7984549274631575\u001b[0m\n",
      "\u001b[35mTime taken by epoch 6 is 22.24s\u001b[0m\n",
      "Epoch Started:7\n"
     ]
    },
    {
     "data": {
      "application/vnd.jupyter.widget-view+json": {
       "model_id": "7f61507c254b482fa1dd99a9045716b5",
       "version_major": 2,
       "version_minor": 0
      },
      "text/plain": [
       "  0%|          | 0/52 [00:00<?, ?it/s]"
      ]
     },
     "metadata": {},
     "output_type": "display_data"
    },
    {
     "data": {
      "application/vnd.jupyter.widget-view+json": {
       "model_id": "e9919fe738af44c28d2a30a2d70b653e",
       "version_major": 2,
       "version_minor": 0
      },
      "text/plain": [
       "  0%|          | 0/51 [00:00<?, ?it/s]"
      ]
     },
     "metadata": {},
     "output_type": "display_data"
    },
    {
     "name": "stdout",
     "output_type": "stream",
     "text": [
      "Epoch:7 |Train Loss:0.7775118958491546|Valid Loss:0.7985853155454\n",
      "\u001b[35mTime taken by epoch 7 is 24.60s\u001b[0m\n",
      "Epoch Started:8\n"
     ]
    },
    {
     "data": {
      "application/vnd.jupyter.widget-view+json": {
       "model_id": "71b44b41278d414eb83b4874424e211f",
       "version_major": 2,
       "version_minor": 0
      },
      "text/plain": [
       "  0%|          | 0/52 [00:00<?, ?it/s]"
      ]
     },
     "metadata": {},
     "output_type": "display_data"
    },
    {
     "data": {
      "application/vnd.jupyter.widget-view+json": {
       "model_id": "a6086f41ca374ced97b05d36db7115ba",
       "version_major": 2,
       "version_minor": 0
      },
      "text/plain": [
       "  0%|          | 0/51 [00:00<?, ?it/s]"
      ]
     },
     "metadata": {},
     "output_type": "display_data"
    },
    {
     "name": "stdout",
     "output_type": "stream",
     "text": [
      "Epoch:8 |Train Loss:0.7736135274171829|Valid Loss:0.7976314425468445\n",
      "\u001b[32mLoss Decreased from 0.7984549274631575 to 0.7976314425468445\u001b[0m\n",
      "\u001b[35mTime taken by epoch 8 is 23.71s\u001b[0m\n",
      "Epoch Started:9\n"
     ]
    },
    {
     "data": {
      "application/vnd.jupyter.widget-view+json": {
       "model_id": "1de4efa44f36421f9c6c3b5bb47e43ac",
       "version_major": 2,
       "version_minor": 0
      },
      "text/plain": [
       "  0%|          | 0/52 [00:00<?, ?it/s]"
      ]
     },
     "metadata": {},
     "output_type": "display_data"
    },
    {
     "data": {
      "application/vnd.jupyter.widget-view+json": {
       "model_id": "f5a68a6f299a4c9386ae4e21921e0253",
       "version_major": 2,
       "version_minor": 0
      },
      "text/plain": [
       "  0%|          | 0/51 [00:00<?, ?it/s]"
      ]
     },
     "metadata": {},
     "output_type": "display_data"
    },
    {
     "name": "stdout",
     "output_type": "stream",
     "text": [
      "Epoch:9 |Train Loss:0.7685359853964585|Valid Loss:0.7962991899135066\n",
      "\u001b[32mLoss Decreased from 0.7976314425468445 to 0.7962991899135066\u001b[0m\n",
      "\u001b[35mTime taken by epoch 9 is 22.36s\u001b[0m\n",
      "Epoch Started:10\n"
     ]
    },
    {
     "data": {
      "application/vnd.jupyter.widget-view+json": {
       "model_id": "82e3d3a579b440d7b5c00824c8e34488",
       "version_major": 2,
       "version_minor": 0
      },
      "text/plain": [
       "  0%|          | 0/52 [00:00<?, ?it/s]"
      ]
     },
     "metadata": {},
     "output_type": "display_data"
    },
    {
     "data": {
      "application/vnd.jupyter.widget-view+json": {
       "model_id": "278063e0cb1e4cad81b07fc6673c1713",
       "version_major": 2,
       "version_minor": 0
      },
      "text/plain": [
       "  0%|          | 0/51 [00:00<?, ?it/s]"
      ]
     },
     "metadata": {},
     "output_type": "display_data"
    },
    {
     "name": "stdout",
     "output_type": "stream",
     "text": [
      "Epoch:10 |Train Loss:0.7622618274046824|Valid Loss:0.7963177737067727\n",
      "\u001b[35mTime taken by epoch 10 is 22.48s\u001b[0m\n",
      "Epoch Started:11\n"
     ]
    },
    {
     "data": {
      "application/vnd.jupyter.widget-view+json": {
       "model_id": "073e51c3aaef466c9797a0c852748d07",
       "version_major": 2,
       "version_minor": 0
      },
      "text/plain": [
       "  0%|          | 0/52 [00:00<?, ?it/s]"
      ]
     },
     "metadata": {},
     "output_type": "display_data"
    },
    {
     "data": {
      "application/vnd.jupyter.widget-view+json": {
       "model_id": "b045c2ecd37a405ea566c5c4d49b63a5",
       "version_major": 2,
       "version_minor": 0
      },
      "text/plain": [
       "  0%|          | 0/51 [00:00<?, ?it/s]"
      ]
     },
     "metadata": {},
     "output_type": "display_data"
    },
    {
     "name": "stdout",
     "output_type": "stream",
     "text": [
      "Epoch:11 |Train Loss:0.7573095961258962|Valid Loss:0.7971912926318598\n",
      "\u001b[35mTime taken by epoch 11 is 22.33s\u001b[0m\n",
      "Epoch Started:12\n"
     ]
    },
    {
     "data": {
      "application/vnd.jupyter.widget-view+json": {
       "model_id": "738dae61a3624e64a97dd7008bbefa53",
       "version_major": 2,
       "version_minor": 0
      },
      "text/plain": [
       "  0%|          | 0/52 [00:00<?, ?it/s]"
      ]
     },
     "metadata": {},
     "output_type": "display_data"
    },
    {
     "data": {
      "application/vnd.jupyter.widget-view+json": {
       "model_id": "59ad703410284726967171de66277c4a",
       "version_major": 2,
       "version_minor": 0
      },
      "text/plain": [
       "  0%|          | 0/51 [00:00<?, ?it/s]"
      ]
     },
     "metadata": {},
     "output_type": "display_data"
    },
    {
     "name": "stdout",
     "output_type": "stream",
     "text": [
      "Epoch:12 |Train Loss:0.7498290710724317|Valid Loss:0.796397909229877\n",
      "\u001b[35mTime taken by epoch 12 is 22.39s\u001b[0m\n",
      "Epoch Started:13\n"
     ]
    },
    {
     "data": {
      "application/vnd.jupyter.widget-view+json": {
       "model_id": "8d7fabe6ae0e4b7cb681983059e35622",
       "version_major": 2,
       "version_minor": 0
      },
      "text/plain": [
       "  0%|          | 0/52 [00:00<?, ?it/s]"
      ]
     },
     "metadata": {},
     "output_type": "display_data"
    },
    {
     "data": {
      "application/vnd.jupyter.widget-view+json": {
       "model_id": "4fc5227ef6874230857ca9a19cabd9ed",
       "version_major": 2,
       "version_minor": 0
      },
      "text/plain": [
       "  0%|          | 0/51 [00:00<?, ?it/s]"
      ]
     },
     "metadata": {},
     "output_type": "display_data"
    },
    {
     "name": "stdout",
     "output_type": "stream",
     "text": [
      "Epoch:13 |Train Loss:0.7461378471209452|Valid Loss:0.7987245005719802\n",
      "\u001b[35mTime taken by epoch 13 is 22.93s\u001b[0m\n",
      "Epoch Started:14\n"
     ]
    },
    {
     "data": {
      "application/vnd.jupyter.widget-view+json": {
       "model_id": "cab4f04f54064c52afcf7d2bf46b0102",
       "version_major": 2,
       "version_minor": 0
      },
      "text/plain": [
       "  0%|          | 0/52 [00:00<?, ?it/s]"
      ]
     },
     "metadata": {},
     "output_type": "display_data"
    },
    {
     "data": {
      "application/vnd.jupyter.widget-view+json": {
       "model_id": "0777a74ec3f24eedbd5f3f9dcb36142c",
       "version_major": 2,
       "version_minor": 0
      },
      "text/plain": [
       "  0%|          | 0/51 [00:00<?, ?it/s]"
      ]
     },
     "metadata": {},
     "output_type": "display_data"
    },
    {
     "name": "stdout",
     "output_type": "stream",
     "text": [
      "Epoch:14 |Train Loss:0.7393968380414523|Valid Loss:0.797924326915367\n",
      "\u001b[35mTime taken by epoch 14 is 22.58s\u001b[0m\n",
      "Epoch Started:15\n"
     ]
    },
    {
     "data": {
      "application/vnd.jupyter.widget-view+json": {
       "model_id": "0bfc3facb91d42c9b25900dc69803532",
       "version_major": 2,
       "version_minor": 0
      },
      "text/plain": [
       "  0%|          | 0/52 [00:00<?, ?it/s]"
      ]
     },
     "metadata": {},
     "output_type": "display_data"
    },
    {
     "data": {
      "application/vnd.jupyter.widget-view+json": {
       "model_id": "45e483e133a34fc1994bcc3615e79be0",
       "version_major": 2,
       "version_minor": 0
      },
      "text/plain": [
       "  0%|          | 0/51 [00:00<?, ?it/s]"
      ]
     },
     "metadata": {},
     "output_type": "display_data"
    },
    {
     "name": "stdout",
     "output_type": "stream",
     "text": [
      "Epoch:15 |Train Loss:0.7340160860465124|Valid Loss:0.7998780257561627\n",
      "\u001b[35mTime taken by epoch 15 is 22.42s\u001b[0m\n",
      "Epoch Started:16\n"
     ]
    },
    {
     "data": {
      "application/vnd.jupyter.widget-view+json": {
       "model_id": "93796bc917c541208420e1d7e1be7429",
       "version_major": 2,
       "version_minor": 0
      },
      "text/plain": [
       "  0%|          | 0/52 [00:00<?, ?it/s]"
      ]
     },
     "metadata": {},
     "output_type": "display_data"
    },
    {
     "data": {
      "application/vnd.jupyter.widget-view+json": {
       "model_id": "cdb61be565e34876a03641f2976a074d",
       "version_major": 2,
       "version_minor": 0
      },
      "text/plain": [
       "  0%|          | 0/51 [00:00<?, ?it/s]"
      ]
     },
     "metadata": {},
     "output_type": "display_data"
    },
    {
     "name": "stdout",
     "output_type": "stream",
     "text": [
      "Epoch:16 |Train Loss:0.7274067310186533|Valid Loss:0.8010991788377949\n",
      "\u001b[35mTime taken by epoch 16 is 22.97s\u001b[0m\n",
      "Epoch Started:17\n"
     ]
    },
    {
     "data": {
      "application/vnd.jupyter.widget-view+json": {
       "model_id": "6c7b57e600aa4b3394c2654bccb394d2",
       "version_major": 2,
       "version_minor": 0
      },
      "text/plain": [
       "  0%|          | 0/52 [00:00<?, ?it/s]"
      ]
     },
     "metadata": {},
     "output_type": "display_data"
    },
    {
     "data": {
      "application/vnd.jupyter.widget-view+json": {
       "model_id": "ed10deae576c452b9a404a1a99ade98d",
       "version_major": 2,
       "version_minor": 0
      },
      "text/plain": [
       "  0%|          | 0/51 [00:00<?, ?it/s]"
      ]
     },
     "metadata": {},
     "output_type": "display_data"
    },
    {
     "name": "stdout",
     "output_type": "stream",
     "text": [
      "Epoch:17 |Train Loss:0.7218376455398706|Valid Loss:0.801583911858353\n",
      "\u001b[35mTime taken by epoch 17 is 22.32s\u001b[0m\n",
      "Epoch Started:18\n"
     ]
    },
    {
     "data": {
      "application/vnd.jupyter.widget-view+json": {
       "model_id": "ee192a48fc104d23a7b94c88b9e0c80b",
       "version_major": 2,
       "version_minor": 0
      },
      "text/plain": [
       "  0%|          | 0/52 [00:00<?, ?it/s]"
      ]
     },
     "metadata": {},
     "output_type": "display_data"
    },
    {
     "data": {
      "application/vnd.jupyter.widget-view+json": {
       "model_id": "4699f99fc8cd40968a50873b629a4d22",
       "version_major": 2,
       "version_minor": 0
      },
      "text/plain": [
       "  0%|          | 0/51 [00:00<?, ?it/s]"
      ]
     },
     "metadata": {},
     "output_type": "display_data"
    },
    {
     "name": "stdout",
     "output_type": "stream",
     "text": [
      "Epoch:18 |Train Loss:0.7148217386924304|Valid Loss:0.8039604448804668\n",
      "\u001b[35mTime taken by epoch 18 is 23.52s\u001b[0m\n",
      "Epoch Started:19\n"
     ]
    },
    {
     "data": {
      "application/vnd.jupyter.widget-view+json": {
       "model_id": "657809b612fc41e1b98b87902701bc99",
       "version_major": 2,
       "version_minor": 0
      },
      "text/plain": [
       "  0%|          | 0/52 [00:00<?, ?it/s]"
      ]
     },
     "metadata": {},
     "output_type": "display_data"
    },
    {
     "data": {
      "application/vnd.jupyter.widget-view+json": {
       "model_id": "67ec7efd24cf42ac9a563a6154d848bc",
       "version_major": 2,
       "version_minor": 0
      },
      "text/plain": [
       "  0%|          | 0/51 [00:00<?, ?it/s]"
      ]
     },
     "metadata": {},
     "output_type": "display_data"
    },
    {
     "name": "stdout",
     "output_type": "stream",
     "text": [
      "Epoch:19 |Train Loss:0.7072870994989688|Valid Loss:0.8061463528988408\n",
      "\u001b[32mEARLY STOPPING\n",
      "Starting for fold: 1\u001b[31m\n",
      "Preparing training data for fold: 1\u001b[35m\n",
      "(1053141, 304)\n",
      "(942773, 30, 1) (942773, 1) (942773, 300)\n",
      "(412467, 30, 1) (412467, 1) (942773, 300)\n",
      "325\n",
      "cuda is used\n"
     ]
    },
    {
     "data": {
      "application/vnd.jupyter.widget-view+json": {
       "model_id": "b8159bb49d93430fa35f1bc8c1fa269b",
       "version_major": 2,
       "version_minor": 0
      },
      "text/plain": [
       "  0%|          | 0/100 [00:00<?, ?it/s]"
      ]
     },
     "metadata": {},
     "output_type": "display_data"
    },
    {
     "name": "stdout",
     "output_type": "stream",
     "text": [
      "Epoch Started:0\n"
     ]
    },
    {
     "data": {
      "application/vnd.jupyter.widget-view+json": {
       "model_id": "697616b9b8ff40698fd56af550688716",
       "version_major": 2,
       "version_minor": 0
      },
      "text/plain": [
       "  0%|          | 0/116 [00:00<?, ?it/s]"
      ]
     },
     "metadata": {},
     "output_type": "display_data"
    },
    {
     "data": {
      "application/vnd.jupyter.widget-view+json": {
       "model_id": "7652d01b3fca4060bed4fc0617b42c20",
       "version_major": 2,
       "version_minor": 0
      },
      "text/plain": [
       "  0%|          | 0/51 [00:00<?, ?it/s]"
      ]
     },
     "metadata": {},
     "output_type": "display_data"
    },
    {
     "name": "stdout",
     "output_type": "stream",
     "text": [
      "Epoch:0 |Train Loss:0.8734311189117103|Valid Loss:0.846042211149253\n",
      "\u001b[32mLoss Decreased from 9999999 to 0.846042211149253\u001b[0m\n",
      "\u001b[35mTime taken by epoch 0 is 42.46s\u001b[0m\n",
      "Epoch Started:1\n"
     ]
    },
    {
     "data": {
      "application/vnd.jupyter.widget-view+json": {
       "model_id": "0f395cc707e04720af88084c2cc10069",
       "version_major": 2,
       "version_minor": 0
      },
      "text/plain": [
       "  0%|          | 0/116 [00:00<?, ?it/s]"
      ]
     },
     "metadata": {},
     "output_type": "display_data"
    },
    {
     "data": {
      "application/vnd.jupyter.widget-view+json": {
       "model_id": "a27305e2d4e84a7291eaac51d7e67665",
       "version_major": 2,
       "version_minor": 0
      },
      "text/plain": [
       "  0%|          | 0/51 [00:00<?, ?it/s]"
      ]
     },
     "metadata": {},
     "output_type": "display_data"
    },
    {
     "name": "stdout",
     "output_type": "stream",
     "text": [
      "Epoch:1 |Train Loss:0.8214228045323799|Valid Loss:0.8187623666782006\n",
      "\u001b[32mLoss Decreased from 0.846042211149253 to 0.8187623666782006\u001b[0m\n",
      "\u001b[35mTime taken by epoch 1 is 38.07s\u001b[0m\n",
      "Epoch Started:2\n"
     ]
    },
    {
     "data": {
      "application/vnd.jupyter.widget-view+json": {
       "model_id": "79383603b0a7493a93145de31aa726da",
       "version_major": 2,
       "version_minor": 0
      },
      "text/plain": [
       "  0%|          | 0/116 [00:00<?, ?it/s]"
      ]
     },
     "metadata": {},
     "output_type": "display_data"
    },
    {
     "data": {
      "application/vnd.jupyter.widget-view+json": {
       "model_id": "57c92986c5964bff9847436588d27500",
       "version_major": 2,
       "version_minor": 0
      },
      "text/plain": [
       "  0%|          | 0/51 [00:00<?, ?it/s]"
      ]
     },
     "metadata": {},
     "output_type": "display_data"
    },
    {
     "name": "stdout",
     "output_type": "stream",
     "text": [
      "Epoch:2 |Train Loss:0.798181833892033|Valid Loss:0.8131629216904733\n",
      "\u001b[32mLoss Decreased from 0.8187623666782006 to 0.8131629216904733\u001b[0m\n",
      "\u001b[35mTime taken by epoch 2 is 37.57s\u001b[0m\n",
      "Epoch Started:3\n"
     ]
    },
    {
     "data": {
      "application/vnd.jupyter.widget-view+json": {
       "model_id": "0e97df9fb64b49b9b2e5c5e25201ce2b",
       "version_major": 2,
       "version_minor": 0
      },
      "text/plain": [
       "  0%|          | 0/116 [00:00<?, ?it/s]"
      ]
     },
     "metadata": {},
     "output_type": "display_data"
    },
    {
     "data": {
      "application/vnd.jupyter.widget-view+json": {
       "model_id": "cf03faaaac8b4a2f8fa4a1d5af7b804f",
       "version_major": 2,
       "version_minor": 0
      },
      "text/plain": [
       "  0%|          | 0/51 [00:00<?, ?it/s]"
      ]
     },
     "metadata": {},
     "output_type": "display_data"
    },
    {
     "name": "stdout",
     "output_type": "stream",
     "text": [
      "Epoch:3 |Train Loss:0.7889361715522306|Valid Loss:0.8103855486009636\n",
      "\u001b[32mLoss Decreased from 0.8131629216904733 to 0.8103855486009636\u001b[0m\n",
      "\u001b[35mTime taken by epoch 3 is 38.09s\u001b[0m\n",
      "Epoch Started:4\n"
     ]
    },
    {
     "data": {
      "application/vnd.jupyter.widget-view+json": {
       "model_id": "e04adc9a061e481fbc135da03dabae80",
       "version_major": 2,
       "version_minor": 0
      },
      "text/plain": [
       "  0%|          | 0/116 [00:00<?, ?it/s]"
      ]
     },
     "metadata": {},
     "output_type": "display_data"
    },
    {
     "data": {
      "application/vnd.jupyter.widget-view+json": {
       "model_id": "e3fce33e5ae24782823d3bc70bf26106",
       "version_major": 2,
       "version_minor": 0
      },
      "text/plain": [
       "  0%|          | 0/51 [00:00<?, ?it/s]"
      ]
     },
     "metadata": {},
     "output_type": "display_data"
    },
    {
     "name": "stdout",
     "output_type": "stream",
     "text": [
      "Epoch:4 |Train Loss:0.7817226946353912|Valid Loss:0.8083825508753458\n",
      "\u001b[32mLoss Decreased from 0.8103855486009636 to 0.8083825508753458\u001b[0m\n",
      "\u001b[35mTime taken by epoch 4 is 39.05s\u001b[0m\n",
      "Epoch Started:5\n"
     ]
    },
    {
     "data": {
      "application/vnd.jupyter.widget-view+json": {
       "model_id": "83ffdd2d91bc462da5120d4bee57ea6a",
       "version_major": 2,
       "version_minor": 0
      },
      "text/plain": [
       "  0%|          | 0/116 [00:00<?, ?it/s]"
      ]
     },
     "metadata": {},
     "output_type": "display_data"
    },
    {
     "data": {
      "application/vnd.jupyter.widget-view+json": {
       "model_id": "8a5df6ddbae54697b996b47dd7199ce5",
       "version_major": 2,
       "version_minor": 0
      },
      "text/plain": [
       "  0%|          | 0/51 [00:00<?, ?it/s]"
      ]
     },
     "metadata": {},
     "output_type": "display_data"
    },
    {
     "name": "stdout",
     "output_type": "stream",
     "text": [
      "Epoch:5 |Train Loss:0.7766195057794966|Valid Loss:0.8074593812811608\n",
      "\u001b[32mLoss Decreased from 0.8083825508753458 to 0.8074593812811608\u001b[0m\n",
      "\u001b[35mTime taken by epoch 5 is 38.11s\u001b[0m\n",
      "Epoch Started:6\n"
     ]
    },
    {
     "data": {
      "application/vnd.jupyter.widget-view+json": {
       "model_id": "18a21aae9a904ea4b3c0efc36f498e98",
       "version_major": 2,
       "version_minor": 0
      },
      "text/plain": [
       "  0%|          | 0/116 [00:00<?, ?it/s]"
      ]
     },
     "metadata": {},
     "output_type": "display_data"
    },
    {
     "data": {
      "application/vnd.jupyter.widget-view+json": {
       "model_id": "e10c396d80d046f1ad2ca1de2ad95e86",
       "version_major": 2,
       "version_minor": 0
      },
      "text/plain": [
       "  0%|          | 0/51 [00:00<?, ?it/s]"
      ]
     },
     "metadata": {},
     "output_type": "display_data"
    },
    {
     "name": "stdout",
     "output_type": "stream",
     "text": [
      "Epoch:6 |Train Loss:0.7692911481035167|Valid Loss:0.8047003442165899\n",
      "\u001b[32mLoss Decreased from 0.8074593812811608 to 0.8047003442165899\u001b[0m\n",
      "\u001b[35mTime taken by epoch 6 is 37.05s\u001b[0m\n",
      "Epoch Started:7\n"
     ]
    },
    {
     "data": {
      "application/vnd.jupyter.widget-view+json": {
       "model_id": "e927156c98054198a30d49556cf2cde0",
       "version_major": 2,
       "version_minor": 0
      },
      "text/plain": [
       "  0%|          | 0/116 [00:00<?, ?it/s]"
      ]
     },
     "metadata": {},
     "output_type": "display_data"
    },
    {
     "data": {
      "application/vnd.jupyter.widget-view+json": {
       "model_id": "dc1707520fa141ac9375306b2071fb90",
       "version_major": 2,
       "version_minor": 0
      },
      "text/plain": [
       "  0%|          | 0/51 [00:00<?, ?it/s]"
      ]
     },
     "metadata": {},
     "output_type": "display_data"
    },
    {
     "name": "stdout",
     "output_type": "stream",
     "text": [
      "Epoch:7 |Train Loss:0.7641277780820583|Valid Loss:0.8050482717214846\n",
      "\u001b[35mTime taken by epoch 7 is 37.45s\u001b[0m\n",
      "Epoch Started:8\n"
     ]
    },
    {
     "data": {
      "application/vnd.jupyter.widget-view+json": {
       "model_id": "d58c6369ad4c46b987b153bff294b6fe",
       "version_major": 2,
       "version_minor": 0
      },
      "text/plain": [
       "  0%|          | 0/116 [00:00<?, ?it/s]"
      ]
     },
     "metadata": {},
     "output_type": "display_data"
    },
    {
     "data": {
      "application/vnd.jupyter.widget-view+json": {
       "model_id": "0ed39c00df9f414c94ad93595360d38b",
       "version_major": 2,
       "version_minor": 0
      },
      "text/plain": [
       "  0%|          | 0/51 [00:00<?, ?it/s]"
      ]
     },
     "metadata": {},
     "output_type": "display_data"
    },
    {
     "name": "stdout",
     "output_type": "stream",
     "text": [
      "Epoch:8 |Train Loss:0.7562628886822996|Valid Loss:0.804740590207717\n",
      "\u001b[35mTime taken by epoch 8 is 37.04s\u001b[0m\n",
      "Epoch Started:9\n"
     ]
    },
    {
     "data": {
      "application/vnd.jupyter.widget-view+json": {
       "model_id": "50877b91366647279837c8f2b5241e40",
       "version_major": 2,
       "version_minor": 0
      },
      "text/plain": [
       "  0%|          | 0/116 [00:00<?, ?it/s]"
      ]
     },
     "metadata": {},
     "output_type": "display_data"
    },
    {
     "data": {
      "application/vnd.jupyter.widget-view+json": {
       "model_id": "f9bd8e2c74d24032b235a66cc326f7db",
       "version_major": 2,
       "version_minor": 0
      },
      "text/plain": [
       "  0%|          | 0/51 [00:00<?, ?it/s]"
      ]
     },
     "metadata": {},
     "output_type": "display_data"
    },
    {
     "name": "stdout",
     "output_type": "stream",
     "text": [
      "Epoch:9 |Train Loss:0.7513532345664913|Valid Loss:0.8039016653509701\n",
      "\u001b[32mLoss Decreased from 0.8047003442165899 to 0.8039016653509701\u001b[0m\n",
      "\u001b[35mTime taken by epoch 9 is 37.48s\u001b[0m\n",
      "Epoch Started:10\n"
     ]
    },
    {
     "data": {
      "application/vnd.jupyter.widget-view+json": {
       "model_id": "641adb15d0124d11ae16854c21bb8649",
       "version_major": 2,
       "version_minor": 0
      },
      "text/plain": [
       "  0%|          | 0/116 [00:00<?, ?it/s]"
      ]
     },
     "metadata": {},
     "output_type": "display_data"
    },
    {
     "data": {
      "application/vnd.jupyter.widget-view+json": {
       "model_id": "954d25f88ac74858a866bafa2f75d516",
       "version_major": 2,
       "version_minor": 0
      },
      "text/plain": [
       "  0%|          | 0/51 [00:00<?, ?it/s]"
      ]
     },
     "metadata": {},
     "output_type": "display_data"
    },
    {
     "name": "stdout",
     "output_type": "stream",
     "text": [
      "Epoch:10 |Train Loss:0.7456682252472845|Valid Loss:0.8038664179689744\n",
      "\u001b[32mLoss Decreased from 0.8039016653509701 to 0.8038664179689744\u001b[0m\n",
      "\u001b[35mTime taken by epoch 10 is 37.27s\u001b[0m\n",
      "Epoch Started:11\n"
     ]
    },
    {
     "data": {
      "application/vnd.jupyter.widget-view+json": {
       "model_id": "fb9304ab20f241b4a72101208ac998e0",
       "version_major": 2,
       "version_minor": 0
      },
      "text/plain": [
       "  0%|          | 0/116 [00:00<?, ?it/s]"
      ]
     },
     "metadata": {},
     "output_type": "display_data"
    },
    {
     "data": {
      "application/vnd.jupyter.widget-view+json": {
       "model_id": "8d4ed8dfba7d423993db9b7b7beec3dc",
       "version_major": 2,
       "version_minor": 0
      },
      "text/plain": [
       "  0%|          | 0/51 [00:00<?, ?it/s]"
      ]
     },
     "metadata": {},
     "output_type": "display_data"
    },
    {
     "name": "stdout",
     "output_type": "stream",
     "text": [
      "Epoch:11 |Train Loss:0.7403450731573433|Valid Loss:0.8044283051116794\n",
      "\u001b[35mTime taken by epoch 11 is 42.66s\u001b[0m\n",
      "Epoch Started:12\n"
     ]
    },
    {
     "data": {
      "application/vnd.jupyter.widget-view+json": {
       "model_id": "bce931a477d2478da60b8e2a86402221",
       "version_major": 2,
       "version_minor": 0
      },
      "text/plain": [
       "  0%|          | 0/116 [00:00<?, ?it/s]"
      ]
     },
     "metadata": {},
     "output_type": "display_data"
    },
    {
     "data": {
      "application/vnd.jupyter.widget-view+json": {
       "model_id": "32683125a999491b8bb023db2b7a6982",
       "version_major": 2,
       "version_minor": 0
      },
      "text/plain": [
       "  0%|          | 0/51 [00:00<?, ?it/s]"
      ]
     },
     "metadata": {},
     "output_type": "display_data"
    },
    {
     "name": "stdout",
     "output_type": "stream",
     "text": [
      "Epoch:12 |Train Loss:0.7336253117898415|Valid Loss:0.8034545077997095\n",
      "\u001b[32mLoss Decreased from 0.8038664179689744 to 0.8034545077997095\u001b[0m\n",
      "\u001b[35mTime taken by epoch 12 is 37.62s\u001b[0m\n",
      "Epoch Started:13\n"
     ]
    },
    {
     "data": {
      "application/vnd.jupyter.widget-view+json": {
       "model_id": "eaae5307c7b845c9a5537cd63f4e7b6a",
       "version_major": 2,
       "version_minor": 0
      },
      "text/plain": [
       "  0%|          | 0/116 [00:00<?, ?it/s]"
      ]
     },
     "metadata": {},
     "output_type": "display_data"
    },
    {
     "data": {
      "application/vnd.jupyter.widget-view+json": {
       "model_id": "523ce56eb95c4ce3beb08792573a0819",
       "version_major": 2,
       "version_minor": 0
      },
      "text/plain": [
       "  0%|          | 0/51 [00:00<?, ?it/s]"
      ]
     },
     "metadata": {},
     "output_type": "display_data"
    },
    {
     "name": "stdout",
     "output_type": "stream",
     "text": [
      "Epoch:13 |Train Loss:0.7284497109980419|Valid Loss:0.8060045253996756\n",
      "\u001b[35mTime taken by epoch 13 is 37.99s\u001b[0m\n",
      "Epoch Started:14\n"
     ]
    },
    {
     "data": {
      "application/vnd.jupyter.widget-view+json": {
       "model_id": "ce9fde8dd0294be0a6169447bb24fb99",
       "version_major": 2,
       "version_minor": 0
      },
      "text/plain": [
       "  0%|          | 0/116 [00:00<?, ?it/s]"
      ]
     },
     "metadata": {},
     "output_type": "display_data"
    },
    {
     "data": {
      "application/vnd.jupyter.widget-view+json": {
       "model_id": "f99044a85e3944bc87a2f1ec6a7b573f",
       "version_major": 2,
       "version_minor": 0
      },
      "text/plain": [
       "  0%|          | 0/51 [00:00<?, ?it/s]"
      ]
     },
     "metadata": {},
     "output_type": "display_data"
    },
    {
     "name": "stdout",
     "output_type": "stream",
     "text": [
      "Epoch:14 |Train Loss:0.7224501885216812|Valid Loss:0.8051587331528757\n",
      "\u001b[35mTime taken by epoch 14 is 39.72s\u001b[0m\n",
      "Epoch Started:15\n"
     ]
    },
    {
     "data": {
      "application/vnd.jupyter.widget-view+json": {
       "model_id": "34b78ca8cdb34e1693c94dfc0bd6edef",
       "version_major": 2,
       "version_minor": 0
      },
      "text/plain": [
       "  0%|          | 0/116 [00:00<?, ?it/s]"
      ]
     },
     "metadata": {},
     "output_type": "display_data"
    },
    {
     "data": {
      "application/vnd.jupyter.widget-view+json": {
       "model_id": "74a895e1724d4f1db6ae998617b39cb1",
       "version_major": 2,
       "version_minor": 0
      },
      "text/plain": [
       "  0%|          | 0/51 [00:00<?, ?it/s]"
      ]
     },
     "metadata": {},
     "output_type": "display_data"
    },
    {
     "name": "stdout",
     "output_type": "stream",
     "text": [
      "Epoch:15 |Train Loss:0.7165604953108162|Valid Loss:0.8073820226332721\n",
      "\u001b[35mTime taken by epoch 15 is 36.71s\u001b[0m\n",
      "Epoch Started:16\n"
     ]
    },
    {
     "data": {
      "application/vnd.jupyter.widget-view+json": {
       "model_id": "2192fd840348408ebbc86e34c06183f0",
       "version_major": 2,
       "version_minor": 0
      },
      "text/plain": [
       "  0%|          | 0/116 [00:00<?, ?it/s]"
      ]
     },
     "metadata": {},
     "output_type": "display_data"
    },
    {
     "data": {
      "application/vnd.jupyter.widget-view+json": {
       "model_id": "012eb8444d384212aa434bc251199c50",
       "version_major": 2,
       "version_minor": 0
      },
      "text/plain": [
       "  0%|          | 0/51 [00:00<?, ?it/s]"
      ]
     },
     "metadata": {},
     "output_type": "display_data"
    },
    {
     "name": "stdout",
     "output_type": "stream",
     "text": [
      "Epoch:16 |Train Loss:0.7113943742267017|Valid Loss:0.8083842864223555\n",
      "\u001b[35mTime taken by epoch 16 is 36.78s\u001b[0m\n",
      "Epoch Started:17\n"
     ]
    },
    {
     "data": {
      "application/vnd.jupyter.widget-view+json": {
       "model_id": "ef6ca376cbb748bc86f8fbdefa291aec",
       "version_major": 2,
       "version_minor": 0
      },
      "text/plain": [
       "  0%|          | 0/116 [00:00<?, ?it/s]"
      ]
     },
     "metadata": {},
     "output_type": "display_data"
    },
    {
     "data": {
      "application/vnd.jupyter.widget-view+json": {
       "model_id": "5ba11d1e8f1141b696ea38a5b71fb21a",
       "version_major": 2,
       "version_minor": 0
      },
      "text/plain": [
       "  0%|          | 0/51 [00:00<?, ?it/s]"
      ]
     },
     "metadata": {},
     "output_type": "display_data"
    },
    {
     "name": "stdout",
     "output_type": "stream",
     "text": [
      "Epoch:17 |Train Loss:0.7072760010587757|Valid Loss:0.8092249760440752\n",
      "\u001b[35mTime taken by epoch 17 is 37.36s\u001b[0m\n",
      "Epoch Started:18\n"
     ]
    },
    {
     "data": {
      "application/vnd.jupyter.widget-view+json": {
       "model_id": "e448fa105b4d4508ac97fcf8e9bd2902",
       "version_major": 2,
       "version_minor": 0
      },
      "text/plain": [
       "  0%|          | 0/116 [00:00<?, ?it/s]"
      ]
     },
     "metadata": {},
     "output_type": "display_data"
    },
    {
     "data": {
      "application/vnd.jupyter.widget-view+json": {
       "model_id": "da5b302cc77f45ca8020a54ad211ec39",
       "version_major": 2,
       "version_minor": 0
      },
      "text/plain": [
       "  0%|          | 0/51 [00:00<?, ?it/s]"
      ]
     },
     "metadata": {},
     "output_type": "display_data"
    },
    {
     "name": "stdout",
     "output_type": "stream",
     "text": [
      "Epoch:18 |Train Loss:0.7021531673340962|Valid Loss:0.8093571849897796\n",
      "\u001b[35mTime taken by epoch 18 is 38.42s\u001b[0m\n",
      "Epoch Started:19\n"
     ]
    },
    {
     "data": {
      "application/vnd.jupyter.widget-view+json": {
       "model_id": "4207b870176744db9641d12330ff2ba0",
       "version_major": 2,
       "version_minor": 0
      },
      "text/plain": [
       "  0%|          | 0/116 [00:00<?, ?it/s]"
      ]
     },
     "metadata": {},
     "output_type": "display_data"
    },
    {
     "data": {
      "application/vnd.jupyter.widget-view+json": {
       "model_id": "a1befe6313874032834d6f442e48e1ed",
       "version_major": 2,
       "version_minor": 0
      },
      "text/plain": [
       "  0%|          | 0/51 [00:00<?, ?it/s]"
      ]
     },
     "metadata": {},
     "output_type": "display_data"
    },
    {
     "name": "stdout",
     "output_type": "stream",
     "text": [
      "Epoch:19 |Train Loss:0.6960245386279863|Valid Loss:0.8094911563630197\n",
      "\u001b[35mTime taken by epoch 19 is 37.31s\u001b[0m\n",
      "Epoch Started:20\n"
     ]
    },
    {
     "data": {
      "application/vnd.jupyter.widget-view+json": {
       "model_id": "d7c5ceaef9b1469d9a6e17a23aba125f",
       "version_major": 2,
       "version_minor": 0
      },
      "text/plain": [
       "  0%|          | 0/116 [00:00<?, ?it/s]"
      ]
     },
     "metadata": {},
     "output_type": "display_data"
    },
    {
     "data": {
      "application/vnd.jupyter.widget-view+json": {
       "model_id": "c3b98478fefa49048db4102b25ea38f1",
       "version_major": 2,
       "version_minor": 0
      },
      "text/plain": [
       "  0%|          | 0/51 [00:00<?, ?it/s]"
      ]
     },
     "metadata": {},
     "output_type": "display_data"
    },
    {
     "name": "stdout",
     "output_type": "stream",
     "text": [
      "Epoch:20 |Train Loss:0.692339713717329|Valid Loss:0.8113613748082927\n",
      "\u001b[35mTime taken by epoch 20 is 37.28s\u001b[0m\n",
      "Epoch Started:21\n"
     ]
    },
    {
     "data": {
      "application/vnd.jupyter.widget-view+json": {
       "model_id": "545eb2a5c7664ed9ac5e905c101f1e00",
       "version_major": 2,
       "version_minor": 0
      },
      "text/plain": [
       "  0%|          | 0/116 [00:00<?, ?it/s]"
      ]
     },
     "metadata": {},
     "output_type": "display_data"
    },
    {
     "data": {
      "application/vnd.jupyter.widget-view+json": {
       "model_id": "0024909192934dd08e8b9d4491746b82",
       "version_major": 2,
       "version_minor": 0
      },
      "text/plain": [
       "  0%|          | 0/51 [00:00<?, ?it/s]"
      ]
     },
     "metadata": {},
     "output_type": "display_data"
    },
    {
     "name": "stdout",
     "output_type": "stream",
     "text": [
      "Epoch:21 |Train Loss:0.6872576249056849|Valid Loss:0.8113322409929014\n",
      "\u001b[35mTime taken by epoch 21 is 37.29s\u001b[0m\n",
      "Epoch Started:22\n"
     ]
    },
    {
     "data": {
      "application/vnd.jupyter.widget-view+json": {
       "model_id": "3473b6d917084efbba63da6bdc04a86e",
       "version_major": 2,
       "version_minor": 0
      },
      "text/plain": [
       "  0%|          | 0/116 [00:00<?, ?it/s]"
      ]
     },
     "metadata": {},
     "output_type": "display_data"
    },
    {
     "data": {
      "application/vnd.jupyter.widget-view+json": {
       "model_id": "fb187159f69d4d93b3f43e620fd58091",
       "version_major": 2,
       "version_minor": 0
      },
      "text/plain": [
       "  0%|          | 0/51 [00:00<?, ?it/s]"
      ]
     },
     "metadata": {},
     "output_type": "display_data"
    },
    {
     "name": "stdout",
     "output_type": "stream",
     "text": [
      "Epoch:22 |Train Loss:0.6837830959722914|Valid Loss:0.8122834913870868\n",
      "\u001b[32mEARLY STOPPING\n",
      "Starting for fold: 2\u001b[31m\n",
      "Preparing training data for fold: 2\u001b[35m\n",
      "(1575207, 304)\n",
      "(1464649, 30, 1) (1464649, 1) (1464649, 300)\n",
      "(412467, 30, 1) (412467, 1) (1464649, 300)\n",
      "325\n",
      "cuda is used\n"
     ]
    },
    {
     "data": {
      "application/vnd.jupyter.widget-view+json": {
       "model_id": "a8fb414d4b774b8eabbfab836d58e2b4",
       "version_major": 2,
       "version_minor": 0
      },
      "text/plain": [
       "  0%|          | 0/100 [00:00<?, ?it/s]"
      ]
     },
     "metadata": {},
     "output_type": "display_data"
    },
    {
     "name": "stdout",
     "output_type": "stream",
     "text": [
      "Epoch Started:0\n"
     ]
    },
    {
     "data": {
      "application/vnd.jupyter.widget-view+json": {
       "model_id": "a957484b38db4619b4042964f37f8ea4",
       "version_major": 2,
       "version_minor": 0
      },
      "text/plain": [
       "  0%|          | 0/179 [00:00<?, ?it/s]"
      ]
     },
     "metadata": {},
     "output_type": "display_data"
    },
    {
     "data": {
      "application/vnd.jupyter.widget-view+json": {
       "model_id": "4f52ade251534821b77a4e9c00c67a62",
       "version_major": 2,
       "version_minor": 0
      },
      "text/plain": [
       "  0%|          | 0/51 [00:00<?, ?it/s]"
      ]
     },
     "metadata": {},
     "output_type": "display_data"
    },
    {
     "name": "stdout",
     "output_type": "stream",
     "text": [
      "Epoch:0 |Train Loss:0.8587623025451958|Valid Loss:0.8478652238845825\n",
      "\u001b[32mLoss Decreased from 9999999 to 0.8478652238845825\u001b[0m\n",
      "\u001b[35mTime taken by epoch 0 is 53.37s\u001b[0m\n",
      "Epoch Started:1\n"
     ]
    },
    {
     "data": {
      "application/vnd.jupyter.widget-view+json": {
       "model_id": "f7bf1ac199ba4edc94249805650b6bf2",
       "version_major": 2,
       "version_minor": 0
      },
      "text/plain": [
       "  0%|          | 0/179 [00:00<?, ?it/s]"
      ]
     },
     "metadata": {},
     "output_type": "display_data"
    },
    {
     "data": {
      "application/vnd.jupyter.widget-view+json": {
       "model_id": "b8a373e27953498cb104d2b3d1bce256",
       "version_major": 2,
       "version_minor": 0
      },
      "text/plain": [
       "  0%|          | 0/51 [00:00<?, ?it/s]"
      ]
     },
     "metadata": {},
     "output_type": "display_data"
    },
    {
     "name": "stdout",
     "output_type": "stream",
     "text": [
      "Epoch:1 |Train Loss:0.8099682484259153|Valid Loss:0.8237801147442237\n",
      "\u001b[32mLoss Decreased from 0.8478652238845825 to 0.8237801147442237\u001b[0m\n",
      "\u001b[35mTime taken by epoch 1 is 52.88s\u001b[0m\n",
      "Epoch Started:2\n"
     ]
    },
    {
     "data": {
      "application/vnd.jupyter.widget-view+json": {
       "model_id": "638313deeb7342e88c96a52f8024b380",
       "version_major": 2,
       "version_minor": 0
      },
      "text/plain": [
       "  0%|          | 0/179 [00:00<?, ?it/s]"
      ]
     },
     "metadata": {},
     "output_type": "display_data"
    },
    {
     "data": {
      "application/vnd.jupyter.widget-view+json": {
       "model_id": "280854316e5143caa4d5d4c6fa27fed6",
       "version_major": 2,
       "version_minor": 0
      },
      "text/plain": [
       "  0%|          | 0/51 [00:00<?, ?it/s]"
      ]
     },
     "metadata": {},
     "output_type": "display_data"
    },
    {
     "name": "stdout",
     "output_type": "stream",
     "text": [
      "Epoch:2 |Train Loss:0.7963573399868757|Valid Loss:0.8180926792761859\n",
      "\u001b[32mLoss Decreased from 0.8237801147442237 to 0.8180926792761859\u001b[0m\n",
      "\u001b[35mTime taken by epoch 2 is 53.14s\u001b[0m\n",
      "Epoch Started:3\n"
     ]
    },
    {
     "data": {
      "application/vnd.jupyter.widget-view+json": {
       "model_id": "df7bccd5a71848e890601d36a8480e63",
       "version_major": 2,
       "version_minor": 0
      },
      "text/plain": [
       "  0%|          | 0/179 [00:00<?, ?it/s]"
      ]
     },
     "metadata": {},
     "output_type": "display_data"
    },
    {
     "data": {
      "application/vnd.jupyter.widget-view+json": {
       "model_id": "42a6b2db626b4219bf9408c28b35688f",
       "version_major": 2,
       "version_minor": 0
      },
      "text/plain": [
       "  0%|          | 0/51 [00:00<?, ?it/s]"
      ]
     },
     "metadata": {},
     "output_type": "display_data"
    },
    {
     "name": "stdout",
     "output_type": "stream",
     "text": [
      "Epoch:3 |Train Loss:0.7882596823756255|Valid Loss:0.8156781944574094\n",
      "\u001b[32mLoss Decreased from 0.8180926792761859 to 0.8156781944574094\u001b[0m\n",
      "\u001b[35mTime taken by epoch 3 is 55.80s\u001b[0m\n",
      "Epoch Started:4\n"
     ]
    },
    {
     "data": {
      "application/vnd.jupyter.widget-view+json": {
       "model_id": "a061d4e467854fa4a608f92564f8bf88",
       "version_major": 2,
       "version_minor": 0
      },
      "text/plain": [
       "  0%|          | 0/179 [00:00<?, ?it/s]"
      ]
     },
     "metadata": {},
     "output_type": "display_data"
    },
    {
     "data": {
      "application/vnd.jupyter.widget-view+json": {
       "model_id": "bcf3e7f97c1b4459a98156d60d48fefb",
       "version_major": 2,
       "version_minor": 0
      },
      "text/plain": [
       "  0%|          | 0/51 [00:00<?, ?it/s]"
      ]
     },
     "metadata": {},
     "output_type": "display_data"
    },
    {
     "name": "stdout",
     "output_type": "stream",
     "text": [
      "Epoch:4 |Train Loss:0.7808244674565405|Valid Loss:0.8122643138848099\n",
      "\u001b[32mLoss Decreased from 0.8156781944574094 to 0.8122643138848099\u001b[0m\n",
      "\u001b[35mTime taken by epoch 4 is 53.73s\u001b[0m\n",
      "Epoch Started:5\n"
     ]
    },
    {
     "data": {
      "application/vnd.jupyter.widget-view+json": {
       "model_id": "d1e290ad1330474481ecb59971e5a413",
       "version_major": 2,
       "version_minor": 0
      },
      "text/plain": [
       "  0%|          | 0/179 [00:00<?, ?it/s]"
      ]
     },
     "metadata": {},
     "output_type": "display_data"
    },
    {
     "data": {
      "application/vnd.jupyter.widget-view+json": {
       "model_id": "a93558542b674a1b8806602238e5cb7b",
       "version_major": 2,
       "version_minor": 0
      },
      "text/plain": [
       "  0%|          | 0/51 [00:00<?, ?it/s]"
      ]
     },
     "metadata": {},
     "output_type": "display_data"
    },
    {
     "name": "stdout",
     "output_type": "stream",
     "text": [
      "Epoch:5 |Train Loss:0.7745457807732694|Valid Loss:0.8115866453039879\n",
      "\u001b[32mLoss Decreased from 0.8122643138848099 to 0.8115866453039879\u001b[0m\n",
      "\u001b[35mTime taken by epoch 5 is 53.61s\u001b[0m\n",
      "Epoch Started:6\n"
     ]
    },
    {
     "data": {
      "application/vnd.jupyter.widget-view+json": {
       "model_id": "164c10873f02494f871a26e1b9d6b8d4",
       "version_major": 2,
       "version_minor": 0
      },
      "text/plain": [
       "  0%|          | 0/179 [00:00<?, ?it/s]"
      ]
     },
     "metadata": {},
     "output_type": "display_data"
    },
    {
     "data": {
      "application/vnd.jupyter.widget-view+json": {
       "model_id": "34f7619158a5440daf44823723525454",
       "version_major": 2,
       "version_minor": 0
      },
      "text/plain": [
       "  0%|          | 0/51 [00:00<?, ?it/s]"
      ]
     },
     "metadata": {},
     "output_type": "display_data"
    },
    {
     "name": "stdout",
     "output_type": "stream",
     "text": [
      "Epoch:6 |Train Loss:0.7684913687199854|Valid Loss:0.8117705373203054\n",
      "\u001b[35mTime taken by epoch 6 is 54.48s\u001b[0m\n",
      "Epoch Started:7\n"
     ]
    },
    {
     "data": {
      "application/vnd.jupyter.widget-view+json": {
       "model_id": "acd9c7fa78604b41afe52f05391ca780",
       "version_major": 2,
       "version_minor": 0
      },
      "text/plain": [
       "  0%|          | 0/179 [00:00<?, ?it/s]"
      ]
     },
     "metadata": {},
     "output_type": "display_data"
    },
    {
     "data": {
      "application/vnd.jupyter.widget-view+json": {
       "model_id": "bb59dbb5ff4e4b1aa073a290321c0872",
       "version_major": 2,
       "version_minor": 0
      },
      "text/plain": [
       "  0%|          | 0/51 [00:00<?, ?it/s]"
      ]
     },
     "metadata": {},
     "output_type": "display_data"
    },
    {
     "name": "stdout",
     "output_type": "stream",
     "text": [
      "Epoch:7 |Train Loss:0.7626068821832455|Valid Loss:0.8115347962753445\n",
      "\u001b[32mLoss Decreased from 0.8115866453039879 to 0.8115347962753445\u001b[0m\n",
      "\u001b[35mTime taken by epoch 7 is 55.32s\u001b[0m\n",
      "Epoch Started:8\n"
     ]
    },
    {
     "data": {
      "application/vnd.jupyter.widget-view+json": {
       "model_id": "0e1bdfc8a6c64379b9968e1d72d26cb0",
       "version_major": 2,
       "version_minor": 0
      },
      "text/plain": [
       "  0%|          | 0/179 [00:00<?, ?it/s]"
      ]
     },
     "metadata": {},
     "output_type": "display_data"
    },
    {
     "data": {
      "application/vnd.jupyter.widget-view+json": {
       "model_id": "c1837137f4b545ef8c15779a6628efac",
       "version_major": 2,
       "version_minor": 0
      },
      "text/plain": [
       "  0%|          | 0/51 [00:00<?, ?it/s]"
      ]
     },
     "metadata": {},
     "output_type": "display_data"
    },
    {
     "name": "stdout",
     "output_type": "stream",
     "text": [
      "Epoch:8 |Train Loss:0.7570290019392302|Valid Loss:0.8103111269427281\n",
      "\u001b[32mLoss Decreased from 0.8115347962753445 to 0.8103111269427281\u001b[0m\n",
      "\u001b[35mTime taken by epoch 8 is 55.38s\u001b[0m\n",
      "Epoch Started:9\n"
     ]
    },
    {
     "data": {
      "application/vnd.jupyter.widget-view+json": {
       "model_id": "5735b12df9bd4a56a9a3a8e197dc4be5",
       "version_major": 2,
       "version_minor": 0
      },
      "text/plain": [
       "  0%|          | 0/179 [00:00<?, ?it/s]"
      ]
     },
     "metadata": {},
     "output_type": "display_data"
    },
    {
     "data": {
      "application/vnd.jupyter.widget-view+json": {
       "model_id": "71eea19ded0a482bad65696439f11348",
       "version_major": 2,
       "version_minor": 0
      },
      "text/plain": [
       "  0%|          | 0/51 [00:00<?, ?it/s]"
      ]
     },
     "metadata": {},
     "output_type": "display_data"
    },
    {
     "name": "stdout",
     "output_type": "stream",
     "text": [
      "Epoch:9 |Train Loss:0.7507386144313066|Valid Loss:0.8117647416451398\n",
      "\u001b[35mTime taken by epoch 9 is 54.37s\u001b[0m\n",
      "Epoch Started:10\n"
     ]
    },
    {
     "data": {
      "application/vnd.jupyter.widget-view+json": {
       "model_id": "3fa94162aafd490f94e9f5609f939beb",
       "version_major": 2,
       "version_minor": 0
      },
      "text/plain": [
       "  0%|          | 0/179 [00:00<?, ?it/s]"
      ]
     },
     "metadata": {},
     "output_type": "display_data"
    },
    {
     "data": {
      "application/vnd.jupyter.widget-view+json": {
       "model_id": "86260b2f7efb4d87a0a65dd3ec2a790a",
       "version_major": 2,
       "version_minor": 0
      },
      "text/plain": [
       "  0%|          | 0/51 [00:00<?, ?it/s]"
      ]
     },
     "metadata": {},
     "output_type": "display_data"
    },
    {
     "name": "stdout",
     "output_type": "stream",
     "text": [
      "Epoch:10 |Train Loss:0.745967380161392|Valid Loss:0.8128974542898291\n",
      "\u001b[35mTime taken by epoch 10 is 53.11s\u001b[0m\n",
      "Epoch Started:11\n"
     ]
    },
    {
     "data": {
      "application/vnd.jupyter.widget-view+json": {
       "model_id": "a6bed82436a7438e9d0da602b3432ae6",
       "version_major": 2,
       "version_minor": 0
      },
      "text/plain": [
       "  0%|          | 0/179 [00:00<?, ?it/s]"
      ]
     },
     "metadata": {},
     "output_type": "display_data"
    },
    {
     "data": {
      "application/vnd.jupyter.widget-view+json": {
       "model_id": "6e32e9e3f3eb47faad18937d69f86edf",
       "version_major": 2,
       "version_minor": 0
      },
      "text/plain": [
       "  0%|          | 0/51 [00:00<?, ?it/s]"
      ]
     },
     "metadata": {},
     "output_type": "display_data"
    },
    {
     "name": "stdout",
     "output_type": "stream",
     "text": [
      "Epoch:11 |Train Loss:0.7410139777806884|Valid Loss:0.8124212342150071\n",
      "\u001b[35mTime taken by epoch 11 is 53.09s\u001b[0m\n",
      "Epoch Started:12\n"
     ]
    },
    {
     "data": {
      "application/vnd.jupyter.widget-view+json": {
       "model_id": "bb3dc98cc1e542afbcbcb2a65e85cc5f",
       "version_major": 2,
       "version_minor": 0
      },
      "text/plain": [
       "  0%|          | 0/179 [00:00<?, ?it/s]"
      ]
     },
     "metadata": {},
     "output_type": "display_data"
    },
    {
     "data": {
      "application/vnd.jupyter.widget-view+json": {
       "model_id": "fe1f61b5987244c2ace4992e9cd9b554",
       "version_major": 2,
       "version_minor": 0
      },
      "text/plain": [
       "  0%|          | 0/51 [00:00<?, ?it/s]"
      ]
     },
     "metadata": {},
     "output_type": "display_data"
    },
    {
     "name": "stdout",
     "output_type": "stream",
     "text": [
      "Epoch:12 |Train Loss:0.7358140509221807|Valid Loss:0.8135182904262169\n",
      "\u001b[35mTime taken by epoch 12 is 53.50s\u001b[0m\n",
      "Epoch Started:13\n"
     ]
    },
    {
     "data": {
      "application/vnd.jupyter.widget-view+json": {
       "model_id": "59ee3f8f71404d25a286f35ac22cfbfc",
       "version_major": 2,
       "version_minor": 0
      },
      "text/plain": [
       "  0%|          | 0/179 [00:00<?, ?it/s]"
      ]
     },
     "metadata": {},
     "output_type": "display_data"
    },
    {
     "data": {
      "application/vnd.jupyter.widget-view+json": {
       "model_id": "606c59f034504067b2351f959751af57",
       "version_major": 2,
       "version_minor": 0
      },
      "text/plain": [
       "  0%|          | 0/51 [00:00<?, ?it/s]"
      ]
     },
     "metadata": {},
     "output_type": "display_data"
    },
    {
     "name": "stdout",
     "output_type": "stream",
     "text": [
      "Epoch:13 |Train Loss:0.7311248666081349|Valid Loss:0.815092082117118\n",
      "\u001b[35mTime taken by epoch 13 is 55.30s\u001b[0m\n",
      "Epoch Started:14\n"
     ]
    },
    {
     "data": {
      "application/vnd.jupyter.widget-view+json": {
       "model_id": "a2d8197144604f118d04b936a6ae8c91",
       "version_major": 2,
       "version_minor": 0
      },
      "text/plain": [
       "  0%|          | 0/179 [00:00<?, ?it/s]"
      ]
     },
     "metadata": {},
     "output_type": "display_data"
    },
    {
     "data": {
      "application/vnd.jupyter.widget-view+json": {
       "model_id": "bc86c789013d41868046221728b09c2b",
       "version_major": 2,
       "version_minor": 0
      },
      "text/plain": [
       "  0%|          | 0/51 [00:00<?, ?it/s]"
      ]
     },
     "metadata": {},
     "output_type": "display_data"
    },
    {
     "name": "stdout",
     "output_type": "stream",
     "text": [
      "Epoch:14 |Train Loss:0.7260309447789325|Valid Loss:0.8157079254879671\n",
      "\u001b[35mTime taken by epoch 14 is 55.32s\u001b[0m\n",
      "Epoch Started:15\n"
     ]
    },
    {
     "data": {
      "application/vnd.jupyter.widget-view+json": {
       "model_id": "59de12c3c56f4e1fa58766a51b700e07",
       "version_major": 2,
       "version_minor": 0
      },
      "text/plain": [
       "  0%|          | 0/179 [00:00<?, ?it/s]"
      ]
     },
     "metadata": {},
     "output_type": "display_data"
    },
    {
     "data": {
      "application/vnd.jupyter.widget-view+json": {
       "model_id": "faa27e746ca346ffa775770298a835b9",
       "version_major": 2,
       "version_minor": 0
      },
      "text/plain": [
       "  0%|          | 0/51 [00:00<?, ?it/s]"
      ]
     },
     "metadata": {},
     "output_type": "display_data"
    },
    {
     "name": "stdout",
     "output_type": "stream",
     "text": [
      "Epoch:15 |Train Loss:0.721672710093706|Valid Loss:0.81499183177948\n",
      "\u001b[35mTime taken by epoch 15 is 55.40s\u001b[0m\n",
      "Epoch Started:16\n"
     ]
    },
    {
     "data": {
      "application/vnd.jupyter.widget-view+json": {
       "model_id": "81ff30f6538048fcab02c3e6e2cebe5d",
       "version_major": 2,
       "version_minor": 0
      },
      "text/plain": [
       "  0%|          | 0/179 [00:00<?, ?it/s]"
      ]
     },
     "metadata": {},
     "output_type": "display_data"
    },
    {
     "data": {
      "application/vnd.jupyter.widget-view+json": {
       "model_id": "53cba357fe8a49f7ab4ebb0e55ddd9c4",
       "version_major": 2,
       "version_minor": 0
      },
      "text/plain": [
       "  0%|          | 0/51 [00:00<?, ?it/s]"
      ]
     },
     "metadata": {},
     "output_type": "display_data"
    },
    {
     "name": "stdout",
     "output_type": "stream",
     "text": [
      "Epoch:16 |Train Loss:0.7173840057250508|Valid Loss:0.8157920311479008\n",
      "\u001b[35mTime taken by epoch 16 is 54.57s\u001b[0m\n",
      "Epoch Started:17\n"
     ]
    },
    {
     "data": {
      "application/vnd.jupyter.widget-view+json": {
       "model_id": "f9da7d68d42243218563ab2483075c87",
       "version_major": 2,
       "version_minor": 0
      },
      "text/plain": [
       "  0%|          | 0/179 [00:00<?, ?it/s]"
      ]
     },
     "metadata": {},
     "output_type": "display_data"
    },
    {
     "data": {
      "application/vnd.jupyter.widget-view+json": {
       "model_id": "126431fb1ba443beaff590824d8b4856",
       "version_major": 2,
       "version_minor": 0
      },
      "text/plain": [
       "  0%|          | 0/51 [00:00<?, ?it/s]"
      ]
     },
     "metadata": {},
     "output_type": "display_data"
    },
    {
     "name": "stdout",
     "output_type": "stream",
     "text": [
      "Epoch:17 |Train Loss:0.7122473233904918|Valid Loss:0.8159675282590529\n",
      "\u001b[35mTime taken by epoch 17 is 52.71s\u001b[0m\n",
      "Epoch Started:18\n"
     ]
    },
    {
     "data": {
      "application/vnd.jupyter.widget-view+json": {
       "model_id": "c43da53e39af46aabe1332846989a1c7",
       "version_major": 2,
       "version_minor": 0
      },
      "text/plain": [
       "  0%|          | 0/179 [00:00<?, ?it/s]"
      ]
     },
     "metadata": {},
     "output_type": "display_data"
    },
    {
     "data": {
      "application/vnd.jupyter.widget-view+json": {
       "model_id": "6e926fd700fa4b2eaf77e5dd6c9d07f2",
       "version_major": 2,
       "version_minor": 0
      },
      "text/plain": [
       "  0%|          | 0/51 [00:00<?, ?it/s]"
      ]
     },
     "metadata": {},
     "output_type": "display_data"
    },
    {
     "name": "stdout",
     "output_type": "stream",
     "text": [
      "Epoch:18 |Train Loss:0.7085452362811765|Valid Loss:0.8169079200894225\n",
      "\u001b[32mEARLY STOPPING\n",
      "Starting for fold: 3\u001b[31m\n",
      "Preparing training data for fold: 3\u001b[35m\n",
      "(2097273, 304)\n",
      "(1986639, 30, 1) (1986639, 1) (1986639, 300)\n",
      "(412467, 30, 1) (412467, 1) (1986639, 300)\n",
      "325\n",
      "cuda is used\n"
     ]
    },
    {
     "data": {
      "application/vnd.jupyter.widget-view+json": {
       "model_id": "f69220e8c5d64f3589416e6cb8bddd29",
       "version_major": 2,
       "version_minor": 0
      },
      "text/plain": [
       "  0%|          | 0/100 [00:00<?, ?it/s]"
      ]
     },
     "metadata": {},
     "output_type": "display_data"
    },
    {
     "name": "stdout",
     "output_type": "stream",
     "text": [
      "Epoch Started:0\n"
     ]
    },
    {
     "data": {
      "application/vnd.jupyter.widget-view+json": {
       "model_id": "432ce998ccc042148e51da7de504712d",
       "version_major": 2,
       "version_minor": 0
      },
      "text/plain": [
       "  0%|          | 0/243 [00:00<?, ?it/s]"
      ]
     },
     "metadata": {},
     "output_type": "display_data"
    },
    {
     "data": {
      "application/vnd.jupyter.widget-view+json": {
       "model_id": "0704bd57c41c4b86817c49afb71bd6e4",
       "version_major": 2,
       "version_minor": 0
      },
      "text/plain": [
       "  0%|          | 0/51 [00:00<?, ?it/s]"
      ]
     },
     "metadata": {},
     "output_type": "display_data"
    },
    {
     "name": "stdout",
     "output_type": "stream",
     "text": [
      "Epoch:0 |Train Loss:0.854101866361045|Valid Loss:0.8294184955896116\n",
      "\u001b[32mLoss Decreased from 9999999 to 0.8294184955896116\u001b[0m\n",
      "\u001b[35mTime taken by epoch 0 is 69.39s\u001b[0m\n",
      "Epoch Started:1\n"
     ]
    },
    {
     "data": {
      "application/vnd.jupyter.widget-view+json": {
       "model_id": "b3b62b6e142f4782aa697d3e4547d734",
       "version_major": 2,
       "version_minor": 0
      },
      "text/plain": [
       "  0%|          | 0/243 [00:00<?, ?it/s]"
      ]
     },
     "metadata": {},
     "output_type": "display_data"
    },
    {
     "data": {
      "application/vnd.jupyter.widget-view+json": {
       "model_id": "77f79bf7e74746b69b921a82ece21bb8",
       "version_major": 2,
       "version_minor": 0
      },
      "text/plain": [
       "  0%|          | 0/51 [00:00<?, ?it/s]"
      ]
     },
     "metadata": {},
     "output_type": "display_data"
    },
    {
     "name": "stdout",
     "output_type": "stream",
     "text": [
      "Epoch:1 |Train Loss:0.8092197815086616|Valid Loss:0.8129851432407603\n",
      "\u001b[32mLoss Decreased from 0.8294184955896116 to 0.8129851432407603\u001b[0m\n",
      "\u001b[35mTime taken by epoch 1 is 71.14s\u001b[0m\n",
      "Epoch Started:2\n"
     ]
    },
    {
     "data": {
      "application/vnd.jupyter.widget-view+json": {
       "model_id": "9f2b4b6dce054f74b5f60289df319f00",
       "version_major": 2,
       "version_minor": 0
      },
      "text/plain": [
       "  0%|          | 0/243 [00:00<?, ?it/s]"
      ]
     },
     "metadata": {},
     "output_type": "display_data"
    },
    {
     "data": {
      "application/vnd.jupyter.widget-view+json": {
       "model_id": "a662caf645eb4c04af8aca5757ed2b89",
       "version_major": 2,
       "version_minor": 0
      },
      "text/plain": [
       "  0%|          | 0/51 [00:00<?, ?it/s]"
      ]
     },
     "metadata": {},
     "output_type": "display_data"
    },
    {
     "name": "stdout",
     "output_type": "stream",
     "text": [
      "Epoch:2 |Train Loss:0.7981083231207765|Valid Loss:0.8064771902327444\n",
      "\u001b[32mLoss Decreased from 0.8129851432407603 to 0.8064771902327444\u001b[0m\n",
      "\u001b[35mTime taken by epoch 2 is 70.50s\u001b[0m\n",
      "Epoch Started:3\n"
     ]
    },
    {
     "data": {
      "application/vnd.jupyter.widget-view+json": {
       "model_id": "4c66c0349de5442a9c10a4354b675b1f",
       "version_major": 2,
       "version_minor": 0
      },
      "text/plain": [
       "  0%|          | 0/243 [00:00<?, ?it/s]"
      ]
     },
     "metadata": {},
     "output_type": "display_data"
    },
    {
     "data": {
      "application/vnd.jupyter.widget-view+json": {
       "model_id": "f470b76409ae4581b42773b683c93fe7",
       "version_major": 2,
       "version_minor": 0
      },
      "text/plain": [
       "  0%|          | 0/51 [00:00<?, ?it/s]"
      ]
     },
     "metadata": {},
     "output_type": "display_data"
    },
    {
     "name": "stdout",
     "output_type": "stream",
     "text": [
      "Epoch:3 |Train Loss:0.7903015721482014|Valid Loss:0.8043564709962583\n",
      "\u001b[32mLoss Decreased from 0.8064771902327444 to 0.8043564709962583\u001b[0m\n",
      "\u001b[35mTime taken by epoch 3 is 68.83s\u001b[0m\n",
      "Epoch Started:4\n"
     ]
    },
    {
     "data": {
      "application/vnd.jupyter.widget-view+json": {
       "model_id": "bef4ca2c61ce4b40b79b39b75bc542bc",
       "version_major": 2,
       "version_minor": 0
      },
      "text/plain": [
       "  0%|          | 0/243 [00:00<?, ?it/s]"
      ]
     },
     "metadata": {},
     "output_type": "display_data"
    },
    {
     "data": {
      "application/vnd.jupyter.widget-view+json": {
       "model_id": "9fa40eddc94a484da776aff03bf01f4b",
       "version_major": 2,
       "version_minor": 0
      },
      "text/plain": [
       "  0%|          | 0/51 [00:00<?, ?it/s]"
      ]
     },
     "metadata": {},
     "output_type": "display_data"
    },
    {
     "name": "stdout",
     "output_type": "stream",
     "text": [
      "Epoch:4 |Train Loss:0.7839190079351511|Valid Loss:0.8024720771639955\n",
      "\u001b[32mLoss Decreased from 0.8043564709962583 to 0.8024720771639955\u001b[0m\n",
      "\u001b[35mTime taken by epoch 4 is 72.76s\u001b[0m\n",
      "Epoch Started:5\n"
     ]
    },
    {
     "data": {
      "application/vnd.jupyter.widget-view+json": {
       "model_id": "94debcb5ec7048ea8e9d61e0009f4934",
       "version_major": 2,
       "version_minor": 0
      },
      "text/plain": [
       "  0%|          | 0/243 [00:00<?, ?it/s]"
      ]
     },
     "metadata": {},
     "output_type": "display_data"
    },
    {
     "data": {
      "application/vnd.jupyter.widget-view+json": {
       "model_id": "4e944ae750c94284ab4b595d77fd7760",
       "version_major": 2,
       "version_minor": 0
      },
      "text/plain": [
       "  0%|          | 0/51 [00:00<?, ?it/s]"
      ]
     },
     "metadata": {},
     "output_type": "display_data"
    },
    {
     "name": "stdout",
     "output_type": "stream",
     "text": [
      "Epoch:5 |Train Loss:0.778462024382603|Valid Loss:0.801822215903039\n",
      "\u001b[32mLoss Decreased from 0.8024720771639955 to 0.801822215903039\u001b[0m\n",
      "\u001b[35mTime taken by epoch 5 is 72.44s\u001b[0m\n",
      "Epoch Started:6\n"
     ]
    },
    {
     "data": {
      "application/vnd.jupyter.widget-view+json": {
       "model_id": "caf6896bd88c435681b9c72c57e2e5ba",
       "version_major": 2,
       "version_minor": 0
      },
      "text/plain": [
       "  0%|          | 0/243 [00:00<?, ?it/s]"
      ]
     },
     "metadata": {},
     "output_type": "display_data"
    },
    {
     "data": {
      "application/vnd.jupyter.widget-view+json": {
       "model_id": "0830c5e22f33456da69a9b9a2fcd8c9f",
       "version_major": 2,
       "version_minor": 0
      },
      "text/plain": [
       "  0%|          | 0/51 [00:00<?, ?it/s]"
      ]
     },
     "metadata": {},
     "output_type": "display_data"
    },
    {
     "name": "stdout",
     "output_type": "stream",
     "text": [
      "Epoch:6 |Train Loss:0.7725760909755535|Valid Loss:0.7992625026141896\n",
      "\u001b[32mLoss Decreased from 0.801822215903039 to 0.7992625026141896\u001b[0m\n",
      "\u001b[35mTime taken by epoch 6 is 70.15s\u001b[0m\n",
      "Epoch Started:7\n"
     ]
    },
    {
     "data": {
      "application/vnd.jupyter.widget-view+json": {
       "model_id": "0d6e7a5a45784698bf76d1335bab3f9d",
       "version_major": 2,
       "version_minor": 0
      },
      "text/plain": [
       "  0%|          | 0/243 [00:00<?, ?it/s]"
      ]
     },
     "metadata": {},
     "output_type": "display_data"
    },
    {
     "data": {
      "application/vnd.jupyter.widget-view+json": {
       "model_id": "da8ac3a665a14065b13c6474361fea52",
       "version_major": 2,
       "version_minor": 0
      },
      "text/plain": [
       "  0%|          | 0/51 [00:00<?, ?it/s]"
      ]
     },
     "metadata": {},
     "output_type": "display_data"
    },
    {
     "name": "stdout",
     "output_type": "stream",
     "text": [
      "Epoch:7 |Train Loss:0.7670200754095007|Valid Loss:0.7999668425204707\n",
      "\u001b[35mTime taken by epoch 7 is 71.90s\u001b[0m\n",
      "Epoch Started:8\n"
     ]
    },
    {
     "data": {
      "application/vnd.jupyter.widget-view+json": {
       "model_id": "d140e1763122405592b4657fc79f4bd0",
       "version_major": 2,
       "version_minor": 0
      },
      "text/plain": [
       "  0%|          | 0/243 [00:00<?, ?it/s]"
      ]
     },
     "metadata": {},
     "output_type": "display_data"
    },
    {
     "data": {
      "application/vnd.jupyter.widget-view+json": {
       "model_id": "bb140118ec774bee86b425499dbb9d0f",
       "version_major": 2,
       "version_minor": 0
      },
      "text/plain": [
       "  0%|          | 0/51 [00:00<?, ?it/s]"
      ]
     },
     "metadata": {},
     "output_type": "display_data"
    },
    {
     "name": "stdout",
     "output_type": "stream",
     "text": [
      "Epoch:8 |Train Loss:0.7622147820614003|Valid Loss:0.798499699901132\n",
      "\u001b[32mLoss Decreased from 0.7992625026141896 to 0.798499699901132\u001b[0m\n",
      "\u001b[35mTime taken by epoch 8 is 69.75s\u001b[0m\n",
      "Epoch Started:9\n"
     ]
    },
    {
     "data": {
      "application/vnd.jupyter.widget-view+json": {
       "model_id": "0f1009242e654460a81e5066407c343d",
       "version_major": 2,
       "version_minor": 0
      },
      "text/plain": [
       "  0%|          | 0/243 [00:00<?, ?it/s]"
      ]
     },
     "metadata": {},
     "output_type": "display_data"
    },
    {
     "data": {
      "application/vnd.jupyter.widget-view+json": {
       "model_id": "376b6c7fc4544f69b207fc114ea445dd",
       "version_major": 2,
       "version_minor": 0
      },
      "text/plain": [
       "  0%|          | 0/51 [00:00<?, ?it/s]"
      ]
     },
     "metadata": {},
     "output_type": "display_data"
    },
    {
     "name": "stdout",
     "output_type": "stream",
     "text": [
      "Epoch:9 |Train Loss:0.7585373851988051|Valid Loss:0.7998563214844349\n",
      "\u001b[35mTime taken by epoch 9 is 70.23s\u001b[0m\n",
      "Epoch Started:10\n"
     ]
    },
    {
     "data": {
      "application/vnd.jupyter.widget-view+json": {
       "model_id": "cd433671ef59466290d9546e2ff57a3c",
       "version_major": 2,
       "version_minor": 0
      },
      "text/plain": [
       "  0%|          | 0/243 [00:00<?, ?it/s]"
      ]
     },
     "metadata": {},
     "output_type": "display_data"
    },
    {
     "data": {
      "application/vnd.jupyter.widget-view+json": {
       "model_id": "ab89850635c94fc48fdb9ac00d377a79",
       "version_major": 2,
       "version_minor": 0
      },
      "text/plain": [
       "  0%|          | 0/51 [00:00<?, ?it/s]"
      ]
     },
     "metadata": {},
     "output_type": "display_data"
    },
    {
     "name": "stdout",
     "output_type": "stream",
     "text": [
      "Epoch:10 |Train Loss:0.7526661932713701|Valid Loss:0.7991211846763012\n",
      "\u001b[35mTime taken by epoch 10 is 76.13s\u001b[0m\n",
      "Epoch Started:11\n"
     ]
    },
    {
     "data": {
      "application/vnd.jupyter.widget-view+json": {
       "model_id": "d0c92e2cd3e54555b02dd74b0469ea3a",
       "version_major": 2,
       "version_minor": 0
      },
      "text/plain": [
       "  0%|          | 0/243 [00:00<?, ?it/s]"
      ]
     },
     "metadata": {},
     "output_type": "display_data"
    },
    {
     "data": {
      "application/vnd.jupyter.widget-view+json": {
       "model_id": "831e67610d194069ab6565cfb888489b",
       "version_major": 2,
       "version_minor": 0
      },
      "text/plain": [
       "  0%|          | 0/51 [00:00<?, ?it/s]"
      ]
     },
     "metadata": {},
     "output_type": "display_data"
    },
    {
     "name": "stdout",
     "output_type": "stream",
     "text": [
      "Epoch:11 |Train Loss:0.7483407263893159|Valid Loss:0.7990433526974098\n",
      "\u001b[35mTime taken by epoch 11 is 71.41s\u001b[0m\n",
      "Epoch Started:12\n"
     ]
    },
    {
     "data": {
      "application/vnd.jupyter.widget-view+json": {
       "model_id": "a6a7337eeda943c4938ed274be703f81",
       "version_major": 2,
       "version_minor": 0
      },
      "text/plain": [
       "  0%|          | 0/243 [00:00<?, ?it/s]"
      ]
     },
     "metadata": {},
     "output_type": "display_data"
    },
    {
     "data": {
      "application/vnd.jupyter.widget-view+json": {
       "model_id": "a593e8f36b1a4352a3dc47a1e94b93b3",
       "version_major": 2,
       "version_minor": 0
      },
      "text/plain": [
       "  0%|          | 0/51 [00:00<?, ?it/s]"
      ]
     },
     "metadata": {},
     "output_type": "display_data"
    },
    {
     "name": "stdout",
     "output_type": "stream",
     "text": [
      "Epoch:12 |Train Loss:0.7441323107652703|Valid Loss:0.8007136969005361\n",
      "\u001b[35mTime taken by epoch 12 is 69.94s\u001b[0m\n",
      "Epoch Started:13\n"
     ]
    },
    {
     "data": {
      "application/vnd.jupyter.widget-view+json": {
       "model_id": "d2ec1274b4b740f3a17d3d48be5b8e60",
       "version_major": 2,
       "version_minor": 0
      },
      "text/plain": [
       "  0%|          | 0/243 [00:00<?, ?it/s]"
      ]
     },
     "metadata": {},
     "output_type": "display_data"
    },
    {
     "data": {
      "application/vnd.jupyter.widget-view+json": {
       "model_id": "e992cdf1f93a4f14a2cf29c1f1b95cce",
       "version_major": 2,
       "version_minor": 0
      },
      "text/plain": [
       "  0%|          | 0/51 [00:00<?, ?it/s]"
      ]
     },
     "metadata": {},
     "output_type": "display_data"
    },
    {
     "name": "stdout",
     "output_type": "stream",
     "text": [
      "Epoch:13 |Train Loss:0.738710500575878|Valid Loss:0.8016168755643508\n",
      "\u001b[35mTime taken by epoch 13 is 69.54s\u001b[0m\n",
      "Epoch Started:14\n"
     ]
    },
    {
     "data": {
      "application/vnd.jupyter.widget-view+json": {
       "model_id": "9893191ee63846a4bdae47892a170526",
       "version_major": 2,
       "version_minor": 0
      },
      "text/plain": [
       "  0%|          | 0/243 [00:00<?, ?it/s]"
      ]
     },
     "metadata": {},
     "output_type": "display_data"
    },
    {
     "data": {
      "application/vnd.jupyter.widget-view+json": {
       "model_id": "f261f91cf868433e8f335b21f6b92883",
       "version_major": 2,
       "version_minor": 0
      },
      "text/plain": [
       "  0%|          | 0/51 [00:00<?, ?it/s]"
      ]
     },
     "metadata": {},
     "output_type": "display_data"
    },
    {
     "name": "stdout",
     "output_type": "stream",
     "text": [
      "Epoch:14 |Train Loss:0.7347234661687058|Valid Loss:0.803887311150046\n",
      "\u001b[35mTime taken by epoch 14 is 70.42s\u001b[0m\n",
      "Epoch Started:15\n"
     ]
    },
    {
     "data": {
      "application/vnd.jupyter.widget-view+json": {
       "model_id": "c4d9437476de4d719e4e92001fb825f2",
       "version_major": 2,
       "version_minor": 0
      },
      "text/plain": [
       "  0%|          | 0/243 [00:00<?, ?it/s]"
      ]
     },
     "metadata": {},
     "output_type": "display_data"
    },
    {
     "data": {
      "application/vnd.jupyter.widget-view+json": {
       "model_id": "4229b11672ba47d4be762356afc4f2e7",
       "version_major": 2,
       "version_minor": 0
      },
      "text/plain": [
       "  0%|          | 0/51 [00:00<?, ?it/s]"
      ]
     },
     "metadata": {},
     "output_type": "display_data"
    },
    {
     "name": "stdout",
     "output_type": "stream",
     "text": [
      "Epoch:15 |Train Loss:0.7312764856550429|Valid Loss:0.8038156500049666\n",
      "\u001b[35mTime taken by epoch 15 is 69.84s\u001b[0m\n",
      "Epoch Started:16\n"
     ]
    },
    {
     "data": {
      "application/vnd.jupyter.widget-view+json": {
       "model_id": "56fb27b103d142108eab57dd9c8305e8",
       "version_major": 2,
       "version_minor": 0
      },
      "text/plain": [
       "  0%|          | 0/243 [00:00<?, ?it/s]"
      ]
     },
     "metadata": {},
     "output_type": "display_data"
    },
    {
     "data": {
      "application/vnd.jupyter.widget-view+json": {
       "model_id": "ef85152e97414db5b2274a9067902504",
       "version_major": 2,
       "version_minor": 0
      },
      "text/plain": [
       "  0%|          | 0/51 [00:00<?, ?it/s]"
      ]
     },
     "metadata": {},
     "output_type": "display_data"
    },
    {
     "name": "stdout",
     "output_type": "stream",
     "text": [
      "Epoch:16 |Train Loss:0.7269602984557917|Valid Loss:0.8040809911840102\n",
      "\u001b[35mTime taken by epoch 16 is 69.63s\u001b[0m\n",
      "Epoch Started:17\n"
     ]
    },
    {
     "data": {
      "application/vnd.jupyter.widget-view+json": {
       "model_id": "50ada0e270b340828288fb1ad15dff3a",
       "version_major": 2,
       "version_minor": 0
      },
      "text/plain": [
       "  0%|          | 0/243 [00:00<?, ?it/s]"
      ]
     },
     "metadata": {},
     "output_type": "display_data"
    },
    {
     "data": {
      "application/vnd.jupyter.widget-view+json": {
       "model_id": "2d4d18000b1940b7a2fbec4f92772731",
       "version_major": 2,
       "version_minor": 0
      },
      "text/plain": [
       "  0%|          | 0/51 [00:00<?, ?it/s]"
      ]
     },
     "metadata": {},
     "output_type": "display_data"
    },
    {
     "name": "stdout",
     "output_type": "stream",
     "text": [
      "Epoch:17 |Train Loss:0.7239915000067817|Valid Loss:0.8071425089649126\n",
      "\u001b[35mTime taken by epoch 17 is 69.00s\u001b[0m\n",
      "Epoch Started:18\n"
     ]
    },
    {
     "data": {
      "application/vnd.jupyter.widget-view+json": {
       "model_id": "d6f4744c91a041709de0f0d9b977e1fb",
       "version_major": 2,
       "version_minor": 0
      },
      "text/plain": [
       "  0%|          | 0/243 [00:00<?, ?it/s]"
      ]
     },
     "metadata": {},
     "output_type": "display_data"
    },
    {
     "data": {
      "application/vnd.jupyter.widget-view+json": {
       "model_id": "609d17d47d224347b0d91e36f72895d6",
       "version_major": 2,
       "version_minor": 0
      },
      "text/plain": [
       "  0%|          | 0/51 [00:00<?, ?it/s]"
      ]
     },
     "metadata": {},
     "output_type": "display_data"
    },
    {
     "name": "stdout",
     "output_type": "stream",
     "text": [
      "Epoch:18 |Train Loss:0.7200265580734598|Valid Loss:0.8088294174156937\n",
      "\u001b[32mEARLY STOPPING\n",
      "Starting for fold: 4\u001b[31m\n",
      "Preparing training data for fold: 4\u001b[35m\n",
      "(2619339, 304)\n",
      "(2508656, 30, 1) (2508656, 1) (2508656, 300)\n",
      "(412467, 30, 1) (412467, 1) (2508656, 300)\n",
      "325\n",
      "cuda is used\n"
     ]
    },
    {
     "data": {
      "application/vnd.jupyter.widget-view+json": {
       "model_id": "d9d87745051548af9a14a084873a533e",
       "version_major": 2,
       "version_minor": 0
      },
      "text/plain": [
       "  0%|          | 0/100 [00:00<?, ?it/s]"
      ]
     },
     "metadata": {},
     "output_type": "display_data"
    },
    {
     "name": "stdout",
     "output_type": "stream",
     "text": [
      "Epoch Started:0\n"
     ]
    },
    {
     "data": {
      "application/vnd.jupyter.widget-view+json": {
       "model_id": "74d538a44f11486894fe12cbdae72bf7",
       "version_major": 2,
       "version_minor": 0
      },
      "text/plain": [
       "  0%|          | 0/307 [00:00<?, ?it/s]"
      ]
     },
     "metadata": {},
     "output_type": "display_data"
    },
    {
     "data": {
      "application/vnd.jupyter.widget-view+json": {
       "model_id": "6056234d8f1943acbe3d56a697db68b0",
       "version_major": 2,
       "version_minor": 0
      },
      "text/plain": [
       "  0%|          | 0/51 [00:00<?, ?it/s]"
      ]
     },
     "metadata": {},
     "output_type": "display_data"
    },
    {
     "name": "stdout",
     "output_type": "stream",
     "text": [
      "Epoch:0 |Train Loss:0.8492697009434529|Valid Loss:0.8426796303075903\n",
      "\u001b[32mLoss Decreased from 9999999 to 0.8426796303075903\u001b[0m\n",
      "\u001b[35mTime taken by epoch 0 is 86.91s\u001b[0m\n",
      "Epoch Started:1\n"
     ]
    },
    {
     "data": {
      "application/vnd.jupyter.widget-view+json": {
       "model_id": "07b32d3879ea41578e4771292506983d",
       "version_major": 2,
       "version_minor": 0
      },
      "text/plain": [
       "  0%|          | 0/307 [00:00<?, ?it/s]"
      ]
     },
     "metadata": {},
     "output_type": "display_data"
    },
    {
     "data": {
      "application/vnd.jupyter.widget-view+json": {
       "model_id": "1e7508def6f94786ab321d3c7d1b6527",
       "version_major": 2,
       "version_minor": 0
      },
      "text/plain": [
       "  0%|          | 0/51 [00:00<?, ?it/s]"
      ]
     },
     "metadata": {},
     "output_type": "display_data"
    },
    {
     "name": "stdout",
     "output_type": "stream",
     "text": [
      "Epoch:1 |Train Loss:0.8073976127254846|Valid Loss:0.8318979588209414\n",
      "\u001b[32mLoss Decreased from 0.8426796303075903 to 0.8318979588209414\u001b[0m\n",
      "\u001b[35mTime taken by epoch 1 is 91.34s\u001b[0m\n",
      "Epoch Started:2\n"
     ]
    },
    {
     "data": {
      "application/vnd.jupyter.widget-view+json": {
       "model_id": "7f9d296b92e54553b64cf3a6903fbdd4",
       "version_major": 2,
       "version_minor": 0
      },
      "text/plain": [
       "  0%|          | 0/307 [00:00<?, ?it/s]"
      ]
     },
     "metadata": {},
     "output_type": "display_data"
    },
    {
     "data": {
      "application/vnd.jupyter.widget-view+json": {
       "model_id": "1eb822ec0912442aa8ef9a146b2164d5",
       "version_major": 2,
       "version_minor": 0
      },
      "text/plain": [
       "  0%|          | 0/51 [00:00<?, ?it/s]"
      ]
     },
     "metadata": {},
     "output_type": "display_data"
    },
    {
     "name": "stdout",
     "output_type": "stream",
     "text": [
      "Epoch:2 |Train Loss:0.7969667307717015|Valid Loss:0.825416366259257\n",
      "\u001b[32mLoss Decreased from 0.8318979588209414 to 0.825416366259257\u001b[0m\n",
      "\u001b[35mTime taken by epoch 2 is 90.52s\u001b[0m\n",
      "Epoch Started:3\n"
     ]
    },
    {
     "data": {
      "application/vnd.jupyter.widget-view+json": {
       "model_id": "fd80502e1df2403a808320e0fd025e81",
       "version_major": 2,
       "version_minor": 0
      },
      "text/plain": [
       "  0%|          | 0/307 [00:00<?, ?it/s]"
      ]
     },
     "metadata": {},
     "output_type": "display_data"
    },
    {
     "data": {
      "application/vnd.jupyter.widget-view+json": {
       "model_id": "25ff2448a03f4fd9b219fde83aca1935",
       "version_major": 2,
       "version_minor": 0
      },
      "text/plain": [
       "  0%|          | 0/51 [00:00<?, ?it/s]"
      ]
     },
     "metadata": {},
     "output_type": "display_data"
    },
    {
     "name": "stdout",
     "output_type": "stream",
     "text": [
      "Epoch:3 |Train Loss:0.7896717876098832|Valid Loss:0.8211781242314506\n",
      "\u001b[32mLoss Decreased from 0.825416366259257 to 0.8211781242314506\u001b[0m\n",
      "\u001b[35mTime taken by epoch 3 is 89.20s\u001b[0m\n",
      "Epoch Started:4\n"
     ]
    },
    {
     "data": {
      "application/vnd.jupyter.widget-view+json": {
       "model_id": "26b96f9d04f744f09cf1706485a3f3e7",
       "version_major": 2,
       "version_minor": 0
      },
      "text/plain": [
       "  0%|          | 0/307 [00:00<?, ?it/s]"
      ]
     },
     "metadata": {},
     "output_type": "display_data"
    },
    {
     "data": {
      "application/vnd.jupyter.widget-view+json": {
       "model_id": "8139153254774eb3ba7fbeccbbf37094",
       "version_major": 2,
       "version_minor": 0
      },
      "text/plain": [
       "  0%|          | 0/51 [00:00<?, ?it/s]"
      ]
     },
     "metadata": {},
     "output_type": "display_data"
    },
    {
     "name": "stdout",
     "output_type": "stream",
     "text": [
      "Epoch:4 |Train Loss:0.7833353605254854|Valid Loss:0.8173109515040529\n",
      "\u001b[32mLoss Decreased from 0.8211781242314506 to 0.8173109515040529\u001b[0m\n",
      "\u001b[35mTime taken by epoch 4 is 90.56s\u001b[0m\n",
      "Epoch Started:5\n"
     ]
    },
    {
     "data": {
      "application/vnd.jupyter.widget-view+json": {
       "model_id": "fc602f9feb46419e9892cfee66945718",
       "version_major": 2,
       "version_minor": 0
      },
      "text/plain": [
       "  0%|          | 0/307 [00:00<?, ?it/s]"
      ]
     },
     "metadata": {},
     "output_type": "display_data"
    },
    {
     "data": {
      "application/vnd.jupyter.widget-view+json": {
       "model_id": "726b8ad39b6047e2a654161945dcda1f",
       "version_major": 2,
       "version_minor": 0
      },
      "text/plain": [
       "  0%|          | 0/51 [00:00<?, ?it/s]"
      ]
     },
     "metadata": {},
     "output_type": "display_data"
    },
    {
     "name": "stdout",
     "output_type": "stream",
     "text": [
      "Epoch:5 |Train Loss:0.777551324049114|Valid Loss:0.8167139291763306\n",
      "\u001b[32mLoss Decreased from 0.8173109515040529 to 0.8167139291763306\u001b[0m\n",
      "\u001b[35mTime taken by epoch 5 is 89.80s\u001b[0m\n",
      "Epoch Started:6\n"
     ]
    },
    {
     "data": {
      "application/vnd.jupyter.widget-view+json": {
       "model_id": "0dfd6d971b7d4d32b9f567e6a7c8ad2a",
       "version_major": 2,
       "version_minor": 0
      },
      "text/plain": [
       "  0%|          | 0/307 [00:00<?, ?it/s]"
      ]
     },
     "metadata": {},
     "output_type": "display_data"
    },
    {
     "data": {
      "application/vnd.jupyter.widget-view+json": {
       "model_id": "e8f9893739184818835763eda643cc85",
       "version_major": 2,
       "version_minor": 0
      },
      "text/plain": [
       "  0%|          | 0/51 [00:00<?, ?it/s]"
      ]
     },
     "metadata": {},
     "output_type": "display_data"
    },
    {
     "name": "stdout",
     "output_type": "stream",
     "text": [
      "Epoch:6 |Train Loss:0.7728420826045233|Valid Loss:0.8137956577188828\n",
      "\u001b[32mLoss Decreased from 0.8167139291763306 to 0.8137956577188828\u001b[0m\n",
      "\u001b[35mTime taken by epoch 6 is 90.24s\u001b[0m\n",
      "Epoch Started:7\n"
     ]
    },
    {
     "data": {
      "application/vnd.jupyter.widget-view+json": {
       "model_id": "c130652c551e45daa563eb064c7843fd",
       "version_major": 2,
       "version_minor": 0
      },
      "text/plain": [
       "  0%|          | 0/307 [00:00<?, ?it/s]"
      ]
     },
     "metadata": {},
     "output_type": "display_data"
    },
    {
     "data": {
      "application/vnd.jupyter.widget-view+json": {
       "model_id": "7c0db32cfee54182bb54fb5904420b2c",
       "version_major": 2,
       "version_minor": 0
      },
      "text/plain": [
       "  0%|          | 0/51 [00:00<?, ?it/s]"
      ]
     },
     "metadata": {},
     "output_type": "display_data"
    },
    {
     "name": "stdout",
     "output_type": "stream",
     "text": [
      "Epoch:7 |Train Loss:0.7678818192078158|Valid Loss:0.8151256138203191\n",
      "\u001b[35mTime taken by epoch 7 is 90.48s\u001b[0m\n",
      "Epoch Started:8\n"
     ]
    },
    {
     "data": {
      "application/vnd.jupyter.widget-view+json": {
       "model_id": "3a02ab20fccd45e186384633dd666f93",
       "version_major": 2,
       "version_minor": 0
      },
      "text/plain": [
       "  0%|          | 0/307 [00:00<?, ?it/s]"
      ]
     },
     "metadata": {},
     "output_type": "display_data"
    },
    {
     "data": {
      "application/vnd.jupyter.widget-view+json": {
       "model_id": "6a651c6a5eb7456e9829a27ba3cb8d6b",
       "version_major": 2,
       "version_minor": 0
      },
      "text/plain": [
       "  0%|          | 0/51 [00:00<?, ?it/s]"
      ]
     },
     "metadata": {},
     "output_type": "display_data"
    },
    {
     "name": "stdout",
     "output_type": "stream",
     "text": [
      "Epoch:8 |Train Loss:0.7625586873933624|Valid Loss:0.8151581743184257\n",
      "\u001b[35mTime taken by epoch 8 is 90.90s\u001b[0m\n",
      "Epoch Started:9\n"
     ]
    },
    {
     "data": {
      "application/vnd.jupyter.widget-view+json": {
       "model_id": "8936200a5d834500a9b237d9226fec08",
       "version_major": 2,
       "version_minor": 0
      },
      "text/plain": [
       "  0%|          | 0/307 [00:00<?, ?it/s]"
      ]
     },
     "metadata": {},
     "output_type": "display_data"
    },
    {
     "data": {
      "application/vnd.jupyter.widget-view+json": {
       "model_id": "98e698761fd54cc6beffc6eb914e2856",
       "version_major": 2,
       "version_minor": 0
      },
      "text/plain": [
       "  0%|          | 0/51 [00:00<?, ?it/s]"
      ]
     },
     "metadata": {},
     "output_type": "display_data"
    },
    {
     "name": "stdout",
     "output_type": "stream",
     "text": [
      "Epoch:9 |Train Loss:0.7587972652252023|Valid Loss:0.8111496497603023\n",
      "\u001b[32mLoss Decreased from 0.8137956577188828 to 0.8111496497603023\u001b[0m\n",
      "\u001b[35mTime taken by epoch 9 is 90.77s\u001b[0m\n",
      "Epoch Started:10\n"
     ]
    },
    {
     "data": {
      "application/vnd.jupyter.widget-view+json": {
       "model_id": "4d14bb8c396345b7a5da7d75e8bdb9df",
       "version_major": 2,
       "version_minor": 0
      },
      "text/plain": [
       "  0%|          | 0/307 [00:00<?, ?it/s]"
      ]
     },
     "metadata": {},
     "output_type": "display_data"
    },
    {
     "data": {
      "application/vnd.jupyter.widget-view+json": {
       "model_id": "8dbf06c940014d2e89bfd357968adfe7",
       "version_major": 2,
       "version_minor": 0
      },
      "text/plain": [
       "  0%|          | 0/51 [00:00<?, ?it/s]"
      ]
     },
     "metadata": {},
     "output_type": "display_data"
    },
    {
     "name": "stdout",
     "output_type": "stream",
     "text": [
      "Epoch:10 |Train Loss:0.754609868852634|Valid Loss:0.8151025351356057\n",
      "\u001b[35mTime taken by epoch 10 is 93.71s\u001b[0m\n",
      "Epoch Started:11\n"
     ]
    },
    {
     "data": {
      "application/vnd.jupyter.widget-view+json": {
       "model_id": "d7174d6c8ce84fc5b44f31aef8b48272",
       "version_major": 2,
       "version_minor": 0
      },
      "text/plain": [
       "  0%|          | 0/307 [00:00<?, ?it/s]"
      ]
     },
     "metadata": {},
     "output_type": "display_data"
    },
    {
     "data": {
      "application/vnd.jupyter.widget-view+json": {
       "model_id": "f133b18c244343b196e34a6acc0736ae",
       "version_major": 2,
       "version_minor": 0
      },
      "text/plain": [
       "  0%|          | 0/51 [00:00<?, ?it/s]"
      ]
     },
     "metadata": {},
     "output_type": "display_data"
    },
    {
     "name": "stdout",
     "output_type": "stream",
     "text": [
      "Epoch:11 |Train Loss:0.7507583159188883|Valid Loss:0.8121326974793976\n",
      "\u001b[35mTime taken by epoch 11 is 90.50s\u001b[0m\n",
      "Epoch Started:12\n"
     ]
    },
    {
     "data": {
      "application/vnd.jupyter.widget-view+json": {
       "model_id": "6ada008e319c4ed8b67501c3bfd106b6",
       "version_major": 2,
       "version_minor": 0
      },
      "text/plain": [
       "  0%|          | 0/307 [00:00<?, ?it/s]"
      ]
     },
     "metadata": {},
     "output_type": "display_data"
    },
    {
     "data": {
      "application/vnd.jupyter.widget-view+json": {
       "model_id": "9b22e43fb0ce4ada8abc932a0cd21b83",
       "version_major": 2,
       "version_minor": 0
      },
      "text/plain": [
       "  0%|          | 0/51 [00:00<?, ?it/s]"
      ]
     },
     "metadata": {},
     "output_type": "display_data"
    },
    {
     "name": "stdout",
     "output_type": "stream",
     "text": [
      "Epoch:12 |Train Loss:0.746772258405965|Valid Loss:0.8130658432549122\n",
      "\u001b[35mTime taken by epoch 12 is 90.43s\u001b[0m\n",
      "Epoch Started:13\n"
     ]
    },
    {
     "data": {
      "application/vnd.jupyter.widget-view+json": {
       "model_id": "bd6ba992898d40c1b2840c86727fd598",
       "version_major": 2,
       "version_minor": 0
      },
      "text/plain": [
       "  0%|          | 0/307 [00:00<?, ?it/s]"
      ]
     },
     "metadata": {},
     "output_type": "display_data"
    },
    {
     "data": {
      "application/vnd.jupyter.widget-view+json": {
       "model_id": "a3d221192c724a82af8fa443c38c7360",
       "version_major": 2,
       "version_minor": 0
      },
      "text/plain": [
       "  0%|          | 0/51 [00:00<?, ?it/s]"
      ]
     },
     "metadata": {},
     "output_type": "display_data"
    },
    {
     "name": "stdout",
     "output_type": "stream",
     "text": [
      "Epoch:13 |Train Loss:0.7423886054890163|Valid Loss:0.8117478057449939\n",
      "\u001b[35mTime taken by epoch 13 is 103.78s\u001b[0m\n",
      "Epoch Started:14\n"
     ]
    },
    {
     "data": {
      "application/vnd.jupyter.widget-view+json": {
       "model_id": "4f3846c50683428fa487974992f75bc5",
       "version_major": 2,
       "version_minor": 0
      },
      "text/plain": [
       "  0%|          | 0/307 [00:00<?, ?it/s]"
      ]
     },
     "metadata": {},
     "output_type": "display_data"
    },
    {
     "data": {
      "application/vnd.jupyter.widget-view+json": {
       "model_id": "10657fb869294c64ac3d243acdce91d1",
       "version_major": 2,
       "version_minor": 0
      },
      "text/plain": [
       "  0%|          | 0/51 [00:00<?, ?it/s]"
      ]
     },
     "metadata": {},
     "output_type": "display_data"
    },
    {
     "name": "stdout",
     "output_type": "stream",
     "text": [
      "Epoch:14 |Train Loss:0.738927132531952|Valid Loss:0.816197904885984\n",
      "\u001b[35mTime taken by epoch 14 is 98.69s\u001b[0m\n",
      "Epoch Started:15\n"
     ]
    },
    {
     "data": {
      "application/vnd.jupyter.widget-view+json": {
       "model_id": "d7e76cba68ff4df5952c9a29ddbfdcbe",
       "version_major": 2,
       "version_minor": 0
      },
      "text/plain": [
       "  0%|          | 0/307 [00:00<?, ?it/s]"
      ]
     },
     "metadata": {},
     "output_type": "display_data"
    },
    {
     "data": {
      "application/vnd.jupyter.widget-view+json": {
       "model_id": "4713a86de79a4bbc9a336f592a14a6eb",
       "version_major": 2,
       "version_minor": 0
      },
      "text/plain": [
       "  0%|          | 0/51 [00:00<?, ?it/s]"
      ]
     },
     "metadata": {},
     "output_type": "display_data"
    },
    {
     "name": "stdout",
     "output_type": "stream",
     "text": [
      "Epoch:15 |Train Loss:0.7349561118924268|Valid Loss:0.8117697285670861\n",
      "\u001b[35mTime taken by epoch 15 is 92.91s\u001b[0m\n",
      "Epoch Started:16\n"
     ]
    },
    {
     "data": {
      "application/vnd.jupyter.widget-view+json": {
       "model_id": "8fcb02af39f14d3682d6a37721ef1b58",
       "version_major": 2,
       "version_minor": 0
      },
      "text/plain": [
       "  0%|          | 0/307 [00:00<?, ?it/s]"
      ]
     },
     "metadata": {},
     "output_type": "display_data"
    },
    {
     "data": {
      "application/vnd.jupyter.widget-view+json": {
       "model_id": "f6fd8187b5d34af7b920b36a649c2fc2",
       "version_major": 2,
       "version_minor": 0
      },
      "text/plain": [
       "  0%|          | 0/51 [00:00<?, ?it/s]"
      ]
     },
     "metadata": {},
     "output_type": "display_data"
    },
    {
     "name": "stdout",
     "output_type": "stream",
     "text": [
      "Epoch:16 |Train Loss:0.7327545929809347|Valid Loss:0.8140052346622243\n",
      "\u001b[35mTime taken by epoch 16 is 92.61s\u001b[0m\n",
      "Epoch Started:17\n"
     ]
    },
    {
     "data": {
      "application/vnd.jupyter.widget-view+json": {
       "model_id": "9f44c6a81a7d4451ad3122884f9ae48c",
       "version_major": 2,
       "version_minor": 0
      },
      "text/plain": [
       "  0%|          | 0/307 [00:00<?, ?it/s]"
      ]
     },
     "metadata": {},
     "output_type": "display_data"
    },
    {
     "data": {
      "application/vnd.jupyter.widget-view+json": {
       "model_id": "141bfd0d3eb746569d8faf3483e8c142",
       "version_major": 2,
       "version_minor": 0
      },
      "text/plain": [
       "  0%|          | 0/51 [00:00<?, ?it/s]"
      ]
     },
     "metadata": {},
     "output_type": "display_data"
    },
    {
     "name": "stdout",
     "output_type": "stream",
     "text": [
      "Epoch:17 |Train Loss:0.7288276172616195|Valid Loss:0.8123315958415761\n",
      "\u001b[35mTime taken by epoch 17 is 91.08s\u001b[0m\n",
      "Epoch Started:18\n"
     ]
    },
    {
     "data": {
      "application/vnd.jupyter.widget-view+json": {
       "model_id": "d58eb4eb29df4e61b40319424d9117fb",
       "version_major": 2,
       "version_minor": 0
      },
      "text/plain": [
       "  0%|          | 0/307 [00:00<?, ?it/s]"
      ]
     },
     "metadata": {},
     "output_type": "display_data"
    },
    {
     "data": {
      "application/vnd.jupyter.widget-view+json": {
       "model_id": "34ab526c1e994eafb1f39e71ad220d36",
       "version_major": 2,
       "version_minor": 0
      },
      "text/plain": [
       "  0%|          | 0/51 [00:00<?, ?it/s]"
      ]
     },
     "metadata": {},
     "output_type": "display_data"
    },
    {
     "name": "stdout",
     "output_type": "stream",
     "text": [
      "Epoch:18 |Train Loss:0.7256950592373403|Valid Loss:0.8144766851967457\n",
      "\u001b[35mTime taken by epoch 18 is 90.80s\u001b[0m\n",
      "Epoch Started:19\n"
     ]
    },
    {
     "data": {
      "application/vnd.jupyter.widget-view+json": {
       "model_id": "47a8a2abeed04d1b981e17890100c0c1",
       "version_major": 2,
       "version_minor": 0
      },
      "text/plain": [
       "  0%|          | 0/307 [00:00<?, ?it/s]"
      ]
     },
     "metadata": {},
     "output_type": "display_data"
    },
    {
     "data": {
      "application/vnd.jupyter.widget-view+json": {
       "model_id": "990405892b774f069118e2d3ebf2beab",
       "version_major": 2,
       "version_minor": 0
      },
      "text/plain": [
       "  0%|          | 0/51 [00:00<?, ?it/s]"
      ]
     },
     "metadata": {},
     "output_type": "display_data"
    },
    {
     "name": "stdout",
     "output_type": "stream",
     "text": [
      "Epoch:19 |Train Loss:0.7224179228664609|Valid Loss:0.8155123556361479\n",
      "\u001b[32mEARLY STOPPING\n"
     ]
    }
   ],
   "source": [
    "# for fold in folds.keys():\n",
    "for fold in [0,1,2,3,4]:\n",
    "    print(f'Starting for fold: {fold}{r_}')\n",
    "    print(f'Preparing training data for fold: {fold}{m_}')\n",
    "    train_indxs = folds[fold]['train']\n",
    "    test_indxs = folds[fold]['test']\n",
    "    test_f_df = train_df[train_df.index.isin(test_indxs)].reset_index(drop=True)\n",
    "    train_f_df = train_df[train_df.index.isin(train_indxs)].reset_index(drop=True)\n",
    "    \n",
    "    print(train_f_df.shape)\n",
    "    count_df = train_f_df.groupby('investment_id',as_index=False).agg(c = ('time_id', len))\n",
    "    to_exclude_ids = count_df[count_df.c<input_chunk_length+1].investment_id.unique().tolist()\n",
    "    \n",
    "    X_train, Y_train, FCV_train = make_sequences(train_f_df,to_exclude_ids)\n",
    "    Y_train = Y_train.reshape(-1,1)\n",
    "    print(X_train.shape,Y_train.shape,FCV_train.shape)\n",
    "    \n",
    "    X_val, Y_val, FCV_val = make_sequences(test_f_df,to_exclude_ids)\n",
    "    Y_val = Y_val.reshape(-1,1)\n",
    "    print(X_val.shape,Y_val.shape,FCV_train.shape)\n",
    "    \n",
    "    model = LstmTsModel(num_classes, input_size, hidden_size, num_layers,seq_length)\n",
    "    train_dl = DataLoader(TSDataset(X_train, Y_train, FCV_train), batch_size=config['batch_size'], shuffle=config['train_shuffle'], num_workers=0)\n",
    "    val_dl = DataLoader(TSDataset(X_val, Y_val, FCV_val), batch_size=config['batch_size'], shuffle=config['train_shuffle'], num_workers=0)\n",
    "    \n",
    "    best_loss, model = run(model,train_dl,val_dl,fold)\n",
    "    \n",
    "    gc.collect()\n",
    "    "
   ]
  },
  {
   "cell_type": "code",
   "execution_count": null,
   "id": "b081e214",
   "metadata": {},
   "outputs": [],
   "source": []
  }
 ],
 "metadata": {
  "kernelspec": {
   "display_name": "Python 3",
   "language": "python",
   "name": "python3"
  },
  "language_info": {
   "codemirror_mode": {
    "name": "ipython",
    "version": 3
   },
   "file_extension": ".py",
   "mimetype": "text/x-python",
   "name": "python",
   "nbconvert_exporter": "python",
   "pygments_lexer": "ipython3",
   "version": "3.8.5"
  },
  "toc": {
   "base_numbering": 1,
   "nav_menu": {},
   "number_sections": false,
   "sideBar": true,
   "skip_h1_title": false,
   "title_cell": "Table of Contents",
   "title_sidebar": "Contents",
   "toc_cell": false,
   "toc_position": {},
   "toc_section_display": true,
   "toc_window_display": false
  }
 },
 "nbformat": 4,
 "nbformat_minor": 5
}
