{
 "cells": [
  {
   "cell_type": "code",
   "execution_count": 1,
   "id": "2871f7d2",
   "metadata": {
    "ExecuteTime": {
     "end_time": "2022-02-03T01:18:46.869371Z",
     "start_time": "2022-02-03T01:18:46.365811Z"
    }
   },
   "outputs": [],
   "source": [
    "import numpy as np\n",
    "import pandas as pd\n",
    "import pickle\n",
    "from datetime import datetime\n",
    "from matplotlib import pyplot as plt\n",
    "from sklearn.preprocessing import LabelEncoder\n",
    "from sklearn.model_selection import GroupKFold\n",
    "import dateutil.easter as easter"
   ]
  },
  {
   "cell_type": "code",
   "execution_count": 2,
   "id": "20376c34",
   "metadata": {
    "ExecuteTime": {
     "end_time": "2022-02-03T01:18:47.898747Z",
     "start_time": "2022-02-03T01:18:46.871633Z"
    }
   },
   "outputs": [],
   "source": [
    "import torch\n",
    "import torch.nn as nn\n",
    "from torch.autograd import Variable"
   ]
  },
  {
   "cell_type": "code",
   "execution_count": 3,
   "id": "4ab55994",
   "metadata": {
    "ExecuteTime": {
     "end_time": "2022-02-03T01:18:47.904033Z",
     "start_time": "2022-02-03T01:18:47.900857Z"
    }
   },
   "outputs": [],
   "source": [
    "from torch.utils.data import Dataset, DataLoader"
   ]
  },
  {
   "cell_type": "code",
   "execution_count": 4,
   "id": "1049193c",
   "metadata": {
    "ExecuteTime": {
     "end_time": "2022-02-03T01:18:47.915687Z",
     "start_time": "2022-02-03T01:18:47.905912Z"
    }
   },
   "outputs": [],
   "source": [
    "from accelerate import Accelerator\n",
    "import torch.optim as optim"
   ]
  },
  {
   "cell_type": "code",
   "execution_count": 5,
   "id": "8531998e",
   "metadata": {
    "ExecuteTime": {
     "end_time": "2022-02-03T01:18:47.920706Z",
     "start_time": "2022-02-03T01:18:47.917207Z"
    }
   },
   "outputs": [],
   "source": [
    "from sklearn.model_selection import train_test_split"
   ]
  },
  {
   "cell_type": "code",
   "execution_count": 6,
   "id": "a2c3273f",
   "metadata": {
    "ExecuteTime": {
     "end_time": "2022-02-03T01:18:47.924726Z",
     "start_time": "2022-02-03T01:18:47.922255Z"
    }
   },
   "outputs": [],
   "source": [
    "import time"
   ]
  },
  {
   "cell_type": "code",
   "execution_count": 7,
   "id": "e193ac80",
   "metadata": {
    "ExecuteTime": {
     "end_time": "2022-02-03T01:18:47.929711Z",
     "start_time": "2022-02-03T01:18:47.927274Z"
    }
   },
   "outputs": [],
   "source": [
    "from tqdm.notebook import tqdm"
   ]
  },
  {
   "cell_type": "code",
   "execution_count": 8,
   "id": "c3139064",
   "metadata": {
    "ExecuteTime": {
     "end_time": "2022-02-03T01:18:47.934255Z",
     "start_time": "2022-02-03T01:18:47.931900Z"
    }
   },
   "outputs": [],
   "source": [
    "import gc"
   ]
  },
  {
   "cell_type": "markdown",
   "id": "d6eaf56d",
   "metadata": {},
   "source": [
    "## Global Variables ###"
   ]
  },
  {
   "cell_type": "code",
   "execution_count": 9,
   "id": "21027ebf",
   "metadata": {
    "ExecuteTime": {
     "end_time": "2022-02-03T01:18:47.990365Z",
     "start_time": "2022-02-03T01:18:47.936089Z"
    }
   },
   "outputs": [],
   "source": [
    "device = torch.device(\"cuda:0\" if torch.cuda.is_available() else \"cpu\")"
   ]
  },
  {
   "cell_type": "code",
   "execution_count": 10,
   "id": "6ea9d196",
   "metadata": {
    "ExecuteTime": {
     "end_time": "2022-02-03T01:18:47.998816Z",
     "start_time": "2022-02-03T01:18:47.992275Z"
    }
   },
   "outputs": [
    {
     "data": {
      "text/plain": [
       "device(type='cuda', index=0)"
      ]
     },
     "execution_count": 10,
     "metadata": {},
     "output_type": "execute_result"
    }
   ],
   "source": [
    "device"
   ]
  },
  {
   "cell_type": "code",
   "execution_count": 11,
   "id": "181a735a",
   "metadata": {
    "ExecuteTime": {
     "end_time": "2022-02-03T01:18:48.008341Z",
     "start_time": "2022-02-03T01:18:48.002375Z"
    }
   },
   "outputs": [],
   "source": [
    "from colorama import Fore, Back, Style\n",
    "r_ = Fore.RED\n",
    "b_ = Fore.BLUE\n",
    "c_ = Fore.CYAN\n",
    "g_ = Fore.GREEN\n",
    "y_ = Fore.YELLOW\n",
    "m_ = Fore.MAGENTA\n",
    "sr_ = Style.RESET_ALL"
   ]
  },
  {
   "cell_type": "code",
   "execution_count": 12,
   "id": "9e80a83b",
   "metadata": {
    "ExecuteTime": {
     "end_time": "2022-02-03T01:18:48.014774Z",
     "start_time": "2022-02-03T01:18:48.011515Z"
    }
   },
   "outputs": [],
   "source": [
    "BASE_DIR = '/sharedHDD/rohit/timeseries_learning/ubiquant/'\n",
    "DATA_DIR = BASE_DIR+'data/parquet/'\n",
    "INPUT_DIR = BASE_DIR+'input/'\n",
    "WEIGHTS_DIR = BASE_DIR + 'weights/'"
   ]
  },
  {
   "cell_type": "code",
   "execution_count": 13,
   "id": "ac6ca023",
   "metadata": {
    "ExecuteTime": {
     "end_time": "2022-02-03T01:18:48.020459Z",
     "start_time": "2022-02-03T01:18:48.017060Z"
    }
   },
   "outputs": [],
   "source": [
    "input_chunk_length = 30\n",
    "output_chunk_length = 1\n",
    "# embedding_dim = 56 ## Investment id embedding dim"
   ]
  },
  {
   "cell_type": "code",
   "execution_count": 14,
   "id": "848b6f03",
   "metadata": {
    "ExecuteTime": {
     "end_time": "2022-02-03T01:18:48.028866Z",
     "start_time": "2022-02-03T01:18:48.024220Z"
    }
   },
   "outputs": [],
   "source": [
    "features = [f'f_{i}' for i in range(300)]"
   ]
  },
  {
   "cell_type": "markdown",
   "id": "9a6a2638",
   "metadata": {},
   "source": [
    "## Load data ##"
   ]
  },
  {
   "cell_type": "code",
   "execution_count": 15,
   "id": "c7ca36d9",
   "metadata": {
    "ExecuteTime": {
     "end_time": "2022-02-03T01:18:52.279262Z",
     "start_time": "2022-02-03T01:18:48.031808Z"
    }
   },
   "outputs": [
    {
     "name": "stdout",
     "output_type": "stream",
     "text": [
      "CPU times: user 8.75 s, sys: 13.7 s, total: 22.5 s\n",
      "Wall time: 4.24 s\n"
     ]
    }
   ],
   "source": [
    "%%time\n",
    "train_df = pd.read_parquet(DATA_DIR+'train_low_mem.parquet')"
   ]
  },
  {
   "cell_type": "code",
   "execution_count": 16,
   "id": "8724391b",
   "metadata": {
    "ExecuteTime": {
     "end_time": "2022-02-03T01:18:52.308950Z",
     "start_time": "2022-02-03T01:18:52.284537Z"
    }
   },
   "outputs": [],
   "source": [
    "investment_ids = train_df.investment_id.unique().tolist()"
   ]
  },
  {
   "cell_type": "code",
   "execution_count": 17,
   "id": "4addc72f",
   "metadata": {
    "ExecuteTime": {
     "end_time": "2022-02-03T01:18:52.315391Z",
     "start_time": "2022-02-03T01:18:52.310770Z"
    }
   },
   "outputs": [
    {
     "data": {
      "text/plain": [
       "3773"
      ]
     },
     "execution_count": 17,
     "metadata": {},
     "output_type": "execute_result"
    }
   ],
   "source": [
    "max(investment_ids)"
   ]
  },
  {
   "cell_type": "code",
   "execution_count": 18,
   "id": "352ef909",
   "metadata": {
    "ExecuteTime": {
     "end_time": "2022-02-03T01:18:53.023929Z",
     "start_time": "2022-02-03T01:18:52.317301Z"
    }
   },
   "outputs": [],
   "source": [
    "with open(BASE_DIR+'input/folds.pickle', 'rb') as f:\n",
    "    folds = pickle.load(f)"
   ]
  },
  {
   "cell_type": "markdown",
   "id": "3884c918",
   "metadata": {},
   "source": [
    "#### Utility functions ######"
   ]
  },
  {
   "cell_type": "code",
   "execution_count": 19,
   "id": "ca7b6b55",
   "metadata": {
    "ExecuteTime": {
     "end_time": "2022-02-03T01:18:53.029258Z",
     "start_time": "2022-02-03T01:18:53.026202Z"
    }
   },
   "outputs": [],
   "source": [
    "all_features_columns = ['target'] #+ features"
   ]
  },
  {
   "cell_type": "code",
   "execution_count": 20,
   "id": "fd3d4c5d",
   "metadata": {
    "ExecuteTime": {
     "end_time": "2022-02-03T01:18:53.035418Z",
     "start_time": "2022-02-03T01:18:53.031519Z"
    }
   },
   "outputs": [],
   "source": [
    "def get_feature_array_train(rows):\n",
    "    target_val = rows.target.values\n",
    "    \n",
    "    inp_vec = rows[all_features_columns].values\n",
    "    \n",
    "#     future_covariates = rows[['investment_id']+features].values\n",
    "    \n",
    "    future_covariates = rows[features].values\n",
    "    \n",
    "    return inp_vec,target_val,future_covariates"
   ]
  },
  {
   "cell_type": "code",
   "execution_count": 21,
   "id": "1498fc8d",
   "metadata": {
    "ExecuteTime": {
     "end_time": "2022-02-03T01:18:53.135766Z",
     "start_time": "2022-02-03T01:18:53.037390Z"
    }
   },
   "outputs": [],
   "source": [
    "def sliding_windows(X,Y,FCVs, seq_length,prediction_length):\n",
    "    x = []\n",
    "    y = []\n",
    "    future_covariates = []\n",
    "    for i in range(len(X)-(prediction_length+seq_length)):\n",
    "        _x = X[i:(i+seq_length),:].reshape(seq_length,-1)\n",
    "#         _y = Y[(i+seq_length):(i+prediction_length+seq_length),:]\n",
    "        _y = Y[i+seq_length]\n",
    "        _future_covariate = FCVs[i+seq_length]\n",
    "        x.append(_x)\n",
    "        y.append(_y)\n",
    "        future_covariates.append(_future_covariate)\n",
    "\n",
    "    return x,y,future_covariates"
   ]
  },
  {
   "cell_type": "code",
   "execution_count": 22,
   "id": "46496544",
   "metadata": {
    "ExecuteTime": {
     "end_time": "2022-02-03T01:18:53.145416Z",
     "start_time": "2022-02-03T01:18:53.140360Z"
    }
   },
   "outputs": [],
   "source": [
    "def make_sequences(df,to_exclude_ids):\n",
    "    x = []\n",
    "    y = []\n",
    "    future_covariates = []\n",
    "    investment_ids = df.investment_id.unique()\n",
    "    for iid in investment_ids:\n",
    "        if iid not in to_exclude_ids:\n",
    "            df_tmp = df[df.investment_id == iid].sort_values('time_id')\n",
    "            tmp_X,tmp_Y,tmp_fcvs = get_feature_array_train(df_tmp)\n",
    "            _x,_y,_fcv = sliding_windows(tmp_X,tmp_Y,tmp_fcvs,input_chunk_length,output_chunk_length)\n",
    "            x.extend(_x)\n",
    "            y.extend(_y)\n",
    "            future_covariates.extend(_fcv)\n",
    "            \n",
    "#             gc.collect()\n",
    "        # else:\n",
    "        #     print('Not including iid:', iid)\n",
    "    \n",
    "    return np.float32(np.array(x)),np.float32(np.array(y)),np.float32(np.array(future_covariates))"
   ]
  },
  {
   "cell_type": "code",
   "execution_count": 23,
   "id": "638478fd",
   "metadata": {
    "ExecuteTime": {
     "end_time": "2022-02-03T01:18:53.316517Z",
     "start_time": "2022-02-03T01:18:53.147927Z"
    }
   },
   "outputs": [
    {
     "data": {
      "text/plain": [
       "40"
      ]
     },
     "execution_count": 23,
     "metadata": {},
     "output_type": "execute_result"
    }
   ],
   "source": [
    "gc.collect()"
   ]
  },
  {
   "cell_type": "markdown",
   "id": "d50eb104",
   "metadata": {},
   "source": [
    "## Modeling ##"
   ]
  },
  {
   "cell_type": "code",
   "execution_count": 24,
   "id": "e815508e",
   "metadata": {
    "ExecuteTime": {
     "end_time": "2022-02-03T01:18:53.322830Z",
     "start_time": "2022-02-03T01:18:53.318723Z"
    }
   },
   "outputs": [],
   "source": [
    "config = {\n",
    "    'seq_length' : input_chunk_length,\n",
    "    'num_epochs' : 100,\n",
    "    'lr' : 0.00026,\n",
    "    'input_size' : 1,\n",
    "    'hidden_size' : 3,\n",
    "    'num_layers' : 1,\n",
    "    'num_classes' :1, ## This is  output dimension\n",
    "    'train_shuffle': True,\n",
    "    'val_shuffle': True,\n",
    "    'batch_size' : 4096*2,\n",
    "    'best_model_name' : 'lstm4_hs3',\n",
    "    'bidirectional' : False,\n",
    "    'only_last_hidden': True,\n",
    "    'early_stopping_patience':10,\n",
    "}"
   ]
  },
  {
   "cell_type": "code",
   "execution_count": 25,
   "id": "0dd280c3",
   "metadata": {
    "ExecuteTime": {
     "end_time": "2022-02-03T01:18:53.330179Z",
     "start_time": "2022-02-03T01:18:53.325086Z"
    }
   },
   "outputs": [],
   "source": [
    "class TSDataset(Dataset):\n",
    "    \n",
    "    def __init__(self,x,y,future_covariates):\n",
    "        \"\"\"\n",
    "        Args:\n",
    "        \"\"\"\n",
    "        self.x=x\n",
    "        self.y=y\n",
    "        self.future_covariates = future_covariates\n",
    "\n",
    "    def __len__(self):\n",
    "        return len(self.x)\n",
    "\n",
    "    def __getitem__(self, idx):\n",
    "        \n",
    "        sample = [torch.Tensor(self.x[idx]),torch.Tensor(self.y[idx]),torch.Tensor(self.future_covariates[idx])]\n",
    "        return sample"
   ]
  },
  {
   "cell_type": "markdown",
   "id": "f8d07125",
   "metadata": {},
   "source": [
    "#### Model ####"
   ]
  },
  {
   "cell_type": "code",
   "execution_count": 26,
   "id": "1b5e373f",
   "metadata": {
    "ExecuteTime": {
     "end_time": "2022-02-03T01:18:53.336303Z",
     "start_time": "2022-02-03T01:18:53.332330Z"
    }
   },
   "outputs": [],
   "source": [
    "num_epochs = config['num_epochs']\n",
    "lr = config['lr']\n",
    "input_size = config['input_size']\n",
    "hidden_size = config['hidden_size']\n",
    "num_layers = config['num_layers']\n",
    "num_classes = config['num_classes']\n",
    "seq_length = config['seq_length']\n",
    "bidirectional = config['bidirectional']\n",
    "only_last_hidden = config['only_last_hidden']\n",
    "early_stopping_patience = config['early_stopping_patience']"
   ]
  },
  {
   "cell_type": "markdown",
   "id": "e9f67d68",
   "metadata": {},
   "source": [
    "#### Loss function ######"
   ]
  },
  {
   "cell_type": "code",
   "execution_count": 27,
   "id": "7f9bb16a",
   "metadata": {
    "ExecuteTime": {
     "end_time": "2022-02-03T01:18:53.342675Z",
     "start_time": "2022-02-03T01:18:53.338517Z"
    }
   },
   "outputs": [],
   "source": [
    "def pearson_loss(x, y):\n",
    "    xd = x - x.mean()\n",
    "    yd = y - y.mean()\n",
    "    nom = (xd * yd).sum()\n",
    "    denom = ((xd ** 2).sum() * (yd ** 2).sum()).sqrt()\n",
    "    return 1 - nom / denom"
   ]
  },
  {
   "cell_type": "code",
   "execution_count": 28,
   "id": "d9f8103a",
   "metadata": {
    "ExecuteTime": {
     "end_time": "2022-02-03T01:18:53.352917Z",
     "start_time": "2022-02-03T01:18:53.344715Z"
    }
   },
   "outputs": [],
   "source": [
    "class LstmTsModel(nn.Module):\n",
    "\n",
    "    def __init__(self, num_classes, input_size, hidden_size, num_layers,seq_length):\n",
    "        super(LstmTsModel, self).__init__()\n",
    "        \n",
    "        self.num_classes = num_classes\n",
    "        self.num_layers = num_layers\n",
    "        self.input_size = input_size\n",
    "        self.hidden_size = hidden_size\n",
    "        self.seq_length = seq_length\n",
    "        \n",
    "        cat_input_dim: int = 3774\n",
    "        \n",
    "#         self.embedding = nn.Embedding(cat_input_dim, embedding_dim)\n",
    "        \n",
    "        self.lstm = nn.LSTM(input_size=input_size, hidden_size=hidden_size,\n",
    "                            num_layers=num_layers, batch_first=True,bidirectional=bidirectional)\n",
    "        \n",
    "        if bidirectional:\n",
    "            m=2\n",
    "        else:\n",
    "            m=1\n",
    "        \n",
    "        if only_last_hidden:\n",
    "            input_fc_dim = (hidden_size*m)+(len(features))\n",
    "        else:\n",
    "            input_fc_dim = (self.seq_length*hidden_size*m)+(len(features))\n",
    "        \n",
    "        print(input_fc_dim)\n",
    "        \n",
    "        self.fc = nn.Sequential(nn.Linear(input_fc_dim, 508),\n",
    "#                                 nn.BatchNorm1d(num_features=508),\n",
    "                                nn.ReLU(),\n",
    "                                nn.Dropout(0.42),\n",
    "                                \n",
    "                                nn.Linear(508, 405),\n",
    "#                                 nn.BatchNorm1d(num_features=405),\n",
    "                                nn.Dropout(0.42),\n",
    "                                nn.ReLU(),\n",
    "                                \n",
    "#                                 nn.Linear(input_fc_dim//16, input_fc_dim//32),\n",
    "#                                 nn.BatchNorm1d(num_features=input_fc_dim//32),\n",
    "#                                 # nn.Dropout(0.2),\n",
    "#                                 nn.ReLU(),\n",
    "                                \n",
    "                                \n",
    "                                nn.Linear(405, self.num_classes)\n",
    "                                )\n",
    "    \n",
    "    def forward(self, x, fcv):\n",
    "                                # Propagate input through LSTM\n",
    "        h_out, (h_n, _) = self.lstm(x)\n",
    "        if only_last_hidden:\n",
    "            h_out = h_out[:,-1:,:]\n",
    "        \n",
    "        h_out = h_out.flatten(start_dim=1)\n",
    "        \n",
    "        \n",
    "#         investment_ids = fcv[:,0].type(torch.LongTensor).to(device)\n",
    "#         embeddings = self.embedding(investment_ids)\n",
    "        \n",
    "        h_out = torch.cat([fcv,h_out], dim=1)\n",
    "        \n",
    "        out = self.fc(h_out)\n",
    "        \n",
    "        return out"
   ]
  },
  {
   "cell_type": "code",
   "execution_count": 29,
   "id": "42377443",
   "metadata": {
    "ExecuteTime": {
     "end_time": "2022-02-03T01:18:53.367670Z",
     "start_time": "2022-02-03T01:18:53.355361Z"
    }
   },
   "outputs": [],
   "source": [
    "def run(model,train_dl,val_dl,fold):\n",
    "    def evaluate(model,valid_loader):\n",
    "        model.eval()\n",
    "        valid_loss = 0\n",
    "        rec_loss = 0\n",
    "        with torch.no_grad():\n",
    "            for i, inputs in enumerate(tqdm(valid_loader)):\n",
    "                dataX = inputs[0]\n",
    "                dataY = inputs[1]\n",
    "                dataFCV = inputs[2]\n",
    "                outputs = model(dataX,dataFCV)\n",
    "                loss = criterion(outputs, dataY)\n",
    "                valid_loss += loss.item()\n",
    "\n",
    "        valid_loss /= len(valid_loader)\n",
    "        return valid_loss\n",
    "    \n",
    "    def train_and_evaluate_loop(train_loader,model,optimizer,criterion,epoch,lr_scheduler=None,valid_loader=None, best_loss=99999):\n",
    "        train_loss = 0\n",
    "        improvement = False\n",
    "        for i, inputs in enumerate(tqdm(train_loader)):\n",
    "            optimizer.zero_grad()\n",
    "            model.train()\n",
    "            \n",
    "            dataX = inputs[0]\n",
    "            dataY = inputs[1]\n",
    "            dataFCV = inputs[2]\n",
    "            outputs = model(dataX,dataFCV)\n",
    "            loss = criterion(outputs, dataY)\n",
    "            \n",
    "            loss.backward()\n",
    "            optimizer.step()\n",
    "            \n",
    "            train_loss += loss.item()\n",
    "            \n",
    "            if lr_scheduler:\n",
    "                lr_scheduler.step()\n",
    "        \n",
    "        train_loss /= len(train_loader)\n",
    "        if valid_loader:\n",
    "            valid_loss = evaluate(model,valid_loader) \n",
    "            print(f\"Epoch:{epoch} |Train Loss:{train_loss}|Valid Loss:{valid_loss}\")\n",
    "            if valid_loss <= best_loss:\n",
    "                print(f\"{g_}Loss Decreased from {best_loss} to {valid_loss}{sr_}\")\n",
    "\n",
    "                best_loss = valid_loss\n",
    "                torch.save(model.state_dict(), WEIGHTS_DIR+str(fold)+'_'+config['best_model_name'])\n",
    "                improvement = True\n",
    "        else:\n",
    "            print(f\"Epoch:{epoch} |Train Loss:{train_loss}\")\n",
    "            \n",
    "                    \n",
    "        return best_loss,improvement\n",
    "    \n",
    "    accelerator = Accelerator()\n",
    "    print(f\"{accelerator.device} is used\")\n",
    "\n",
    "    \n",
    "    \n",
    "    optimizer = optim.Adam(model.parameters(),lr=config['lr'],amsgrad=False)\n",
    "    criterion = pearson_loss\n",
    "    \n",
    "    # lr_scheduler = CosineAnnealingWarmupRestarts(optimizer, **config_lr)\n",
    "    # lr_scheduler =  torch.optim.lr_scheduler.CosineAnnealingLR(optimizer, **config_lr)\n",
    "    lr_scheduler = None\n",
    "\n",
    "    model,train_dl,val_dl,optimizer,lr_scheduler,criterion = accelerator.prepare(model,train_dl,val_dl,optimizer,lr_scheduler,criterion)\n",
    "\n",
    "    best_loss = 9999999\n",
    "    start_time = time.time()\n",
    "    current_patience = 0\n",
    "    for epoch in tqdm(range(config[\"num_epochs\"])):\n",
    "        print(f\"Epoch Started:{epoch}\")\n",
    "        best_loss,improvement = train_and_evaluate_loop(train_dl,model,optimizer,criterion,epoch,lr_scheduler,valid_loader=val_dl, best_loss=best_loss)\n",
    "        \n",
    "        if not improvement:\n",
    "            current_patience+=1\n",
    "        else:\n",
    "            current_patience = 0\n",
    "            \n",
    "        \n",
    "        if current_patience == early_stopping_patience:\n",
    "            print(f'{g_}EARLY STOPPING')\n",
    "            break\n",
    "            \n",
    "            \n",
    "        \n",
    "        end_time = time.time()\n",
    "        print(f\"{m_}Time taken by epoch {epoch} is {end_time-start_time:.2f}s{sr_}\")\n",
    "        start_time = end_time\n",
    "        \n",
    "    return best_loss, model"
   ]
  },
  {
   "cell_type": "code",
   "execution_count": null,
   "id": "556c2af6",
   "metadata": {},
   "outputs": [],
   "source": []
  },
  {
   "cell_type": "code",
   "execution_count": 30,
   "id": "1892e844",
   "metadata": {
    "ExecuteTime": {
     "end_time": "2022-02-03T01:18:53.522711Z",
     "start_time": "2022-02-03T01:18:53.369872Z"
    }
   },
   "outputs": [
    {
     "data": {
      "text/plain": [
       "20"
      ]
     },
     "execution_count": 30,
     "metadata": {},
     "output_type": "execute_result"
    }
   ],
   "source": [
    "gc.collect()"
   ]
  },
  {
   "cell_type": "code",
   "execution_count": null,
   "id": "a933e1eb",
   "metadata": {},
   "outputs": [],
   "source": []
  },
  {
   "cell_type": "code",
   "execution_count": 31,
   "id": "0dd54406",
   "metadata": {
    "ExecuteTime": {
     "end_time": "2022-02-03T03:00:25.219948Z",
     "start_time": "2022-02-03T01:18:53.524938Z"
    }
   },
   "outputs": [
    {
     "name": "stdout",
     "output_type": "stream",
     "text": [
      "Starting for fold: 0\u001b[31m\n",
      "Preparing training data for fold: 0\u001b[35m\n",
      "(531075, 304)\n",
      "(421258, 30, 1) (421258, 1) (421258, 300)\n",
      "(412467, 30, 1) (412467, 1) (421258, 300)\n",
      "303\n",
      "cuda is used\n"
     ]
    },
    {
     "data": {
      "application/vnd.jupyter.widget-view+json": {
       "model_id": "6ba5413834b148ceaf8423f170618b66",
       "version_major": 2,
       "version_minor": 0
      },
      "text/plain": [
       "  0%|          | 0/100 [00:00<?, ?it/s]"
      ]
     },
     "metadata": {},
     "output_type": "display_data"
    },
    {
     "name": "stdout",
     "output_type": "stream",
     "text": [
      "Epoch Started:0\n"
     ]
    },
    {
     "data": {
      "application/vnd.jupyter.widget-view+json": {
       "model_id": "681002bb581847cb80dc65b5131eb028",
       "version_major": 2,
       "version_minor": 0
      },
      "text/plain": [
       "  0%|          | 0/52 [00:00<?, ?it/s]"
      ]
     },
     "metadata": {},
     "output_type": "display_data"
    },
    {
     "data": {
      "application/vnd.jupyter.widget-view+json": {
       "model_id": "af4d2e4e38ab4b9e9331e336d058612a",
       "version_major": 2,
       "version_minor": 0
      },
      "text/plain": [
       "  0%|          | 0/51 [00:00<?, ?it/s]"
      ]
     },
     "metadata": {},
     "output_type": "display_data"
    },
    {
     "name": "stdout",
     "output_type": "stream",
     "text": [
      "Epoch:0 |Train Loss:0.8983992475729722|Valid Loss:0.8553852099998325\n",
      "\u001b[32mLoss Decreased from 9999999 to 0.8553852099998325\u001b[0m\n",
      "\u001b[35mTime taken by epoch 0 is 22.44s\u001b[0m\n",
      "Epoch Started:1\n"
     ]
    },
    {
     "data": {
      "application/vnd.jupyter.widget-view+json": {
       "model_id": "54b79559b93642738a9eab45e346febd",
       "version_major": 2,
       "version_minor": 0
      },
      "text/plain": [
       "  0%|          | 0/52 [00:00<?, ?it/s]"
      ]
     },
     "metadata": {},
     "output_type": "display_data"
    },
    {
     "data": {
      "application/vnd.jupyter.widget-view+json": {
       "model_id": "90107926b52c4a8f8322a726b9ec26e9",
       "version_major": 2,
       "version_minor": 0
      },
      "text/plain": [
       "  0%|          | 0/51 [00:00<?, ?it/s]"
      ]
     },
     "metadata": {},
     "output_type": "display_data"
    },
    {
     "name": "stdout",
     "output_type": "stream",
     "text": [
      "Epoch:1 |Train Loss:0.8651913003279612|Valid Loss:0.8454979050393198\n",
      "\u001b[32mLoss Decreased from 0.8553852099998325 to 0.8454979050393198\u001b[0m\n",
      "\u001b[35mTime taken by epoch 1 is 22.11s\u001b[0m\n",
      "Epoch Started:2\n"
     ]
    },
    {
     "data": {
      "application/vnd.jupyter.widget-view+json": {
       "model_id": "814aa5094b9a43e1a20f3b966952050f",
       "version_major": 2,
       "version_minor": 0
      },
      "text/plain": [
       "  0%|          | 0/52 [00:00<?, ?it/s]"
      ]
     },
     "metadata": {},
     "output_type": "display_data"
    },
    {
     "data": {
      "application/vnd.jupyter.widget-view+json": {
       "model_id": "4a1757e4a7694803a46980d787b993e0",
       "version_major": 2,
       "version_minor": 0
      },
      "text/plain": [
       "  0%|          | 0/51 [00:00<?, ?it/s]"
      ]
     },
     "metadata": {},
     "output_type": "display_data"
    },
    {
     "name": "stdout",
     "output_type": "stream",
     "text": [
      "Epoch:2 |Train Loss:0.8505086509081033|Valid Loss:0.8386671706741932\n",
      "\u001b[32mLoss Decreased from 0.8454979050393198 to 0.8386671706741932\u001b[0m\n",
      "\u001b[35mTime taken by epoch 2 is 22.15s\u001b[0m\n",
      "Epoch Started:3\n"
     ]
    },
    {
     "data": {
      "application/vnd.jupyter.widget-view+json": {
       "model_id": "924c48d58d304063993c961d5d76ce61",
       "version_major": 2,
       "version_minor": 0
      },
      "text/plain": [
       "  0%|          | 0/52 [00:00<?, ?it/s]"
      ]
     },
     "metadata": {},
     "output_type": "display_data"
    },
    {
     "data": {
      "application/vnd.jupyter.widget-view+json": {
       "model_id": "82b7329d856240948ed619ae7bef1b42",
       "version_major": 2,
       "version_minor": 0
      },
      "text/plain": [
       "  0%|          | 0/51 [00:00<?, ?it/s]"
      ]
     },
     "metadata": {},
     "output_type": "display_data"
    },
    {
     "name": "stdout",
     "output_type": "stream",
     "text": [
      "Epoch:3 |Train Loss:0.8418720353108186|Valid Loss:0.8323523238593457\n",
      "\u001b[32mLoss Decreased from 0.8386671706741932 to 0.8323523238593457\u001b[0m\n",
      "\u001b[35mTime taken by epoch 3 is 22.05s\u001b[0m\n",
      "Epoch Started:4\n"
     ]
    },
    {
     "data": {
      "application/vnd.jupyter.widget-view+json": {
       "model_id": "725316a3e1a141e9bc3571b549465e26",
       "version_major": 2,
       "version_minor": 0
      },
      "text/plain": [
       "  0%|          | 0/52 [00:00<?, ?it/s]"
      ]
     },
     "metadata": {},
     "output_type": "display_data"
    },
    {
     "data": {
      "application/vnd.jupyter.widget-view+json": {
       "model_id": "2d55c687c6344e9bb86e6ebe6daaf54a",
       "version_major": 2,
       "version_minor": 0
      },
      "text/plain": [
       "  0%|          | 0/51 [00:00<?, ?it/s]"
      ]
     },
     "metadata": {},
     "output_type": "display_data"
    },
    {
     "name": "stdout",
     "output_type": "stream",
     "text": [
      "Epoch:4 |Train Loss:0.8299570702589475|Valid Loss:0.8276672491840288\n",
      "\u001b[32mLoss Decreased from 0.8323523238593457 to 0.8276672491840288\u001b[0m\n",
      "\u001b[35mTime taken by epoch 4 is 22.06s\u001b[0m\n",
      "Epoch Started:5\n"
     ]
    },
    {
     "data": {
      "application/vnd.jupyter.widget-view+json": {
       "model_id": "be66566693014486a85ded69fe526ac4",
       "version_major": 2,
       "version_minor": 0
      },
      "text/plain": [
       "  0%|          | 0/52 [00:00<?, ?it/s]"
      ]
     },
     "metadata": {},
     "output_type": "display_data"
    },
    {
     "data": {
      "application/vnd.jupyter.widget-view+json": {
       "model_id": "02f73820dda04806a4a3c65bc23e9ebc",
       "version_major": 2,
       "version_minor": 0
      },
      "text/plain": [
       "  0%|          | 0/51 [00:00<?, ?it/s]"
      ]
     },
     "metadata": {},
     "output_type": "display_data"
    },
    {
     "name": "stdout",
     "output_type": "stream",
     "text": [
      "Epoch:5 |Train Loss:0.8186358018563344|Valid Loss:0.8248783396739586\n",
      "\u001b[32mLoss Decreased from 0.8276672491840288 to 0.8248783396739586\u001b[0m\n",
      "\u001b[35mTime taken by epoch 5 is 21.93s\u001b[0m\n",
      "Epoch Started:6\n"
     ]
    },
    {
     "data": {
      "application/vnd.jupyter.widget-view+json": {
       "model_id": "d000b786a0e34e64864a4be152c122e1",
       "version_major": 2,
       "version_minor": 0
      },
      "text/plain": [
       "  0%|          | 0/52 [00:00<?, ?it/s]"
      ]
     },
     "metadata": {},
     "output_type": "display_data"
    },
    {
     "data": {
      "application/vnd.jupyter.widget-view+json": {
       "model_id": "80aa8556347643e5927b30443ecb9b19",
       "version_major": 2,
       "version_minor": 0
      },
      "text/plain": [
       "  0%|          | 0/51 [00:00<?, ?it/s]"
      ]
     },
     "metadata": {},
     "output_type": "display_data"
    },
    {
     "name": "stdout",
     "output_type": "stream",
     "text": [
      "Epoch:6 |Train Loss:0.806529761506961|Valid Loss:0.8179211487957075\n",
      "\u001b[32mLoss Decreased from 0.8248783396739586 to 0.8179211487957075\u001b[0m\n",
      "\u001b[35mTime taken by epoch 6 is 21.81s\u001b[0m\n",
      "Epoch Started:7\n"
     ]
    },
    {
     "data": {
      "application/vnd.jupyter.widget-view+json": {
       "model_id": "78e95cc0222e46489f0c8dbafebde213",
       "version_major": 2,
       "version_minor": 0
      },
      "text/plain": [
       "  0%|          | 0/52 [00:00<?, ?it/s]"
      ]
     },
     "metadata": {},
     "output_type": "display_data"
    },
    {
     "data": {
      "application/vnd.jupyter.widget-view+json": {
       "model_id": "29272b0c511744b881ba07538ed993ab",
       "version_major": 2,
       "version_minor": 0
      },
      "text/plain": [
       "  0%|          | 0/51 [00:00<?, ?it/s]"
      ]
     },
     "metadata": {},
     "output_type": "display_data"
    },
    {
     "name": "stdout",
     "output_type": "stream",
     "text": [
      "Epoch:7 |Train Loss:0.7985265518610294|Valid Loss:0.8140302136832592\n",
      "\u001b[32mLoss Decreased from 0.8179211487957075 to 0.8140302136832592\u001b[0m\n",
      "\u001b[35mTime taken by epoch 7 is 22.01s\u001b[0m\n",
      "Epoch Started:8\n"
     ]
    },
    {
     "data": {
      "application/vnd.jupyter.widget-view+json": {
       "model_id": "e45fdbfc47a54b0f8f5876a5eaaeb274",
       "version_major": 2,
       "version_minor": 0
      },
      "text/plain": [
       "  0%|          | 0/52 [00:00<?, ?it/s]"
      ]
     },
     "metadata": {},
     "output_type": "display_data"
    },
    {
     "data": {
      "application/vnd.jupyter.widget-view+json": {
       "model_id": "a6d7e54593ee42ba8dd860b7fbab9103",
       "version_major": 2,
       "version_minor": 0
      },
      "text/plain": [
       "  0%|          | 0/51 [00:00<?, ?it/s]"
      ]
     },
     "metadata": {},
     "output_type": "display_data"
    },
    {
     "name": "stdout",
     "output_type": "stream",
     "text": [
      "Epoch:8 |Train Loss:0.7885814870779331|Valid Loss:0.8100909041423424\n",
      "\u001b[32mLoss Decreased from 0.8140302136832592 to 0.8100909041423424\u001b[0m\n",
      "\u001b[35mTime taken by epoch 8 is 21.74s\u001b[0m\n",
      "Epoch Started:9\n"
     ]
    },
    {
     "data": {
      "application/vnd.jupyter.widget-view+json": {
       "model_id": "82f715d432794c298eec2f9c1c6750de",
       "version_major": 2,
       "version_minor": 0
      },
      "text/plain": [
       "  0%|          | 0/52 [00:00<?, ?it/s]"
      ]
     },
     "metadata": {},
     "output_type": "display_data"
    },
    {
     "data": {
      "application/vnd.jupyter.widget-view+json": {
       "model_id": "8fdb509b4a9e49aeaa153f2b5be749a5",
       "version_major": 2,
       "version_minor": 0
      },
      "text/plain": [
       "  0%|          | 0/51 [00:00<?, ?it/s]"
      ]
     },
     "metadata": {},
     "output_type": "display_data"
    },
    {
     "name": "stdout",
     "output_type": "stream",
     "text": [
      "Epoch:9 |Train Loss:0.7790955305099487|Valid Loss:0.8092805415976281\n",
      "\u001b[32mLoss Decreased from 0.8100909041423424 to 0.8092805415976281\u001b[0m\n",
      "\u001b[35mTime taken by epoch 9 is 21.76s\u001b[0m\n",
      "Epoch Started:10\n"
     ]
    },
    {
     "data": {
      "application/vnd.jupyter.widget-view+json": {
       "model_id": "1f3eb64e0e0444e38d00ac34019d47ca",
       "version_major": 2,
       "version_minor": 0
      },
      "text/plain": [
       "  0%|          | 0/52 [00:00<?, ?it/s]"
      ]
     },
     "metadata": {},
     "output_type": "display_data"
    },
    {
     "data": {
      "application/vnd.jupyter.widget-view+json": {
       "model_id": "445f6f85578d42ad9d6f4a1d13092534",
       "version_major": 2,
       "version_minor": 0
      },
      "text/plain": [
       "  0%|          | 0/51 [00:00<?, ?it/s]"
      ]
     },
     "metadata": {},
     "output_type": "display_data"
    },
    {
     "name": "stdout",
     "output_type": "stream",
     "text": [
      "Epoch:10 |Train Loss:0.7730253040790558|Valid Loss:0.8080050349235535\n",
      "\u001b[32mLoss Decreased from 0.8092805415976281 to 0.8080050349235535\u001b[0m\n",
      "\u001b[35mTime taken by epoch 10 is 22.07s\u001b[0m\n",
      "Epoch Started:11\n"
     ]
    },
    {
     "data": {
      "application/vnd.jupyter.widget-view+json": {
       "model_id": "baf039f113d241d1ac44505b62d1198e",
       "version_major": 2,
       "version_minor": 0
      },
      "text/plain": [
       "  0%|          | 0/52 [00:00<?, ?it/s]"
      ]
     },
     "metadata": {},
     "output_type": "display_data"
    },
    {
     "data": {
      "application/vnd.jupyter.widget-view+json": {
       "model_id": "4e33e15146564e78979f79021bc3ec5d",
       "version_major": 2,
       "version_minor": 0
      },
      "text/plain": [
       "  0%|          | 0/51 [00:00<?, ?it/s]"
      ]
     },
     "metadata": {},
     "output_type": "display_data"
    },
    {
     "name": "stdout",
     "output_type": "stream",
     "text": [
      "Epoch:11 |Train Loss:0.766767966059538|Valid Loss:0.8074214633773354\n",
      "\u001b[32mLoss Decreased from 0.8080050349235535 to 0.8074214633773354\u001b[0m\n",
      "\u001b[35mTime taken by epoch 11 is 21.77s\u001b[0m\n",
      "Epoch Started:12\n"
     ]
    },
    {
     "data": {
      "application/vnd.jupyter.widget-view+json": {
       "model_id": "cc538fa6a3c440c0b35825ae1cc24548",
       "version_major": 2,
       "version_minor": 0
      },
      "text/plain": [
       "  0%|          | 0/52 [00:00<?, ?it/s]"
      ]
     },
     "metadata": {},
     "output_type": "display_data"
    },
    {
     "data": {
      "application/vnd.jupyter.widget-view+json": {
       "model_id": "fab263443c37456ea0d8709c658109e6",
       "version_major": 2,
       "version_minor": 0
      },
      "text/plain": [
       "  0%|          | 0/51 [00:00<?, ?it/s]"
      ]
     },
     "metadata": {},
     "output_type": "display_data"
    },
    {
     "name": "stdout",
     "output_type": "stream",
     "text": [
      "Epoch:12 |Train Loss:0.7616747927207214|Valid Loss:0.8056810124247682\n",
      "\u001b[32mLoss Decreased from 0.8074214633773354 to 0.8056810124247682\u001b[0m\n",
      "\u001b[35mTime taken by epoch 12 is 21.74s\u001b[0m\n",
      "Epoch Started:13\n"
     ]
    },
    {
     "data": {
      "application/vnd.jupyter.widget-view+json": {
       "model_id": "b08a28ff94cb49f7bf4f6e1e1d2d14b8",
       "version_major": 2,
       "version_minor": 0
      },
      "text/plain": [
       "  0%|          | 0/52 [00:00<?, ?it/s]"
      ]
     },
     "metadata": {},
     "output_type": "display_data"
    },
    {
     "data": {
      "application/vnd.jupyter.widget-view+json": {
       "model_id": "d1a3d595d6a2471f82b3a6437e2bfb3e",
       "version_major": 2,
       "version_minor": 0
      },
      "text/plain": [
       "  0%|          | 0/51 [00:00<?, ?it/s]"
      ]
     },
     "metadata": {},
     "output_type": "display_data"
    },
    {
     "name": "stdout",
     "output_type": "stream",
     "text": [
      "Epoch:13 |Train Loss:0.7550415866650068|Valid Loss:0.8082429556285634\n",
      "\u001b[35mTime taken by epoch 13 is 21.94s\u001b[0m\n",
      "Epoch Started:14\n"
     ]
    },
    {
     "data": {
      "application/vnd.jupyter.widget-view+json": {
       "model_id": "eaeddb2d683045e7a795a095a3a9a461",
       "version_major": 2,
       "version_minor": 0
      },
      "text/plain": [
       "  0%|          | 0/52 [00:00<?, ?it/s]"
      ]
     },
     "metadata": {},
     "output_type": "display_data"
    },
    {
     "data": {
      "application/vnd.jupyter.widget-view+json": {
       "model_id": "ca77f871a2c84afcbcb03a04a330f73b",
       "version_major": 2,
       "version_minor": 0
      },
      "text/plain": [
       "  0%|          | 0/51 [00:00<?, ?it/s]"
      ]
     },
     "metadata": {},
     "output_type": "display_data"
    },
    {
     "name": "stdout",
     "output_type": "stream",
     "text": [
      "Epoch:14 |Train Loss:0.7514005223145852|Valid Loss:0.8084317831432118\n",
      "\u001b[35mTime taken by epoch 14 is 21.93s\u001b[0m\n",
      "Epoch Started:15\n"
     ]
    },
    {
     "data": {
      "application/vnd.jupyter.widget-view+json": {
       "model_id": "bc2f3ed7a1da42ad8a22db8dc90e719c",
       "version_major": 2,
       "version_minor": 0
      },
      "text/plain": [
       "  0%|          | 0/52 [00:00<?, ?it/s]"
      ]
     },
     "metadata": {},
     "output_type": "display_data"
    },
    {
     "data": {
      "application/vnd.jupyter.widget-view+json": {
       "model_id": "657072076b5d4c5d8ad54eaaef4e46eb",
       "version_major": 2,
       "version_minor": 0
      },
      "text/plain": [
       "  0%|          | 0/51 [00:00<?, ?it/s]"
      ]
     },
     "metadata": {},
     "output_type": "display_data"
    },
    {
     "name": "stdout",
     "output_type": "stream",
     "text": [
      "Epoch:15 |Train Loss:0.7443835139274597|Valid Loss:0.809968630472819\n",
      "\u001b[35mTime taken by epoch 15 is 22.06s\u001b[0m\n",
      "Epoch Started:16\n"
     ]
    },
    {
     "data": {
      "application/vnd.jupyter.widget-view+json": {
       "model_id": "8c1fa7eadbc84eab8d10ac5d95471c02",
       "version_major": 2,
       "version_minor": 0
      },
      "text/plain": [
       "  0%|          | 0/52 [00:00<?, ?it/s]"
      ]
     },
     "metadata": {},
     "output_type": "display_data"
    },
    {
     "data": {
      "application/vnd.jupyter.widget-view+json": {
       "model_id": "df26e743bc954ef7a4a917b3df5b1193",
       "version_major": 2,
       "version_minor": 0
      },
      "text/plain": [
       "  0%|          | 0/51 [00:00<?, ?it/s]"
      ]
     },
     "metadata": {},
     "output_type": "display_data"
    },
    {
     "name": "stdout",
     "output_type": "stream",
     "text": [
      "Epoch:16 |Train Loss:0.739173826116782|Valid Loss:0.8113470895617616\n",
      "\u001b[35mTime taken by epoch 16 is 21.85s\u001b[0m\n",
      "Epoch Started:17\n"
     ]
    },
    {
     "data": {
      "application/vnd.jupyter.widget-view+json": {
       "model_id": "6f3572c8c6cc42759be9d054966f6dc8",
       "version_major": 2,
       "version_minor": 0
      },
      "text/plain": [
       "  0%|          | 0/52 [00:00<?, ?it/s]"
      ]
     },
     "metadata": {},
     "output_type": "display_data"
    },
    {
     "data": {
      "application/vnd.jupyter.widget-view+json": {
       "model_id": "5516b82bcb7a407faa24a5c9fc87fb52",
       "version_major": 2,
       "version_minor": 0
      },
      "text/plain": [
       "  0%|          | 0/51 [00:00<?, ?it/s]"
      ]
     },
     "metadata": {},
     "output_type": "display_data"
    },
    {
     "name": "stdout",
     "output_type": "stream",
     "text": [
      "Epoch:17 |Train Loss:0.7334509434608313|Valid Loss:0.8131933749890795\n",
      "\u001b[35mTime taken by epoch 17 is 21.90s\u001b[0m\n",
      "Epoch Started:18\n"
     ]
    },
    {
     "data": {
      "application/vnd.jupyter.widget-view+json": {
       "model_id": "4dfd30c697f54903b1f4fce42b73bea9",
       "version_major": 2,
       "version_minor": 0
      },
      "text/plain": [
       "  0%|          | 0/52 [00:00<?, ?it/s]"
      ]
     },
     "metadata": {},
     "output_type": "display_data"
    },
    {
     "data": {
      "application/vnd.jupyter.widget-view+json": {
       "model_id": "82f130733e7d4a789185e81e55674f7a",
       "version_major": 2,
       "version_minor": 0
      },
      "text/plain": [
       "  0%|          | 0/51 [00:00<?, ?it/s]"
      ]
     },
     "metadata": {},
     "output_type": "display_data"
    },
    {
     "name": "stdout",
     "output_type": "stream",
     "text": [
      "Epoch:18 |Train Loss:0.7294075328570145|Valid Loss:0.8145434178558051\n",
      "\u001b[35mTime taken by epoch 18 is 21.96s\u001b[0m\n",
      "Epoch Started:19\n"
     ]
    },
    {
     "data": {
      "application/vnd.jupyter.widget-view+json": {
       "model_id": "c7279560ffc24e5db84cfdeac3f8e4ec",
       "version_major": 2,
       "version_minor": 0
      },
      "text/plain": [
       "  0%|          | 0/52 [00:00<?, ?it/s]"
      ]
     },
     "metadata": {},
     "output_type": "display_data"
    },
    {
     "data": {
      "application/vnd.jupyter.widget-view+json": {
       "model_id": "34e8d0fdd94e4eceab3bb20ed1e55558",
       "version_major": 2,
       "version_minor": 0
      },
      "text/plain": [
       "  0%|          | 0/51 [00:00<?, ?it/s]"
      ]
     },
     "metadata": {},
     "output_type": "display_data"
    },
    {
     "name": "stdout",
     "output_type": "stream",
     "text": [
      "Epoch:19 |Train Loss:0.7246920363261149|Valid Loss:0.8128599664744209\n",
      "\u001b[35mTime taken by epoch 19 is 21.93s\u001b[0m\n",
      "Epoch Started:20\n"
     ]
    },
    {
     "data": {
      "application/vnd.jupyter.widget-view+json": {
       "model_id": "cce495cf3a3f4bb984c6384fe56fd5c2",
       "version_major": 2,
       "version_minor": 0
      },
      "text/plain": [
       "  0%|          | 0/52 [00:00<?, ?it/s]"
      ]
     },
     "metadata": {},
     "output_type": "display_data"
    },
    {
     "data": {
      "application/vnd.jupyter.widget-view+json": {
       "model_id": "f8daf27fcbf1442fb75451fd1f740b09",
       "version_major": 2,
       "version_minor": 0
      },
      "text/plain": [
       "  0%|          | 0/51 [00:00<?, ?it/s]"
      ]
     },
     "metadata": {},
     "output_type": "display_data"
    },
    {
     "name": "stdout",
     "output_type": "stream",
     "text": [
      "Epoch:20 |Train Loss:0.7179762033315805|Valid Loss:0.81396829848196\n",
      "\u001b[35mTime taken by epoch 20 is 21.71s\u001b[0m\n",
      "Epoch Started:21\n"
     ]
    },
    {
     "data": {
      "application/vnd.jupyter.widget-view+json": {
       "model_id": "d19c26e64d064a78bd04dd2b3f2fee75",
       "version_major": 2,
       "version_minor": 0
      },
      "text/plain": [
       "  0%|          | 0/52 [00:00<?, ?it/s]"
      ]
     },
     "metadata": {},
     "output_type": "display_data"
    },
    {
     "data": {
      "application/vnd.jupyter.widget-view+json": {
       "model_id": "03c3bbb90f934dd6babd61b4edbeb5b2",
       "version_major": 2,
       "version_minor": 0
      },
      "text/plain": [
       "  0%|          | 0/51 [00:00<?, ?it/s]"
      ]
     },
     "metadata": {},
     "output_type": "display_data"
    },
    {
     "name": "stdout",
     "output_type": "stream",
     "text": [
      "Epoch:21 |Train Loss:0.7132331614310925|Valid Loss:0.815154702055688\n",
      "\u001b[35mTime taken by epoch 21 is 21.97s\u001b[0m\n",
      "Epoch Started:22\n"
     ]
    },
    {
     "data": {
      "application/vnd.jupyter.widget-view+json": {
       "model_id": "02d485634fa543019bae2d175285b7a8",
       "version_major": 2,
       "version_minor": 0
      },
      "text/plain": [
       "  0%|          | 0/52 [00:00<?, ?it/s]"
      ]
     },
     "metadata": {},
     "output_type": "display_data"
    },
    {
     "data": {
      "application/vnd.jupyter.widget-view+json": {
       "model_id": "c666b55776434740887235ad2e42b69d",
       "version_major": 2,
       "version_minor": 0
      },
      "text/plain": [
       "  0%|          | 0/51 [00:00<?, ?it/s]"
      ]
     },
     "metadata": {},
     "output_type": "display_data"
    },
    {
     "name": "stdout",
     "output_type": "stream",
     "text": [
      "Epoch:22 |Train Loss:0.7083786439437133|Valid Loss:0.8179817959374073\n",
      "\u001b[32mEARLY STOPPING\n",
      "Starting for fold: 1\u001b[31m\n",
      "Preparing training data for fold: 1\u001b[35m\n",
      "(1053141, 304)\n",
      "(942773, 30, 1) (942773, 1) (942773, 300)\n",
      "(412467, 30, 1) (412467, 1) (942773, 300)\n",
      "303\n",
      "cuda is used\n"
     ]
    },
    {
     "data": {
      "application/vnd.jupyter.widget-view+json": {
       "model_id": "639173369c2144a3b8faec0e1947abd8",
       "version_major": 2,
       "version_minor": 0
      },
      "text/plain": [
       "  0%|          | 0/100 [00:00<?, ?it/s]"
      ]
     },
     "metadata": {},
     "output_type": "display_data"
    },
    {
     "name": "stdout",
     "output_type": "stream",
     "text": [
      "Epoch Started:0\n"
     ]
    },
    {
     "data": {
      "application/vnd.jupyter.widget-view+json": {
       "model_id": "02865d18c5824d2f8c3cb8e8edf097ae",
       "version_major": 2,
       "version_minor": 0
      },
      "text/plain": [
       "  0%|          | 0/116 [00:00<?, ?it/s]"
      ]
     },
     "metadata": {},
     "output_type": "display_data"
    },
    {
     "data": {
      "application/vnd.jupyter.widget-view+json": {
       "model_id": "1085543aac0940bc80c02b3ece8b5670",
       "version_major": 2,
       "version_minor": 0
      },
      "text/plain": [
       "  0%|          | 0/51 [00:00<?, ?it/s]"
      ]
     },
     "metadata": {},
     "output_type": "display_data"
    },
    {
     "name": "stdout",
     "output_type": "stream",
     "text": [
      "Epoch:0 |Train Loss:0.8752590392170281|Valid Loss:0.853827018363803\n",
      "\u001b[32mLoss Decreased from 9999999 to 0.853827018363803\u001b[0m\n",
      "\u001b[35mTime taken by epoch 0 is 37.00s\u001b[0m\n",
      "Epoch Started:1\n"
     ]
    },
    {
     "data": {
      "application/vnd.jupyter.widget-view+json": {
       "model_id": "5d1130dca9fe4e279ec00599c2e4ec36",
       "version_major": 2,
       "version_minor": 0
      },
      "text/plain": [
       "  0%|          | 0/116 [00:00<?, ?it/s]"
      ]
     },
     "metadata": {},
     "output_type": "display_data"
    },
    {
     "data": {
      "application/vnd.jupyter.widget-view+json": {
       "model_id": "e2aa0a8ca3134cedb82a4b56bf59d4fb",
       "version_major": 2,
       "version_minor": 0
      },
      "text/plain": [
       "  0%|          | 0/51 [00:00<?, ?it/s]"
      ]
     },
     "metadata": {},
     "output_type": "display_data"
    },
    {
     "name": "stdout",
     "output_type": "stream",
     "text": [
      "Epoch:1 |Train Loss:0.8444832378420336|Valid Loss:0.8438333798857296\n",
      "\u001b[32mLoss Decreased from 0.853827018363803 to 0.8438333798857296\u001b[0m\n",
      "\u001b[35mTime taken by epoch 1 is 36.90s\u001b[0m\n",
      "Epoch Started:2\n"
     ]
    },
    {
     "data": {
      "application/vnd.jupyter.widget-view+json": {
       "model_id": "2ca7d03c108f40938df627157b97bf7d",
       "version_major": 2,
       "version_minor": 0
      },
      "text/plain": [
       "  0%|          | 0/116 [00:00<?, ?it/s]"
      ]
     },
     "metadata": {},
     "output_type": "display_data"
    },
    {
     "data": {
      "application/vnd.jupyter.widget-view+json": {
       "model_id": "48abd83e14594b31a4655483e0c35ee8",
       "version_major": 2,
       "version_minor": 0
      },
      "text/plain": [
       "  0%|          | 0/51 [00:00<?, ?it/s]"
      ]
     },
     "metadata": {},
     "output_type": "display_data"
    },
    {
     "name": "stdout",
     "output_type": "stream",
     "text": [
      "Epoch:2 |Train Loss:0.8285703088702827|Valid Loss:0.8330538623473224\n",
      "\u001b[32mLoss Decreased from 0.8438333798857296 to 0.8330538623473224\u001b[0m\n",
      "\u001b[35mTime taken by epoch 2 is 37.00s\u001b[0m\n",
      "Epoch Started:3\n"
     ]
    },
    {
     "data": {
      "application/vnd.jupyter.widget-view+json": {
       "model_id": "a3cc3efa5f1441a696a21a98cf4262ae",
       "version_major": 2,
       "version_minor": 0
      },
      "text/plain": [
       "  0%|          | 0/116 [00:00<?, ?it/s]"
      ]
     },
     "metadata": {},
     "output_type": "display_data"
    },
    {
     "data": {
      "application/vnd.jupyter.widget-view+json": {
       "model_id": "8e551ae48f864395942d8bcddd612e83",
       "version_major": 2,
       "version_minor": 0
      },
      "text/plain": [
       "  0%|          | 0/51 [00:00<?, ?it/s]"
      ]
     },
     "metadata": {},
     "output_type": "display_data"
    },
    {
     "name": "stdout",
     "output_type": "stream",
     "text": [
      "Epoch:3 |Train Loss:0.8125245293666576|Valid Loss:0.8219172709128436\n",
      "\u001b[32mLoss Decreased from 0.8330538623473224 to 0.8219172709128436\u001b[0m\n",
      "\u001b[35mTime taken by epoch 3 is 37.12s\u001b[0m\n",
      "Epoch Started:4\n"
     ]
    },
    {
     "data": {
      "application/vnd.jupyter.widget-view+json": {
       "model_id": "48e2d8a7fce94f9298e49d891c20f82b",
       "version_major": 2,
       "version_minor": 0
      },
      "text/plain": [
       "  0%|          | 0/116 [00:00<?, ?it/s]"
      ]
     },
     "metadata": {},
     "output_type": "display_data"
    },
    {
     "data": {
      "application/vnd.jupyter.widget-view+json": {
       "model_id": "de2a4b59a12e400bafec8a3de12e5a63",
       "version_major": 2,
       "version_minor": 0
      },
      "text/plain": [
       "  0%|          | 0/51 [00:00<?, ?it/s]"
      ]
     },
     "metadata": {},
     "output_type": "display_data"
    },
    {
     "name": "stdout",
     "output_type": "stream",
     "text": [
      "Epoch:4 |Train Loss:0.7955429209717388|Valid Loss:0.8126342436846565\n",
      "\u001b[32mLoss Decreased from 0.8219172709128436 to 0.8126342436846565\u001b[0m\n",
      "\u001b[35mTime taken by epoch 4 is 36.96s\u001b[0m\n",
      "Epoch Started:5\n"
     ]
    },
    {
     "data": {
      "application/vnd.jupyter.widget-view+json": {
       "model_id": "e2f011682b2a45c48babde98161bc490",
       "version_major": 2,
       "version_minor": 0
      },
      "text/plain": [
       "  0%|          | 0/116 [00:00<?, ?it/s]"
      ]
     },
     "metadata": {},
     "output_type": "display_data"
    },
    {
     "data": {
      "application/vnd.jupyter.widget-view+json": {
       "model_id": "c3b4e976d87c47758e2f8329f76e6e15",
       "version_major": 2,
       "version_minor": 0
      },
      "text/plain": [
       "  0%|          | 0/51 [00:00<?, ?it/s]"
      ]
     },
     "metadata": {},
     "output_type": "display_data"
    },
    {
     "name": "stdout",
     "output_type": "stream",
     "text": [
      "Epoch:5 |Train Loss:0.7848147734485823|Valid Loss:0.8092269967584049\n",
      "\u001b[32mLoss Decreased from 0.8126342436846565 to 0.8092269967584049\u001b[0m\n",
      "\u001b[35mTime taken by epoch 5 is 36.72s\u001b[0m\n",
      "Epoch Started:6\n"
     ]
    },
    {
     "data": {
      "application/vnd.jupyter.widget-view+json": {
       "model_id": "aa6d936ba61f4f30b0a6ee4138f1ff22",
       "version_major": 2,
       "version_minor": 0
      },
      "text/plain": [
       "  0%|          | 0/116 [00:00<?, ?it/s]"
      ]
     },
     "metadata": {},
     "output_type": "display_data"
    },
    {
     "data": {
      "application/vnd.jupyter.widget-view+json": {
       "model_id": "369e7891739846d0ab799f13c51b9e29",
       "version_major": 2,
       "version_minor": 0
      },
      "text/plain": [
       "  0%|          | 0/51 [00:00<?, ?it/s]"
      ]
     },
     "metadata": {},
     "output_type": "display_data"
    },
    {
     "name": "stdout",
     "output_type": "stream",
     "text": [
      "Epoch:6 |Train Loss:0.7760766667538676|Valid Loss:0.808481706123726\n",
      "\u001b[32mLoss Decreased from 0.8092269967584049 to 0.808481706123726\u001b[0m\n",
      "\u001b[35mTime taken by epoch 6 is 37.08s\u001b[0m\n",
      "Epoch Started:7\n"
     ]
    },
    {
     "data": {
      "application/vnd.jupyter.widget-view+json": {
       "model_id": "f078deca03a5423fb532761e8999e760",
       "version_major": 2,
       "version_minor": 0
      },
      "text/plain": [
       "  0%|          | 0/116 [00:00<?, ?it/s]"
      ]
     },
     "metadata": {},
     "output_type": "display_data"
    },
    {
     "data": {
      "application/vnd.jupyter.widget-view+json": {
       "model_id": "56e4569835e54115bbadc19d5711eda9",
       "version_major": 2,
       "version_minor": 0
      },
      "text/plain": [
       "  0%|          | 0/51 [00:00<?, ?it/s]"
      ]
     },
     "metadata": {},
     "output_type": "display_data"
    },
    {
     "name": "stdout",
     "output_type": "stream",
     "text": [
      "Epoch:7 |Train Loss:0.7713933386679354|Valid Loss:0.8066160047755522\n",
      "\u001b[32mLoss Decreased from 0.808481706123726 to 0.8066160047755522\u001b[0m\n",
      "\u001b[35mTime taken by epoch 7 is 36.92s\u001b[0m\n",
      "Epoch Started:8\n"
     ]
    },
    {
     "data": {
      "application/vnd.jupyter.widget-view+json": {
       "model_id": "1e73c72460b24859899f6587265eb364",
       "version_major": 2,
       "version_minor": 0
      },
      "text/plain": [
       "  0%|          | 0/116 [00:00<?, ?it/s]"
      ]
     },
     "metadata": {},
     "output_type": "display_data"
    },
    {
     "data": {
      "application/vnd.jupyter.widget-view+json": {
       "model_id": "373cab188d584ad9a0c9a93fcbc8f4f5",
       "version_major": 2,
       "version_minor": 0
      },
      "text/plain": [
       "  0%|          | 0/51 [00:00<?, ?it/s]"
      ]
     },
     "metadata": {},
     "output_type": "display_data"
    },
    {
     "name": "stdout",
     "output_type": "stream",
     "text": [
      "Epoch:8 |Train Loss:0.7655148495887888|Valid Loss:0.8058474215806699\n",
      "\u001b[32mLoss Decreased from 0.8066160047755522 to 0.8058474215806699\u001b[0m\n",
      "\u001b[35mTime taken by epoch 8 is 37.04s\u001b[0m\n",
      "Epoch Started:9\n"
     ]
    },
    {
     "data": {
      "application/vnd.jupyter.widget-view+json": {
       "model_id": "03bd4c96e9d345cc983af2ab9d374ac8",
       "version_major": 2,
       "version_minor": 0
      },
      "text/plain": [
       "  0%|          | 0/116 [00:00<?, ?it/s]"
      ]
     },
     "metadata": {},
     "output_type": "display_data"
    },
    {
     "data": {
      "application/vnd.jupyter.widget-view+json": {
       "model_id": "878f863a9e9b4d88a9d8ba9c2c63be4c",
       "version_major": 2,
       "version_minor": 0
      },
      "text/plain": [
       "  0%|          | 0/51 [00:00<?, ?it/s]"
      ]
     },
     "metadata": {},
     "output_type": "display_data"
    },
    {
     "name": "stdout",
     "output_type": "stream",
     "text": [
      "Epoch:9 |Train Loss:0.7605035823994669|Valid Loss:0.8063260749274609\n",
      "\u001b[35mTime taken by epoch 9 is 37.01s\u001b[0m\n",
      "Epoch Started:10\n"
     ]
    },
    {
     "data": {
      "application/vnd.jupyter.widget-view+json": {
       "model_id": "77170b75cbbf433296222de75b368e80",
       "version_major": 2,
       "version_minor": 0
      },
      "text/plain": [
       "  0%|          | 0/116 [00:00<?, ?it/s]"
      ]
     },
     "metadata": {},
     "output_type": "display_data"
    },
    {
     "data": {
      "application/vnd.jupyter.widget-view+json": {
       "model_id": "4aeba3ecddc149949099741a67f3090a",
       "version_major": 2,
       "version_minor": 0
      },
      "text/plain": [
       "  0%|          | 0/51 [00:00<?, ?it/s]"
      ]
     },
     "metadata": {},
     "output_type": "display_data"
    },
    {
     "name": "stdout",
     "output_type": "stream",
     "text": [
      "Epoch:10 |Train Loss:0.7562360475803244|Valid Loss:0.8058710974805495\n",
      "\u001b[35mTime taken by epoch 10 is 37.09s\u001b[0m\n",
      "Epoch Started:11\n"
     ]
    },
    {
     "data": {
      "application/vnd.jupyter.widget-view+json": {
       "model_id": "17ac800ec322434b8c74689ea0fa2874",
       "version_major": 2,
       "version_minor": 0
      },
      "text/plain": [
       "  0%|          | 0/116 [00:00<?, ?it/s]"
      ]
     },
     "metadata": {},
     "output_type": "display_data"
    },
    {
     "data": {
      "application/vnd.jupyter.widget-view+json": {
       "model_id": "ab6a30df4e554be79f59241072f12db8",
       "version_major": 2,
       "version_minor": 0
      },
      "text/plain": [
       "  0%|          | 0/51 [00:00<?, ?it/s]"
      ]
     },
     "metadata": {},
     "output_type": "display_data"
    },
    {
     "name": "stdout",
     "output_type": "stream",
     "text": [
      "Epoch:11 |Train Loss:0.7520960949618241|Valid Loss:0.8050298188246933\n",
      "\u001b[32mLoss Decreased from 0.8058474215806699 to 0.8050298188246933\u001b[0m\n",
      "\u001b[35mTime taken by epoch 11 is 36.91s\u001b[0m\n",
      "Epoch Started:12\n"
     ]
    },
    {
     "data": {
      "application/vnd.jupyter.widget-view+json": {
       "model_id": "3c59945b89ff4fa4b790f2bee6b960f2",
       "version_major": 2,
       "version_minor": 0
      },
      "text/plain": [
       "  0%|          | 0/116 [00:00<?, ?it/s]"
      ]
     },
     "metadata": {},
     "output_type": "display_data"
    },
    {
     "data": {
      "application/vnd.jupyter.widget-view+json": {
       "model_id": "929a3b0448a5430cbe352bba29bebbcd",
       "version_major": 2,
       "version_minor": 0
      },
      "text/plain": [
       "  0%|          | 0/51 [00:00<?, ?it/s]"
      ]
     },
     "metadata": {},
     "output_type": "display_data"
    },
    {
     "name": "stdout",
     "output_type": "stream",
     "text": [
      "Epoch:12 |Train Loss:0.7458380070225946|Valid Loss:0.8057143653140348\n",
      "\u001b[35mTime taken by epoch 12 is 36.81s\u001b[0m\n",
      "Epoch Started:13\n"
     ]
    },
    {
     "data": {
      "application/vnd.jupyter.widget-view+json": {
       "model_id": "a115d6e5a0714bcab09f849b1a001310",
       "version_major": 2,
       "version_minor": 0
      },
      "text/plain": [
       "  0%|          | 0/116 [00:00<?, ?it/s]"
      ]
     },
     "metadata": {},
     "output_type": "display_data"
    },
    {
     "data": {
      "application/vnd.jupyter.widget-view+json": {
       "model_id": "13e5f97ebda241ed8b3ad5e06074dc09",
       "version_major": 2,
       "version_minor": 0
      },
      "text/plain": [
       "  0%|          | 0/51 [00:00<?, ?it/s]"
      ]
     },
     "metadata": {},
     "output_type": "display_data"
    },
    {
     "name": "stdout",
     "output_type": "stream",
     "text": [
      "Epoch:13 |Train Loss:0.7432597125398701|Valid Loss:0.8042144600082847\n",
      "\u001b[32mLoss Decreased from 0.8050298188246933 to 0.8042144600082847\u001b[0m\n",
      "\u001b[35mTime taken by epoch 13 is 36.98s\u001b[0m\n",
      "Epoch Started:14\n"
     ]
    },
    {
     "data": {
      "application/vnd.jupyter.widget-view+json": {
       "model_id": "8223d888a40e41d7bae18fe46a58f6e5",
       "version_major": 2,
       "version_minor": 0
      },
      "text/plain": [
       "  0%|          | 0/116 [00:00<?, ?it/s]"
      ]
     },
     "metadata": {},
     "output_type": "display_data"
    },
    {
     "data": {
      "application/vnd.jupyter.widget-view+json": {
       "model_id": "6d586dc5f823440ba0f22ffebb0fa76e",
       "version_major": 2,
       "version_minor": 0
      },
      "text/plain": [
       "  0%|          | 0/51 [00:00<?, ?it/s]"
      ]
     },
     "metadata": {},
     "output_type": "display_data"
    },
    {
     "name": "stdout",
     "output_type": "stream",
     "text": [
      "Epoch:14 |Train Loss:0.7384006201193251|Valid Loss:0.8055563241827721\n",
      "\u001b[35mTime taken by epoch 14 is 36.79s\u001b[0m\n",
      "Epoch Started:15\n"
     ]
    },
    {
     "data": {
      "application/vnd.jupyter.widget-view+json": {
       "model_id": "8d8aa024745c4eae9ac8709d0608ca30",
       "version_major": 2,
       "version_minor": 0
      },
      "text/plain": [
       "  0%|          | 0/116 [00:00<?, ?it/s]"
      ]
     },
     "metadata": {},
     "output_type": "display_data"
    },
    {
     "data": {
      "application/vnd.jupyter.widget-view+json": {
       "model_id": "cdfc4473faf645769d6a4ad8f1954c02",
       "version_major": 2,
       "version_minor": 0
      },
      "text/plain": [
       "  0%|          | 0/51 [00:00<?, ?it/s]"
      ]
     },
     "metadata": {},
     "output_type": "display_data"
    },
    {
     "name": "stdout",
     "output_type": "stream",
     "text": [
      "Epoch:15 |Train Loss:0.7335752762597183|Valid Loss:0.8078007242258858\n",
      "\u001b[35mTime taken by epoch 15 is 36.86s\u001b[0m\n",
      "Epoch Started:16\n"
     ]
    },
    {
     "data": {
      "application/vnd.jupyter.widget-view+json": {
       "model_id": "68eaf0c3ff2d434e95ca74b58981bd2c",
       "version_major": 2,
       "version_minor": 0
      },
      "text/plain": [
       "  0%|          | 0/116 [00:00<?, ?it/s]"
      ]
     },
     "metadata": {},
     "output_type": "display_data"
    },
    {
     "data": {
      "application/vnd.jupyter.widget-view+json": {
       "model_id": "eaa623d528b645d09fb3265b512edb1e",
       "version_major": 2,
       "version_minor": 0
      },
      "text/plain": [
       "  0%|          | 0/51 [00:00<?, ?it/s]"
      ]
     },
     "metadata": {},
     "output_type": "display_data"
    },
    {
     "name": "stdout",
     "output_type": "stream",
     "text": [
      "Epoch:16 |Train Loss:0.7298625640828034|Valid Loss:0.8079912323577731\n",
      "\u001b[35mTime taken by epoch 16 is 36.51s\u001b[0m\n",
      "Epoch Started:17\n"
     ]
    },
    {
     "data": {
      "application/vnd.jupyter.widget-view+json": {
       "model_id": "0210913a704a47b195b96d501f469417",
       "version_major": 2,
       "version_minor": 0
      },
      "text/plain": [
       "  0%|          | 0/116 [00:00<?, ?it/s]"
      ]
     },
     "metadata": {},
     "output_type": "display_data"
    },
    {
     "data": {
      "application/vnd.jupyter.widget-view+json": {
       "model_id": "e454b133e68c441e8094af4bee07770a",
       "version_major": 2,
       "version_minor": 0
      },
      "text/plain": [
       "  0%|          | 0/51 [00:00<?, ?it/s]"
      ]
     },
     "metadata": {},
     "output_type": "display_data"
    },
    {
     "name": "stdout",
     "output_type": "stream",
     "text": [
      "Epoch:17 |Train Loss:0.72689144570252|Valid Loss:0.8048072620934131\n",
      "\u001b[35mTime taken by epoch 17 is 36.84s\u001b[0m\n",
      "Epoch Started:18\n"
     ]
    },
    {
     "data": {
      "application/vnd.jupyter.widget-view+json": {
       "model_id": "c5a6a0c41134468ab3a4137bb3a21f82",
       "version_major": 2,
       "version_minor": 0
      },
      "text/plain": [
       "  0%|          | 0/116 [00:00<?, ?it/s]"
      ]
     },
     "metadata": {},
     "output_type": "display_data"
    },
    {
     "data": {
      "application/vnd.jupyter.widget-view+json": {
       "model_id": "7db8be28be6f4f2a966f03d9e9ffef86",
       "version_major": 2,
       "version_minor": 0
      },
      "text/plain": [
       "  0%|          | 0/51 [00:00<?, ?it/s]"
      ]
     },
     "metadata": {},
     "output_type": "display_data"
    },
    {
     "name": "stdout",
     "output_type": "stream",
     "text": [
      "Epoch:18 |Train Loss:0.7220967889859758|Valid Loss:0.8045147914512485\n",
      "\u001b[35mTime taken by epoch 18 is 36.70s\u001b[0m\n",
      "Epoch Started:19\n"
     ]
    },
    {
     "data": {
      "application/vnd.jupyter.widget-view+json": {
       "model_id": "da02d8c266664289b75d55a626615dae",
       "version_major": 2,
       "version_minor": 0
      },
      "text/plain": [
       "  0%|          | 0/116 [00:00<?, ?it/s]"
      ]
     },
     "metadata": {},
     "output_type": "display_data"
    },
    {
     "data": {
      "application/vnd.jupyter.widget-view+json": {
       "model_id": "8495d8bc3abf45f8bdd065cdeef6dd79",
       "version_major": 2,
       "version_minor": 0
      },
      "text/plain": [
       "  0%|          | 0/51 [00:00<?, ?it/s]"
      ]
     },
     "metadata": {},
     "output_type": "display_data"
    },
    {
     "name": "stdout",
     "output_type": "stream",
     "text": [
      "Epoch:19 |Train Loss:0.7175397199803385|Valid Loss:0.8081363053882823\n",
      "\u001b[35mTime taken by epoch 19 is 36.59s\u001b[0m\n",
      "Epoch Started:20\n"
     ]
    },
    {
     "data": {
      "application/vnd.jupyter.widget-view+json": {
       "model_id": "355e3c3b33fe4f82a7688c87dd951e1b",
       "version_major": 2,
       "version_minor": 0
      },
      "text/plain": [
       "  0%|          | 0/116 [00:00<?, ?it/s]"
      ]
     },
     "metadata": {},
     "output_type": "display_data"
    },
    {
     "data": {
      "application/vnd.jupyter.widget-view+json": {
       "model_id": "490bea299b2d41fe9c14d23758388613",
       "version_major": 2,
       "version_minor": 0
      },
      "text/plain": [
       "  0%|          | 0/51 [00:00<?, ?it/s]"
      ]
     },
     "metadata": {},
     "output_type": "display_data"
    },
    {
     "name": "stdout",
     "output_type": "stream",
     "text": [
      "Epoch:20 |Train Loss:0.7119318904547856|Valid Loss:0.8054556542751836\n",
      "\u001b[35mTime taken by epoch 20 is 36.77s\u001b[0m\n",
      "Epoch Started:21\n"
     ]
    },
    {
     "data": {
      "application/vnd.jupyter.widget-view+json": {
       "model_id": "57793f86d57e4b70a5f2d0f871e8e1ca",
       "version_major": 2,
       "version_minor": 0
      },
      "text/plain": [
       "  0%|          | 0/116 [00:00<?, ?it/s]"
      ]
     },
     "metadata": {},
     "output_type": "display_data"
    },
    {
     "data": {
      "application/vnd.jupyter.widget-view+json": {
       "model_id": "860c8f06bcf04106b7d551521498d691",
       "version_major": 2,
       "version_minor": 0
      },
      "text/plain": [
       "  0%|          | 0/51 [00:00<?, ?it/s]"
      ]
     },
     "metadata": {},
     "output_type": "display_data"
    },
    {
     "name": "stdout",
     "output_type": "stream",
     "text": [
      "Epoch:21 |Train Loss:0.7072725861236967|Valid Loss:0.8071745096468458\n",
      "\u001b[35mTime taken by epoch 21 is 37.04s\u001b[0m\n",
      "Epoch Started:22\n"
     ]
    },
    {
     "data": {
      "application/vnd.jupyter.widget-view+json": {
       "model_id": "4b955aed11384a5a92b58097b0a2dd7d",
       "version_major": 2,
       "version_minor": 0
      },
      "text/plain": [
       "  0%|          | 0/116 [00:00<?, ?it/s]"
      ]
     },
     "metadata": {},
     "output_type": "display_data"
    },
    {
     "data": {
      "application/vnd.jupyter.widget-view+json": {
       "model_id": "2cc1196f063e4e42b24b3873fe842e87",
       "version_major": 2,
       "version_minor": 0
      },
      "text/plain": [
       "  0%|          | 0/51 [00:00<?, ?it/s]"
      ]
     },
     "metadata": {},
     "output_type": "display_data"
    },
    {
     "name": "stdout",
     "output_type": "stream",
     "text": [
      "Epoch:22 |Train Loss:0.7049439950235958|Valid Loss:0.8077345770948073\n",
      "\u001b[35mTime taken by epoch 22 is 36.78s\u001b[0m\n",
      "Epoch Started:23\n"
     ]
    },
    {
     "data": {
      "application/vnd.jupyter.widget-view+json": {
       "model_id": "fea51890a6cd40018f06992018052c4f",
       "version_major": 2,
       "version_minor": 0
      },
      "text/plain": [
       "  0%|          | 0/116 [00:00<?, ?it/s]"
      ]
     },
     "metadata": {},
     "output_type": "display_data"
    },
    {
     "data": {
      "application/vnd.jupyter.widget-view+json": {
       "model_id": "f78a09e0149a46e3a3121a1f78926f99",
       "version_major": 2,
       "version_minor": 0
      },
      "text/plain": [
       "  0%|          | 0/51 [00:00<?, ?it/s]"
      ]
     },
     "metadata": {},
     "output_type": "display_data"
    },
    {
     "name": "stdout",
     "output_type": "stream",
     "text": [
      "Epoch:23 |Train Loss:0.7017257737702337|Valid Loss:0.8079780012953515\n",
      "\u001b[32mEARLY STOPPING\n",
      "Starting for fold: 2\u001b[31m\n",
      "Preparing training data for fold: 2\u001b[35m\n",
      "(1575207, 304)\n",
      "(1464649, 30, 1) (1464649, 1) (1464649, 300)\n",
      "(412467, 30, 1) (412467, 1) (1464649, 300)\n",
      "303\n",
      "cuda is used\n"
     ]
    },
    {
     "data": {
      "application/vnd.jupyter.widget-view+json": {
       "model_id": "ace5ca55ba68431fb663143ef74d7e2c",
       "version_major": 2,
       "version_minor": 0
      },
      "text/plain": [
       "  0%|          | 0/100 [00:00<?, ?it/s]"
      ]
     },
     "metadata": {},
     "output_type": "display_data"
    },
    {
     "name": "stdout",
     "output_type": "stream",
     "text": [
      "Epoch Started:0\n"
     ]
    },
    {
     "data": {
      "application/vnd.jupyter.widget-view+json": {
       "model_id": "064d31b593854af0a6c32b553dea1d6b",
       "version_major": 2,
       "version_minor": 0
      },
      "text/plain": [
       "  0%|          | 0/179 [00:00<?, ?it/s]"
      ]
     },
     "metadata": {},
     "output_type": "display_data"
    },
    {
     "data": {
      "application/vnd.jupyter.widget-view+json": {
       "model_id": "9537f01174f24aabad9d1e937027dc29",
       "version_major": 2,
       "version_minor": 0
      },
      "text/plain": [
       "  0%|          | 0/51 [00:00<?, ?it/s]"
      ]
     },
     "metadata": {},
     "output_type": "display_data"
    },
    {
     "name": "stdout",
     "output_type": "stream",
     "text": [
      "Epoch:0 |Train Loss:0.8627517602963155|Valid Loss:0.8615264880890939\n",
      "\u001b[32mLoss Decreased from 9999999 to 0.8615264880890939\u001b[0m\n",
      "\u001b[35mTime taken by epoch 0 is 52.16s\u001b[0m\n",
      "Epoch Started:1\n"
     ]
    },
    {
     "data": {
      "application/vnd.jupyter.widget-view+json": {
       "model_id": "8226568ac1d04e2c83a729e39b02af59",
       "version_major": 2,
       "version_minor": 0
      },
      "text/plain": [
       "  0%|          | 0/179 [00:00<?, ?it/s]"
      ]
     },
     "metadata": {},
     "output_type": "display_data"
    },
    {
     "data": {
      "application/vnd.jupyter.widget-view+json": {
       "model_id": "d3d6d98864df4313a2fa4e0d70e461de",
       "version_major": 2,
       "version_minor": 0
      },
      "text/plain": [
       "  0%|          | 0/51 [00:00<?, ?it/s]"
      ]
     },
     "metadata": {},
     "output_type": "display_data"
    },
    {
     "name": "stdout",
     "output_type": "stream",
     "text": [
      "Epoch:1 |Train Loss:0.8207955213898387|Valid Loss:0.8320486755932078\n",
      "\u001b[32mLoss Decreased from 0.8615264880890939 to 0.8320486755932078\u001b[0m\n",
      "\u001b[35mTime taken by epoch 1 is 52.23s\u001b[0m\n",
      "Epoch Started:2\n"
     ]
    },
    {
     "data": {
      "application/vnd.jupyter.widget-view+json": {
       "model_id": "48d1f1dd333d4680a46b2dcd64b495b2",
       "version_major": 2,
       "version_minor": 0
      },
      "text/plain": [
       "  0%|          | 0/179 [00:00<?, ?it/s]"
      ]
     },
     "metadata": {},
     "output_type": "display_data"
    },
    {
     "data": {
      "application/vnd.jupyter.widget-view+json": {
       "model_id": "0be4cd616a3945fea3d0947ce2cfded5",
       "version_major": 2,
       "version_minor": 0
      },
      "text/plain": [
       "  0%|          | 0/51 [00:00<?, ?it/s]"
      ]
     },
     "metadata": {},
     "output_type": "display_data"
    },
    {
     "name": "stdout",
     "output_type": "stream",
     "text": [
      "Epoch:2 |Train Loss:0.801622262547136|Valid Loss:0.8223411265541526\n",
      "\u001b[32mLoss Decreased from 0.8320486755932078 to 0.8223411265541526\u001b[0m\n",
      "\u001b[35mTime taken by epoch 2 is 52.39s\u001b[0m\n",
      "Epoch Started:3\n"
     ]
    },
    {
     "data": {
      "application/vnd.jupyter.widget-view+json": {
       "model_id": "8f7fa2d062cb479683d4cf9c925a1848",
       "version_major": 2,
       "version_minor": 0
      },
      "text/plain": [
       "  0%|          | 0/179 [00:00<?, ?it/s]"
      ]
     },
     "metadata": {},
     "output_type": "display_data"
    },
    {
     "data": {
      "application/vnd.jupyter.widget-view+json": {
       "model_id": "643f9e72114d468bbfe1d007202269b9",
       "version_major": 2,
       "version_minor": 0
      },
      "text/plain": [
       "  0%|          | 0/51 [00:00<?, ?it/s]"
      ]
     },
     "metadata": {},
     "output_type": "display_data"
    },
    {
     "name": "stdout",
     "output_type": "stream",
     "text": [
      "Epoch:3 |Train Loss:0.792887937756224|Valid Loss:0.817145379150615\n",
      "\u001b[32mLoss Decreased from 0.8223411265541526 to 0.817145379150615\u001b[0m\n",
      "\u001b[35mTime taken by epoch 3 is 52.06s\u001b[0m\n",
      "Epoch Started:4\n"
     ]
    },
    {
     "data": {
      "application/vnd.jupyter.widget-view+json": {
       "model_id": "b1d25023c2534401a252d02707d25eaa",
       "version_major": 2,
       "version_minor": 0
      },
      "text/plain": [
       "  0%|          | 0/179 [00:00<?, ?it/s]"
      ]
     },
     "metadata": {},
     "output_type": "display_data"
    },
    {
     "data": {
      "application/vnd.jupyter.widget-view+json": {
       "model_id": "9124293147714a248a8aea42b27d632a",
       "version_major": 2,
       "version_minor": 0
      },
      "text/plain": [
       "  0%|          | 0/51 [00:00<?, ?it/s]"
      ]
     },
     "metadata": {},
     "output_type": "display_data"
    },
    {
     "name": "stdout",
     "output_type": "stream",
     "text": [
      "Epoch:4 |Train Loss:0.7859962452723327|Valid Loss:0.8152390613275415\n",
      "\u001b[32mLoss Decreased from 0.817145379150615 to 0.8152390613275415\u001b[0m\n",
      "\u001b[35mTime taken by epoch 4 is 52.38s\u001b[0m\n",
      "Epoch Started:5\n"
     ]
    },
    {
     "data": {
      "application/vnd.jupyter.widget-view+json": {
       "model_id": "17bd3f5042774d5ca1c9f3af34b797be",
       "version_major": 2,
       "version_minor": 0
      },
      "text/plain": [
       "  0%|          | 0/179 [00:00<?, ?it/s]"
      ]
     },
     "metadata": {},
     "output_type": "display_data"
    },
    {
     "data": {
      "application/vnd.jupyter.widget-view+json": {
       "model_id": "9f5cc03eb59041f78a9e396147bec080",
       "version_major": 2,
       "version_minor": 0
      },
      "text/plain": [
       "  0%|          | 0/51 [00:00<?, ?it/s]"
      ]
     },
     "metadata": {},
     "output_type": "display_data"
    },
    {
     "name": "stdout",
     "output_type": "stream",
     "text": [
      "Epoch:5 |Train Loss:0.780625197474517|Valid Loss:0.814043353585636\n",
      "\u001b[32mLoss Decreased from 0.8152390613275415 to 0.814043353585636\u001b[0m\n",
      "\u001b[35mTime taken by epoch 5 is 52.40s\u001b[0m\n",
      "Epoch Started:6\n"
     ]
    },
    {
     "data": {
      "application/vnd.jupyter.widget-view+json": {
       "model_id": "b7a26811bdad4ae09240fa2e00987614",
       "version_major": 2,
       "version_minor": 0
      },
      "text/plain": [
       "  0%|          | 0/179 [00:00<?, ?it/s]"
      ]
     },
     "metadata": {},
     "output_type": "display_data"
    },
    {
     "data": {
      "application/vnd.jupyter.widget-view+json": {
       "model_id": "4b66e880d3394c1db40582010b337f00",
       "version_major": 2,
       "version_minor": 0
      },
      "text/plain": [
       "  0%|          | 0/51 [00:00<?, ?it/s]"
      ]
     },
     "metadata": {},
     "output_type": "display_data"
    },
    {
     "name": "stdout",
     "output_type": "stream",
     "text": [
      "Epoch:6 |Train Loss:0.7759738714335351|Valid Loss:0.8147776115174387\n",
      "\u001b[35mTime taken by epoch 6 is 52.39s\u001b[0m\n",
      "Epoch Started:7\n"
     ]
    },
    {
     "data": {
      "application/vnd.jupyter.widget-view+json": {
       "model_id": "10e89847458640adaf505787acd47a2a",
       "version_major": 2,
       "version_minor": 0
      },
      "text/plain": [
       "  0%|          | 0/179 [00:00<?, ?it/s]"
      ]
     },
     "metadata": {},
     "output_type": "display_data"
    },
    {
     "data": {
      "application/vnd.jupyter.widget-view+json": {
       "model_id": "bd80b21d55e242d09e47a1ecf1f3f28c",
       "version_major": 2,
       "version_minor": 0
      },
      "text/plain": [
       "  0%|          | 0/51 [00:00<?, ?it/s]"
      ]
     },
     "metadata": {},
     "output_type": "display_data"
    },
    {
     "name": "stdout",
     "output_type": "stream",
     "text": [
      "Epoch:7 |Train Loss:0.7710050514290453|Valid Loss:0.8118034110349768\n",
      "\u001b[32mLoss Decreased from 0.814043353585636 to 0.8118034110349768\u001b[0m\n",
      "\u001b[35mTime taken by epoch 7 is 52.19s\u001b[0m\n",
      "Epoch Started:8\n"
     ]
    },
    {
     "data": {
      "application/vnd.jupyter.widget-view+json": {
       "model_id": "afa4701e56ce4303bd1db16303818d5e",
       "version_major": 2,
       "version_minor": 0
      },
      "text/plain": [
       "  0%|          | 0/179 [00:00<?, ?it/s]"
      ]
     },
     "metadata": {},
     "output_type": "display_data"
    },
    {
     "data": {
      "application/vnd.jupyter.widget-view+json": {
       "model_id": "7a5d7bdca9ee4afe936fea61ea18f833",
       "version_major": 2,
       "version_minor": 0
      },
      "text/plain": [
       "  0%|          | 0/51 [00:00<?, ?it/s]"
      ]
     },
     "metadata": {},
     "output_type": "display_data"
    },
    {
     "name": "stdout",
     "output_type": "stream",
     "text": [
      "Epoch:8 |Train Loss:0.7667805982035631|Valid Loss:0.8122377220322105\n",
      "\u001b[35mTime taken by epoch 8 is 52.70s\u001b[0m\n",
      "Epoch Started:9\n"
     ]
    },
    {
     "data": {
      "application/vnd.jupyter.widget-view+json": {
       "model_id": "0eb26c0ae61c412887a7bbc9d7f91dfb",
       "version_major": 2,
       "version_minor": 0
      },
      "text/plain": [
       "  0%|          | 0/179 [00:00<?, ?it/s]"
      ]
     },
     "metadata": {},
     "output_type": "display_data"
    },
    {
     "data": {
      "application/vnd.jupyter.widget-view+json": {
       "model_id": "507b3158a5b040c18a6b288d88c3c3d8",
       "version_major": 2,
       "version_minor": 0
      },
      "text/plain": [
       "  0%|          | 0/51 [00:00<?, ?it/s]"
      ]
     },
     "metadata": {},
     "output_type": "display_data"
    },
    {
     "name": "stdout",
     "output_type": "stream",
     "text": [
      "Epoch:9 |Train Loss:0.7624056815435101|Valid Loss:0.8128079257759393\n",
      "\u001b[35mTime taken by epoch 9 is 52.62s\u001b[0m\n",
      "Epoch Started:10\n"
     ]
    },
    {
     "data": {
      "application/vnd.jupyter.widget-view+json": {
       "model_id": "2e98a25ce73649edad3b4bf349f1a95f",
       "version_major": 2,
       "version_minor": 0
      },
      "text/plain": [
       "  0%|          | 0/179 [00:00<?, ?it/s]"
      ]
     },
     "metadata": {},
     "output_type": "display_data"
    },
    {
     "data": {
      "application/vnd.jupyter.widget-view+json": {
       "model_id": "264681881643423284a057134f7b3b11",
       "version_major": 2,
       "version_minor": 0
      },
      "text/plain": [
       "  0%|          | 0/51 [00:00<?, ?it/s]"
      ]
     },
     "metadata": {},
     "output_type": "display_data"
    },
    {
     "name": "stdout",
     "output_type": "stream",
     "text": [
      "Epoch:10 |Train Loss:0.7578870134646666|Valid Loss:0.8140165291580499\n",
      "\u001b[35mTime taken by epoch 10 is 52.56s\u001b[0m\n",
      "Epoch Started:11\n"
     ]
    },
    {
     "data": {
      "application/vnd.jupyter.widget-view+json": {
       "model_id": "f06335d345874974b7200d3ebe6342da",
       "version_major": 2,
       "version_minor": 0
      },
      "text/plain": [
       "  0%|          | 0/179 [00:00<?, ?it/s]"
      ]
     },
     "metadata": {},
     "output_type": "display_data"
    },
    {
     "data": {
      "application/vnd.jupyter.widget-view+json": {
       "model_id": "e69db4b9f47d46339d058867e713599e",
       "version_major": 2,
       "version_minor": 0
      },
      "text/plain": [
       "  0%|          | 0/51 [00:00<?, ?it/s]"
      ]
     },
     "metadata": {},
     "output_type": "display_data"
    },
    {
     "name": "stdout",
     "output_type": "stream",
     "text": [
      "Epoch:11 |Train Loss:0.7527045417764333|Valid Loss:0.8130856822518742\n",
      "\u001b[35mTime taken by epoch 11 is 52.63s\u001b[0m\n",
      "Epoch Started:12\n"
     ]
    },
    {
     "data": {
      "application/vnd.jupyter.widget-view+json": {
       "model_id": "89fe25f58e4e462fac55391c392e0e43",
       "version_major": 2,
       "version_minor": 0
      },
      "text/plain": [
       "  0%|          | 0/179 [00:00<?, ?it/s]"
      ]
     },
     "metadata": {},
     "output_type": "display_data"
    },
    {
     "data": {
      "application/vnd.jupyter.widget-view+json": {
       "model_id": "b3bf29d3c77d46999b1d189ec9b1c51d",
       "version_major": 2,
       "version_minor": 0
      },
      "text/plain": [
       "  0%|          | 0/51 [00:00<?, ?it/s]"
      ]
     },
     "metadata": {},
     "output_type": "display_data"
    },
    {
     "name": "stdout",
     "output_type": "stream",
     "text": [
      "Epoch:12 |Train Loss:0.749658045156042|Valid Loss:0.8157249747538099\n",
      "\u001b[35mTime taken by epoch 12 is 52.54s\u001b[0m\n",
      "Epoch Started:13\n"
     ]
    },
    {
     "data": {
      "application/vnd.jupyter.widget-view+json": {
       "model_id": "0bde808fafd449678148e582dc85b16c",
       "version_major": 2,
       "version_minor": 0
      },
      "text/plain": [
       "  0%|          | 0/179 [00:00<?, ?it/s]"
      ]
     },
     "metadata": {},
     "output_type": "display_data"
    },
    {
     "data": {
      "application/vnd.jupyter.widget-view+json": {
       "model_id": "bad8935b12344227a6804296ef42d791",
       "version_major": 2,
       "version_minor": 0
      },
      "text/plain": [
       "  0%|          | 0/51 [00:00<?, ?it/s]"
      ]
     },
     "metadata": {},
     "output_type": "display_data"
    },
    {
     "name": "stdout",
     "output_type": "stream",
     "text": [
      "Epoch:13 |Train Loss:0.7453346648695749|Valid Loss:0.8153094088329988\n",
      "\u001b[35mTime taken by epoch 13 is 52.48s\u001b[0m\n",
      "Epoch Started:14\n"
     ]
    },
    {
     "data": {
      "application/vnd.jupyter.widget-view+json": {
       "model_id": "358d4c412abe4277b2cde1c12cd6c43f",
       "version_major": 2,
       "version_minor": 0
      },
      "text/plain": [
       "  0%|          | 0/179 [00:00<?, ?it/s]"
      ]
     },
     "metadata": {},
     "output_type": "display_data"
    },
    {
     "data": {
      "application/vnd.jupyter.widget-view+json": {
       "model_id": "4b99b922535c453e92df39a3beec08db",
       "version_major": 2,
       "version_minor": 0
      },
      "text/plain": [
       "  0%|          | 0/51 [00:00<?, ?it/s]"
      ]
     },
     "metadata": {},
     "output_type": "display_data"
    },
    {
     "name": "stdout",
     "output_type": "stream",
     "text": [
      "Epoch:14 |Train Loss:0.740533591315733|Valid Loss:0.8146259293836706\n",
      "\u001b[35mTime taken by epoch 14 is 52.43s\u001b[0m\n",
      "Epoch Started:15\n"
     ]
    },
    {
     "data": {
      "application/vnd.jupyter.widget-view+json": {
       "model_id": "aba99bc5b26d46498957516125839cf6",
       "version_major": 2,
       "version_minor": 0
      },
      "text/plain": [
       "  0%|          | 0/179 [00:00<?, ?it/s]"
      ]
     },
     "metadata": {},
     "output_type": "display_data"
    },
    {
     "data": {
      "application/vnd.jupyter.widget-view+json": {
       "model_id": "cf9da3bd2c594941b76d2e535d5c3503",
       "version_major": 2,
       "version_minor": 0
      },
      "text/plain": [
       "  0%|          | 0/51 [00:00<?, ?it/s]"
      ]
     },
     "metadata": {},
     "output_type": "display_data"
    },
    {
     "name": "stdout",
     "output_type": "stream",
     "text": [
      "Epoch:15 |Train Loss:0.736288974405001|Valid Loss:0.8180324306675032\n",
      "\u001b[35mTime taken by epoch 15 is 52.50s\u001b[0m\n",
      "Epoch Started:16\n"
     ]
    },
    {
     "data": {
      "application/vnd.jupyter.widget-view+json": {
       "model_id": "d87b6f6e58394feda1df8f20381bd6a8",
       "version_major": 2,
       "version_minor": 0
      },
      "text/plain": [
       "  0%|          | 0/179 [00:00<?, ?it/s]"
      ]
     },
     "metadata": {},
     "output_type": "display_data"
    },
    {
     "data": {
      "application/vnd.jupyter.widget-view+json": {
       "model_id": "c42367d1ab944111aa210cff06181416",
       "version_major": 2,
       "version_minor": 0
      },
      "text/plain": [
       "  0%|          | 0/51 [00:00<?, ?it/s]"
      ]
     },
     "metadata": {},
     "output_type": "display_data"
    },
    {
     "name": "stdout",
     "output_type": "stream",
     "text": [
      "Epoch:16 |Train Loss:0.7334034935722138|Valid Loss:0.8157855482662425\n",
      "\u001b[35mTime taken by epoch 16 is 52.48s\u001b[0m\n",
      "Epoch Started:17\n"
     ]
    },
    {
     "data": {
      "application/vnd.jupyter.widget-view+json": {
       "model_id": "bc5867620c774d1ca0b6274fba9c4b79",
       "version_major": 2,
       "version_minor": 0
      },
      "text/plain": [
       "  0%|          | 0/179 [00:00<?, ?it/s]"
      ]
     },
     "metadata": {},
     "output_type": "display_data"
    },
    {
     "data": {
      "application/vnd.jupyter.widget-view+json": {
       "model_id": "d319503c91d94d9daea608f2f05177ba",
       "version_major": 2,
       "version_minor": 0
      },
      "text/plain": [
       "  0%|          | 0/51 [00:00<?, ?it/s]"
      ]
     },
     "metadata": {},
     "output_type": "display_data"
    },
    {
     "name": "stdout",
     "output_type": "stream",
     "text": [
      "Epoch:17 |Train Loss:0.7278907635358459|Valid Loss:0.8178824630438113\n",
      "\u001b[32mEARLY STOPPING\n",
      "Starting for fold: 3\u001b[31m\n",
      "Preparing training data for fold: 3\u001b[35m\n",
      "(2097273, 304)\n",
      "(1986639, 30, 1) (1986639, 1) (1986639, 300)\n",
      "(412467, 30, 1) (412467, 1) (1986639, 300)\n",
      "303\n",
      "cuda is used\n"
     ]
    },
    {
     "data": {
      "application/vnd.jupyter.widget-view+json": {
       "model_id": "4cce2e7826f2411d951284934663fbb5",
       "version_major": 2,
       "version_minor": 0
      },
      "text/plain": [
       "  0%|          | 0/100 [00:00<?, ?it/s]"
      ]
     },
     "metadata": {},
     "output_type": "display_data"
    },
    {
     "name": "stdout",
     "output_type": "stream",
     "text": [
      "Epoch Started:0\n"
     ]
    },
    {
     "data": {
      "application/vnd.jupyter.widget-view+json": {
       "model_id": "11ea1d4931244df3a80ccf8182e54f0c",
       "version_major": 2,
       "version_minor": 0
      },
      "text/plain": [
       "  0%|          | 0/243 [00:00<?, ?it/s]"
      ]
     },
     "metadata": {},
     "output_type": "display_data"
    },
    {
     "data": {
      "application/vnd.jupyter.widget-view+json": {
       "model_id": "ad58a86aaecf45539b887c1813103b83",
       "version_major": 2,
       "version_minor": 0
      },
      "text/plain": [
       "  0%|          | 0/51 [00:00<?, ?it/s]"
      ]
     },
     "metadata": {},
     "output_type": "display_data"
    },
    {
     "name": "stdout",
     "output_type": "stream",
     "text": [
      "Epoch:0 |Train Loss:0.8667199621475282|Valid Loss:0.8709801680901471\n",
      "\u001b[32mLoss Decreased from 9999999 to 0.8709801680901471\u001b[0m\n",
      "\u001b[35mTime taken by epoch 0 is 67.95s\u001b[0m\n",
      "Epoch Started:1\n"
     ]
    },
    {
     "data": {
      "application/vnd.jupyter.widget-view+json": {
       "model_id": "a0f45af5ef66480196dd78334be77095",
       "version_major": 2,
       "version_minor": 0
      },
      "text/plain": [
       "  0%|          | 0/243 [00:00<?, ?it/s]"
      ]
     },
     "metadata": {},
     "output_type": "display_data"
    },
    {
     "data": {
      "application/vnd.jupyter.widget-view+json": {
       "model_id": "a0811a4a570f4d4496dcffa53add5e7a",
       "version_major": 2,
       "version_minor": 0
      },
      "text/plain": [
       "  0%|          | 0/51 [00:00<?, ?it/s]"
      ]
     },
     "metadata": {},
     "output_type": "display_data"
    },
    {
     "name": "stdout",
     "output_type": "stream",
     "text": [
      "Epoch:1 |Train Loss:0.8278144826123743|Valid Loss:0.8332980018036038\n",
      "\u001b[32mLoss Decreased from 0.8709801680901471 to 0.8332980018036038\u001b[0m\n",
      "\u001b[35mTime taken by epoch 1 is 68.19s\u001b[0m\n",
      "Epoch Started:2\n"
     ]
    },
    {
     "data": {
      "application/vnd.jupyter.widget-view+json": {
       "model_id": "9997084545604ce197bdbeb2105e2aec",
       "version_major": 2,
       "version_minor": 0
      },
      "text/plain": [
       "  0%|          | 0/243 [00:00<?, ?it/s]"
      ]
     },
     "metadata": {},
     "output_type": "display_data"
    },
    {
     "data": {
      "application/vnd.jupyter.widget-view+json": {
       "model_id": "b5f994c65ba54af89380731f11f8affa",
       "version_major": 2,
       "version_minor": 0
      },
      "text/plain": [
       "  0%|          | 0/51 [00:00<?, ?it/s]"
      ]
     },
     "metadata": {},
     "output_type": "display_data"
    },
    {
     "name": "stdout",
     "output_type": "stream",
     "text": [
      "Epoch:2 |Train Loss:0.8072190115481247|Valid Loss:0.8162734613699072\n",
      "\u001b[32mLoss Decreased from 0.8332980018036038 to 0.8162734613699072\u001b[0m\n",
      "\u001b[35mTime taken by epoch 2 is 68.37s\u001b[0m\n",
      "Epoch Started:3\n"
     ]
    },
    {
     "data": {
      "application/vnd.jupyter.widget-view+json": {
       "model_id": "ce3086dc795b4e5bb155d1eb0e9cb538",
       "version_major": 2,
       "version_minor": 0
      },
      "text/plain": [
       "  0%|          | 0/243 [00:00<?, ?it/s]"
      ]
     },
     "metadata": {},
     "output_type": "display_data"
    },
    {
     "data": {
      "application/vnd.jupyter.widget-view+json": {
       "model_id": "b1d91f9fd5ca4aeca2be1d43ff8a11d2",
       "version_major": 2,
       "version_minor": 0
      },
      "text/plain": [
       "  0%|          | 0/51 [00:00<?, ?it/s]"
      ]
     },
     "metadata": {},
     "output_type": "display_data"
    },
    {
     "name": "stdout",
     "output_type": "stream",
     "text": [
      "Epoch:3 |Train Loss:0.7971029649546117|Valid Loss:0.8129206580274245\n",
      "\u001b[32mLoss Decreased from 0.8162734613699072 to 0.8129206580274245\u001b[0m\n",
      "\u001b[35mTime taken by epoch 3 is 68.12s\u001b[0m\n",
      "Epoch Started:4\n"
     ]
    },
    {
     "data": {
      "application/vnd.jupyter.widget-view+json": {
       "model_id": "a45b0ade651142e09886f9bb20676eee",
       "version_major": 2,
       "version_minor": 0
      },
      "text/plain": [
       "  0%|          | 0/243 [00:00<?, ?it/s]"
      ]
     },
     "metadata": {},
     "output_type": "display_data"
    },
    {
     "data": {
      "application/vnd.jupyter.widget-view+json": {
       "model_id": "5665e5013c704fa7a0cf305e83adce60",
       "version_major": 2,
       "version_minor": 0
      },
      "text/plain": [
       "  0%|          | 0/51 [00:00<?, ?it/s]"
      ]
     },
     "metadata": {},
     "output_type": "display_data"
    },
    {
     "name": "stdout",
     "output_type": "stream",
     "text": [
      "Epoch:4 |Train Loss:0.7901819951740312|Valid Loss:0.808131311454025\n",
      "\u001b[32mLoss Decreased from 0.8129206580274245 to 0.808131311454025\u001b[0m\n",
      "\u001b[35mTime taken by epoch 4 is 68.16s\u001b[0m\n",
      "Epoch Started:5\n"
     ]
    },
    {
     "data": {
      "application/vnd.jupyter.widget-view+json": {
       "model_id": "2c2308df999742709aff092b376110af",
       "version_major": 2,
       "version_minor": 0
      },
      "text/plain": [
       "  0%|          | 0/243 [00:00<?, ?it/s]"
      ]
     },
     "metadata": {},
     "output_type": "display_data"
    },
    {
     "data": {
      "application/vnd.jupyter.widget-view+json": {
       "model_id": "b9d3c00696ce480ba05784ee40ea1ec7",
       "version_major": 2,
       "version_minor": 0
      },
      "text/plain": [
       "  0%|          | 0/51 [00:00<?, ?it/s]"
      ]
     },
     "metadata": {},
     "output_type": "display_data"
    },
    {
     "name": "stdout",
     "output_type": "stream",
     "text": [
      "Epoch:5 |Train Loss:0.7860289942089913|Valid Loss:0.8061641267701691\n",
      "\u001b[32mLoss Decreased from 0.808131311454025 to 0.8061641267701691\u001b[0m\n",
      "\u001b[35mTime taken by epoch 5 is 68.43s\u001b[0m\n",
      "Epoch Started:6\n"
     ]
    },
    {
     "data": {
      "application/vnd.jupyter.widget-view+json": {
       "model_id": "1df3713e621446e6937d5226dff9b3d5",
       "version_major": 2,
       "version_minor": 0
      },
      "text/plain": [
       "  0%|          | 0/243 [00:00<?, ?it/s]"
      ]
     },
     "metadata": {},
     "output_type": "display_data"
    },
    {
     "data": {
      "application/vnd.jupyter.widget-view+json": {
       "model_id": "839930460fca496cbc2d0b373d50424a",
       "version_major": 2,
       "version_minor": 0
      },
      "text/plain": [
       "  0%|          | 0/51 [00:00<?, ?it/s]"
      ]
     },
     "metadata": {},
     "output_type": "display_data"
    },
    {
     "name": "stdout",
     "output_type": "stream",
     "text": [
      "Epoch:6 |Train Loss:0.7811097365347937|Valid Loss:0.8059844421405419\n",
      "\u001b[32mLoss Decreased from 0.8061641267701691 to 0.8059844421405419\u001b[0m\n",
      "\u001b[35mTime taken by epoch 6 is 68.27s\u001b[0m\n",
      "Epoch Started:7\n"
     ]
    },
    {
     "data": {
      "application/vnd.jupyter.widget-view+json": {
       "model_id": "198c8f0831764be2b1f33f5faa70a8d1",
       "version_major": 2,
       "version_minor": 0
      },
      "text/plain": [
       "  0%|          | 0/243 [00:00<?, ?it/s]"
      ]
     },
     "metadata": {},
     "output_type": "display_data"
    },
    {
     "data": {
      "application/vnd.jupyter.widget-view+json": {
       "model_id": "2c39261e189d4e5ebb155eb30e4fe2e7",
       "version_major": 2,
       "version_minor": 0
      },
      "text/plain": [
       "  0%|          | 0/51 [00:00<?, ?it/s]"
      ]
     },
     "metadata": {},
     "output_type": "display_data"
    },
    {
     "name": "stdout",
     "output_type": "stream",
     "text": [
      "Epoch:7 |Train Loss:0.7764487232200403|Valid Loss:0.8042598097932105\n",
      "\u001b[32mLoss Decreased from 0.8059844421405419 to 0.8042598097932105\u001b[0m\n",
      "\u001b[35mTime taken by epoch 7 is 68.33s\u001b[0m\n",
      "Epoch Started:8\n"
     ]
    },
    {
     "data": {
      "application/vnd.jupyter.widget-view+json": {
       "model_id": "6814ed71f57241e6bc38634a4a0997c3",
       "version_major": 2,
       "version_minor": 0
      },
      "text/plain": [
       "  0%|          | 0/243 [00:00<?, ?it/s]"
      ]
     },
     "metadata": {},
     "output_type": "display_data"
    },
    {
     "data": {
      "application/vnd.jupyter.widget-view+json": {
       "model_id": "4e0cfd0c38f54c1bbaf7c3ae2b086aa4",
       "version_major": 2,
       "version_minor": 0
      },
      "text/plain": [
       "  0%|          | 0/51 [00:00<?, ?it/s]"
      ]
     },
     "metadata": {},
     "output_type": "display_data"
    },
    {
     "name": "stdout",
     "output_type": "stream",
     "text": [
      "Epoch:8 |Train Loss:0.7723257114857803|Valid Loss:0.8034945177096947\n",
      "\u001b[32mLoss Decreased from 0.8042598097932105 to 0.8034945177096947\u001b[0m\n",
      "\u001b[35mTime taken by epoch 8 is 68.25s\u001b[0m\n",
      "Epoch Started:9\n"
     ]
    },
    {
     "data": {
      "application/vnd.jupyter.widget-view+json": {
       "model_id": "5662240a802743ea838370ce968038bf",
       "version_major": 2,
       "version_minor": 0
      },
      "text/plain": [
       "  0%|          | 0/243 [00:00<?, ?it/s]"
      ]
     },
     "metadata": {},
     "output_type": "display_data"
    },
    {
     "data": {
      "application/vnd.jupyter.widget-view+json": {
       "model_id": "ed517e0a491e4148a1a3659cccb89d1d",
       "version_major": 2,
       "version_minor": 0
      },
      "text/plain": [
       "  0%|          | 0/51 [00:00<?, ?it/s]"
      ]
     },
     "metadata": {},
     "output_type": "display_data"
    },
    {
     "name": "stdout",
     "output_type": "stream",
     "text": [
      "Epoch:9 |Train Loss:0.7685386697941847|Valid Loss:0.8059269762506672\n",
      "\u001b[35mTime taken by epoch 9 is 68.65s\u001b[0m\n",
      "Epoch Started:10\n"
     ]
    },
    {
     "data": {
      "application/vnd.jupyter.widget-view+json": {
       "model_id": "b0f48aa47f49403f8696ff8f0b1893fb",
       "version_major": 2,
       "version_minor": 0
      },
      "text/plain": [
       "  0%|          | 0/243 [00:00<?, ?it/s]"
      ]
     },
     "metadata": {},
     "output_type": "display_data"
    },
    {
     "data": {
      "application/vnd.jupyter.widget-view+json": {
       "model_id": "b3d7680f853c4eed96e6a42ff991cc5f",
       "version_major": 2,
       "version_minor": 0
      },
      "text/plain": [
       "  0%|          | 0/51 [00:00<?, ?it/s]"
      ]
     },
     "metadata": {},
     "output_type": "display_data"
    },
    {
     "name": "stdout",
     "output_type": "stream",
     "text": [
      "Epoch:10 |Train Loss:0.76466541550287|Valid Loss:0.8050698719772638\n",
      "\u001b[35mTime taken by epoch 10 is 68.28s\u001b[0m\n",
      "Epoch Started:11\n"
     ]
    },
    {
     "data": {
      "application/vnd.jupyter.widget-view+json": {
       "model_id": "42dc520d0581451a91db6d07f54e2eb2",
       "version_major": 2,
       "version_minor": 0
      },
      "text/plain": [
       "  0%|          | 0/243 [00:00<?, ?it/s]"
      ]
     },
     "metadata": {},
     "output_type": "display_data"
    },
    {
     "data": {
      "application/vnd.jupyter.widget-view+json": {
       "model_id": "2c09e74fa0bf4b909aa456c038d8e6a2",
       "version_major": 2,
       "version_minor": 0
      },
      "text/plain": [
       "  0%|          | 0/51 [00:00<?, ?it/s]"
      ]
     },
     "metadata": {},
     "output_type": "display_data"
    },
    {
     "name": "stdout",
     "output_type": "stream",
     "text": [
      "Epoch:11 |Train Loss:0.7609338630374076|Valid Loss:0.8040018946516747\n",
      "\u001b[35mTime taken by epoch 11 is 68.40s\u001b[0m\n",
      "Epoch Started:12\n"
     ]
    },
    {
     "data": {
      "application/vnd.jupyter.widget-view+json": {
       "model_id": "5632e44d63084cf7ab40faa5f9a1fac2",
       "version_major": 2,
       "version_minor": 0
      },
      "text/plain": [
       "  0%|          | 0/243 [00:00<?, ?it/s]"
      ]
     },
     "metadata": {},
     "output_type": "display_data"
    },
    {
     "data": {
      "application/vnd.jupyter.widget-view+json": {
       "model_id": "8ca6f5408a95421ca344aaea53b29f5a",
       "version_major": 2,
       "version_minor": 0
      },
      "text/plain": [
       "  0%|          | 0/51 [00:00<?, ?it/s]"
      ]
     },
     "metadata": {},
     "output_type": "display_data"
    },
    {
     "name": "stdout",
     "output_type": "stream",
     "text": [
      "Epoch:12 |Train Loss:0.7575175462926856|Valid Loss:0.8036174119687548\n",
      "\u001b[35mTime taken by epoch 12 is 67.56s\u001b[0m\n",
      "Epoch Started:13\n"
     ]
    },
    {
     "data": {
      "application/vnd.jupyter.widget-view+json": {
       "model_id": "0ff5ed879e754b3fbc158902850871e8",
       "version_major": 2,
       "version_minor": 0
      },
      "text/plain": [
       "  0%|          | 0/243 [00:00<?, ?it/s]"
      ]
     },
     "metadata": {},
     "output_type": "display_data"
    },
    {
     "data": {
      "application/vnd.jupyter.widget-view+json": {
       "model_id": "6fa439ed467a4c23bf1ede3d62eebc34",
       "version_major": 2,
       "version_minor": 0
      },
      "text/plain": [
       "  0%|          | 0/51 [00:00<?, ?it/s]"
      ]
     },
     "metadata": {},
     "output_type": "display_data"
    },
    {
     "name": "stdout",
     "output_type": "stream",
     "text": [
      "Epoch:13 |Train Loss:0.7536070756460904|Valid Loss:0.8038423400299222\n",
      "\u001b[35mTime taken by epoch 13 is 67.95s\u001b[0m\n",
      "Epoch Started:14\n"
     ]
    },
    {
     "data": {
      "application/vnd.jupyter.widget-view+json": {
       "model_id": "06498d753a3a420aa25ed7682ee5d479",
       "version_major": 2,
       "version_minor": 0
      },
      "text/plain": [
       "  0%|          | 0/243 [00:00<?, ?it/s]"
      ]
     },
     "metadata": {},
     "output_type": "display_data"
    },
    {
     "data": {
      "application/vnd.jupyter.widget-view+json": {
       "model_id": "3f47e7a39fee433d8185ae0bd6439e58",
       "version_major": 2,
       "version_minor": 0
      },
      "text/plain": [
       "  0%|          | 0/51 [00:00<?, ?it/s]"
      ]
     },
     "metadata": {},
     "output_type": "display_data"
    },
    {
     "name": "stdout",
     "output_type": "stream",
     "text": [
      "Epoch:14 |Train Loss:0.7499551895714591|Valid Loss:0.8059200457498139\n",
      "\u001b[35mTime taken by epoch 14 is 68.42s\u001b[0m\n",
      "Epoch Started:15\n"
     ]
    },
    {
     "data": {
      "application/vnd.jupyter.widget-view+json": {
       "model_id": "a7f8cfc1ddf6481d9d0c3903b5ca1dfb",
       "version_major": 2,
       "version_minor": 0
      },
      "text/plain": [
       "  0%|          | 0/243 [00:00<?, ?it/s]"
      ]
     },
     "metadata": {},
     "output_type": "display_data"
    },
    {
     "data": {
      "application/vnd.jupyter.widget-view+json": {
       "model_id": "89fc7a9aba504f8486fd665478355db6",
       "version_major": 2,
       "version_minor": 0
      },
      "text/plain": [
       "  0%|          | 0/51 [00:00<?, ?it/s]"
      ]
     },
     "metadata": {},
     "output_type": "display_data"
    },
    {
     "name": "stdout",
     "output_type": "stream",
     "text": [
      "Epoch:15 |Train Loss:0.7462569043469527|Valid Loss:0.8061276534024406\n",
      "\u001b[35mTime taken by epoch 15 is 68.37s\u001b[0m\n",
      "Epoch Started:16\n"
     ]
    },
    {
     "data": {
      "application/vnd.jupyter.widget-view+json": {
       "model_id": "fd22a54f8c1a4f4189c26de52df9b0cc",
       "version_major": 2,
       "version_minor": 0
      },
      "text/plain": [
       "  0%|          | 0/243 [00:00<?, ?it/s]"
      ]
     },
     "metadata": {},
     "output_type": "display_data"
    },
    {
     "data": {
      "application/vnd.jupyter.widget-view+json": {
       "model_id": "0dd186d0819949ea9088b3743f6bfcb8",
       "version_major": 2,
       "version_minor": 0
      },
      "text/plain": [
       "  0%|          | 0/51 [00:00<?, ?it/s]"
      ]
     },
     "metadata": {},
     "output_type": "display_data"
    },
    {
     "name": "stdout",
     "output_type": "stream",
     "text": [
      "Epoch:16 |Train Loss:0.7420415289608049|Valid Loss:0.8059400331740286\n",
      "\u001b[35mTime taken by epoch 16 is 68.03s\u001b[0m\n",
      "Epoch Started:17\n"
     ]
    },
    {
     "data": {
      "application/vnd.jupyter.widget-view+json": {
       "model_id": "f714778513054de6b7aa338c2e084ddc",
       "version_major": 2,
       "version_minor": 0
      },
      "text/plain": [
       "  0%|          | 0/243 [00:00<?, ?it/s]"
      ]
     },
     "metadata": {},
     "output_type": "display_data"
    },
    {
     "data": {
      "application/vnd.jupyter.widget-view+json": {
       "model_id": "6cf36e73ba4d4fb183480f05b4cb603a",
       "version_major": 2,
       "version_minor": 0
      },
      "text/plain": [
       "  0%|          | 0/51 [00:00<?, ?it/s]"
      ]
     },
     "metadata": {},
     "output_type": "display_data"
    },
    {
     "name": "stdout",
     "output_type": "stream",
     "text": [
      "Epoch:17 |Train Loss:0.7390244168999754|Valid Loss:0.8053269140860614\n",
      "\u001b[35mTime taken by epoch 17 is 68.63s\u001b[0m\n",
      "Epoch Started:18\n"
     ]
    },
    {
     "data": {
      "application/vnd.jupyter.widget-view+json": {
       "model_id": "a03fd5e3b14648e890c2aa1405f1cc66",
       "version_major": 2,
       "version_minor": 0
      },
      "text/plain": [
       "  0%|          | 0/243 [00:00<?, ?it/s]"
      ]
     },
     "metadata": {},
     "output_type": "display_data"
    },
    {
     "data": {
      "application/vnd.jupyter.widget-view+json": {
       "model_id": "fc5668a83ed1424e8ffb7d301987a435",
       "version_major": 2,
       "version_minor": 0
      },
      "text/plain": [
       "  0%|          | 0/51 [00:00<?, ?it/s]"
      ]
     },
     "metadata": {},
     "output_type": "display_data"
    },
    {
     "name": "stdout",
     "output_type": "stream",
     "text": [
      "Epoch:18 |Train Loss:0.7355219868966091|Valid Loss:0.8070204760514054\n",
      "\u001b[32mEARLY STOPPING\n",
      "Starting for fold: 4\u001b[31m\n",
      "Preparing training data for fold: 4\u001b[35m\n",
      "(2619339, 304)\n",
      "(2508656, 30, 1) (2508656, 1) (2508656, 300)\n",
      "(412467, 30, 1) (412467, 1) (2508656, 300)\n",
      "303\n",
      "cuda is used\n"
     ]
    },
    {
     "data": {
      "application/vnd.jupyter.widget-view+json": {
       "model_id": "b7f85ab288bd45f0a4fd0cd15b7a02e8",
       "version_major": 2,
       "version_minor": 0
      },
      "text/plain": [
       "  0%|          | 0/100 [00:00<?, ?it/s]"
      ]
     },
     "metadata": {},
     "output_type": "display_data"
    },
    {
     "name": "stdout",
     "output_type": "stream",
     "text": [
      "Epoch Started:0\n"
     ]
    },
    {
     "data": {
      "application/vnd.jupyter.widget-view+json": {
       "model_id": "cdba7f402d2741628ce4d2a68748c2b0",
       "version_major": 2,
       "version_minor": 0
      },
      "text/plain": [
       "  0%|          | 0/307 [00:00<?, ?it/s]"
      ]
     },
     "metadata": {},
     "output_type": "display_data"
    },
    {
     "data": {
      "application/vnd.jupyter.widget-view+json": {
       "model_id": "4098353b0fa54e9c86026c0a73797ae8",
       "version_major": 2,
       "version_minor": 0
      },
      "text/plain": [
       "  0%|          | 0/51 [00:00<?, ?it/s]"
      ]
     },
     "metadata": {},
     "output_type": "display_data"
    },
    {
     "name": "stdout",
     "output_type": "stream",
     "text": [
      "Epoch:0 |Train Loss:0.8703743912498026|Valid Loss:0.8831626013213513\n",
      "\u001b[32mLoss Decreased from 9999999 to 0.8831626013213513\u001b[0m\n",
      "\u001b[35mTime taken by epoch 0 is 84.07s\u001b[0m\n",
      "Epoch Started:1\n"
     ]
    },
    {
     "data": {
      "application/vnd.jupyter.widget-view+json": {
       "model_id": "add3fd484c794a029f29dd7473c69b59",
       "version_major": 2,
       "version_minor": 0
      },
      "text/plain": [
       "  0%|          | 0/307 [00:00<?, ?it/s]"
      ]
     },
     "metadata": {},
     "output_type": "display_data"
    },
    {
     "data": {
      "application/vnd.jupyter.widget-view+json": {
       "model_id": "09851291c0bc4ac1b02915d19eb770ed",
       "version_major": 2,
       "version_minor": 0
      },
      "text/plain": [
       "  0%|          | 0/51 [00:00<?, ?it/s]"
      ]
     },
     "metadata": {},
     "output_type": "display_data"
    },
    {
     "name": "stdout",
     "output_type": "stream",
     "text": [
      "Epoch:1 |Train Loss:0.8306314168613198|Valid Loss:0.8533123100505156\n",
      "\u001b[32mLoss Decreased from 0.8831626013213513 to 0.8533123100505156\u001b[0m\n",
      "\u001b[35mTime taken by epoch 1 is 84.50s\u001b[0m\n",
      "Epoch Started:2\n"
     ]
    },
    {
     "data": {
      "application/vnd.jupyter.widget-view+json": {
       "model_id": "6af803154885492ca17a9da596909647",
       "version_major": 2,
       "version_minor": 0
      },
      "text/plain": [
       "  0%|          | 0/307 [00:00<?, ?it/s]"
      ]
     },
     "metadata": {},
     "output_type": "display_data"
    },
    {
     "data": {
      "application/vnd.jupyter.widget-view+json": {
       "model_id": "6cb97eb2410644b29059bc60062dff98",
       "version_major": 2,
       "version_minor": 0
      },
      "text/plain": [
       "  0%|          | 0/51 [00:00<?, ?it/s]"
      ]
     },
     "metadata": {},
     "output_type": "display_data"
    },
    {
     "name": "stdout",
     "output_type": "stream",
     "text": [
      "Epoch:2 |Train Loss:0.8082264617133995|Valid Loss:0.8369352022806803\n",
      "\u001b[32mLoss Decreased from 0.8533123100505156 to 0.8369352022806803\u001b[0m\n",
      "\u001b[35mTime taken by epoch 2 is 84.74s\u001b[0m\n",
      "Epoch Started:3\n"
     ]
    },
    {
     "data": {
      "application/vnd.jupyter.widget-view+json": {
       "model_id": "691df79e351c4440a30827f5a044f52f",
       "version_major": 2,
       "version_minor": 0
      },
      "text/plain": [
       "  0%|          | 0/307 [00:00<?, ?it/s]"
      ]
     },
     "metadata": {},
     "output_type": "display_data"
    },
    {
     "data": {
      "application/vnd.jupyter.widget-view+json": {
       "model_id": "ecca25541abd49098c70ae5f0306a049",
       "version_major": 2,
       "version_minor": 0
      },
      "text/plain": [
       "  0%|          | 0/51 [00:00<?, ?it/s]"
      ]
     },
     "metadata": {},
     "output_type": "display_data"
    },
    {
     "name": "stdout",
     "output_type": "stream",
     "text": [
      "Epoch:3 |Train Loss:0.7979661449547311|Valid Loss:0.8304918665511936\n",
      "\u001b[32mLoss Decreased from 0.8369352022806803 to 0.8304918665511936\u001b[0m\n",
      "\u001b[35mTime taken by epoch 3 is 84.12s\u001b[0m\n",
      "Epoch Started:4\n"
     ]
    },
    {
     "data": {
      "application/vnd.jupyter.widget-view+json": {
       "model_id": "f0ef57799708464782bc368f5ff80ef2",
       "version_major": 2,
       "version_minor": 0
      },
      "text/plain": [
       "  0%|          | 0/307 [00:00<?, ?it/s]"
      ]
     },
     "metadata": {},
     "output_type": "display_data"
    },
    {
     "data": {
      "application/vnd.jupyter.widget-view+json": {
       "model_id": "ec73087def464fdbae49aa74b57c0153",
       "version_major": 2,
       "version_minor": 0
      },
      "text/plain": [
       "  0%|          | 0/51 [00:00<?, ?it/s]"
      ]
     },
     "metadata": {},
     "output_type": "display_data"
    },
    {
     "name": "stdout",
     "output_type": "stream",
     "text": [
      "Epoch:4 |Train Loss:0.7919368844855492|Valid Loss:0.8248240421800053\n",
      "\u001b[32mLoss Decreased from 0.8304918665511936 to 0.8248240421800053\u001b[0m\n",
      "\u001b[35mTime taken by epoch 4 is 84.07s\u001b[0m\n",
      "Epoch Started:5\n"
     ]
    },
    {
     "data": {
      "application/vnd.jupyter.widget-view+json": {
       "model_id": "b2cdca7dd3e64c438f31b22e5c739268",
       "version_major": 2,
       "version_minor": 0
      },
      "text/plain": [
       "  0%|          | 0/307 [00:00<?, ?it/s]"
      ]
     },
     "metadata": {},
     "output_type": "display_data"
    },
    {
     "data": {
      "application/vnd.jupyter.widget-view+json": {
       "model_id": "606d86f1551d48d4873718e5a7d742e5",
       "version_major": 2,
       "version_minor": 0
      },
      "text/plain": [
       "  0%|          | 0/51 [00:00<?, ?it/s]"
      ]
     },
     "metadata": {},
     "output_type": "display_data"
    },
    {
     "name": "stdout",
     "output_type": "stream",
     "text": [
      "Epoch:5 |Train Loss:0.787488275902279|Valid Loss:0.8261440396308899\n",
      "\u001b[35mTime taken by epoch 5 is 84.47s\u001b[0m\n",
      "Epoch Started:6\n"
     ]
    },
    {
     "data": {
      "application/vnd.jupyter.widget-view+json": {
       "model_id": "898a0808206244678c60b95c0c060872",
       "version_major": 2,
       "version_minor": 0
      },
      "text/plain": [
       "  0%|          | 0/307 [00:00<?, ?it/s]"
      ]
     },
     "metadata": {},
     "output_type": "display_data"
    },
    {
     "data": {
      "application/vnd.jupyter.widget-view+json": {
       "model_id": "d9a97a0be4e34e2794f846ea1d3076b1",
       "version_major": 2,
       "version_minor": 0
      },
      "text/plain": [
       "  0%|          | 0/51 [00:00<?, ?it/s]"
      ]
     },
     "metadata": {},
     "output_type": "display_data"
    },
    {
     "name": "stdout",
     "output_type": "stream",
     "text": [
      "Epoch:6 |Train Loss:0.7831351485236848|Valid Loss:0.8172563139130088\n",
      "\u001b[32mLoss Decreased from 0.8248240421800053 to 0.8172563139130088\u001b[0m\n",
      "\u001b[35mTime taken by epoch 6 is 83.94s\u001b[0m\n",
      "Epoch Started:7\n"
     ]
    },
    {
     "data": {
      "application/vnd.jupyter.widget-view+json": {
       "model_id": "d2345c907b88467f9dc7bd9baa880525",
       "version_major": 2,
       "version_minor": 0
      },
      "text/plain": [
       "  0%|          | 0/307 [00:00<?, ?it/s]"
      ]
     },
     "metadata": {},
     "output_type": "display_data"
    },
    {
     "data": {
      "application/vnd.jupyter.widget-view+json": {
       "model_id": "143ea66be9d6402389e225e1fc53956b",
       "version_major": 2,
       "version_minor": 0
      },
      "text/plain": [
       "  0%|          | 0/51 [00:00<?, ?it/s]"
      ]
     },
     "metadata": {},
     "output_type": "display_data"
    },
    {
     "name": "stdout",
     "output_type": "stream",
     "text": [
      "Epoch:7 |Train Loss:0.7789031754487501|Valid Loss:0.8195197734178281\n",
      "\u001b[35mTime taken by epoch 7 is 84.23s\u001b[0m\n",
      "Epoch Started:8\n"
     ]
    },
    {
     "data": {
      "application/vnd.jupyter.widget-view+json": {
       "model_id": "d04afefc362f4a14b273c1c98a700281",
       "version_major": 2,
       "version_minor": 0
      },
      "text/plain": [
       "  0%|          | 0/307 [00:00<?, ?it/s]"
      ]
     },
     "metadata": {},
     "output_type": "display_data"
    },
    {
     "data": {
      "application/vnd.jupyter.widget-view+json": {
       "model_id": "3de65f8cec454e9c872265243f1337da",
       "version_major": 2,
       "version_minor": 0
      },
      "text/plain": [
       "  0%|          | 0/51 [00:00<?, ?it/s]"
      ]
     },
     "metadata": {},
     "output_type": "display_data"
    },
    {
     "name": "stdout",
     "output_type": "stream",
     "text": [
      "Epoch:8 |Train Loss:0.7749609232725461|Valid Loss:0.8222519065819535\n",
      "\u001b[35mTime taken by epoch 8 is 84.64s\u001b[0m\n",
      "Epoch Started:9\n"
     ]
    },
    {
     "data": {
      "application/vnd.jupyter.widget-view+json": {
       "model_id": "d110d942c27a4c3ba73ba750d34e72c2",
       "version_major": 2,
       "version_minor": 0
      },
      "text/plain": [
       "  0%|          | 0/307 [00:00<?, ?it/s]"
      ]
     },
     "metadata": {},
     "output_type": "display_data"
    },
    {
     "data": {
      "application/vnd.jupyter.widget-view+json": {
       "model_id": "45feaac8306047a8a97e21de05e85784",
       "version_major": 2,
       "version_minor": 0
      },
      "text/plain": [
       "  0%|          | 0/51 [00:00<?, ?it/s]"
      ]
     },
     "metadata": {},
     "output_type": "display_data"
    },
    {
     "name": "stdout",
     "output_type": "stream",
     "text": [
      "Epoch:9 |Train Loss:0.7711677916275174|Valid Loss:0.8155858224513484\n",
      "\u001b[32mLoss Decreased from 0.8172563139130088 to 0.8155858224513484\u001b[0m\n",
      "\u001b[35mTime taken by epoch 9 is 83.65s\u001b[0m\n",
      "Epoch Started:10\n"
     ]
    },
    {
     "data": {
      "application/vnd.jupyter.widget-view+json": {
       "model_id": "5ac757045aaf49969fdd54faf7d7de5e",
       "version_major": 2,
       "version_minor": 0
      },
      "text/plain": [
       "  0%|          | 0/307 [00:00<?, ?it/s]"
      ]
     },
     "metadata": {},
     "output_type": "display_data"
    },
    {
     "data": {
      "application/vnd.jupyter.widget-view+json": {
       "model_id": "3390309052ca491ebd8d92efee7ed311",
       "version_major": 2,
       "version_minor": 0
      },
      "text/plain": [
       "  0%|          | 0/51 [00:00<?, ?it/s]"
      ]
     },
     "metadata": {},
     "output_type": "display_data"
    },
    {
     "name": "stdout",
     "output_type": "stream",
     "text": [
      "Epoch:10 |Train Loss:0.7678794200723257|Valid Loss:0.8165876573207331\n",
      "\u001b[35mTime taken by epoch 10 is 84.70s\u001b[0m\n",
      "Epoch Started:11\n"
     ]
    },
    {
     "data": {
      "application/vnd.jupyter.widget-view+json": {
       "model_id": "cb70a9f0906f481e89d2987d81bdfa40",
       "version_major": 2,
       "version_minor": 0
      },
      "text/plain": [
       "  0%|          | 0/307 [00:00<?, ?it/s]"
      ]
     },
     "metadata": {},
     "output_type": "display_data"
    },
    {
     "data": {
      "application/vnd.jupyter.widget-view+json": {
       "model_id": "f5163896a5d14e099e62eeea1835390b",
       "version_major": 2,
       "version_minor": 0
      },
      "text/plain": [
       "  0%|          | 0/51 [00:00<?, ?it/s]"
      ]
     },
     "metadata": {},
     "output_type": "display_data"
    },
    {
     "name": "stdout",
     "output_type": "stream",
     "text": [
      "Epoch:11 |Train Loss:0.7636410489144465|Valid Loss:0.8209729837436303\n",
      "\u001b[35mTime taken by epoch 11 is 84.43s\u001b[0m\n",
      "Epoch Started:12\n"
     ]
    },
    {
     "data": {
      "application/vnd.jupyter.widget-view+json": {
       "model_id": "3148399faaff4cefbb63dfeab7837930",
       "version_major": 2,
       "version_minor": 0
      },
      "text/plain": [
       "  0%|          | 0/307 [00:00<?, ?it/s]"
      ]
     },
     "metadata": {},
     "output_type": "display_data"
    },
    {
     "data": {
      "application/vnd.jupyter.widget-view+json": {
       "model_id": "f0971eeec15a4c4887f9e4def8141083",
       "version_major": 2,
       "version_minor": 0
      },
      "text/plain": [
       "  0%|          | 0/51 [00:00<?, ?it/s]"
      ]
     },
     "metadata": {},
     "output_type": "display_data"
    },
    {
     "name": "stdout",
     "output_type": "stream",
     "text": [
      "Epoch:12 |Train Loss:0.7600884369607858|Valid Loss:0.8161739438187843\n",
      "\u001b[35mTime taken by epoch 12 is 84.35s\u001b[0m\n",
      "Epoch Started:13\n"
     ]
    },
    {
     "data": {
      "application/vnd.jupyter.widget-view+json": {
       "model_id": "5147dbae43444a9c871c94a0cd3e9344",
       "version_major": 2,
       "version_minor": 0
      },
      "text/plain": [
       "  0%|          | 0/307 [00:00<?, ?it/s]"
      ]
     },
     "metadata": {},
     "output_type": "display_data"
    },
    {
     "data": {
      "application/vnd.jupyter.widget-view+json": {
       "model_id": "17646f6454084700a69588524278400e",
       "version_major": 2,
       "version_minor": 0
      },
      "text/plain": [
       "  0%|          | 0/51 [00:00<?, ?it/s]"
      ]
     },
     "metadata": {},
     "output_type": "display_data"
    },
    {
     "name": "stdout",
     "output_type": "stream",
     "text": [
      "Epoch:13 |Train Loss:0.7573353044373204|Valid Loss:0.8137404521306356\n",
      "\u001b[32mLoss Decreased from 0.8155858224513484 to 0.8137404521306356\u001b[0m\n",
      "\u001b[35mTime taken by epoch 13 is 84.42s\u001b[0m\n",
      "Epoch Started:14\n"
     ]
    },
    {
     "data": {
      "application/vnd.jupyter.widget-view+json": {
       "model_id": "b88a3fb41fcc4820859caa9d02182eb8",
       "version_major": 2,
       "version_minor": 0
      },
      "text/plain": [
       "  0%|          | 0/307 [00:00<?, ?it/s]"
      ]
     },
     "metadata": {},
     "output_type": "display_data"
    },
    {
     "data": {
      "application/vnd.jupyter.widget-view+json": {
       "model_id": "e7916c36e51b488ca2923ab0db0f6cb3",
       "version_major": 2,
       "version_minor": 0
      },
      "text/plain": [
       "  0%|          | 0/51 [00:00<?, ?it/s]"
      ]
     },
     "metadata": {},
     "output_type": "display_data"
    },
    {
     "name": "stdout",
     "output_type": "stream",
     "text": [
      "Epoch:14 |Train Loss:0.7541708190976991|Valid Loss:0.8171653654061112\n",
      "\u001b[35mTime taken by epoch 14 is 84.56s\u001b[0m\n",
      "Epoch Started:15\n"
     ]
    },
    {
     "data": {
      "application/vnd.jupyter.widget-view+json": {
       "model_id": "cfa66143573e4911916366664229c7f8",
       "version_major": 2,
       "version_minor": 0
      },
      "text/plain": [
       "  0%|          | 0/307 [00:00<?, ?it/s]"
      ]
     },
     "metadata": {},
     "output_type": "display_data"
    },
    {
     "data": {
      "application/vnd.jupyter.widget-view+json": {
       "model_id": "8eb1559f257847bf9e83786bd056e375",
       "version_major": 2,
       "version_minor": 0
      },
      "text/plain": [
       "  0%|          | 0/51 [00:00<?, ?it/s]"
      ]
     },
     "metadata": {},
     "output_type": "display_data"
    },
    {
     "name": "stdout",
     "output_type": "stream",
     "text": [
      "Epoch:15 |Train Loss:0.7502303694280817|Valid Loss:0.8186377041480121\n",
      "\u001b[35mTime taken by epoch 15 is 84.47s\u001b[0m\n",
      "Epoch Started:16\n"
     ]
    },
    {
     "data": {
      "application/vnd.jupyter.widget-view+json": {
       "model_id": "6dc42c86383b44339942389b283cba94",
       "version_major": 2,
       "version_minor": 0
      },
      "text/plain": [
       "  0%|          | 0/307 [00:00<?, ?it/s]"
      ]
     },
     "metadata": {},
     "output_type": "display_data"
    },
    {
     "data": {
      "application/vnd.jupyter.widget-view+json": {
       "model_id": "b907f766aca7485fa54d754f428893ee",
       "version_major": 2,
       "version_minor": 0
      },
      "text/plain": [
       "  0%|          | 0/51 [00:00<?, ?it/s]"
      ]
     },
     "metadata": {},
     "output_type": "display_data"
    },
    {
     "name": "stdout",
     "output_type": "stream",
     "text": [
      "Epoch:16 |Train Loss:0.7474286160173944|Valid Loss:0.8107156356175741\n",
      "\u001b[32mLoss Decreased from 0.8137404521306356 to 0.8107156356175741\u001b[0m\n",
      "\u001b[35mTime taken by epoch 16 is 84.25s\u001b[0m\n",
      "Epoch Started:17\n"
     ]
    },
    {
     "data": {
      "application/vnd.jupyter.widget-view+json": {
       "model_id": "454a43da3a734db79c77136a7d942dde",
       "version_major": 2,
       "version_minor": 0
      },
      "text/plain": [
       "  0%|          | 0/307 [00:00<?, ?it/s]"
      ]
     },
     "metadata": {},
     "output_type": "display_data"
    },
    {
     "data": {
      "application/vnd.jupyter.widget-view+json": {
       "model_id": "7fb8098301aa48a8835847d987581519",
       "version_major": 2,
       "version_minor": 0
      },
      "text/plain": [
       "  0%|          | 0/51 [00:00<?, ?it/s]"
      ]
     },
     "metadata": {},
     "output_type": "display_data"
    },
    {
     "name": "stdout",
     "output_type": "stream",
     "text": [
      "Epoch:17 |Train Loss:0.7444139864623353|Valid Loss:0.8156665014285668\n",
      "\u001b[35mTime taken by epoch 17 is 84.80s\u001b[0m\n",
      "Epoch Started:18\n"
     ]
    },
    {
     "data": {
      "application/vnd.jupyter.widget-view+json": {
       "model_id": "56ac75ae55bc4ffeac7efb71a56c5fd4",
       "version_major": 2,
       "version_minor": 0
      },
      "text/plain": [
       "  0%|          | 0/307 [00:00<?, ?it/s]"
      ]
     },
     "metadata": {},
     "output_type": "display_data"
    },
    {
     "data": {
      "application/vnd.jupyter.widget-view+json": {
       "model_id": "bf2722ded8904525b400820c43310ec5",
       "version_major": 2,
       "version_minor": 0
      },
      "text/plain": [
       "  0%|          | 0/51 [00:00<?, ?it/s]"
      ]
     },
     "metadata": {},
     "output_type": "display_data"
    },
    {
     "name": "stdout",
     "output_type": "stream",
     "text": [
      "Epoch:18 |Train Loss:0.7410172519155744|Valid Loss:0.818084273852554\n",
      "\u001b[35mTime taken by epoch 18 is 84.38s\u001b[0m\n",
      "Epoch Started:19\n"
     ]
    },
    {
     "data": {
      "application/vnd.jupyter.widget-view+json": {
       "model_id": "6e571ff4b1a8409fb57c2b85910b123e",
       "version_major": 2,
       "version_minor": 0
      },
      "text/plain": [
       "  0%|          | 0/307 [00:00<?, ?it/s]"
      ]
     },
     "metadata": {},
     "output_type": "display_data"
    },
    {
     "data": {
      "application/vnd.jupyter.widget-view+json": {
       "model_id": "8ab971a545464d65b6064357a8f8a2b5",
       "version_major": 2,
       "version_minor": 0
      },
      "text/plain": [
       "  0%|          | 0/51 [00:00<?, ?it/s]"
      ]
     },
     "metadata": {},
     "output_type": "display_data"
    },
    {
     "name": "stdout",
     "output_type": "stream",
     "text": [
      "Epoch:19 |Train Loss:0.73805207829522|Valid Loss:0.8142529819525924\n",
      "\u001b[35mTime taken by epoch 19 is 84.70s\u001b[0m\n",
      "Epoch Started:20\n"
     ]
    },
    {
     "data": {
      "application/vnd.jupyter.widget-view+json": {
       "model_id": "8255f0e772c24837b6962cea3278474e",
       "version_major": 2,
       "version_minor": 0
      },
      "text/plain": [
       "  0%|          | 0/307 [00:00<?, ?it/s]"
      ]
     },
     "metadata": {},
     "output_type": "display_data"
    },
    {
     "data": {
      "application/vnd.jupyter.widget-view+json": {
       "model_id": "1967ceb447c244ca93dc3f1ea88d09e5",
       "version_major": 2,
       "version_minor": 0
      },
      "text/plain": [
       "  0%|          | 0/51 [00:00<?, ?it/s]"
      ]
     },
     "metadata": {},
     "output_type": "display_data"
    },
    {
     "name": "stdout",
     "output_type": "stream",
     "text": [
      "Epoch:20 |Train Loss:0.7356087833351732|Valid Loss:0.8131591619229784\n",
      "\u001b[35mTime taken by epoch 20 is 84.88s\u001b[0m\n",
      "Epoch Started:21\n"
     ]
    },
    {
     "data": {
      "application/vnd.jupyter.widget-view+json": {
       "model_id": "e011f08bd4054d86baf70ae3ca06c1e1",
       "version_major": 2,
       "version_minor": 0
      },
      "text/plain": [
       "  0%|          | 0/307 [00:00<?, ?it/s]"
      ]
     },
     "metadata": {},
     "output_type": "display_data"
    },
    {
     "data": {
      "application/vnd.jupyter.widget-view+json": {
       "model_id": "5f06b8b1070b4290addc5cf5f4ea72c1",
       "version_major": 2,
       "version_minor": 0
      },
      "text/plain": [
       "  0%|          | 0/51 [00:00<?, ?it/s]"
      ]
     },
     "metadata": {},
     "output_type": "display_data"
    },
    {
     "name": "stdout",
     "output_type": "stream",
     "text": [
      "Epoch:21 |Train Loss:0.7326360238103214|Valid Loss:0.8130323968681634\n",
      "\u001b[35mTime taken by epoch 21 is 85.08s\u001b[0m\n",
      "Epoch Started:22\n"
     ]
    },
    {
     "data": {
      "application/vnd.jupyter.widget-view+json": {
       "model_id": "97e6323891114ba7ae52dfc1e2f86972",
       "version_major": 2,
       "version_minor": 0
      },
      "text/plain": [
       "  0%|          | 0/307 [00:00<?, ?it/s]"
      ]
     },
     "metadata": {},
     "output_type": "display_data"
    },
    {
     "data": {
      "application/vnd.jupyter.widget-view+json": {
       "model_id": "8c9a0573d8444119a60148c002c4f283",
       "version_major": 2,
       "version_minor": 0
      },
      "text/plain": [
       "  0%|          | 0/51 [00:00<?, ?it/s]"
      ]
     },
     "metadata": {},
     "output_type": "display_data"
    },
    {
     "name": "stdout",
     "output_type": "stream",
     "text": [
      "Epoch:22 |Train Loss:0.7294523110218856|Valid Loss:0.8154033889957503\n",
      "\u001b[35mTime taken by epoch 22 is 84.69s\u001b[0m\n",
      "Epoch Started:23\n"
     ]
    },
    {
     "data": {
      "application/vnd.jupyter.widget-view+json": {
       "model_id": "fa8fe1819dd844be94dea398f453c6b6",
       "version_major": 2,
       "version_minor": 0
      },
      "text/plain": [
       "  0%|          | 0/307 [00:00<?, ?it/s]"
      ]
     },
     "metadata": {},
     "output_type": "display_data"
    },
    {
     "data": {
      "application/vnd.jupyter.widget-view+json": {
       "model_id": "a53df4c841eb4d259dbd5b05e7fa0493",
       "version_major": 2,
       "version_minor": 0
      },
      "text/plain": [
       "  0%|          | 0/51 [00:00<?, ?it/s]"
      ]
     },
     "metadata": {},
     "output_type": "display_data"
    },
    {
     "name": "stdout",
     "output_type": "stream",
     "text": [
      "Epoch:23 |Train Loss:0.7275068039614525|Valid Loss:0.8179318004963445\n",
      "\u001b[35mTime taken by epoch 23 is 84.61s\u001b[0m\n",
      "Epoch Started:24\n"
     ]
    },
    {
     "data": {
      "application/vnd.jupyter.widget-view+json": {
       "model_id": "0b6aecf695614076b01f5087f253e805",
       "version_major": 2,
       "version_minor": 0
      },
      "text/plain": [
       "  0%|          | 0/307 [00:00<?, ?it/s]"
      ]
     },
     "metadata": {},
     "output_type": "display_data"
    },
    {
     "data": {
      "application/vnd.jupyter.widget-view+json": {
       "model_id": "63ec295f7715434b9a58b4e2b073423e",
       "version_major": 2,
       "version_minor": 0
      },
      "text/plain": [
       "  0%|          | 0/51 [00:00<?, ?it/s]"
      ]
     },
     "metadata": {},
     "output_type": "display_data"
    },
    {
     "name": "stdout",
     "output_type": "stream",
     "text": [
      "Epoch:24 |Train Loss:0.725101113319397|Valid Loss:0.8204180084022821\n",
      "\u001b[35mTime taken by epoch 24 is 84.31s\u001b[0m\n",
      "Epoch Started:25\n"
     ]
    },
    {
     "data": {
      "application/vnd.jupyter.widget-view+json": {
       "model_id": "d1600e7484344277b4522fa01937bcd2",
       "version_major": 2,
       "version_minor": 0
      },
      "text/plain": [
       "  0%|          | 0/307 [00:00<?, ?it/s]"
      ]
     },
     "metadata": {},
     "output_type": "display_data"
    },
    {
     "data": {
      "application/vnd.jupyter.widget-view+json": {
       "model_id": "278b7efa27ea4ae491f3e823fe6fda24",
       "version_major": 2,
       "version_minor": 0
      },
      "text/plain": [
       "  0%|          | 0/51 [00:00<?, ?it/s]"
      ]
     },
     "metadata": {},
     "output_type": "display_data"
    },
    {
     "name": "stdout",
     "output_type": "stream",
     "text": [
      "Epoch:25 |Train Loss:0.7223777204072437|Valid Loss:0.8128732758409837\n",
      "\u001b[35mTime taken by epoch 25 is 84.52s\u001b[0m\n",
      "Epoch Started:26\n"
     ]
    },
    {
     "data": {
      "application/vnd.jupyter.widget-view+json": {
       "model_id": "05114f97048c4af0bc8e5c4591ec385b",
       "version_major": 2,
       "version_minor": 0
      },
      "text/plain": [
       "  0%|          | 0/307 [00:00<?, ?it/s]"
      ]
     },
     "metadata": {},
     "output_type": "display_data"
    },
    {
     "data": {
      "application/vnd.jupyter.widget-view+json": {
       "model_id": "a918a11a80714e01acefe54f8749f566",
       "version_major": 2,
       "version_minor": 0
      },
      "text/plain": [
       "  0%|          | 0/51 [00:00<?, ?it/s]"
      ]
     },
     "metadata": {},
     "output_type": "display_data"
    },
    {
     "name": "stdout",
     "output_type": "stream",
     "text": [
      "Epoch:26 |Train Loss:0.7197921870197458|Valid Loss:0.815745475245457\n",
      "\u001b[32mEARLY STOPPING\n"
     ]
    }
   ],
   "source": [
    "# for fold in folds.keys():\n",
    "for fold in [0,1,2,3,4]:\n",
    "    print(f'Starting for fold: {fold}{r_}')\n",
    "    print(f'Preparing training data for fold: {fold}{m_}')\n",
    "    train_indxs = folds[fold]['train']\n",
    "    test_indxs = folds[fold]['test']\n",
    "    test_f_df = train_df[train_df.index.isin(test_indxs)].reset_index(drop=True)\n",
    "    train_f_df = train_df[train_df.index.isin(train_indxs)].reset_index(drop=True)\n",
    "    \n",
    "    print(train_f_df.shape)\n",
    "    count_df = train_f_df.groupby('investment_id',as_index=False).agg(c = ('time_id', len))\n",
    "    to_exclude_ids = count_df[count_df.c<input_chunk_length+1].investment_id.unique().tolist()\n",
    "    \n",
    "    X_train, Y_train, FCV_train = make_sequences(train_f_df,to_exclude_ids)\n",
    "    Y_train = Y_train.reshape(-1,1)\n",
    "    print(X_train.shape,Y_train.shape,FCV_train.shape)\n",
    "    \n",
    "    X_val, Y_val, FCV_val = make_sequences(test_f_df,to_exclude_ids)\n",
    "    Y_val = Y_val.reshape(-1,1)\n",
    "    print(X_val.shape,Y_val.shape,FCV_train.shape)\n",
    "    \n",
    "    model = LstmTsModel(num_classes, input_size, hidden_size, num_layers,seq_length)\n",
    "    train_dl = DataLoader(TSDataset(X_train, Y_train, FCV_train), batch_size=config['batch_size'], shuffle=config['train_shuffle'], num_workers=0)\n",
    "    val_dl = DataLoader(TSDataset(X_val, Y_val, FCV_val), batch_size=config['batch_size'], shuffle=config['train_shuffle'], num_workers=0)\n",
    "    \n",
    "    best_loss, model = run(model,train_dl,val_dl,fold)\n",
    "    \n",
    "    gc.collect()\n",
    "    "
   ]
  },
  {
   "cell_type": "code",
   "execution_count": null,
   "id": "b081e214",
   "metadata": {},
   "outputs": [],
   "source": []
  }
 ],
 "metadata": {
  "kernelspec": {
   "display_name": "Python 3",
   "language": "python",
   "name": "python3"
  },
  "language_info": {
   "codemirror_mode": {
    "name": "ipython",
    "version": 3
   },
   "file_extension": ".py",
   "mimetype": "text/x-python",
   "name": "python",
   "nbconvert_exporter": "python",
   "pygments_lexer": "ipython3",
   "version": "3.8.5"
  },
  "toc": {
   "base_numbering": 1,
   "nav_menu": {},
   "number_sections": false,
   "sideBar": true,
   "skip_h1_title": false,
   "title_cell": "Table of Contents",
   "title_sidebar": "Contents",
   "toc_cell": false,
   "toc_position": {},
   "toc_section_display": true,
   "toc_window_display": false
  }
 },
 "nbformat": 4,
 "nbformat_minor": 5
}
