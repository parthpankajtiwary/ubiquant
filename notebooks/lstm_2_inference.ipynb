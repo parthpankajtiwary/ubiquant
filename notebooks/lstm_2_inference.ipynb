{
 "cells": [
  {
   "cell_type": "code",
   "execution_count": 1,
   "id": "75828541",
   "metadata": {
    "ExecuteTime": {
     "end_time": "2022-02-02T20:06:09.825137Z",
     "start_time": "2022-02-02T20:06:09.327497Z"
    }
   },
   "outputs": [],
   "source": [
    "import numpy as np\n",
    "import pandas as pd\n",
    "import pickle\n",
    "from datetime import datetime\n",
    "from matplotlib import pyplot as plt\n",
    "from sklearn.preprocessing import LabelEncoder\n",
    "from sklearn.model_selection import GroupKFold\n",
    "import dateutil.easter as easter"
   ]
  },
  {
   "cell_type": "code",
   "execution_count": 2,
   "id": "14d1e7b5",
   "metadata": {
    "ExecuteTime": {
     "end_time": "2022-02-02T20:06:10.869330Z",
     "start_time": "2022-02-02T20:06:09.827642Z"
    }
   },
   "outputs": [],
   "source": [
    "import torch\n",
    "import torch.nn as nn\n",
    "from torch.autograd import Variable"
   ]
  },
  {
   "cell_type": "code",
   "execution_count": 3,
   "id": "6c51c393",
   "metadata": {
    "ExecuteTime": {
     "end_time": "2022-02-02T20:06:10.874842Z",
     "start_time": "2022-02-02T20:06:10.871661Z"
    }
   },
   "outputs": [],
   "source": [
    "from torch.utils.data import Dataset, DataLoader"
   ]
  },
  {
   "cell_type": "code",
   "execution_count": 4,
   "id": "bed4adaf",
   "metadata": {
    "ExecuteTime": {
     "end_time": "2022-02-02T20:06:10.886487Z",
     "start_time": "2022-02-02T20:06:10.876712Z"
    }
   },
   "outputs": [],
   "source": [
    "from accelerate import Accelerator\n",
    "import torch.optim as optim"
   ]
  },
  {
   "cell_type": "code",
   "execution_count": 5,
   "id": "a8e0469e",
   "metadata": {
    "ExecuteTime": {
     "end_time": "2022-02-02T20:06:10.891680Z",
     "start_time": "2022-02-02T20:06:10.888201Z"
    }
   },
   "outputs": [],
   "source": [
    "import time"
   ]
  },
  {
   "cell_type": "code",
   "execution_count": 6,
   "id": "91ffe8e9",
   "metadata": {
    "ExecuteTime": {
     "end_time": "2022-02-02T20:06:10.896287Z",
     "start_time": "2022-02-02T20:06:10.893616Z"
    }
   },
   "outputs": [],
   "source": [
    "from tqdm.notebook import tqdm"
   ]
  },
  {
   "cell_type": "code",
   "execution_count": 7,
   "id": "45800f4d",
   "metadata": {
    "ExecuteTime": {
     "end_time": "2022-02-02T20:06:10.901615Z",
     "start_time": "2022-02-02T20:06:10.898937Z"
    }
   },
   "outputs": [],
   "source": [
    "import gc"
   ]
  },
  {
   "cell_type": "code",
   "execution_count": null,
   "id": "38549631",
   "metadata": {},
   "outputs": [],
   "source": []
  },
  {
   "cell_type": "markdown",
   "id": "6cd565ee",
   "metadata": {},
   "source": [
    "## Global Variables ###"
   ]
  },
  {
   "cell_type": "code",
   "execution_count": 8,
   "id": "005e79f5",
   "metadata": {
    "ExecuteTime": {
     "end_time": "2022-02-02T20:06:11.388380Z",
     "start_time": "2022-02-02T20:06:10.906273Z"
    }
   },
   "outputs": [],
   "source": [
    "device = torch.device(\"cuda:0\" if torch.cuda.is_available() else \"cpu\")"
   ]
  },
  {
   "cell_type": "code",
   "execution_count": 9,
   "id": "fc940149",
   "metadata": {
    "ExecuteTime": {
     "end_time": "2022-02-02T20:06:11.402750Z",
     "start_time": "2022-02-02T20:06:11.392325Z"
    }
   },
   "outputs": [
    {
     "data": {
      "text/plain": [
       "device(type='cuda', index=0)"
      ]
     },
     "execution_count": 9,
     "metadata": {},
     "output_type": "execute_result"
    }
   ],
   "source": [
    "device"
   ]
  },
  {
   "cell_type": "code",
   "execution_count": 10,
   "id": "1c37f739",
   "metadata": {
    "ExecuteTime": {
     "end_time": "2022-02-02T20:06:11.408681Z",
     "start_time": "2022-02-02T20:06:11.404889Z"
    }
   },
   "outputs": [],
   "source": [
    "from colorama import Fore, Back, Style\n",
    "r_ = Fore.RED\n",
    "b_ = Fore.BLUE\n",
    "c_ = Fore.CYAN\n",
    "g_ = Fore.GREEN\n",
    "y_ = Fore.YELLOW\n",
    "m_ = Fore.MAGENTA\n",
    "sr_ = Style.RESET_ALL"
   ]
  },
  {
   "cell_type": "code",
   "execution_count": 11,
   "id": "5f83348c",
   "metadata": {
    "ExecuteTime": {
     "end_time": "2022-02-02T20:06:11.416870Z",
     "start_time": "2022-02-02T20:06:11.411824Z"
    }
   },
   "outputs": [],
   "source": [
    "BASE_DIR = '/sharedHDD/rohit/timeseries_learning/ubiquant/'\n",
    "DATA_DIR = BASE_DIR+'data/parquet/'\n",
    "INPUT_DIR = BASE_DIR+'input/'\n",
    "WEIGHTS_DIR = BASE_DIR + 'weights/'\n",
    "OUTPUT_DIR = BASE_DIR+'output/'"
   ]
  },
  {
   "cell_type": "code",
   "execution_count": 12,
   "id": "f4ab31b6",
   "metadata": {
    "ExecuteTime": {
     "end_time": "2022-02-02T20:06:11.424984Z",
     "start_time": "2022-02-02T20:06:11.420617Z"
    }
   },
   "outputs": [],
   "source": [
    "input_chunk_length = 30\n",
    "output_chunk_length = 1\n",
    "embedding_dim = 56 ## Investment id embedding dim"
   ]
  },
  {
   "cell_type": "code",
   "execution_count": 13,
   "id": "2309c605",
   "metadata": {
    "ExecuteTime": {
     "end_time": "2022-02-02T20:06:11.434076Z",
     "start_time": "2022-02-02T20:06:11.428730Z"
    }
   },
   "outputs": [],
   "source": [
    "features = [f'f_{i}' for i in range(300)]"
   ]
  },
  {
   "cell_type": "markdown",
   "id": "d35a6b41",
   "metadata": {},
   "source": [
    "## Load data ##"
   ]
  },
  {
   "cell_type": "code",
   "execution_count": 14,
   "id": "9b55ee2d",
   "metadata": {
    "ExecuteTime": {
     "end_time": "2022-02-02T20:06:15.563317Z",
     "start_time": "2022-02-02T20:06:11.436741Z"
    }
   },
   "outputs": [
    {
     "name": "stdout",
     "output_type": "stream",
     "text": [
      "CPU times: user 8.3 s, sys: 13.6 s, total: 21.9 s\n",
      "Wall time: 4.12 s\n"
     ]
    }
   ],
   "source": [
    "%%time\n",
    "train_df = pd.read_parquet(DATA_DIR+'train_low_mem.parquet')"
   ]
  },
  {
   "cell_type": "code",
   "execution_count": 15,
   "id": "27c5fc29",
   "metadata": {
    "ExecuteTime": {
     "end_time": "2022-02-02T20:06:15.584008Z",
     "start_time": "2022-02-02T20:06:15.565449Z"
    }
   },
   "outputs": [],
   "source": [
    "investment_ids = train_df.investment_id.unique().tolist()"
   ]
  },
  {
   "cell_type": "code",
   "execution_count": 16,
   "id": "e1f8de92",
   "metadata": {
    "ExecuteTime": {
     "end_time": "2022-02-02T20:06:16.231208Z",
     "start_time": "2022-02-02T20:06:15.585585Z"
    }
   },
   "outputs": [],
   "source": [
    "with open(BASE_DIR+'input/folds.pickle', 'rb') as f:\n",
    "    folds = pickle.load(f)"
   ]
  },
  {
   "cell_type": "markdown",
   "id": "347de882",
   "metadata": {},
   "source": [
    "## Model ##"
   ]
  },
  {
   "cell_type": "code",
   "execution_count": 17,
   "id": "c2d673a9",
   "metadata": {
    "ExecuteTime": {
     "end_time": "2022-02-02T20:06:16.248269Z",
     "start_time": "2022-02-02T20:06:16.239657Z"
    }
   },
   "outputs": [],
   "source": [
    "config = {\n",
    "    'seq_length' : input_chunk_length,\n",
    "    'num_epochs' : 100,\n",
    "    'lr' : 0.00026,\n",
    "    'input_size' : 301,\n",
    "    'hidden_size' : 301,\n",
    "    'num_layers' : 1,\n",
    "    'num_classes' :1, ## This is  output dimension\n",
    "    'train_shuffle': True,\n",
    "    'val_shuffle': True,\n",
    "    'batch_size' : 4096*2,\n",
    "    'best_model_name' : 'lstm2',\n",
    "    'bidirectional' : False,\n",
    "    'only_last_hidden': True,\n",
    "    'early_stopping_patience':10,\n",
    "}"
   ]
  },
  {
   "cell_type": "code",
   "execution_count": 18,
   "id": "a6e64db6",
   "metadata": {
    "ExecuteTime": {
     "end_time": "2022-02-02T20:06:16.255245Z",
     "start_time": "2022-02-02T20:06:16.250830Z"
    }
   },
   "outputs": [],
   "source": [
    "num_epochs = config['num_epochs']\n",
    "lr = config['lr']\n",
    "input_size = config['input_size']\n",
    "hidden_size = config['hidden_size']\n",
    "num_layers = config['num_layers']\n",
    "num_classes = config['num_classes']\n",
    "seq_length = config['seq_length']\n",
    "bidirectional = config['bidirectional']\n",
    "only_last_hidden = config['only_last_hidden']\n",
    "early_stopping_patience = config['early_stopping_patience']"
   ]
  },
  {
   "cell_type": "code",
   "execution_count": 19,
   "id": "61e85ec2",
   "metadata": {
    "ExecuteTime": {
     "end_time": "2022-02-02T20:06:16.379288Z",
     "start_time": "2022-02-02T20:06:16.257609Z"
    }
   },
   "outputs": [],
   "source": [
    "class LstmTsModel(nn.Module):\n",
    "\n",
    "    def __init__(self, num_classes, input_size, hidden_size, num_layers,seq_length):\n",
    "        super(LstmTsModel, self).__init__()\n",
    "        \n",
    "        self.num_classes = num_classes\n",
    "        self.num_layers = num_layers\n",
    "        self.input_size = input_size\n",
    "        self.hidden_size = hidden_size\n",
    "        self.seq_length = seq_length\n",
    "        \n",
    "        cat_input_dim: int = 3774\n",
    "        \n",
    "        self.embedding = nn.Embedding(cat_input_dim, embedding_dim)\n",
    "        \n",
    "        self.lstm = nn.LSTM(input_size=input_size, hidden_size=hidden_size,\n",
    "                            num_layers=num_layers, batch_first=True,bidirectional=bidirectional)\n",
    "        \n",
    "        if bidirectional:\n",
    "            m=2\n",
    "        else:\n",
    "            m=1\n",
    "        \n",
    "        if only_last_hidden:\n",
    "            input_fc_dim = (hidden_size*m)+(len(features)+embedding_dim)\n",
    "        else:\n",
    "            input_fc_dim = (self.seq_length*hidden_size*m)+(len(features)+embedding_dim)\n",
    "        \n",
    "        print(input_fc_dim)\n",
    "        \n",
    "        self.fc = nn.Sequential(nn.Linear(input_fc_dim, 508),\n",
    "#                                 nn.BatchNorm1d(num_features=508),\n",
    "                                nn.ReLU(),\n",
    "                                nn.Dropout(0.42),\n",
    "                                \n",
    "                                nn.Linear(508, 405),\n",
    "#                                 nn.BatchNorm1d(num_features=405),\n",
    "                                nn.Dropout(0.42),\n",
    "                                nn.ReLU(),\n",
    "                                \n",
    "#                                 nn.Linear(input_fc_dim//16, input_fc_dim//32),\n",
    "#                                 nn.BatchNorm1d(num_features=input_fc_dim//32),\n",
    "#                                 # nn.Dropout(0.2),\n",
    "#                                 nn.ReLU(),\n",
    "                                \n",
    "                                \n",
    "                                nn.Linear(405, self.num_classes)\n",
    "                                )\n",
    "    \n",
    "    def forward(self, x, fcv):\n",
    "                                # Propagate input through LSTM\n",
    "        h_out, (h_n, _) = self.lstm(x)\n",
    "        if only_last_hidden:\n",
    "            h_out = h_out[:,-1:,:]\n",
    "        \n",
    "        h_out = h_out.flatten(start_dim=1)\n",
    "        \n",
    "        \n",
    "        investment_ids = fcv[:,0].type(torch.LongTensor).to(device)\n",
    "        embeddings = self.embedding(investment_ids)\n",
    "        \n",
    "        h_out = torch.cat([embeddings,fcv[:,1:],h_out], dim=1)\n",
    "        \n",
    "        out = self.fc(h_out)\n",
    "        \n",
    "        return out"
   ]
  },
  {
   "cell_type": "markdown",
   "id": "5ecf33ad",
   "metadata": {},
   "source": [
    "## Prediction ###"
   ]
  },
  {
   "cell_type": "code",
   "execution_count": 20,
   "id": "6b15dcee",
   "metadata": {
    "ExecuteTime": {
     "end_time": "2022-02-02T20:06:16.384332Z",
     "start_time": "2022-02-02T20:06:16.381533Z"
    }
   },
   "outputs": [],
   "source": [
    "all_features_columns = ['target'] + features"
   ]
  },
  {
   "cell_type": "code",
   "execution_count": 21,
   "id": "b7e63330",
   "metadata": {
    "ExecuteTime": {
     "end_time": "2022-02-02T20:06:16.391150Z",
     "start_time": "2022-02-02T20:06:16.386060Z"
    }
   },
   "outputs": [],
   "source": [
    "def create_context_for_investment_id(df,iid,context_length):\n",
    "    ### df is df for investment id #####\n",
    "    df = df.sort_values('time_id').reset_index(drop=True)\n",
    "    if len(df) >= context_length:\n",
    "        c_df = df.iloc[-context_length:,:].reset_index(drop=True)\n",
    "        c = c_df[all_features_columns].values\n",
    "    elif len(df) == 0:\n",
    "        c = np.zeros((context_length,len(all_features_columns)))\n",
    "#         c[:, 0] = iid\n",
    "    else:\n",
    "        c_df = df.iloc[-context_length:,:].reset_index(drop=True)\n",
    "        c = c_df[all_features_columns].values\n",
    "        c = np.resize(c, (context_length, c.shape[-1]))\n",
    "        \n",
    "    \n",
    "    c = np.expand_dims(c, axis=0)\n",
    "    return c\n",
    "    "
   ]
  },
  {
   "cell_type": "code",
   "execution_count": 22,
   "id": "330d1149",
   "metadata": {
    "ExecuteTime": {
     "end_time": "2022-02-02T20:06:16.396972Z",
     "start_time": "2022-02-02T20:06:16.394380Z"
    }
   },
   "outputs": [],
   "source": [
    "# create_context_for_investment_id(train_f_df[train_f_df.investment_id == 1],input_chunk_length)"
   ]
  },
  {
   "cell_type": "code",
   "execution_count": 23,
   "id": "49c48b0a",
   "metadata": {
    "ExecuteTime": {
     "end_time": "2022-02-02T20:37:11.157560Z",
     "start_time": "2022-02-02T20:06:16.399055Z"
    }
   },
   "outputs": [
    {
     "name": "stdout",
     "output_type": "stream",
     "text": [
      "Starting for fold: 0\u001b[31m\n",
      "Preparing data for fold: 0\u001b[35m\n",
      "657\n"
     ]
    }
   ],
   "source": [
    "\n",
    "# for fold in folds.keys():\n",
    "for fold in [0]:\n",
    "    print(f'Starting for fold: {fold}{r_}')\n",
    "    print(f'Preparing data for fold: {fold}{m_}')\n",
    "    train_indxs = folds[fold]['train']\n",
    "    test_indxs = folds[fold]['test']\n",
    "    test_f_df = train_df[train_df.index.isin(test_indxs)].reset_index(drop=True)\n",
    "    train_f_df = train_df[train_df.index.isin(train_indxs)].reset_index(drop=True)\n",
    "    \n",
    "    test_f_df = test_f_df.sort_values(['investment_id','time_id']).rename(columns = {'target': 'target_o'}).reset_index(drop=True)\n",
    "    test_f_df['target'] = -111.1\n",
    "\n",
    "    #### Create Context #####\n",
    "    context = {}\n",
    "    for iid in investment_ids:\n",
    "#             print(f'fold: {fold} Investment id {iid}{r_}')\n",
    "        iid_df = train_f_df[train_f_df.investment_id == iid]\n",
    "        c = create_context_for_investment_id(iid_df,iid,input_chunk_length)\n",
    "        context[iid] = c\n",
    "\n",
    "\n",
    "    #### Load model #####\n",
    "    model = LstmTsModel(num_classes, input_size, hidden_size, num_layers,seq_length).to(device)\n",
    "    model.load_state_dict(torch.load(WEIGHTS_DIR+str(fold)+'_'+config['best_model_name']))\n",
    "    model.eval()\n",
    "    \n",
    "    #### Prediction ####\n",
    "    with torch.no_grad():\n",
    "        for i, row in test_f_df.iterrows():\n",
    "            inv_id = row['investment_id']\n",
    "            ctx = context[inv_id]\n",
    "            future_covariates = row[['investment_id']+features].values.reshape(1,-1)\n",
    "#             print(future_covariates.shape)\n",
    "            \n",
    "            dataX = torch.Tensor(ctx.astype(float)).to(device)\n",
    "            dataFCV = torch.Tensor(future_covariates.astype(float)).to(device)\n",
    "            out = model(dataX, dataFCV).squeeze().cpu().item()\n",
    "#             print(out)\n",
    "            test_f_df.at[i, 'target'] = float(out)\n",
    "            \n",
    "            ### Update Context #####\n",
    "            new_in_ctx = test_f_df.loc[i][all_features_columns].values.reshape(1,-1).reshape(1,1,-1)\n",
    "            \n",
    "            context[inv_id] = np.concatenate((context[inv_id][:,1:,:], new_in_ctx),axis=1)\n",
    "    \n",
    "    \n",
    "    test_f_df[['row_id','time_id','investment_id','target_o','target']].to_csv(OUTPUT_DIR+str(fold)+'_'+config['best_model_name']+'.csv', index=False)\n",
    "    \n",
    "    \n",
    "    \n",
    "        \n",
    "        "
   ]
  },
  {
   "cell_type": "code",
   "execution_count": null,
   "id": "0ed9eb52",
   "metadata": {},
   "outputs": [],
   "source": []
  }
 ],
 "metadata": {
  "kernelspec": {
   "display_name": "Python 3",
   "language": "python",
   "name": "python3"
  },
  "language_info": {
   "codemirror_mode": {
    "name": "ipython",
    "version": 3
   },
   "file_extension": ".py",
   "mimetype": "text/x-python",
   "name": "python",
   "nbconvert_exporter": "python",
   "pygments_lexer": "ipython3",
   "version": "3.8.5"
  },
  "toc": {
   "base_numbering": 1,
   "nav_menu": {},
   "number_sections": false,
   "sideBar": true,
   "skip_h1_title": false,
   "title_cell": "Table of Contents",
   "title_sidebar": "Contents",
   "toc_cell": false,
   "toc_position": {},
   "toc_section_display": true,
   "toc_window_display": false
  }
 },
 "nbformat": 4,
 "nbformat_minor": 5
}
