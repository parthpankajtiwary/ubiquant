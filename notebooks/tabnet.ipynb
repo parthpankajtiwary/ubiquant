{
 "cells": [
  {
   "cell_type": "code",
   "execution_count": 1,
   "id": "5f1b600b-7d82-4220-8012-69ac123cc62e",
   "metadata": {
    "ExecuteTime": {
     "end_time": "2022-02-02T17:28:01.755507Z",
     "start_time": "2022-02-02T17:28:01.252172Z"
    }
   },
   "outputs": [],
   "source": [
    "import numpy as np\n",
    "import pandas as pd\n",
    "import pickle\n",
    "from datetime import datetime\n",
    "from matplotlib import pyplot as plt\n",
    "from sklearn.preprocessing import LabelEncoder"
   ]
  },
  {
   "cell_type": "code",
   "execution_count": 2,
   "id": "8f7314ac",
   "metadata": {
    "ExecuteTime": {
     "end_time": "2022-02-02T17:28:02.844986Z",
     "start_time": "2022-02-02T17:28:01.758040Z"
    }
   },
   "outputs": [],
   "source": [
    "import torch"
   ]
  },
  {
   "cell_type": "code",
   "execution_count": 3,
   "id": "3cc6a59f",
   "metadata": {
    "ExecuteTime": {
     "end_time": "2022-02-02T17:28:02.874988Z",
     "start_time": "2022-02-02T17:28:02.849722Z"
    }
   },
   "outputs": [],
   "source": [
    "from pytorch_tabnet.tab_model import TabNetRegressor"
   ]
  },
  {
   "cell_type": "code",
   "execution_count": 4,
   "id": "b8789b33",
   "metadata": {
    "ExecuteTime": {
     "end_time": "2022-02-02T17:28:02.880026Z",
     "start_time": "2022-02-02T17:28:02.877003Z"
    }
   },
   "outputs": [],
   "source": [
    "from torch.optim import Adam\n",
    "from torch.optim.lr_scheduler import ReduceLROnPlateau, CosineAnnealingWarmRestarts"
   ]
  },
  {
   "cell_type": "code",
   "execution_count": 5,
   "id": "004dd556",
   "metadata": {
    "ExecuteTime": {
     "end_time": "2022-02-02T17:28:02.890157Z",
     "start_time": "2022-02-02T17:28:02.882063Z"
    }
   },
   "outputs": [],
   "source": [
    "from sklearn.model_selection import train_test_split"
   ]
  },
  {
   "cell_type": "code",
   "execution_count": 6,
   "id": "d93fadb3",
   "metadata": {
    "ExecuteTime": {
     "end_time": "2022-02-02T17:28:02.894641Z",
     "start_time": "2022-02-02T17:28:02.892125Z"
    }
   },
   "outputs": [],
   "source": [
    "import time"
   ]
  },
  {
   "cell_type": "code",
   "execution_count": 7,
   "id": "61604bf7",
   "metadata": {
    "ExecuteTime": {
     "end_time": "2022-02-02T17:28:02.900093Z",
     "start_time": "2022-02-02T17:28:02.897624Z"
    }
   },
   "outputs": [],
   "source": [
    "from tqdm.notebook import tqdm"
   ]
  },
  {
   "cell_type": "code",
   "execution_count": 8,
   "id": "56041846",
   "metadata": {
    "ExecuteTime": {
     "end_time": "2022-02-02T17:28:02.904832Z",
     "start_time": "2022-02-02T17:28:02.902480Z"
    }
   },
   "outputs": [],
   "source": [
    "import gc"
   ]
  },
  {
   "cell_type": "markdown",
   "id": "3c1bf97e-41fb-4dc4-b8d1-6ccbf9cceb6b",
   "metadata": {},
   "source": [
    "## Global Variables ###"
   ]
  },
  {
   "cell_type": "code",
   "execution_count": 9,
   "id": "f07d7d8b-e7ea-4883-bbb4-1f6ff3d78ef7",
   "metadata": {
    "ExecuteTime": {
     "end_time": "2022-02-02T17:28:03.284029Z",
     "start_time": "2022-02-02T17:28:02.906973Z"
    }
   },
   "outputs": [],
   "source": [
    "device = torch.device(\"cuda:0\" if torch.cuda.is_available() else \"cpu\")"
   ]
  },
  {
   "cell_type": "code",
   "execution_count": 10,
   "id": "087a5b4f",
   "metadata": {
    "ExecuteTime": {
     "end_time": "2022-02-02T17:28:03.294444Z",
     "start_time": "2022-02-02T17:28:03.288218Z"
    }
   },
   "outputs": [],
   "source": [
    "from colorama import Fore, Back, Style\n",
    "r_ = Fore.RED\n",
    "b_ = Fore.BLUE\n",
    "c_ = Fore.CYAN\n",
    "g_ = Fore.GREEN\n",
    "y_ = Fore.YELLOW\n",
    "m_ = Fore.MAGENTA\n",
    "sr_ = Style.RESET_ALL"
   ]
  },
  {
   "cell_type": "code",
   "execution_count": 11,
   "id": "673f4f00-3768-4b71-b0b4-0da183a96683",
   "metadata": {
    "ExecuteTime": {
     "end_time": "2022-02-02T17:28:03.301131Z",
     "start_time": "2022-02-02T17:28:03.297135Z"
    }
   },
   "outputs": [],
   "source": [
    "BASE_DIR = '/sharedHDD/rohit/timeseries_learning/ubiquant/'\n",
    "DATA_DIR = BASE_DIR+'data/parquet/'\n",
    "INPUT_DIR = BASE_DIR+'input/'\n",
    "WEIGHTS_DIR = BASE_DIR + 'weights/'\n",
    "OUTPUT_DIR = BASE_DIR+'output/'"
   ]
  },
  {
   "cell_type": "code",
   "execution_count": 12,
   "id": "fcf63364-92d3-477c-b400-9735ea8a624b",
   "metadata": {
    "ExecuteTime": {
     "end_time": "2022-02-02T17:28:03.306166Z",
     "start_time": "2022-02-02T17:28:03.303126Z"
    }
   },
   "outputs": [],
   "source": [
    "features = [f'f_{i}' for i in range(300)]"
   ]
  },
  {
   "cell_type": "markdown",
   "id": "bb64ff3e-4d39-45e0-834f-726220ac6481",
   "metadata": {},
   "source": [
    "#### Read Data #####"
   ]
  },
  {
   "cell_type": "code",
   "execution_count": 13,
   "id": "7b2ba24d-302d-48d8-b1e1-9c760cbe1d55",
   "metadata": {
    "ExecuteTime": {
     "end_time": "2022-02-02T17:28:07.497282Z",
     "start_time": "2022-02-02T17:28:03.308191Z"
    }
   },
   "outputs": [
    {
     "name": "stdout",
     "output_type": "stream",
     "text": [
      "CPU times: user 8.01 s, sys: 14.3 s, total: 22.3 s\n",
      "Wall time: 4.18 s\n"
     ]
    }
   ],
   "source": [
    "%%time\n",
    "train_df = pd.read_parquet(DATA_DIR+'train_low_mem.parquet')"
   ]
  },
  {
   "cell_type": "code",
   "execution_count": 14,
   "id": "d0491c4f-5d9b-474d-a1f0-ea235b11eb19",
   "metadata": {
    "ExecuteTime": {
     "end_time": "2022-02-02T17:28:07.539576Z",
     "start_time": "2022-02-02T17:28:07.503698Z"
    }
   },
   "outputs": [
    {
     "data": {
      "text/html": [
       "<div>\n",
       "<style scoped>\n",
       "    .dataframe tbody tr th:only-of-type {\n",
       "        vertical-align: middle;\n",
       "    }\n",
       "\n",
       "    .dataframe tbody tr th {\n",
       "        vertical-align: top;\n",
       "    }\n",
       "\n",
       "    .dataframe thead th {\n",
       "        text-align: right;\n",
       "    }\n",
       "</style>\n",
       "<table border=\"1\" class=\"dataframe\">\n",
       "  <thead>\n",
       "    <tr style=\"text-align: right;\">\n",
       "      <th></th>\n",
       "      <th>row_id</th>\n",
       "      <th>time_id</th>\n",
       "      <th>investment_id</th>\n",
       "      <th>target</th>\n",
       "      <th>f_0</th>\n",
       "      <th>f_1</th>\n",
       "      <th>f_2</th>\n",
       "      <th>f_3</th>\n",
       "      <th>f_4</th>\n",
       "      <th>f_5</th>\n",
       "      <th>...</th>\n",
       "      <th>f_290</th>\n",
       "      <th>f_291</th>\n",
       "      <th>f_292</th>\n",
       "      <th>f_293</th>\n",
       "      <th>f_294</th>\n",
       "      <th>f_295</th>\n",
       "      <th>f_296</th>\n",
       "      <th>f_297</th>\n",
       "      <th>f_298</th>\n",
       "      <th>f_299</th>\n",
       "    </tr>\n",
       "  </thead>\n",
       "  <tbody>\n",
       "    <tr>\n",
       "      <th>0</th>\n",
       "      <td>0_1</td>\n",
       "      <td>0</td>\n",
       "      <td>1</td>\n",
       "      <td>-0.300875</td>\n",
       "      <td>0.932573</td>\n",
       "      <td>0.113691</td>\n",
       "      <td>-0.402206</td>\n",
       "      <td>0.378386</td>\n",
       "      <td>-0.203938</td>\n",
       "      <td>-0.413469</td>\n",
       "      <td>...</td>\n",
       "      <td>0.366028</td>\n",
       "      <td>-1.095620</td>\n",
       "      <td>0.200075</td>\n",
       "      <td>0.819155</td>\n",
       "      <td>0.941183</td>\n",
       "      <td>-0.086764</td>\n",
       "      <td>-1.087009</td>\n",
       "      <td>-1.044826</td>\n",
       "      <td>-0.287605</td>\n",
       "      <td>0.321566</td>\n",
       "    </tr>\n",
       "    <tr>\n",
       "      <th>1</th>\n",
       "      <td>0_2</td>\n",
       "      <td>0</td>\n",
       "      <td>2</td>\n",
       "      <td>-0.231040</td>\n",
       "      <td>0.810802</td>\n",
       "      <td>-0.514115</td>\n",
       "      <td>0.742368</td>\n",
       "      <td>-0.616673</td>\n",
       "      <td>-0.194255</td>\n",
       "      <td>1.771210</td>\n",
       "      <td>...</td>\n",
       "      <td>-0.154193</td>\n",
       "      <td>0.912726</td>\n",
       "      <td>-0.734579</td>\n",
       "      <td>0.819155</td>\n",
       "      <td>0.941183</td>\n",
       "      <td>-0.387617</td>\n",
       "      <td>-1.087009</td>\n",
       "      <td>-0.929529</td>\n",
       "      <td>-0.974060</td>\n",
       "      <td>-0.343624</td>\n",
       "    </tr>\n",
       "    <tr>\n",
       "      <th>2</th>\n",
       "      <td>0_6</td>\n",
       "      <td>0</td>\n",
       "      <td>6</td>\n",
       "      <td>0.568807</td>\n",
       "      <td>0.393974</td>\n",
       "      <td>0.615937</td>\n",
       "      <td>0.567806</td>\n",
       "      <td>-0.607963</td>\n",
       "      <td>0.068883</td>\n",
       "      <td>-1.083155</td>\n",
       "      <td>...</td>\n",
       "      <td>-0.138020</td>\n",
       "      <td>0.912726</td>\n",
       "      <td>-0.551904</td>\n",
       "      <td>-1.220772</td>\n",
       "      <td>-1.060166</td>\n",
       "      <td>-0.219097</td>\n",
       "      <td>-1.087009</td>\n",
       "      <td>-0.612428</td>\n",
       "      <td>-0.113944</td>\n",
       "      <td>0.243608</td>\n",
       "    </tr>\n",
       "    <tr>\n",
       "      <th>3</th>\n",
       "      <td>0_7</td>\n",
       "      <td>0</td>\n",
       "      <td>7</td>\n",
       "      <td>-1.064780</td>\n",
       "      <td>-2.343535</td>\n",
       "      <td>-0.011870</td>\n",
       "      <td>1.874606</td>\n",
       "      <td>-0.606346</td>\n",
       "      <td>-0.586827</td>\n",
       "      <td>-0.815737</td>\n",
       "      <td>...</td>\n",
       "      <td>0.382201</td>\n",
       "      <td>0.912726</td>\n",
       "      <td>-0.266359</td>\n",
       "      <td>-1.220772</td>\n",
       "      <td>0.941183</td>\n",
       "      <td>-0.609113</td>\n",
       "      <td>0.104928</td>\n",
       "      <td>-0.783423</td>\n",
       "      <td>1.151730</td>\n",
       "      <td>-0.773309</td>\n",
       "    </tr>\n",
       "    <tr>\n",
       "      <th>4</th>\n",
       "      <td>0_8</td>\n",
       "      <td>0</td>\n",
       "      <td>8</td>\n",
       "      <td>-0.531940</td>\n",
       "      <td>0.842057</td>\n",
       "      <td>-0.262993</td>\n",
       "      <td>2.330030</td>\n",
       "      <td>-0.583422</td>\n",
       "      <td>-0.618392</td>\n",
       "      <td>-0.742814</td>\n",
       "      <td>...</td>\n",
       "      <td>-0.170365</td>\n",
       "      <td>0.912726</td>\n",
       "      <td>-0.741355</td>\n",
       "      <td>-1.220772</td>\n",
       "      <td>0.941183</td>\n",
       "      <td>-0.588445</td>\n",
       "      <td>0.104928</td>\n",
       "      <td>0.753279</td>\n",
       "      <td>1.345611</td>\n",
       "      <td>-0.737624</td>\n",
       "    </tr>\n",
       "  </tbody>\n",
       "</table>\n",
       "<p>5 rows × 304 columns</p>\n",
       "</div>"
      ],
      "text/plain": [
       "  row_id  time_id  investment_id    target       f_0       f_1       f_2  \\\n",
       "0    0_1        0              1 -0.300875  0.932573  0.113691 -0.402206   \n",
       "1    0_2        0              2 -0.231040  0.810802 -0.514115  0.742368   \n",
       "2    0_6        0              6  0.568807  0.393974  0.615937  0.567806   \n",
       "3    0_7        0              7 -1.064780 -2.343535 -0.011870  1.874606   \n",
       "4    0_8        0              8 -0.531940  0.842057 -0.262993  2.330030   \n",
       "\n",
       "        f_3       f_4       f_5  ...     f_290     f_291     f_292     f_293  \\\n",
       "0  0.378386 -0.203938 -0.413469  ...  0.366028 -1.095620  0.200075  0.819155   \n",
       "1 -0.616673 -0.194255  1.771210  ... -0.154193  0.912726 -0.734579  0.819155   \n",
       "2 -0.607963  0.068883 -1.083155  ... -0.138020  0.912726 -0.551904 -1.220772   \n",
       "3 -0.606346 -0.586827 -0.815737  ...  0.382201  0.912726 -0.266359 -1.220772   \n",
       "4 -0.583422 -0.618392 -0.742814  ... -0.170365  0.912726 -0.741355 -1.220772   \n",
       "\n",
       "      f_294     f_295     f_296     f_297     f_298     f_299  \n",
       "0  0.941183 -0.086764 -1.087009 -1.044826 -0.287605  0.321566  \n",
       "1  0.941183 -0.387617 -1.087009 -0.929529 -0.974060 -0.343624  \n",
       "2 -1.060166 -0.219097 -1.087009 -0.612428 -0.113944  0.243608  \n",
       "3  0.941183 -0.609113  0.104928 -0.783423  1.151730 -0.773309  \n",
       "4  0.941183 -0.588445  0.104928  0.753279  1.345611 -0.737624  \n",
       "\n",
       "[5 rows x 304 columns]"
      ]
     },
     "execution_count": 14,
     "metadata": {},
     "output_type": "execute_result"
    }
   ],
   "source": [
    "train_df.head()"
   ]
  },
  {
   "cell_type": "code",
   "execution_count": 15,
   "id": "32c2c36e-7ee8-4327-890a-b79278aadd94",
   "metadata": {
    "ExecuteTime": {
     "end_time": "2022-02-02T17:28:07.572333Z",
     "start_time": "2022-02-02T17:28:07.542864Z"
    }
   },
   "outputs": [],
   "source": [
    "investment_ids = train_df.investment_id.unique().tolist()"
   ]
  },
  {
   "cell_type": "code",
   "execution_count": 16,
   "id": "fa117476",
   "metadata": {
    "ExecuteTime": {
     "end_time": "2022-02-02T17:28:07.576947Z",
     "start_time": "2022-02-02T17:28:07.574221Z"
    }
   },
   "outputs": [],
   "source": [
    "cat_vocab_size = max(investment_ids)+1"
   ]
  },
  {
   "cell_type": "code",
   "execution_count": 17,
   "id": "5b7f1c13-cf74-4d18-9bc7-fe62c2dbc5eb",
   "metadata": {
    "ExecuteTime": {
     "end_time": "2022-02-02T17:28:08.228837Z",
     "start_time": "2022-02-02T17:28:07.579018Z"
    }
   },
   "outputs": [],
   "source": [
    "with open(BASE_DIR+'input/folds.pickle', 'rb') as f:\n",
    "    folds = pickle.load(f)"
   ]
  },
  {
   "cell_type": "code",
   "execution_count": null,
   "id": "9e8b8aee",
   "metadata": {},
   "outputs": [],
   "source": []
  },
  {
   "cell_type": "markdown",
   "id": "b808f08b-0824-4cb6-95d9-6972c9ecdd15",
   "metadata": {},
   "source": [
    "### Modeling ####"
   ]
  },
  {
   "cell_type": "code",
   "execution_count": 18,
   "id": "2612cb67",
   "metadata": {
    "ExecuteTime": {
     "end_time": "2022-02-02T17:28:08.233569Z",
     "start_time": "2022-02-02T17:28:08.230836Z"
    }
   },
   "outputs": [],
   "source": [
    "all_features_columns = ['investment_id', 'target'] + features"
   ]
  },
  {
   "cell_type": "markdown",
   "id": "ca98be70",
   "metadata": {},
   "source": [
    "##### Loss function #####"
   ]
  },
  {
   "cell_type": "code",
   "execution_count": 19,
   "id": "f9e41aca",
   "metadata": {
    "ExecuteTime": {
     "end_time": "2022-02-02T17:28:08.238449Z",
     "start_time": "2022-02-02T17:28:08.235269Z"
    }
   },
   "outputs": [],
   "source": [
    "def pearson_loss(x, y):\n",
    "    xd = x - x.mean()\n",
    "    yd = y - y.mean()\n",
    "    nom = (xd * yd).sum()\n",
    "    denom = ((xd ** 2).sum() * (yd ** 2).sum()).sqrt()\n",
    "    return 1 - nom / denom"
   ]
  },
  {
   "cell_type": "markdown",
   "id": "c88612de",
   "metadata": {},
   "source": [
    "### Tabnet Preparation ####"
   ]
  },
  {
   "cell_type": "code",
   "execution_count": 20,
   "id": "137525df",
   "metadata": {
    "ExecuteTime": {
     "end_time": "2022-02-02T17:28:08.242104Z",
     "start_time": "2022-02-02T17:28:08.239931Z"
    }
   },
   "outputs": [],
   "source": [
    "cat_names = ['investment_id']\n",
    "cont_names = features"
   ]
  },
  {
   "cell_type": "code",
   "execution_count": 21,
   "id": "4ea63cad",
   "metadata": {
    "ExecuteTime": {
     "end_time": "2022-02-02T17:28:08.351419Z",
     "start_time": "2022-02-02T17:28:08.243510Z"
    }
   },
   "outputs": [],
   "source": [
    "cat_idxs = [0]"
   ]
  },
  {
   "cell_type": "code",
   "execution_count": 22,
   "id": "a634fa13",
   "metadata": {
    "ExecuteTime": {
     "end_time": "2022-02-02T17:28:08.357230Z",
     "start_time": "2022-02-02T17:28:08.355040Z"
    }
   },
   "outputs": [],
   "source": [
    "cat_dims = [cat_vocab_size]"
   ]
  },
  {
   "cell_type": "code",
   "execution_count": 23,
   "id": "03c563b2",
   "metadata": {
    "ExecuteTime": {
     "end_time": "2022-02-02T17:28:08.362007Z",
     "start_time": "2022-02-02T17:28:08.359028Z"
    }
   },
   "outputs": [],
   "source": [
    "cat_emb_dim = [100]"
   ]
  },
  {
   "cell_type": "code",
   "execution_count": 24,
   "id": "0adb6482",
   "metadata": {
    "ExecuteTime": {
     "end_time": "2022-02-02T17:28:08.367863Z",
     "start_time": "2022-02-02T17:28:08.363738Z"
    }
   },
   "outputs": [],
   "source": [
    "tabnet_params = dict(\n",
    "    cat_idxs=cat_idxs,\n",
    "    cat_dims=cat_dims,\n",
    "    cat_emb_dim=cat_emb_dim,\n",
    "    n_d = 16,\n",
    "    n_a = 16,\n",
    "    n_steps = 2,\n",
    "    gamma = 2,\n",
    "    n_independent = 2,\n",
    "    n_shared = 2,\n",
    "    lambda_sparse = 0,\n",
    "    optimizer_fn = Adam,\n",
    "    optimizer_params = dict(lr = (2e-2)),\n",
    "    mask_type = \"entmax\",\n",
    "    scheduler_params = dict(T_0=200, T_mult=1, eta_min=1e-4, last_epoch=-1, verbose=False),\n",
    "    scheduler_fn = CosineAnnealingWarmRestarts,\n",
    "    seed = 42,\n",
    "#     verbose = 10,\n",
    "#     device_name = 'cpu'\n",
    ")"
   ]
  },
  {
   "cell_type": "code",
   "execution_count": 25,
   "id": "553f7ee0",
   "metadata": {
    "ExecuteTime": {
     "end_time": "2022-02-02T17:28:08.374082Z",
     "start_time": "2022-02-02T17:28:08.369660Z"
    }
   },
   "outputs": [
    {
     "data": {
      "text/plain": [
       "(3141410,)"
      ]
     },
     "execution_count": 25,
     "metadata": {},
     "output_type": "execute_result"
    }
   ],
   "source": [
    "train_df['target'].values.shape"
   ]
  },
  {
   "cell_type": "markdown",
   "id": "f6e7d92a",
   "metadata": {},
   "source": [
    "## Training ###"
   ]
  },
  {
   "cell_type": "code",
   "execution_count": 26,
   "id": "597bdf1d",
   "metadata": {
    "ExecuteTime": {
     "end_time": "2022-02-02T17:45:34.953155Z",
     "start_time": "2022-02-02T17:28:08.375663Z"
    }
   },
   "outputs": [
    {
     "name": "stdout",
     "output_type": "stream",
     "text": [
      "Starting for fold: 4\u001b[31m\n",
      "Preparing training data for fold: 4\u001b[35m\n",
      "Device used : cuda\n",
      "epoch 0  | loss: 0.85929 | valid_mse: 0.7516199946403503|  0:01:22s\n",
      "epoch 1  | loss: 0.8453  | valid_mse: 0.7481099963188171|  0:02:45s\n",
      "epoch 2  | loss: 0.84114 | valid_mse: 0.7482200264930725|  0:04:11s\n",
      "epoch 3  | loss: 0.83688 | valid_mse: 0.7537699937820435|  0:05:35s\n",
      "epoch 4  | loss: 0.83196 | valid_mse: 0.7517300248146057|  0:06:57s\n",
      "epoch 5  | loss: 0.82604 | valid_mse: 0.7563300132751465|  0:08:17s\n",
      "epoch 6  | loss: 0.81979 | valid_mse: 0.7572000026702881|  0:09:38s\n",
      "epoch 7  | loss: 0.8124  | valid_mse: 0.7581999897956848|  0:10:59s\n",
      "epoch 8  | loss: 0.80523 | valid_mse: 0.7734900116920471|  0:12:20s\n",
      "epoch 9  | loss: 0.79794 | valid_mse: 0.7721199989318848|  0:13:43s\n",
      "epoch 10 | loss: 0.79107 | valid_mse: 0.779699981212616|  0:15:04s\n",
      "epoch 11 | loss: 0.78474 | valid_mse: 0.7825199961662292|  0:16:27s\n",
      "\n",
      "Early stopping occurred at epoch 11 with best_epoch = 1 and best_valid_mse = 0.7481099963188171\n",
      "Best weights from best epoch are automatically used!\n",
      "Successfully saved model at /sharedHDD/rohit/timeseries_learning/ubiquant/weights/4_tabnet.zip\n"
     ]
    }
   ],
   "source": [
    "# for fold in folds.keys():\n",
    "for fold in [4]:\n",
    "    print(f'Starting for fold: {fold}{r_}')\n",
    "    print(f'Preparing training data for fold: {fold}{m_}')\n",
    "    train_indxs = folds[fold]['train']\n",
    "    test_indxs = folds[fold]['test']\n",
    "    test_f_df = train_df[train_df.index.isin(test_indxs)].reset_index(drop=True)\n",
    "    train_f_df = train_df[train_df.index.isin(train_indxs)].reset_index(drop=True)\n",
    "    \n",
    "    X_train = train_f_df[cat_names+cont_names].values\n",
    "    y_train = train_f_df['target'].values\n",
    "    \n",
    "    X_val = test_f_df[cat_names+cont_names].values\n",
    "    y_val = test_f_df['target'].values\n",
    "    \n",
    "    model =  TabNetRegressor(**tabnet_params)\n",
    "    model.fit(\n",
    "          X_train, y_train.reshape(-1, 1),\n",
    "          eval_set=[(X_val, y_val.reshape(-1, 1))],\n",
    "          eval_name=['valid'],\n",
    "          max_epochs = 15,\n",
    "          patience = 10,\n",
    "          batch_size = 2048, \n",
    "          virtual_batch_size = 128,\n",
    "          num_workers = 4,\n",
    "          drop_last = False,\n",
    "          eval_metric=['mse'],\n",
    "          )\n",
    "    \n",
    "    \n",
    "    preds = model.predict(X_val)\n",
    "    \n",
    "    test_f_df['predicted'] = preds.reshape(-1).tolist()\n",
    "    test_f_df[['row_id','time_id','investment_id','target','predicted']].to_csv(OUTPUT_DIR+str(fold)+'_tabnet.csv', index=False)\n",
    "    \n",
    "    model.save_model(WEIGHTS_DIR+str(fold)+'_tabnet')"
   ]
  },
  {
   "cell_type": "code",
   "execution_count": null,
   "id": "296bc5f4",
   "metadata": {
    "ExecuteTime": {
     "end_time": "2022-02-02T16:56:51.483442Z",
     "start_time": "2022-02-02T16:56:51.336174Z"
    }
   },
   "outputs": [],
   "source": []
  },
  {
   "cell_type": "code",
   "execution_count": null,
   "id": "dda75b97",
   "metadata": {},
   "outputs": [],
   "source": []
  }
 ],
 "metadata": {
  "kernelspec": {
   "display_name": "Python 3",
   "language": "python",
   "name": "python3"
  },
  "language_info": {
   "codemirror_mode": {
    "name": "ipython",
    "version": 3
   },
   "file_extension": ".py",
   "mimetype": "text/x-python",
   "name": "python",
   "nbconvert_exporter": "python",
   "pygments_lexer": "ipython3",
   "version": "3.8.5"
  },
  "toc": {
   "base_numbering": 1,
   "nav_menu": {},
   "number_sections": false,
   "sideBar": true,
   "skip_h1_title": false,
   "title_cell": "Table of Contents",
   "title_sidebar": "Contents",
   "toc_cell": false,
   "toc_position": {},
   "toc_section_display": true,
   "toc_window_display": false
  }
 },
 "nbformat": 4,
 "nbformat_minor": 5
}
