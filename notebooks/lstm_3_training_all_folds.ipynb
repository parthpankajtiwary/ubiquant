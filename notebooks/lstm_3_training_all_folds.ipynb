{
 "cells": [
  {
   "cell_type": "code",
   "execution_count": 1,
   "id": "2871f7d2",
   "metadata": {
    "ExecuteTime": {
     "end_time": "2022-02-02T19:41:56.019794Z",
     "start_time": "2022-02-02T19:41:55.509603Z"
    }
   },
   "outputs": [],
   "source": [
    "import numpy as np\n",
    "import pandas as pd\n",
    "import pickle\n",
    "from datetime import datetime\n",
    "from matplotlib import pyplot as plt\n",
    "from sklearn.preprocessing import LabelEncoder\n",
    "from sklearn.model_selection import GroupKFold\n",
    "import dateutil.easter as easter"
   ]
  },
  {
   "cell_type": "code",
   "execution_count": 2,
   "id": "20376c34",
   "metadata": {
    "ExecuteTime": {
     "end_time": "2022-02-02T19:41:57.105311Z",
     "start_time": "2022-02-02T19:41:56.022941Z"
    }
   },
   "outputs": [],
   "source": [
    "import torch\n",
    "import torch.nn as nn\n",
    "from torch.autograd import Variable"
   ]
  },
  {
   "cell_type": "code",
   "execution_count": 3,
   "id": "4ab55994",
   "metadata": {
    "ExecuteTime": {
     "end_time": "2022-02-02T19:41:57.110609Z",
     "start_time": "2022-02-02T19:41:57.107660Z"
    }
   },
   "outputs": [],
   "source": [
    "from torch.utils.data import Dataset, DataLoader"
   ]
  },
  {
   "cell_type": "code",
   "execution_count": 4,
   "id": "1049193c",
   "metadata": {
    "ExecuteTime": {
     "end_time": "2022-02-02T19:41:57.122359Z",
     "start_time": "2022-02-02T19:41:57.112538Z"
    }
   },
   "outputs": [],
   "source": [
    "from accelerate import Accelerator\n",
    "import torch.optim as optim"
   ]
  },
  {
   "cell_type": "code",
   "execution_count": 5,
   "id": "8531998e",
   "metadata": {
    "ExecuteTime": {
     "end_time": "2022-02-02T19:41:57.127695Z",
     "start_time": "2022-02-02T19:41:57.124162Z"
    }
   },
   "outputs": [],
   "source": [
    "from sklearn.model_selection import train_test_split"
   ]
  },
  {
   "cell_type": "code",
   "execution_count": 6,
   "id": "a2c3273f",
   "metadata": {
    "ExecuteTime": {
     "end_time": "2022-02-02T19:41:57.131646Z",
     "start_time": "2022-02-02T19:41:57.129237Z"
    }
   },
   "outputs": [],
   "source": [
    "import time"
   ]
  },
  {
   "cell_type": "code",
   "execution_count": 7,
   "id": "e193ac80",
   "metadata": {
    "ExecuteTime": {
     "end_time": "2022-02-02T19:41:57.136648Z",
     "start_time": "2022-02-02T19:41:57.134099Z"
    }
   },
   "outputs": [],
   "source": [
    "from tqdm.notebook import tqdm"
   ]
  },
  {
   "cell_type": "code",
   "execution_count": 8,
   "id": "c3139064",
   "metadata": {
    "ExecuteTime": {
     "end_time": "2022-02-02T19:41:57.141073Z",
     "start_time": "2022-02-02T19:41:57.138722Z"
    }
   },
   "outputs": [],
   "source": [
    "import gc"
   ]
  },
  {
   "cell_type": "markdown",
   "id": "d6eaf56d",
   "metadata": {},
   "source": [
    "## Global Variables ###"
   ]
  },
  {
   "cell_type": "code",
   "execution_count": 9,
   "id": "21027ebf",
   "metadata": {
    "ExecuteTime": {
     "end_time": "2022-02-02T19:41:57.521306Z",
     "start_time": "2022-02-02T19:41:57.142846Z"
    }
   },
   "outputs": [],
   "source": [
    "device = torch.device(\"cuda:0\" if torch.cuda.is_available() else \"cpu\")"
   ]
  },
  {
   "cell_type": "code",
   "execution_count": 10,
   "id": "6ea9d196",
   "metadata": {
    "ExecuteTime": {
     "end_time": "2022-02-02T19:41:57.535838Z",
     "start_time": "2022-02-02T19:41:57.525424Z"
    }
   },
   "outputs": [
    {
     "data": {
      "text/plain": [
       "device(type='cuda', index=0)"
      ]
     },
     "execution_count": 10,
     "metadata": {},
     "output_type": "execute_result"
    }
   ],
   "source": [
    "device"
   ]
  },
  {
   "cell_type": "code",
   "execution_count": 11,
   "id": "181a735a",
   "metadata": {
    "ExecuteTime": {
     "end_time": "2022-02-02T19:41:57.541685Z",
     "start_time": "2022-02-02T19:41:57.537942Z"
    }
   },
   "outputs": [],
   "source": [
    "from colorama import Fore, Back, Style\n",
    "r_ = Fore.RED\n",
    "b_ = Fore.BLUE\n",
    "c_ = Fore.CYAN\n",
    "g_ = Fore.GREEN\n",
    "y_ = Fore.YELLOW\n",
    "m_ = Fore.MAGENTA\n",
    "sr_ = Style.RESET_ALL"
   ]
  },
  {
   "cell_type": "code",
   "execution_count": 12,
   "id": "9e80a83b",
   "metadata": {
    "ExecuteTime": {
     "end_time": "2022-02-02T19:41:57.546806Z",
     "start_time": "2022-02-02T19:41:57.543701Z"
    }
   },
   "outputs": [],
   "source": [
    "BASE_DIR = '/sharedHDD/rohit/timeseries_learning/ubiquant/'\n",
    "DATA_DIR = BASE_DIR+'data/parquet/'\n",
    "INPUT_DIR = BASE_DIR+'input/'\n",
    "WEIGHTS_DIR = BASE_DIR + 'weights/'"
   ]
  },
  {
   "cell_type": "code",
   "execution_count": 13,
   "id": "ac6ca023",
   "metadata": {
    "ExecuteTime": {
     "end_time": "2022-02-02T19:41:57.551502Z",
     "start_time": "2022-02-02T19:41:57.548599Z"
    }
   },
   "outputs": [],
   "source": [
    "input_chunk_length = 30\n",
    "output_chunk_length = 1\n",
    "embedding_dim = 56 ## Investment id embedding dim"
   ]
  },
  {
   "cell_type": "code",
   "execution_count": 14,
   "id": "848b6f03",
   "metadata": {
    "ExecuteTime": {
     "end_time": "2022-02-02T19:41:57.556693Z",
     "start_time": "2022-02-02T19:41:57.553449Z"
    }
   },
   "outputs": [],
   "source": [
    "features = [f'f_{i}' for i in range(300)]"
   ]
  },
  {
   "cell_type": "markdown",
   "id": "9a6a2638",
   "metadata": {},
   "source": [
    "## Load data ##"
   ]
  },
  {
   "cell_type": "code",
   "execution_count": 15,
   "id": "c7ca36d9",
   "metadata": {
    "ExecuteTime": {
     "end_time": "2022-02-02T19:42:01.341487Z",
     "start_time": "2022-02-02T19:41:57.558614Z"
    }
   },
   "outputs": [
    {
     "name": "stdout",
     "output_type": "stream",
     "text": [
      "CPU times: user 9.04 s, sys: 14 s, total: 23 s\n",
      "Wall time: 3.77 s\n"
     ]
    }
   ],
   "source": [
    "%%time\n",
    "train_df = pd.read_parquet(DATA_DIR+'train_low_mem.parquet')"
   ]
  },
  {
   "cell_type": "code",
   "execution_count": 16,
   "id": "8724391b",
   "metadata": {
    "ExecuteTime": {
     "end_time": "2022-02-02T19:42:01.366405Z",
     "start_time": "2022-02-02T19:42:01.345351Z"
    }
   },
   "outputs": [],
   "source": [
    "investment_ids = train_df.investment_id.unique().tolist()"
   ]
  },
  {
   "cell_type": "code",
   "execution_count": 17,
   "id": "4addc72f",
   "metadata": {
    "ExecuteTime": {
     "end_time": "2022-02-02T19:42:01.372542Z",
     "start_time": "2022-02-02T19:42:01.368131Z"
    }
   },
   "outputs": [
    {
     "data": {
      "text/plain": [
       "3773"
      ]
     },
     "execution_count": 17,
     "metadata": {},
     "output_type": "execute_result"
    }
   ],
   "source": [
    "max(investment_ids)"
   ]
  },
  {
   "cell_type": "code",
   "execution_count": 18,
   "id": "352ef909",
   "metadata": {
    "ExecuteTime": {
     "end_time": "2022-02-02T19:42:01.981184Z",
     "start_time": "2022-02-02T19:42:01.374067Z"
    }
   },
   "outputs": [],
   "source": [
    "with open(BASE_DIR+'input/folds.pickle', 'rb') as f:\n",
    "    folds = pickle.load(f)"
   ]
  },
  {
   "cell_type": "markdown",
   "id": "3884c918",
   "metadata": {},
   "source": [
    "#### Utility functions ######"
   ]
  },
  {
   "cell_type": "code",
   "execution_count": 19,
   "id": "ca7b6b55",
   "metadata": {
    "ExecuteTime": {
     "end_time": "2022-02-02T19:42:01.986234Z",
     "start_time": "2022-02-02T19:42:01.983499Z"
    }
   },
   "outputs": [],
   "source": [
    "all_features_columns = ['target'] #+ features"
   ]
  },
  {
   "cell_type": "code",
   "execution_count": 20,
   "id": "fd3d4c5d",
   "metadata": {
    "ExecuteTime": {
     "end_time": "2022-02-02T19:42:01.991524Z",
     "start_time": "2022-02-02T19:42:01.988204Z"
    }
   },
   "outputs": [],
   "source": [
    "def get_feature_array_train(rows):\n",
    "    target_val = rows.target.values\n",
    "    \n",
    "    inp_vec = rows[all_features_columns].values\n",
    "    \n",
    "    future_covariates = rows[['investment_id']+features].values\n",
    "    \n",
    "    return inp_vec,target_val,future_covariates"
   ]
  },
  {
   "cell_type": "code",
   "execution_count": 21,
   "id": "1498fc8d",
   "metadata": {
    "ExecuteTime": {
     "end_time": "2022-02-02T19:42:02.092130Z",
     "start_time": "2022-02-02T19:42:01.993354Z"
    }
   },
   "outputs": [],
   "source": [
    "def sliding_windows(X,Y,FCVs, seq_length,prediction_length):\n",
    "    x = []\n",
    "    y = []\n",
    "    future_covariates = []\n",
    "    for i in range(len(X)-(prediction_length+seq_length)):\n",
    "        _x = X[i:(i+seq_length),:].reshape(seq_length,-1)\n",
    "#         _y = Y[(i+seq_length):(i+prediction_length+seq_length),:]\n",
    "        _y = Y[i+seq_length]\n",
    "        _future_covariate = FCVs[i+seq_length]\n",
    "        x.append(_x)\n",
    "        y.append(_y)\n",
    "        future_covariates.append(_future_covariate)\n",
    "\n",
    "    return x,y,future_covariates"
   ]
  },
  {
   "cell_type": "code",
   "execution_count": 22,
   "id": "46496544",
   "metadata": {
    "ExecuteTime": {
     "end_time": "2022-02-02T19:42:02.100470Z",
     "start_time": "2022-02-02T19:42:02.095537Z"
    }
   },
   "outputs": [],
   "source": [
    "def make_sequences(df,to_exclude_ids):\n",
    "    x = []\n",
    "    y = []\n",
    "    future_covariates = []\n",
    "    investment_ids = df.investment_id.unique()\n",
    "    for iid in investment_ids:\n",
    "        if iid not in to_exclude_ids:\n",
    "            df_tmp = df[df.investment_id == iid].sort_values('time_id')\n",
    "            tmp_X,tmp_Y,tmp_fcvs = get_feature_array_train(df_tmp)\n",
    "            _x,_y,_fcv = sliding_windows(tmp_X,tmp_Y,tmp_fcvs,input_chunk_length,output_chunk_length)\n",
    "            x.extend(_x)\n",
    "            y.extend(_y)\n",
    "            future_covariates.extend(_fcv)\n",
    "            \n",
    "#             gc.collect()\n",
    "        # else:\n",
    "        #     print('Not including iid:', iid)\n",
    "    \n",
    "    return np.float32(np.array(x)),np.float32(np.array(y)),np.float32(np.array(future_covariates))"
   ]
  },
  {
   "cell_type": "code",
   "execution_count": 23,
   "id": "638478fd",
   "metadata": {
    "ExecuteTime": {
     "end_time": "2022-02-02T19:42:02.306718Z",
     "start_time": "2022-02-02T19:42:02.103889Z"
    }
   },
   "outputs": [
    {
     "data": {
      "text/plain": [
       "40"
      ]
     },
     "execution_count": 23,
     "metadata": {},
     "output_type": "execute_result"
    }
   ],
   "source": [
    "gc.collect()"
   ]
  },
  {
   "cell_type": "markdown",
   "id": "d50eb104",
   "metadata": {},
   "source": [
    "## Modeling ##"
   ]
  },
  {
   "cell_type": "code",
   "execution_count": 24,
   "id": "e815508e",
   "metadata": {
    "ExecuteTime": {
     "end_time": "2022-02-02T19:42:02.312151Z",
     "start_time": "2022-02-02T19:42:02.308578Z"
    }
   },
   "outputs": [],
   "source": [
    "config = {\n",
    "    'seq_length' : input_chunk_length,\n",
    "    'num_epochs' : 100,\n",
    "    'lr' : 0.00026,\n",
    "    'input_size' : 1,\n",
    "    'hidden_size' : 25,\n",
    "    'num_layers' : 1,\n",
    "    'num_classes' :1, ## This is  output dimension\n",
    "    'train_shuffle': True,\n",
    "    'val_shuffle': True,\n",
    "    'batch_size' : 4096*2,\n",
    "    'best_model_name' : 'lstm3',\n",
    "    'bidirectional' : False,\n",
    "    'only_last_hidden': True,\n",
    "    'early_stopping_patience':10,\n",
    "}"
   ]
  },
  {
   "cell_type": "code",
   "execution_count": 25,
   "id": "0dd280c3",
   "metadata": {
    "ExecuteTime": {
     "end_time": "2022-02-02T19:42:02.318296Z",
     "start_time": "2022-02-02T19:42:02.313954Z"
    }
   },
   "outputs": [],
   "source": [
    "class TSDataset(Dataset):\n",
    "    \n",
    "    def __init__(self,x,y,future_covariates):\n",
    "        \"\"\"\n",
    "        Args:\n",
    "        \"\"\"\n",
    "        self.x=x\n",
    "        self.y=y\n",
    "        self.future_covariates = future_covariates\n",
    "\n",
    "    def __len__(self):\n",
    "        return len(self.x)\n",
    "\n",
    "    def __getitem__(self, idx):\n",
    "        \n",
    "        sample = [torch.Tensor(self.x[idx]),torch.Tensor(self.y[idx]),torch.Tensor(self.future_covariates[idx])]\n",
    "        return sample"
   ]
  },
  {
   "cell_type": "markdown",
   "id": "f8d07125",
   "metadata": {},
   "source": [
    "#### Model ####"
   ]
  },
  {
   "cell_type": "code",
   "execution_count": 26,
   "id": "1b5e373f",
   "metadata": {
    "ExecuteTime": {
     "end_time": "2022-02-02T19:42:02.323278Z",
     "start_time": "2022-02-02T19:42:02.319992Z"
    }
   },
   "outputs": [],
   "source": [
    "num_epochs = config['num_epochs']\n",
    "lr = config['lr']\n",
    "input_size = config['input_size']\n",
    "hidden_size = config['hidden_size']\n",
    "num_layers = config['num_layers']\n",
    "num_classes = config['num_classes']\n",
    "seq_length = config['seq_length']\n",
    "bidirectional = config['bidirectional']\n",
    "only_last_hidden = config['only_last_hidden']\n",
    "early_stopping_patience = config['early_stopping_patience']"
   ]
  },
  {
   "cell_type": "markdown",
   "id": "e9f67d68",
   "metadata": {},
   "source": [
    "#### Loss function ######"
   ]
  },
  {
   "cell_type": "code",
   "execution_count": 27,
   "id": "7f9bb16a",
   "metadata": {
    "ExecuteTime": {
     "end_time": "2022-02-02T19:42:02.328178Z",
     "start_time": "2022-02-02T19:42:02.324846Z"
    }
   },
   "outputs": [],
   "source": [
    "def pearson_loss(x, y):\n",
    "    xd = x - x.mean()\n",
    "    yd = y - y.mean()\n",
    "    nom = (xd * yd).sum()\n",
    "    denom = ((xd ** 2).sum() * (yd ** 2).sum()).sqrt()\n",
    "    return 1 - nom / denom"
   ]
  },
  {
   "cell_type": "code",
   "execution_count": 28,
   "id": "d9f8103a",
   "metadata": {
    "ExecuteTime": {
     "end_time": "2022-02-02T19:42:02.338363Z",
     "start_time": "2022-02-02T19:42:02.329948Z"
    }
   },
   "outputs": [],
   "source": [
    "class LstmTsModel(nn.Module):\n",
    "\n",
    "    def __init__(self, num_classes, input_size, hidden_size, num_layers,seq_length):\n",
    "        super(LstmTsModel, self).__init__()\n",
    "        \n",
    "        self.num_classes = num_classes\n",
    "        self.num_layers = num_layers\n",
    "        self.input_size = input_size\n",
    "        self.hidden_size = hidden_size\n",
    "        self.seq_length = seq_length\n",
    "        \n",
    "        cat_input_dim: int = 3774\n",
    "        \n",
    "        self.embedding = nn.Embedding(cat_input_dim, embedding_dim)\n",
    "        \n",
    "        self.lstm = nn.LSTM(input_size=input_size, hidden_size=hidden_size,\n",
    "                            num_layers=num_layers, batch_first=True,bidirectional=bidirectional)\n",
    "        \n",
    "        if bidirectional:\n",
    "            m=2\n",
    "        else:\n",
    "            m=1\n",
    "        \n",
    "        if only_last_hidden:\n",
    "            input_fc_dim = (hidden_size*m)+(len(features)+embedding_dim)\n",
    "        else:\n",
    "            input_fc_dim = (self.seq_length*hidden_size*m)+(len(features)+embedding_dim)\n",
    "        \n",
    "        print(input_fc_dim)\n",
    "        \n",
    "        self.fc = nn.Sequential(nn.Linear(input_fc_dim, 508),\n",
    "#                                 nn.BatchNorm1d(num_features=508),\n",
    "                                nn.ReLU(),\n",
    "                                nn.Dropout(0.42),\n",
    "                                \n",
    "                                nn.Linear(508, 405),\n",
    "#                                 nn.BatchNorm1d(num_features=405),\n",
    "                                nn.Dropout(0.42),\n",
    "                                nn.ReLU(),\n",
    "                                \n",
    "#                                 nn.Linear(input_fc_dim//16, input_fc_dim//32),\n",
    "#                                 nn.BatchNorm1d(num_features=input_fc_dim//32),\n",
    "#                                 # nn.Dropout(0.2),\n",
    "#                                 nn.ReLU(),\n",
    "                                \n",
    "                                \n",
    "                                nn.Linear(405, self.num_classes)\n",
    "                                )\n",
    "    \n",
    "    def forward(self, x, fcv):\n",
    "                                # Propagate input through LSTM\n",
    "        h_out, (h_n, _) = self.lstm(x)\n",
    "        if only_last_hidden:\n",
    "            h_out = h_out[:,-1:,:]\n",
    "        \n",
    "        h_out = h_out.flatten(start_dim=1)\n",
    "        \n",
    "        \n",
    "        investment_ids = fcv[:,0].type(torch.LongTensor).to(device)\n",
    "        embeddings = self.embedding(investment_ids)\n",
    "        \n",
    "        h_out = torch.cat([embeddings,fcv[:,1:],h_out], dim=1)\n",
    "        \n",
    "        out = self.fc(h_out)\n",
    "        \n",
    "        return out"
   ]
  },
  {
   "cell_type": "code",
   "execution_count": 29,
   "id": "42377443",
   "metadata": {
    "ExecuteTime": {
     "end_time": "2022-02-02T19:42:02.351689Z",
     "start_time": "2022-02-02T19:42:02.339997Z"
    }
   },
   "outputs": [],
   "source": [
    "def run(model,train_dl,val_dl,fold):\n",
    "    def evaluate(model,valid_loader):\n",
    "        model.eval()\n",
    "        valid_loss = 0\n",
    "        rec_loss = 0\n",
    "        with torch.no_grad():\n",
    "            for i, inputs in enumerate(tqdm(valid_loader)):\n",
    "                dataX = inputs[0]\n",
    "                dataY = inputs[1]\n",
    "                dataFCV = inputs[2]\n",
    "                outputs = model(dataX,dataFCV)\n",
    "                loss = criterion(outputs, dataY)\n",
    "                valid_loss += loss.item()\n",
    "\n",
    "        valid_loss /= len(valid_loader)\n",
    "        return valid_loss\n",
    "    \n",
    "    def train_and_evaluate_loop(train_loader,model,optimizer,criterion,epoch,lr_scheduler=None,valid_loader=None, best_loss=99999):\n",
    "        train_loss = 0\n",
    "        improvement = False\n",
    "        for i, inputs in enumerate(tqdm(train_loader)):\n",
    "            optimizer.zero_grad()\n",
    "            model.train()\n",
    "            \n",
    "            dataX = inputs[0]\n",
    "            dataY = inputs[1]\n",
    "            dataFCV = inputs[2]\n",
    "            outputs = model(dataX,dataFCV)\n",
    "            loss = criterion(outputs, dataY)\n",
    "            \n",
    "            loss.backward()\n",
    "            optimizer.step()\n",
    "            \n",
    "            train_loss += loss.item()\n",
    "            \n",
    "            if lr_scheduler:\n",
    "                lr_scheduler.step()\n",
    "        \n",
    "        train_loss /= len(train_loader)\n",
    "        if valid_loader:\n",
    "            valid_loss = evaluate(model,valid_loader) \n",
    "            print(f\"Epoch:{epoch} |Train Loss:{train_loss}|Valid Loss:{valid_loss}\")\n",
    "            if valid_loss <= best_loss:\n",
    "                print(f\"{g_}Loss Decreased from {best_loss} to {valid_loss}{sr_}\")\n",
    "\n",
    "                best_loss = valid_loss\n",
    "                torch.save(model.state_dict(), WEIGHTS_DIR+str(fold)+'_'+config['best_model_name'])\n",
    "                improvement = True\n",
    "        else:\n",
    "            print(f\"Epoch:{epoch} |Train Loss:{train_loss}\")\n",
    "            \n",
    "                    \n",
    "        return best_loss,improvement\n",
    "    \n",
    "    accelerator = Accelerator()\n",
    "    print(f\"{accelerator.device} is used\")\n",
    "\n",
    "    \n",
    "    \n",
    "    optimizer = optim.Adam(model.parameters(),lr=config['lr'],amsgrad=False)\n",
    "    criterion = pearson_loss\n",
    "    \n",
    "    # lr_scheduler = CosineAnnealingWarmupRestarts(optimizer, **config_lr)\n",
    "    # lr_scheduler =  torch.optim.lr_scheduler.CosineAnnealingLR(optimizer, **config_lr)\n",
    "    lr_scheduler = None\n",
    "\n",
    "    model,train_dl,val_dl,optimizer,lr_scheduler,criterion = accelerator.prepare(model,train_dl,val_dl,optimizer,lr_scheduler,criterion)\n",
    "\n",
    "    best_loss = 9999999\n",
    "    start_time = time.time()\n",
    "    current_patience = 0\n",
    "    for epoch in tqdm(range(config[\"num_epochs\"])):\n",
    "        print(f\"Epoch Started:{epoch}\")\n",
    "        best_loss,improvement = train_and_evaluate_loop(train_dl,model,optimizer,criterion,epoch,lr_scheduler,valid_loader=val_dl, best_loss=best_loss)\n",
    "        \n",
    "        if not improvement:\n",
    "            current_patience+=1\n",
    "        else:\n",
    "            current_patience = 0\n",
    "            \n",
    "        \n",
    "        if current_patience == early_stopping_patience:\n",
    "            print(f'{g_}EARLY STOPPING')\n",
    "            break\n",
    "            \n",
    "            \n",
    "        \n",
    "        end_time = time.time()\n",
    "        print(f\"{m_}Time taken by epoch {epoch} is {end_time-start_time:.2f}s{sr_}\")\n",
    "        start_time = end_time\n",
    "        \n",
    "    return best_loss, model"
   ]
  },
  {
   "cell_type": "code",
   "execution_count": null,
   "id": "556c2af6",
   "metadata": {},
   "outputs": [],
   "source": []
  },
  {
   "cell_type": "code",
   "execution_count": 30,
   "id": "1892e844",
   "metadata": {
    "ExecuteTime": {
     "end_time": "2022-02-02T19:42:02.511083Z",
     "start_time": "2022-02-02T19:42:02.353362Z"
    }
   },
   "outputs": [
    {
     "data": {
      "text/plain": [
       "20"
      ]
     },
     "execution_count": 30,
     "metadata": {},
     "output_type": "execute_result"
    }
   ],
   "source": [
    "gc.collect()"
   ]
  },
  {
   "cell_type": "code",
   "execution_count": null,
   "id": "a933e1eb",
   "metadata": {},
   "outputs": [],
   "source": []
  },
  {
   "cell_type": "code",
   "execution_count": 31,
   "id": "0dd54406",
   "metadata": {
    "ExecuteTime": {
     "end_time": "2022-02-02T20:56:01.551050Z",
     "start_time": "2022-02-02T19:42:02.512830Z"
    }
   },
   "outputs": [
    {
     "name": "stdout",
     "output_type": "stream",
     "text": [
      "Starting for fold: 1\u001b[31m\n",
      "Preparing training data for fold: 1\u001b[35m\n",
      "(1053141, 304)\n",
      "(942773, 30, 1) (942773, 1) (942773, 301)\n",
      "(412467, 30, 1) (412467, 1) (942773, 301)\n",
      "381\n",
      "cuda is used\n"
     ]
    },
    {
     "data": {
      "application/vnd.jupyter.widget-view+json": {
       "model_id": "4391e7d62a444877b1fa25f1c17c8607",
       "version_major": 2,
       "version_minor": 0
      },
      "text/plain": [
       "  0%|          | 0/100 [00:00<?, ?it/s]"
      ]
     },
     "metadata": {},
     "output_type": "display_data"
    },
    {
     "name": "stdout",
     "output_type": "stream",
     "text": [
      "Epoch Started:0\n"
     ]
    },
    {
     "data": {
      "application/vnd.jupyter.widget-view+json": {
       "model_id": "ada04dc4e8c4453aa18f2c161f98a4c1",
       "version_major": 2,
       "version_minor": 0
      },
      "text/plain": [
       "  0%|          | 0/116 [00:00<?, ?it/s]"
      ]
     },
     "metadata": {},
     "output_type": "display_data"
    },
    {
     "data": {
      "application/vnd.jupyter.widget-view+json": {
       "model_id": "5db81221059749fc8de4647c3ab7a4d8",
       "version_major": 2,
       "version_minor": 0
      },
      "text/plain": [
       "  0%|          | 0/51 [00:00<?, ?it/s]"
      ]
     },
     "metadata": {},
     "output_type": "display_data"
    },
    {
     "name": "stdout",
     "output_type": "stream",
     "text": [
      "Epoch:0 |Train Loss:0.8742886704617533|Valid Loss:0.8424894272112379\n",
      "\u001b[32mLoss Decreased from 9999999 to 0.8424894272112379\u001b[0m\n",
      "\u001b[35mTime taken by epoch 0 is 37.38s\u001b[0m\n",
      "Epoch Started:1\n"
     ]
    },
    {
     "data": {
      "application/vnd.jupyter.widget-view+json": {
       "model_id": "0e9ceba557fc449f8209c854b9e03738",
       "version_major": 2,
       "version_minor": 0
      },
      "text/plain": [
       "  0%|          | 0/116 [00:00<?, ?it/s]"
      ]
     },
     "metadata": {},
     "output_type": "display_data"
    },
    {
     "data": {
      "application/vnd.jupyter.widget-view+json": {
       "model_id": "c996243e103f4ea68a8d43825fbc388e",
       "version_major": 2,
       "version_minor": 0
      },
      "text/plain": [
       "  0%|          | 0/51 [00:00<?, ?it/s]"
      ]
     },
     "metadata": {},
     "output_type": "display_data"
    },
    {
     "name": "stdout",
     "output_type": "stream",
     "text": [
      "Epoch:1 |Train Loss:0.8216155931867403|Valid Loss:0.8208209954056085\n",
      "\u001b[32mLoss Decreased from 0.8424894272112379 to 0.8208209954056085\u001b[0m\n",
      "\u001b[35mTime taken by epoch 1 is 36.98s\u001b[0m\n",
      "Epoch Started:2\n"
     ]
    },
    {
     "data": {
      "application/vnd.jupyter.widget-view+json": {
       "model_id": "c0a221e546ff4bf69f743fbab08518b3",
       "version_major": 2,
       "version_minor": 0
      },
      "text/plain": [
       "  0%|          | 0/116 [00:00<?, ?it/s]"
      ]
     },
     "metadata": {},
     "output_type": "display_data"
    },
    {
     "data": {
      "application/vnd.jupyter.widget-view+json": {
       "model_id": "e07509d33c81417b9dac83f98bf15d4e",
       "version_major": 2,
       "version_minor": 0
      },
      "text/plain": [
       "  0%|          | 0/51 [00:00<?, ?it/s]"
      ]
     },
     "metadata": {},
     "output_type": "display_data"
    },
    {
     "name": "stdout",
     "output_type": "stream",
     "text": [
      "Epoch:2 |Train Loss:0.7991262494490065|Valid Loss:0.8134100039800009\n",
      "\u001b[32mLoss Decreased from 0.8208209954056085 to 0.8134100039800009\u001b[0m\n",
      "\u001b[35mTime taken by epoch 2 is 37.00s\u001b[0m\n",
      "Epoch Started:3\n"
     ]
    },
    {
     "data": {
      "application/vnd.jupyter.widget-view+json": {
       "model_id": "fb4149daef574766bf4a8fd8b9e5e30e",
       "version_major": 2,
       "version_minor": 0
      },
      "text/plain": [
       "  0%|          | 0/116 [00:00<?, ?it/s]"
      ]
     },
     "metadata": {},
     "output_type": "display_data"
    },
    {
     "data": {
      "application/vnd.jupyter.widget-view+json": {
       "model_id": "23cd73e127d2450a929ac6888edcd897",
       "version_major": 2,
       "version_minor": 0
      },
      "text/plain": [
       "  0%|          | 0/51 [00:00<?, ?it/s]"
      ]
     },
     "metadata": {},
     "output_type": "display_data"
    },
    {
     "name": "stdout",
     "output_type": "stream",
     "text": [
      "Epoch:3 |Train Loss:0.7895279300623926|Valid Loss:0.810494628607058\n",
      "\u001b[32mLoss Decreased from 0.8134100039800009 to 0.810494628607058\u001b[0m\n",
      "\u001b[35mTime taken by epoch 3 is 36.96s\u001b[0m\n",
      "Epoch Started:4\n"
     ]
    },
    {
     "data": {
      "application/vnd.jupyter.widget-view+json": {
       "model_id": "198fc28d81904b72b0e2d05364caebff",
       "version_major": 2,
       "version_minor": 0
      },
      "text/plain": [
       "  0%|          | 0/116 [00:00<?, ?it/s]"
      ]
     },
     "metadata": {},
     "output_type": "display_data"
    },
    {
     "data": {
      "application/vnd.jupyter.widget-view+json": {
       "model_id": "f686c77fc1c6417ca486764b96c3f6bd",
       "version_major": 2,
       "version_minor": 0
      },
      "text/plain": [
       "  0%|          | 0/51 [00:00<?, ?it/s]"
      ]
     },
     "metadata": {},
     "output_type": "display_data"
    },
    {
     "name": "stdout",
     "output_type": "stream",
     "text": [
      "Epoch:4 |Train Loss:0.7820932351309677|Valid Loss:0.8077593258782929\n",
      "\u001b[32mLoss Decreased from 0.810494628607058 to 0.8077593258782929\u001b[0m\n",
      "\u001b[35mTime taken by epoch 4 is 37.16s\u001b[0m\n",
      "Epoch Started:5\n"
     ]
    },
    {
     "data": {
      "application/vnd.jupyter.widget-view+json": {
       "model_id": "64b98a4824dd400ebc13ae15c32a0bdb",
       "version_major": 2,
       "version_minor": 0
      },
      "text/plain": [
       "  0%|          | 0/116 [00:00<?, ?it/s]"
      ]
     },
     "metadata": {},
     "output_type": "display_data"
    },
    {
     "data": {
      "application/vnd.jupyter.widget-view+json": {
       "model_id": "2d4a4edc6a6743668eb6e83f1fdf7092",
       "version_major": 2,
       "version_minor": 0
      },
      "text/plain": [
       "  0%|          | 0/51 [00:00<?, ?it/s]"
      ]
     },
     "metadata": {},
     "output_type": "display_data"
    },
    {
     "name": "stdout",
     "output_type": "stream",
     "text": [
      "Epoch:5 |Train Loss:0.7752783262524111|Valid Loss:0.8067921949367897\n",
      "\u001b[32mLoss Decreased from 0.8077593258782929 to 0.8067921949367897\u001b[0m\n",
      "\u001b[35mTime taken by epoch 5 is 37.36s\u001b[0m\n",
      "Epoch Started:6\n"
     ]
    },
    {
     "data": {
      "application/vnd.jupyter.widget-view+json": {
       "model_id": "523c0141654e4b6899d207bb1e141953",
       "version_major": 2,
       "version_minor": 0
      },
      "text/plain": [
       "  0%|          | 0/116 [00:00<?, ?it/s]"
      ]
     },
     "metadata": {},
     "output_type": "display_data"
    },
    {
     "data": {
      "application/vnd.jupyter.widget-view+json": {
       "model_id": "a34b1e8f13444c119dbf703a90ff06b5",
       "version_major": 2,
       "version_minor": 0
      },
      "text/plain": [
       "  0%|          | 0/51 [00:00<?, ?it/s]"
      ]
     },
     "metadata": {},
     "output_type": "display_data"
    },
    {
     "name": "stdout",
     "output_type": "stream",
     "text": [
      "Epoch:6 |Train Loss:0.768317034532284|Valid Loss:0.8047378554063684\n",
      "\u001b[32mLoss Decreased from 0.8067921949367897 to 0.8047378554063684\u001b[0m\n",
      "\u001b[35mTime taken by epoch 6 is 37.56s\u001b[0m\n",
      "Epoch Started:7\n"
     ]
    },
    {
     "data": {
      "application/vnd.jupyter.widget-view+json": {
       "model_id": "cb584bb12b6f4afe94801b4933f632a1",
       "version_major": 2,
       "version_minor": 0
      },
      "text/plain": [
       "  0%|          | 0/116 [00:00<?, ?it/s]"
      ]
     },
     "metadata": {},
     "output_type": "display_data"
    },
    {
     "data": {
      "application/vnd.jupyter.widget-view+json": {
       "model_id": "924926f7b08246918d273d1aa111843a",
       "version_major": 2,
       "version_minor": 0
      },
      "text/plain": [
       "  0%|          | 0/51 [00:00<?, ?it/s]"
      ]
     },
     "metadata": {},
     "output_type": "display_data"
    },
    {
     "name": "stdout",
     "output_type": "stream",
     "text": [
      "Epoch:7 |Train Loss:0.7625737457439817|Valid Loss:0.8064879027067446\n",
      "\u001b[35mTime taken by epoch 7 is 37.16s\u001b[0m\n",
      "Epoch Started:8\n"
     ]
    },
    {
     "data": {
      "application/vnd.jupyter.widget-view+json": {
       "model_id": "b728d2d5f32b4a049843f70c53f6ed52",
       "version_major": 2,
       "version_minor": 0
      },
      "text/plain": [
       "  0%|          | 0/116 [00:00<?, ?it/s]"
      ]
     },
     "metadata": {},
     "output_type": "display_data"
    },
    {
     "data": {
      "application/vnd.jupyter.widget-view+json": {
       "model_id": "4aefaddcb57649e9ba043db61445522b",
       "version_major": 2,
       "version_minor": 0
      },
      "text/plain": [
       "  0%|          | 0/51 [00:00<?, ?it/s]"
      ]
     },
     "metadata": {},
     "output_type": "display_data"
    },
    {
     "name": "stdout",
     "output_type": "stream",
     "text": [
      "Epoch:8 |Train Loss:0.7544709428631026|Valid Loss:0.8058715310751223\n",
      "\u001b[35mTime taken by epoch 8 is 37.51s\u001b[0m\n",
      "Epoch Started:9\n"
     ]
    },
    {
     "data": {
      "application/vnd.jupyter.widget-view+json": {
       "model_id": "5883a0bc3a4e4789913f91dc9ff20875",
       "version_major": 2,
       "version_minor": 0
      },
      "text/plain": [
       "  0%|          | 0/116 [00:00<?, ?it/s]"
      ]
     },
     "metadata": {},
     "output_type": "display_data"
    },
    {
     "data": {
      "application/vnd.jupyter.widget-view+json": {
       "model_id": "3c50660b277346689f1e00b846a27e42",
       "version_major": 2,
       "version_minor": 0
      },
      "text/plain": [
       "  0%|          | 0/51 [00:00<?, ?it/s]"
      ]
     },
     "metadata": {},
     "output_type": "display_data"
    },
    {
     "name": "stdout",
     "output_type": "stream",
     "text": [
      "Epoch:9 |Train Loss:0.7483341914826426|Valid Loss:0.8060495362562292\n",
      "\u001b[35mTime taken by epoch 9 is 37.41s\u001b[0m\n",
      "Epoch Started:10\n"
     ]
    },
    {
     "data": {
      "application/vnd.jupyter.widget-view+json": {
       "model_id": "f35aca7675aa42388a908aa144ee8d49",
       "version_major": 2,
       "version_minor": 0
      },
      "text/plain": [
       "  0%|          | 0/116 [00:00<?, ?it/s]"
      ]
     },
     "metadata": {},
     "output_type": "display_data"
    },
    {
     "data": {
      "application/vnd.jupyter.widget-view+json": {
       "model_id": "9b8165de4fce431abee268cb9b9c4d24",
       "version_major": 2,
       "version_minor": 0
      },
      "text/plain": [
       "  0%|          | 0/51 [00:00<?, ?it/s]"
      ]
     },
     "metadata": {},
     "output_type": "display_data"
    },
    {
     "name": "stdout",
     "output_type": "stream",
     "text": [
      "Epoch:10 |Train Loss:0.7422266612792837|Valid Loss:0.8058626195963692\n",
      "\u001b[35mTime taken by epoch 10 is 37.35s\u001b[0m\n",
      "Epoch Started:11\n"
     ]
    },
    {
     "data": {
      "application/vnd.jupyter.widget-view+json": {
       "model_id": "a7fce340d7d943deaf6cb59027641526",
       "version_major": 2,
       "version_minor": 0
      },
      "text/plain": [
       "  0%|          | 0/116 [00:00<?, ?it/s]"
      ]
     },
     "metadata": {},
     "output_type": "display_data"
    },
    {
     "data": {
      "application/vnd.jupyter.widget-view+json": {
       "model_id": "1d5259fcdf1b47bc9855a15f8f2acaf1",
       "version_major": 2,
       "version_minor": 0
      },
      "text/plain": [
       "  0%|          | 0/51 [00:00<?, ?it/s]"
      ]
     },
     "metadata": {},
     "output_type": "display_data"
    },
    {
     "name": "stdout",
     "output_type": "stream",
     "text": [
      "Epoch:11 |Train Loss:0.734236120150007|Valid Loss:0.8057233889897665\n",
      "\u001b[35mTime taken by epoch 11 is 37.45s\u001b[0m\n",
      "Epoch Started:12\n"
     ]
    },
    {
     "data": {
      "application/vnd.jupyter.widget-view+json": {
       "model_id": "fcd23546538c4dbabe2b42b1cbf5ff93",
       "version_major": 2,
       "version_minor": 0
      },
      "text/plain": [
       "  0%|          | 0/116 [00:00<?, ?it/s]"
      ]
     },
     "metadata": {},
     "output_type": "display_data"
    },
    {
     "data": {
      "application/vnd.jupyter.widget-view+json": {
       "model_id": "c9fb8511566845cbb9fb791b89a8f202",
       "version_major": 2,
       "version_minor": 0
      },
      "text/plain": [
       "  0%|          | 0/51 [00:00<?, ?it/s]"
      ]
     },
     "metadata": {},
     "output_type": "display_data"
    },
    {
     "name": "stdout",
     "output_type": "stream",
     "text": [
      "Epoch:12 |Train Loss:0.7278014025811491|Valid Loss:0.807394453123504\n",
      "\u001b[35mTime taken by epoch 12 is 37.36s\u001b[0m\n",
      "Epoch Started:13\n"
     ]
    },
    {
     "data": {
      "application/vnd.jupyter.widget-view+json": {
       "model_id": "5facbe7b0c0a471cb6ebaf916ba644c4",
       "version_major": 2,
       "version_minor": 0
      },
      "text/plain": [
       "  0%|          | 0/116 [00:00<?, ?it/s]"
      ]
     },
     "metadata": {},
     "output_type": "display_data"
    },
    {
     "data": {
      "application/vnd.jupyter.widget-view+json": {
       "model_id": "24de47bb7c0d4629bb783eba8f12d0d1",
       "version_major": 2,
       "version_minor": 0
      },
      "text/plain": [
       "  0%|          | 0/51 [00:00<?, ?it/s]"
      ]
     },
     "metadata": {},
     "output_type": "display_data"
    },
    {
     "name": "stdout",
     "output_type": "stream",
     "text": [
      "Epoch:13 |Train Loss:0.7208374019326835|Valid Loss:0.8103397722337761\n",
      "\u001b[35mTime taken by epoch 13 is 37.58s\u001b[0m\n",
      "Epoch Started:14\n"
     ]
    },
    {
     "data": {
      "application/vnd.jupyter.widget-view+json": {
       "model_id": "df101680f80b41f6bd54c3b304227129",
       "version_major": 2,
       "version_minor": 0
      },
      "text/plain": [
       "  0%|          | 0/116 [00:00<?, ?it/s]"
      ]
     },
     "metadata": {},
     "output_type": "display_data"
    },
    {
     "data": {
      "application/vnd.jupyter.widget-view+json": {
       "model_id": "c88e17c2bbf84920b0cf4d71bc5425f7",
       "version_major": 2,
       "version_minor": 0
      },
      "text/plain": [
       "  0%|          | 0/51 [00:00<?, ?it/s]"
      ]
     },
     "metadata": {},
     "output_type": "display_data"
    },
    {
     "name": "stdout",
     "output_type": "stream",
     "text": [
      "Epoch:14 |Train Loss:0.7152222420634895|Valid Loss:0.8095724010000042\n",
      "\u001b[35mTime taken by epoch 14 is 37.21s\u001b[0m\n",
      "Epoch Started:15\n"
     ]
    },
    {
     "data": {
      "application/vnd.jupyter.widget-view+json": {
       "model_id": "c568d86d767b4ddc9cb89b4f6165d79a",
       "version_major": 2,
       "version_minor": 0
      },
      "text/plain": [
       "  0%|          | 0/116 [00:00<?, ?it/s]"
      ]
     },
     "metadata": {},
     "output_type": "display_data"
    },
    {
     "data": {
      "application/vnd.jupyter.widget-view+json": {
       "model_id": "25e928a2757b498b96224e009d4ad27b",
       "version_major": 2,
       "version_minor": 0
      },
      "text/plain": [
       "  0%|          | 0/51 [00:00<?, ?it/s]"
      ]
     },
     "metadata": {},
     "output_type": "display_data"
    },
    {
     "name": "stdout",
     "output_type": "stream",
     "text": [
      "Epoch:15 |Train Loss:0.7075312332860355|Valid Loss:0.810834618175731\n",
      "\u001b[35mTime taken by epoch 15 is 37.25s\u001b[0m\n",
      "Epoch Started:16\n"
     ]
    },
    {
     "data": {
      "application/vnd.jupyter.widget-view+json": {
       "model_id": "2c0f887729c44bc9af35c6b0be25919e",
       "version_major": 2,
       "version_minor": 0
      },
      "text/plain": [
       "  0%|          | 0/116 [00:00<?, ?it/s]"
      ]
     },
     "metadata": {},
     "output_type": "display_data"
    },
    {
     "data": {
      "application/vnd.jupyter.widget-view+json": {
       "model_id": "456ba37285194615b3cec6549adcbe9f",
       "version_major": 2,
       "version_minor": 0
      },
      "text/plain": [
       "  0%|          | 0/51 [00:00<?, ?it/s]"
      ]
     },
     "metadata": {},
     "output_type": "display_data"
    },
    {
     "name": "stdout",
     "output_type": "stream",
     "text": [
      "Epoch:16 |Train Loss:0.7002616612047985|Valid Loss:0.8122383426217472\n",
      "\u001b[32mEARLY STOPPING\n",
      "Starting for fold: 2\u001b[31m\n",
      "Preparing training data for fold: 2\u001b[35m\n",
      "(1575207, 304)\n",
      "(1464649, 30, 1) (1464649, 1) (1464649, 301)\n",
      "(412467, 30, 1) (412467, 1) (1464649, 301)\n",
      "381\n",
      "cuda is used\n"
     ]
    },
    {
     "data": {
      "application/vnd.jupyter.widget-view+json": {
       "model_id": "174daab0fdd54072badf7d2e9c10df02",
       "version_major": 2,
       "version_minor": 0
      },
      "text/plain": [
       "  0%|          | 0/100 [00:00<?, ?it/s]"
      ]
     },
     "metadata": {},
     "output_type": "display_data"
    },
    {
     "name": "stdout",
     "output_type": "stream",
     "text": [
      "Epoch Started:0\n"
     ]
    },
    {
     "data": {
      "application/vnd.jupyter.widget-view+json": {
       "model_id": "3763a93efaba419cb0f9c882505dbbec",
       "version_major": 2,
       "version_minor": 0
      },
      "text/plain": [
       "  0%|          | 0/179 [00:00<?, ?it/s]"
      ]
     },
     "metadata": {},
     "output_type": "display_data"
    },
    {
     "data": {
      "application/vnd.jupyter.widget-view+json": {
       "model_id": "3e27083cfadb46b08ab52270ec14c394",
       "version_major": 2,
       "version_minor": 0
      },
      "text/plain": [
       "  0%|          | 0/51 [00:00<?, ?it/s]"
      ]
     },
     "metadata": {},
     "output_type": "display_data"
    },
    {
     "name": "stdout",
     "output_type": "stream",
     "text": [
      "Epoch:0 |Train Loss:0.8585802952670518|Valid Loss:0.8463339548484952\n",
      "\u001b[32mLoss Decreased from 9999999 to 0.8463339548484952\u001b[0m\n",
      "\u001b[35mTime taken by epoch 0 is 52.74s\u001b[0m\n",
      "Epoch Started:1\n"
     ]
    },
    {
     "data": {
      "application/vnd.jupyter.widget-view+json": {
       "model_id": "dc7399b68b3c43d6800696e604f767af",
       "version_major": 2,
       "version_minor": 0
      },
      "text/plain": [
       "  0%|          | 0/179 [00:00<?, ?it/s]"
      ]
     },
     "metadata": {},
     "output_type": "display_data"
    },
    {
     "data": {
      "application/vnd.jupyter.widget-view+json": {
       "model_id": "d9fc160162ef46d4bfd1555489d7b632",
       "version_major": 2,
       "version_minor": 0
      },
      "text/plain": [
       "  0%|          | 0/51 [00:00<?, ?it/s]"
      ]
     },
     "metadata": {},
     "output_type": "display_data"
    },
    {
     "name": "stdout",
     "output_type": "stream",
     "text": [
      "Epoch:1 |Train Loss:0.8105867085510126|Valid Loss:0.8251606810326669\n",
      "\u001b[32mLoss Decreased from 0.8463339548484952 to 0.8251606810326669\u001b[0m\n",
      "\u001b[35mTime taken by epoch 1 is 52.72s\u001b[0m\n",
      "Epoch Started:2\n"
     ]
    },
    {
     "data": {
      "application/vnd.jupyter.widget-view+json": {
       "model_id": "e4700a15822546d9ad73e9155a761a7a",
       "version_major": 2,
       "version_minor": 0
      },
      "text/plain": [
       "  0%|          | 0/179 [00:00<?, ?it/s]"
      ]
     },
     "metadata": {},
     "output_type": "display_data"
    },
    {
     "data": {
      "application/vnd.jupyter.widget-view+json": {
       "model_id": "16323dcbef5d48b4b4032df68574647f",
       "version_major": 2,
       "version_minor": 0
      },
      "text/plain": [
       "  0%|          | 0/51 [00:00<?, ?it/s]"
      ]
     },
     "metadata": {},
     "output_type": "display_data"
    },
    {
     "name": "stdout",
     "output_type": "stream",
     "text": [
      "Epoch:2 |Train Loss:0.7976235727358131|Valid Loss:0.8195581214100707\n",
      "\u001b[32mLoss Decreased from 0.8251606810326669 to 0.8195581214100707\u001b[0m\n",
      "\u001b[35mTime taken by epoch 2 is 52.52s\u001b[0m\n",
      "Epoch Started:3\n"
     ]
    },
    {
     "data": {
      "application/vnd.jupyter.widget-view+json": {
       "model_id": "7802bc14f9e44919971c74e0b879ac5e",
       "version_major": 2,
       "version_minor": 0
      },
      "text/plain": [
       "  0%|          | 0/179 [00:00<?, ?it/s]"
      ]
     },
     "metadata": {},
     "output_type": "display_data"
    },
    {
     "data": {
      "application/vnd.jupyter.widget-view+json": {
       "model_id": "1959be9a6a0c43eba0670e5b7c986f7d",
       "version_major": 2,
       "version_minor": 0
      },
      "text/plain": [
       "  0%|          | 0/51 [00:00<?, ?it/s]"
      ]
     },
     "metadata": {},
     "output_type": "display_data"
    },
    {
     "name": "stdout",
     "output_type": "stream",
     "text": [
      "Epoch:3 |Train Loss:0.7899394684663698|Valid Loss:0.8154767132272908\n",
      "\u001b[32mLoss Decreased from 0.8195581214100707 to 0.8154767132272908\u001b[0m\n",
      "\u001b[35mTime taken by epoch 3 is 52.64s\u001b[0m\n",
      "Epoch Started:4\n"
     ]
    },
    {
     "data": {
      "application/vnd.jupyter.widget-view+json": {
       "model_id": "0333503704864c249c2390785037e039",
       "version_major": 2,
       "version_minor": 0
      },
      "text/plain": [
       "  0%|          | 0/179 [00:00<?, ?it/s]"
      ]
     },
     "metadata": {},
     "output_type": "display_data"
    },
    {
     "data": {
      "application/vnd.jupyter.widget-view+json": {
       "model_id": "d268fa4fa9fb4cf68b1b41941d67c9b6",
       "version_major": 2,
       "version_minor": 0
      },
      "text/plain": [
       "  0%|          | 0/51 [00:00<?, ?it/s]"
      ]
     },
     "metadata": {},
     "output_type": "display_data"
    },
    {
     "name": "stdout",
     "output_type": "stream",
     "text": [
      "Epoch:4 |Train Loss:0.7826201689309914|Valid Loss:0.8141146863208097\n",
      "\u001b[32mLoss Decreased from 0.8154767132272908 to 0.8141146863208097\u001b[0m\n",
      "\u001b[35mTime taken by epoch 4 is 53.17s\u001b[0m\n",
      "Epoch Started:5\n"
     ]
    },
    {
     "data": {
      "application/vnd.jupyter.widget-view+json": {
       "model_id": "09b162f604ed44a495329352c9a0d5d7",
       "version_major": 2,
       "version_minor": 0
      },
      "text/plain": [
       "  0%|          | 0/179 [00:00<?, ?it/s]"
      ]
     },
     "metadata": {},
     "output_type": "display_data"
    },
    {
     "data": {
      "application/vnd.jupyter.widget-view+json": {
       "model_id": "a19c3c19976e4457a58bbb2a80de991f",
       "version_major": 2,
       "version_minor": 0
      },
      "text/plain": [
       "  0%|          | 0/51 [00:00<?, ?it/s]"
      ]
     },
     "metadata": {},
     "output_type": "display_data"
    },
    {
     "name": "stdout",
     "output_type": "stream",
     "text": [
      "Epoch:5 |Train Loss:0.7760475534300565|Valid Loss:0.8131789693645403\n",
      "\u001b[32mLoss Decreased from 0.8141146863208097 to 0.8131789693645403\u001b[0m\n",
      "\u001b[35mTime taken by epoch 5 is 53.08s\u001b[0m\n",
      "Epoch Started:6\n"
     ]
    },
    {
     "data": {
      "application/vnd.jupyter.widget-view+json": {
       "model_id": "4bcffb0a91714075a1b604c616267042",
       "version_major": 2,
       "version_minor": 0
      },
      "text/plain": [
       "  0%|          | 0/179 [00:00<?, ?it/s]"
      ]
     },
     "metadata": {},
     "output_type": "display_data"
    },
    {
     "data": {
      "application/vnd.jupyter.widget-view+json": {
       "model_id": "b82849d7536c460f83b71064a00f4d8a",
       "version_major": 2,
       "version_minor": 0
      },
      "text/plain": [
       "  0%|          | 0/51 [00:00<?, ?it/s]"
      ]
     },
     "metadata": {},
     "output_type": "display_data"
    },
    {
     "name": "stdout",
     "output_type": "stream",
     "text": [
      "Epoch:6 |Train Loss:0.7695588412897547|Valid Loss:0.8114308282440784\n",
      "\u001b[32mLoss Decreased from 0.8131789693645403 to 0.8114308282440784\u001b[0m\n",
      "\u001b[35mTime taken by epoch 6 is 53.47s\u001b[0m\n",
      "Epoch Started:7\n"
     ]
    },
    {
     "data": {
      "application/vnd.jupyter.widget-view+json": {
       "model_id": "087719e8c0a0480f9d48d7d65a80866e",
       "version_major": 2,
       "version_minor": 0
      },
      "text/plain": [
       "  0%|          | 0/179 [00:00<?, ?it/s]"
      ]
     },
     "metadata": {},
     "output_type": "display_data"
    },
    {
     "data": {
      "application/vnd.jupyter.widget-view+json": {
       "model_id": "9bc3e298a4f64472b4fa78ebc37415c7",
       "version_major": 2,
       "version_minor": 0
      },
      "text/plain": [
       "  0%|          | 0/51 [00:00<?, ?it/s]"
      ]
     },
     "metadata": {},
     "output_type": "display_data"
    },
    {
     "name": "stdout",
     "output_type": "stream",
     "text": [
      "Epoch:7 |Train Loss:0.762836931804039|Valid Loss:0.8120022544673845\n",
      "\u001b[35mTime taken by epoch 7 is 53.19s\u001b[0m\n",
      "Epoch Started:8\n"
     ]
    },
    {
     "data": {
      "application/vnd.jupyter.widget-view+json": {
       "model_id": "41124bdbfd764c5cbf4ba97c074249a6",
       "version_major": 2,
       "version_minor": 0
      },
      "text/plain": [
       "  0%|          | 0/179 [00:00<?, ?it/s]"
      ]
     },
     "metadata": {},
     "output_type": "display_data"
    },
    {
     "data": {
      "application/vnd.jupyter.widget-view+json": {
       "model_id": "96163cc99f314fe4866c97f20dfaeb22",
       "version_major": 2,
       "version_minor": 0
      },
      "text/plain": [
       "  0%|          | 0/51 [00:00<?, ?it/s]"
      ]
     },
     "metadata": {},
     "output_type": "display_data"
    },
    {
     "name": "stdout",
     "output_type": "stream",
     "text": [
      "Epoch:8 |Train Loss:0.7566312681363282|Valid Loss:0.812385803344203\n",
      "\u001b[35mTime taken by epoch 8 is 53.03s\u001b[0m\n",
      "Epoch Started:9\n"
     ]
    },
    {
     "data": {
      "application/vnd.jupyter.widget-view+json": {
       "model_id": "0a7d010189b442ada12f32b3566e6361",
       "version_major": 2,
       "version_minor": 0
      },
      "text/plain": [
       "  0%|          | 0/179 [00:00<?, ?it/s]"
      ]
     },
     "metadata": {},
     "output_type": "display_data"
    },
    {
     "data": {
      "application/vnd.jupyter.widget-view+json": {
       "model_id": "56ec7a3c54e54e86ae43778b1ac7364a",
       "version_major": 2,
       "version_minor": 0
      },
      "text/plain": [
       "  0%|          | 0/51 [00:00<?, ?it/s]"
      ]
     },
     "metadata": {},
     "output_type": "display_data"
    },
    {
     "name": "stdout",
     "output_type": "stream",
     "text": [
      "Epoch:9 |Train Loss:0.7503632610070639|Valid Loss:0.8121037062476663\n",
      "\u001b[35mTime taken by epoch 9 is 53.29s\u001b[0m\n",
      "Epoch Started:10\n"
     ]
    },
    {
     "data": {
      "application/vnd.jupyter.widget-view+json": {
       "model_id": "8dd4aee4475b408c9f3a12206e28e9ed",
       "version_major": 2,
       "version_minor": 0
      },
      "text/plain": [
       "  0%|          | 0/179 [00:00<?, ?it/s]"
      ]
     },
     "metadata": {},
     "output_type": "display_data"
    },
    {
     "data": {
      "application/vnd.jupyter.widget-view+json": {
       "model_id": "2797daba2c4743088ae6d9ae19a5853c",
       "version_major": 2,
       "version_minor": 0
      },
      "text/plain": [
       "  0%|          | 0/51 [00:00<?, ?it/s]"
      ]
     },
     "metadata": {},
     "output_type": "display_data"
    },
    {
     "name": "stdout",
     "output_type": "stream",
     "text": [
      "Epoch:10 |Train Loss:0.743386823371802|Valid Loss:0.8126391008788464\n",
      "\u001b[35mTime taken by epoch 10 is 53.08s\u001b[0m\n",
      "Epoch Started:11\n"
     ]
    },
    {
     "data": {
      "application/vnd.jupyter.widget-view+json": {
       "model_id": "5405d1b280a844439a4bc5592ff3766a",
       "version_major": 2,
       "version_minor": 0
      },
      "text/plain": [
       "  0%|          | 0/179 [00:00<?, ?it/s]"
      ]
     },
     "metadata": {},
     "output_type": "display_data"
    },
    {
     "data": {
      "application/vnd.jupyter.widget-view+json": {
       "model_id": "f0de9212704e4fd1bbe3495fe29cab48",
       "version_major": 2,
       "version_minor": 0
      },
      "text/plain": [
       "  0%|          | 0/51 [00:00<?, ?it/s]"
      ]
     },
     "metadata": {},
     "output_type": "display_data"
    },
    {
     "name": "stdout",
     "output_type": "stream",
     "text": [
      "Epoch:11 |Train Loss:0.7383461148379236|Valid Loss:0.8133213040875453\n",
      "\u001b[35mTime taken by epoch 11 is 53.46s\u001b[0m\n",
      "Epoch Started:12\n"
     ]
    },
    {
     "data": {
      "application/vnd.jupyter.widget-view+json": {
       "model_id": "34d0ed6314224cd0a3176e2a9137927f",
       "version_major": 2,
       "version_minor": 0
      },
      "text/plain": [
       "  0%|          | 0/179 [00:00<?, ?it/s]"
      ]
     },
     "metadata": {},
     "output_type": "display_data"
    },
    {
     "data": {
      "application/vnd.jupyter.widget-view+json": {
       "model_id": "c8f3d5e8e65e413fb58f963d5c1d91e6",
       "version_major": 2,
       "version_minor": 0
      },
      "text/plain": [
       "  0%|          | 0/51 [00:00<?, ?it/s]"
      ]
     },
     "metadata": {},
     "output_type": "display_data"
    },
    {
     "name": "stdout",
     "output_type": "stream",
     "text": [
      "Epoch:12 |Train Loss:0.7316833671244829|Valid Loss:0.8172878704819024\n",
      "\u001b[35mTime taken by epoch 12 is 53.01s\u001b[0m\n",
      "Epoch Started:13\n"
     ]
    },
    {
     "data": {
      "application/vnd.jupyter.widget-view+json": {
       "model_id": "864ac469992847feab960e7842aa43a7",
       "version_major": 2,
       "version_minor": 0
      },
      "text/plain": [
       "  0%|          | 0/179 [00:00<?, ?it/s]"
      ]
     },
     "metadata": {},
     "output_type": "display_data"
    },
    {
     "data": {
      "application/vnd.jupyter.widget-view+json": {
       "model_id": "03edc32118474bc8b1828492a57188ac",
       "version_major": 2,
       "version_minor": 0
      },
      "text/plain": [
       "  0%|          | 0/51 [00:00<?, ?it/s]"
      ]
     },
     "metadata": {},
     "output_type": "display_data"
    },
    {
     "name": "stdout",
     "output_type": "stream",
     "text": [
      "Epoch:13 |Train Loss:0.7254401192318793|Valid Loss:0.8140734679558698\n",
      "\u001b[35mTime taken by epoch 13 is 52.96s\u001b[0m\n",
      "Epoch Started:14\n"
     ]
    },
    {
     "data": {
      "application/vnd.jupyter.widget-view+json": {
       "model_id": "0ba730155ca54fecb3aad91475865c2e",
       "version_major": 2,
       "version_minor": 0
      },
      "text/plain": [
       "  0%|          | 0/179 [00:00<?, ?it/s]"
      ]
     },
     "metadata": {},
     "output_type": "display_data"
    },
    {
     "data": {
      "application/vnd.jupyter.widget-view+json": {
       "model_id": "cbdc457829b043209177d72b65308663",
       "version_major": 2,
       "version_minor": 0
      },
      "text/plain": [
       "  0%|          | 0/51 [00:00<?, ?it/s]"
      ]
     },
     "metadata": {},
     "output_type": "display_data"
    },
    {
     "name": "stdout",
     "output_type": "stream",
     "text": [
      "Epoch:14 |Train Loss:0.7199506150277634|Valid Loss:0.817475371501025\n",
      "\u001b[35mTime taken by epoch 14 is 53.15s\u001b[0m\n",
      "Epoch Started:15\n"
     ]
    },
    {
     "data": {
      "application/vnd.jupyter.widget-view+json": {
       "model_id": "5118f6e642a44a3f97e79871c64fa29d",
       "version_major": 2,
       "version_minor": 0
      },
      "text/plain": [
       "  0%|          | 0/179 [00:00<?, ?it/s]"
      ]
     },
     "metadata": {},
     "output_type": "display_data"
    },
    {
     "data": {
      "application/vnd.jupyter.widget-view+json": {
       "model_id": "c90aada12ae34bf089c3330fdd33eacd",
       "version_major": 2,
       "version_minor": 0
      },
      "text/plain": [
       "  0%|          | 0/51 [00:00<?, ?it/s]"
      ]
     },
     "metadata": {},
     "output_type": "display_data"
    },
    {
     "name": "stdout",
     "output_type": "stream",
     "text": [
      "Epoch:15 |Train Loss:0.7137638273851832|Valid Loss:0.8197817264818678\n",
      "\u001b[35mTime taken by epoch 15 is 53.34s\u001b[0m\n",
      "Epoch Started:16\n"
     ]
    },
    {
     "data": {
      "application/vnd.jupyter.widget-view+json": {
       "model_id": "0638d0fba79e40a99b7d61bd60b2481a",
       "version_major": 2,
       "version_minor": 0
      },
      "text/plain": [
       "  0%|          | 0/179 [00:00<?, ?it/s]"
      ]
     },
     "metadata": {},
     "output_type": "display_data"
    },
    {
     "data": {
      "application/vnd.jupyter.widget-view+json": {
       "model_id": "cd4024e9270d4816b69a607cc1be4f1d",
       "version_major": 2,
       "version_minor": 0
      },
      "text/plain": [
       "  0%|          | 0/51 [00:00<?, ?it/s]"
      ]
     },
     "metadata": {},
     "output_type": "display_data"
    },
    {
     "name": "stdout",
     "output_type": "stream",
     "text": [
      "Epoch:16 |Train Loss:0.7083147924039617|Valid Loss:0.8229789161214641\n",
      "\u001b[32mEARLY STOPPING\n",
      "Starting for fold: 3\u001b[31m\n",
      "Preparing training data for fold: 3\u001b[35m\n",
      "(2097273, 304)\n",
      "(1986639, 30, 1) (1986639, 1) (1986639, 301)\n",
      "(412467, 30, 1) (412467, 1) (1986639, 301)\n",
      "381\n",
      "cuda is used\n"
     ]
    },
    {
     "data": {
      "application/vnd.jupyter.widget-view+json": {
       "model_id": "aaec62768aeb408abb87b448f8e38fbc",
       "version_major": 2,
       "version_minor": 0
      },
      "text/plain": [
       "  0%|          | 0/100 [00:00<?, ?it/s]"
      ]
     },
     "metadata": {},
     "output_type": "display_data"
    },
    {
     "name": "stdout",
     "output_type": "stream",
     "text": [
      "Epoch Started:0\n"
     ]
    },
    {
     "data": {
      "application/vnd.jupyter.widget-view+json": {
       "model_id": "bfd8f92ac47640bc9949ea4b1b967463",
       "version_major": 2,
       "version_minor": 0
      },
      "text/plain": [
       "  0%|          | 0/243 [00:00<?, ?it/s]"
      ]
     },
     "metadata": {},
     "output_type": "display_data"
    },
    {
     "data": {
      "application/vnd.jupyter.widget-view+json": {
       "model_id": "4f8cf8e9443b48cfb8152ee741f8a4aa",
       "version_major": 2,
       "version_minor": 0
      },
      "text/plain": [
       "  0%|          | 0/51 [00:00<?, ?it/s]"
      ]
     },
     "metadata": {},
     "output_type": "display_data"
    },
    {
     "name": "stdout",
     "output_type": "stream",
     "text": [
      "Epoch:0 |Train Loss:0.8549720532119028|Valid Loss:0.8284966349601746\n",
      "\u001b[32mLoss Decreased from 9999999 to 0.8284966349601746\u001b[0m\n",
      "\u001b[35mTime taken by epoch 0 is 69.50s\u001b[0m\n",
      "Epoch Started:1\n"
     ]
    },
    {
     "data": {
      "application/vnd.jupyter.widget-view+json": {
       "model_id": "3a8ac1a4ecf844b9909b87b792f8ee7e",
       "version_major": 2,
       "version_minor": 0
      },
      "text/plain": [
       "  0%|          | 0/243 [00:00<?, ?it/s]"
      ]
     },
     "metadata": {},
     "output_type": "display_data"
    },
    {
     "data": {
      "application/vnd.jupyter.widget-view+json": {
       "model_id": "1a3792a8a193475aabe68910439e0a64",
       "version_major": 2,
       "version_minor": 0
      },
      "text/plain": [
       "  0%|          | 0/51 [00:00<?, ?it/s]"
      ]
     },
     "metadata": {},
     "output_type": "display_data"
    },
    {
     "name": "stdout",
     "output_type": "stream",
     "text": [
      "Epoch:1 |Train Loss:0.8097722679989818|Valid Loss:0.814000548100939\n",
      "\u001b[32mLoss Decreased from 0.8284966349601746 to 0.814000548100939\u001b[0m\n",
      "\u001b[35mTime taken by epoch 1 is 69.38s\u001b[0m\n",
      "Epoch Started:2\n"
     ]
    },
    {
     "data": {
      "application/vnd.jupyter.widget-view+json": {
       "model_id": "e965f65324f349958cdea386b89b1e1c",
       "version_major": 2,
       "version_minor": 0
      },
      "text/plain": [
       "  0%|          | 0/243 [00:00<?, ?it/s]"
      ]
     },
     "metadata": {},
     "output_type": "display_data"
    },
    {
     "data": {
      "application/vnd.jupyter.widget-view+json": {
       "model_id": "756578c0d7814d83b15548e48ddd69dd",
       "version_major": 2,
       "version_minor": 0
      },
      "text/plain": [
       "  0%|          | 0/51 [00:00<?, ?it/s]"
      ]
     },
     "metadata": {},
     "output_type": "display_data"
    },
    {
     "name": "stdout",
     "output_type": "stream",
     "text": [
      "Epoch:2 |Train Loss:0.7988394628826974|Valid Loss:0.8101690224572724\n",
      "\u001b[32mLoss Decreased from 0.814000548100939 to 0.8101690224572724\u001b[0m\n",
      "\u001b[35mTime taken by epoch 2 is 69.44s\u001b[0m\n",
      "Epoch Started:3\n"
     ]
    },
    {
     "data": {
      "application/vnd.jupyter.widget-view+json": {
       "model_id": "300a83efc52c48c6b9367e7fe2bcd41a",
       "version_major": 2,
       "version_minor": 0
      },
      "text/plain": [
       "  0%|          | 0/243 [00:00<?, ?it/s]"
      ]
     },
     "metadata": {},
     "output_type": "display_data"
    },
    {
     "data": {
      "application/vnd.jupyter.widget-view+json": {
       "model_id": "482eddabbc70440c9bb0eb7fc5d6d4c6",
       "version_major": 2,
       "version_minor": 0
      },
      "text/plain": [
       "  0%|          | 0/51 [00:00<?, ?it/s]"
      ]
     },
     "metadata": {},
     "output_type": "display_data"
    },
    {
     "name": "stdout",
     "output_type": "stream",
     "text": [
      "Epoch:3 |Train Loss:0.791302175678834|Valid Loss:0.8055813254094591\n",
      "\u001b[32mLoss Decreased from 0.8101690224572724 to 0.8055813254094591\u001b[0m\n",
      "\u001b[35mTime taken by epoch 3 is 69.12s\u001b[0m\n",
      "Epoch Started:4\n"
     ]
    },
    {
     "data": {
      "application/vnd.jupyter.widget-view+json": {
       "model_id": "39509f8480da4520a2947ca7b5b9cc19",
       "version_major": 2,
       "version_minor": 0
      },
      "text/plain": [
       "  0%|          | 0/243 [00:00<?, ?it/s]"
      ]
     },
     "metadata": {},
     "output_type": "display_data"
    },
    {
     "data": {
      "application/vnd.jupyter.widget-view+json": {
       "model_id": "ed22e3903980472888f5724e265ffb9e",
       "version_major": 2,
       "version_minor": 0
      },
      "text/plain": [
       "  0%|          | 0/51 [00:00<?, ?it/s]"
      ]
     },
     "metadata": {},
     "output_type": "display_data"
    },
    {
     "name": "stdout",
     "output_type": "stream",
     "text": [
      "Epoch:4 |Train Loss:0.7839866381123233|Valid Loss:0.8040071702470967\n",
      "\u001b[32mLoss Decreased from 0.8055813254094591 to 0.8040071702470967\u001b[0m\n",
      "\u001b[35mTime taken by epoch 4 is 69.43s\u001b[0m\n",
      "Epoch Started:5\n"
     ]
    },
    {
     "data": {
      "application/vnd.jupyter.widget-view+json": {
       "model_id": "66b9c7cea18f4150a49430b3abe776cc",
       "version_major": 2,
       "version_minor": 0
      },
      "text/plain": [
       "  0%|          | 0/243 [00:00<?, ?it/s]"
      ]
     },
     "metadata": {},
     "output_type": "display_data"
    },
    {
     "data": {
      "application/vnd.jupyter.widget-view+json": {
       "model_id": "f9a014604b3b4e9fa2f0d1c9674a3f73",
       "version_major": 2,
       "version_minor": 0
      },
      "text/plain": [
       "  0%|          | 0/51 [00:00<?, ?it/s]"
      ]
     },
     "metadata": {},
     "output_type": "display_data"
    },
    {
     "name": "stdout",
     "output_type": "stream",
     "text": [
      "Epoch:5 |Train Loss:0.7782360651365523|Valid Loss:0.8023556774737788\n",
      "\u001b[32mLoss Decreased from 0.8040071702470967 to 0.8023556774737788\u001b[0m\n",
      "\u001b[35mTime taken by epoch 5 is 69.68s\u001b[0m\n",
      "Epoch Started:6\n"
     ]
    },
    {
     "data": {
      "application/vnd.jupyter.widget-view+json": {
       "model_id": "7aca57a4de064bab8e3bda4c1f7d4cf8",
       "version_major": 2,
       "version_minor": 0
      },
      "text/plain": [
       "  0%|          | 0/243 [00:00<?, ?it/s]"
      ]
     },
     "metadata": {},
     "output_type": "display_data"
    },
    {
     "data": {
      "application/vnd.jupyter.widget-view+json": {
       "model_id": "cfb99f7199ca467090fec8793438f0ca",
       "version_major": 2,
       "version_minor": 0
      },
      "text/plain": [
       "  0%|          | 0/51 [00:00<?, ?it/s]"
      ]
     },
     "metadata": {},
     "output_type": "display_data"
    },
    {
     "name": "stdout",
     "output_type": "stream",
     "text": [
      "Epoch:6 |Train Loss:0.772279138427703|Valid Loss:0.8006750789343142\n",
      "\u001b[32mLoss Decreased from 0.8023556774737788 to 0.8006750789343142\u001b[0m\n",
      "\u001b[35mTime taken by epoch 6 is 69.50s\u001b[0m\n",
      "Epoch Started:7\n"
     ]
    },
    {
     "data": {
      "application/vnd.jupyter.widget-view+json": {
       "model_id": "ac178f9c8e8c4e848a0fe8306eabb4c5",
       "version_major": 2,
       "version_minor": 0
      },
      "text/plain": [
       "  0%|          | 0/243 [00:00<?, ?it/s]"
      ]
     },
     "metadata": {},
     "output_type": "display_data"
    },
    {
     "data": {
      "application/vnd.jupyter.widget-view+json": {
       "model_id": "f59b40efb70e40b8b4c755873ea49568",
       "version_major": 2,
       "version_minor": 0
      },
      "text/plain": [
       "  0%|          | 0/51 [00:00<?, ?it/s]"
      ]
     },
     "metadata": {},
     "output_type": "display_data"
    },
    {
     "name": "stdout",
     "output_type": "stream",
     "text": [
      "Epoch:7 |Train Loss:0.7663217515611844|Valid Loss:0.8016220167571423\n",
      "\u001b[35mTime taken by epoch 7 is 69.63s\u001b[0m\n",
      "Epoch Started:8\n"
     ]
    },
    {
     "data": {
      "application/vnd.jupyter.widget-view+json": {
       "model_id": "f9ad8c1ca1fd4b84b7b5aabd2ecb4cf3",
       "version_major": 2,
       "version_minor": 0
      },
      "text/plain": [
       "  0%|          | 0/243 [00:00<?, ?it/s]"
      ]
     },
     "metadata": {},
     "output_type": "display_data"
    },
    {
     "data": {
      "application/vnd.jupyter.widget-view+json": {
       "model_id": "da51564e85364e9b82116c3817068d4f",
       "version_major": 2,
       "version_minor": 0
      },
      "text/plain": [
       "  0%|          | 0/51 [00:00<?, ?it/s]"
      ]
     },
     "metadata": {},
     "output_type": "display_data"
    },
    {
     "name": "stdout",
     "output_type": "stream",
     "text": [
      "Epoch:8 |Train Loss:0.7601674108348265|Valid Loss:0.8013154583818772\n",
      "\u001b[35mTime taken by epoch 8 is 69.74s\u001b[0m\n",
      "Epoch Started:9\n"
     ]
    },
    {
     "data": {
      "application/vnd.jupyter.widget-view+json": {
       "model_id": "6737660d13834e4fa8d39df302b0cc85",
       "version_major": 2,
       "version_minor": 0
      },
      "text/plain": [
       "  0%|          | 0/243 [00:00<?, ?it/s]"
      ]
     },
     "metadata": {},
     "output_type": "display_data"
    },
    {
     "data": {
      "application/vnd.jupyter.widget-view+json": {
       "model_id": "bf958e5e46244d64ad72755e33bd7107",
       "version_major": 2,
       "version_minor": 0
      },
      "text/plain": [
       "  0%|          | 0/51 [00:00<?, ?it/s]"
      ]
     },
     "metadata": {},
     "output_type": "display_data"
    },
    {
     "name": "stdout",
     "output_type": "stream",
     "text": [
      "Epoch:9 |Train Loss:0.7547452049981419|Valid Loss:0.8035358237285241\n",
      "\u001b[35mTime taken by epoch 9 is 69.82s\u001b[0m\n",
      "Epoch Started:10\n"
     ]
    },
    {
     "data": {
      "application/vnd.jupyter.widget-view+json": {
       "model_id": "80fb3afefffd4460aa7c110e47ae3ce9",
       "version_major": 2,
       "version_minor": 0
      },
      "text/plain": [
       "  0%|          | 0/243 [00:00<?, ?it/s]"
      ]
     },
     "metadata": {},
     "output_type": "display_data"
    },
    {
     "data": {
      "application/vnd.jupyter.widget-view+json": {
       "model_id": "f0480d3b0ca84bf885b837228b32d6a1",
       "version_major": 2,
       "version_minor": 0
      },
      "text/plain": [
       "  0%|          | 0/51 [00:00<?, ?it/s]"
      ]
     },
     "metadata": {},
     "output_type": "display_data"
    },
    {
     "name": "stdout",
     "output_type": "stream",
     "text": [
      "Epoch:10 |Train Loss:0.7488148006392114|Valid Loss:0.8032946715167925\n",
      "\u001b[35mTime taken by epoch 10 is 69.44s\u001b[0m\n",
      "Epoch Started:11\n"
     ]
    },
    {
     "data": {
      "application/vnd.jupyter.widget-view+json": {
       "model_id": "bf6a215bbb1340d0a8781f2467b13ad9",
       "version_major": 2,
       "version_minor": 0
      },
      "text/plain": [
       "  0%|          | 0/243 [00:00<?, ?it/s]"
      ]
     },
     "metadata": {},
     "output_type": "display_data"
    },
    {
     "data": {
      "application/vnd.jupyter.widget-view+json": {
       "model_id": "b5920c569eb5485fa274e7330367afa9",
       "version_major": 2,
       "version_minor": 0
      },
      "text/plain": [
       "  0%|          | 0/51 [00:00<?, ?it/s]"
      ]
     },
     "metadata": {},
     "output_type": "display_data"
    },
    {
     "name": "stdout",
     "output_type": "stream",
     "text": [
      "Epoch:11 |Train Loss:0.7439520346774976|Valid Loss:0.8023351197149239\n",
      "\u001b[35mTime taken by epoch 11 is 69.45s\u001b[0m\n",
      "Epoch Started:12\n"
     ]
    },
    {
     "data": {
      "application/vnd.jupyter.widget-view+json": {
       "model_id": "920b606c86744b44b5fb658e41d53b95",
       "version_major": 2,
       "version_minor": 0
      },
      "text/plain": [
       "  0%|          | 0/243 [00:00<?, ?it/s]"
      ]
     },
     "metadata": {},
     "output_type": "display_data"
    },
    {
     "data": {
      "application/vnd.jupyter.widget-view+json": {
       "model_id": "10069d54019749b3949fdc5c13fe8f81",
       "version_major": 2,
       "version_minor": 0
      },
      "text/plain": [
       "  0%|          | 0/51 [00:00<?, ?it/s]"
      ]
     },
     "metadata": {},
     "output_type": "display_data"
    },
    {
     "name": "stdout",
     "output_type": "stream",
     "text": [
      "Epoch:12 |Train Loss:0.7373034973693974|Valid Loss:0.8038409679543739\n",
      "\u001b[35mTime taken by epoch 12 is 69.91s\u001b[0m\n",
      "Epoch Started:13\n"
     ]
    },
    {
     "data": {
      "application/vnd.jupyter.widget-view+json": {
       "model_id": "56b9b6f98ea148ccb4304036620c857e",
       "version_major": 2,
       "version_minor": 0
      },
      "text/plain": [
       "  0%|          | 0/243 [00:00<?, ?it/s]"
      ]
     },
     "metadata": {},
     "output_type": "display_data"
    },
    {
     "data": {
      "application/vnd.jupyter.widget-view+json": {
       "model_id": "2e89cfe5799641a99b78a863c07ab784",
       "version_major": 2,
       "version_minor": 0
      },
      "text/plain": [
       "  0%|          | 0/51 [00:00<?, ?it/s]"
      ]
     },
     "metadata": {},
     "output_type": "display_data"
    },
    {
     "name": "stdout",
     "output_type": "stream",
     "text": [
      "Epoch:13 |Train Loss:0.7328167437525933|Valid Loss:0.8076207228735381\n",
      "\u001b[35mTime taken by epoch 13 is 69.34s\u001b[0m\n",
      "Epoch Started:14\n"
     ]
    },
    {
     "data": {
      "application/vnd.jupyter.widget-view+json": {
       "model_id": "04a79bc2705c496a81213d36930b884f",
       "version_major": 2,
       "version_minor": 0
      },
      "text/plain": [
       "  0%|          | 0/243 [00:00<?, ?it/s]"
      ]
     },
     "metadata": {},
     "output_type": "display_data"
    },
    {
     "data": {
      "application/vnd.jupyter.widget-view+json": {
       "model_id": "8da06f3dea51497f99c62b33e58ed149",
       "version_major": 2,
       "version_minor": 0
      },
      "text/plain": [
       "  0%|          | 0/51 [00:00<?, ?it/s]"
      ]
     },
     "metadata": {},
     "output_type": "display_data"
    },
    {
     "name": "stdout",
     "output_type": "stream",
     "text": [
      "Epoch:14 |Train Loss:0.7274936727045004|Valid Loss:0.8109891835381003\n",
      "\u001b[35mTime taken by epoch 14 is 69.60s\u001b[0m\n",
      "Epoch Started:15\n"
     ]
    },
    {
     "data": {
      "application/vnd.jupyter.widget-view+json": {
       "model_id": "cd983dfc95b045d0a6a8a75b3333833e",
       "version_major": 2,
       "version_minor": 0
      },
      "text/plain": [
       "  0%|          | 0/243 [00:00<?, ?it/s]"
      ]
     },
     "metadata": {},
     "output_type": "display_data"
    },
    {
     "data": {
      "application/vnd.jupyter.widget-view+json": {
       "model_id": "69c4d1e688d54f5c98e09647144a9beb",
       "version_major": 2,
       "version_minor": 0
      },
      "text/plain": [
       "  0%|          | 0/51 [00:00<?, ?it/s]"
      ]
     },
     "metadata": {},
     "output_type": "display_data"
    },
    {
     "name": "stdout",
     "output_type": "stream",
     "text": [
      "Epoch:15 |Train Loss:0.7221616371668906|Valid Loss:0.8141688938234367\n",
      "\u001b[35mTime taken by epoch 15 is 69.73s\u001b[0m\n",
      "Epoch Started:16\n"
     ]
    },
    {
     "data": {
      "application/vnd.jupyter.widget-view+json": {
       "model_id": "062153885129402dbced1136e28b9cbc",
       "version_major": 2,
       "version_minor": 0
      },
      "text/plain": [
       "  0%|          | 0/243 [00:00<?, ?it/s]"
      ]
     },
     "metadata": {},
     "output_type": "display_data"
    },
    {
     "data": {
      "application/vnd.jupyter.widget-view+json": {
       "model_id": "e26d775b43eb414caebcf500ddc3be10",
       "version_major": 2,
       "version_minor": 0
      },
      "text/plain": [
       "  0%|          | 0/51 [00:00<?, ?it/s]"
      ]
     },
     "metadata": {},
     "output_type": "display_data"
    },
    {
     "name": "stdout",
     "output_type": "stream",
     "text": [
      "Epoch:16 |Train Loss:0.7174300617641873|Valid Loss:0.8135953498821632\n",
      "\u001b[32mEARLY STOPPING\n",
      "Starting for fold: 4\u001b[31m\n",
      "Preparing training data for fold: 4\u001b[35m\n",
      "(2619339, 304)\n",
      "(2508656, 30, 1) (2508656, 1) (2508656, 301)\n",
      "(412467, 30, 1) (412467, 1) (2508656, 301)\n",
      "381\n",
      "cuda is used\n"
     ]
    },
    {
     "data": {
      "application/vnd.jupyter.widget-view+json": {
       "model_id": "2111cff2063d42b1bd8da77422497ad3",
       "version_major": 2,
       "version_minor": 0
      },
      "text/plain": [
       "  0%|          | 0/100 [00:00<?, ?it/s]"
      ]
     },
     "metadata": {},
     "output_type": "display_data"
    },
    {
     "name": "stdout",
     "output_type": "stream",
     "text": [
      "Epoch Started:0\n"
     ]
    },
    {
     "data": {
      "application/vnd.jupyter.widget-view+json": {
       "model_id": "cd04cfc0fb184a738539c7dda5508a64",
       "version_major": 2,
       "version_minor": 0
      },
      "text/plain": [
       "  0%|          | 0/307 [00:00<?, ?it/s]"
      ]
     },
     "metadata": {},
     "output_type": "display_data"
    },
    {
     "data": {
      "application/vnd.jupyter.widget-view+json": {
       "model_id": "c581a2ebe1d74695bdadc388617d90cb",
       "version_major": 2,
       "version_minor": 0
      },
      "text/plain": [
       "  0%|          | 0/51 [00:00<?, ?it/s]"
      ]
     },
     "metadata": {},
     "output_type": "display_data"
    },
    {
     "name": "stdout",
     "output_type": "stream",
     "text": [
      "Epoch:0 |Train Loss:0.8527462387317943|Valid Loss:0.8482552579804963\n",
      "\u001b[32mLoss Decreased from 9999999 to 0.8482552579804963\u001b[0m\n",
      "\u001b[35mTime taken by epoch 0 is 86.04s\u001b[0m\n",
      "Epoch Started:1\n"
     ]
    },
    {
     "data": {
      "application/vnd.jupyter.widget-view+json": {
       "model_id": "32e9e58d4f084b9ab33d65a6eab981eb",
       "version_major": 2,
       "version_minor": 0
      },
      "text/plain": [
       "  0%|          | 0/307 [00:00<?, ?it/s]"
      ]
     },
     "metadata": {},
     "output_type": "display_data"
    },
    {
     "data": {
      "application/vnd.jupyter.widget-view+json": {
       "model_id": "2cdf6a11500a49c78b024facfe1fd586",
       "version_major": 2,
       "version_minor": 0
      },
      "text/plain": [
       "  0%|          | 0/51 [00:00<?, ?it/s]"
      ]
     },
     "metadata": {},
     "output_type": "display_data"
    },
    {
     "name": "stdout",
     "output_type": "stream",
     "text": [
      "Epoch:1 |Train Loss:0.8087873905411761|Valid Loss:0.831040082024593\n",
      "\u001b[32mLoss Decreased from 0.8482552579804963 to 0.831040082024593\u001b[0m\n",
      "\u001b[35mTime taken by epoch 1 is 86.16s\u001b[0m\n",
      "Epoch Started:2\n"
     ]
    },
    {
     "data": {
      "application/vnd.jupyter.widget-view+json": {
       "model_id": "a742520e3bc34148a55b9f4dc27504c1",
       "version_major": 2,
       "version_minor": 0
      },
      "text/plain": [
       "  0%|          | 0/307 [00:00<?, ?it/s]"
      ]
     },
     "metadata": {},
     "output_type": "display_data"
    },
    {
     "data": {
      "application/vnd.jupyter.widget-view+json": {
       "model_id": "c733233d76f142e1878fd075c64382ee",
       "version_major": 2,
       "version_minor": 0
      },
      "text/plain": [
       "  0%|          | 0/51 [00:00<?, ?it/s]"
      ]
     },
     "metadata": {},
     "output_type": "display_data"
    },
    {
     "name": "stdout",
     "output_type": "stream",
     "text": [
      "Epoch:2 |Train Loss:0.7985193199365845|Valid Loss:0.8294915545220468\n",
      "\u001b[32mLoss Decreased from 0.831040082024593 to 0.8294915545220468\u001b[0m\n",
      "\u001b[35mTime taken by epoch 2 is 86.17s\u001b[0m\n",
      "Epoch Started:3\n"
     ]
    },
    {
     "data": {
      "application/vnd.jupyter.widget-view+json": {
       "model_id": "e5da4ae119b44474b0d44eb68f3c50f4",
       "version_major": 2,
       "version_minor": 0
      },
      "text/plain": [
       "  0%|          | 0/307 [00:00<?, ?it/s]"
      ]
     },
     "metadata": {},
     "output_type": "display_data"
    },
    {
     "data": {
      "application/vnd.jupyter.widget-view+json": {
       "model_id": "eeeb7f6db9094222a425ee7606545410",
       "version_major": 2,
       "version_minor": 0
      },
      "text/plain": [
       "  0%|          | 0/51 [00:00<?, ?it/s]"
      ]
     },
     "metadata": {},
     "output_type": "display_data"
    },
    {
     "name": "stdout",
     "output_type": "stream",
     "text": [
      "Epoch:3 |Train Loss:0.7907381162581304|Valid Loss:0.8247792638984381\n",
      "\u001b[32mLoss Decreased from 0.8294915545220468 to 0.8247792638984381\u001b[0m\n",
      "\u001b[35mTime taken by epoch 3 is 86.70s\u001b[0m\n",
      "Epoch Started:4\n"
     ]
    },
    {
     "data": {
      "application/vnd.jupyter.widget-view+json": {
       "model_id": "7209599371dc4c0d8ec58b7b6f390b81",
       "version_major": 2,
       "version_minor": 0
      },
      "text/plain": [
       "  0%|          | 0/307 [00:00<?, ?it/s]"
      ]
     },
     "metadata": {},
     "output_type": "display_data"
    },
    {
     "data": {
      "application/vnd.jupyter.widget-view+json": {
       "model_id": "dd04ef7ed7a74aee809c160bfb56c4f8",
       "version_major": 2,
       "version_minor": 0
      },
      "text/plain": [
       "  0%|          | 0/51 [00:00<?, ?it/s]"
      ]
     },
     "metadata": {},
     "output_type": "display_data"
    },
    {
     "name": "stdout",
     "output_type": "stream",
     "text": [
      "Epoch:4 |Train Loss:0.7847761104083605|Valid Loss:0.8236367211622351\n",
      "\u001b[32mLoss Decreased from 0.8247792638984381 to 0.8236367211622351\u001b[0m\n",
      "\u001b[35mTime taken by epoch 4 is 86.15s\u001b[0m\n",
      "Epoch Started:5\n"
     ]
    },
    {
     "data": {
      "application/vnd.jupyter.widget-view+json": {
       "model_id": "3b02347a5d1a44f289e9caa94ee23cbc",
       "version_major": 2,
       "version_minor": 0
      },
      "text/plain": [
       "  0%|          | 0/307 [00:00<?, ?it/s]"
      ]
     },
     "metadata": {},
     "output_type": "display_data"
    },
    {
     "data": {
      "application/vnd.jupyter.widget-view+json": {
       "model_id": "9ec6c435d5e34888a390055bcb6ef2e7",
       "version_major": 2,
       "version_minor": 0
      },
      "text/plain": [
       "  0%|          | 0/51 [00:00<?, ?it/s]"
      ]
     },
     "metadata": {},
     "output_type": "display_data"
    },
    {
     "name": "stdout",
     "output_type": "stream",
     "text": [
      "Epoch:5 |Train Loss:0.7785906465511757|Valid Loss:0.8227623677721211\n",
      "\u001b[32mLoss Decreased from 0.8236367211622351 to 0.8227623677721211\u001b[0m\n",
      "\u001b[35mTime taken by epoch 5 is 87.56s\u001b[0m\n",
      "Epoch Started:6\n"
     ]
    },
    {
     "data": {
      "application/vnd.jupyter.widget-view+json": {
       "model_id": "545750b9e9cc40e5b18f205e80159e64",
       "version_major": 2,
       "version_minor": 0
      },
      "text/plain": [
       "  0%|          | 0/307 [00:00<?, ?it/s]"
      ]
     },
     "metadata": {},
     "output_type": "display_data"
    },
    {
     "data": {
      "application/vnd.jupyter.widget-view+json": {
       "model_id": "1c79edcd91aa433cae2cf86effc83d39",
       "version_major": 2,
       "version_minor": 0
      },
      "text/plain": [
       "  0%|          | 0/51 [00:00<?, ?it/s]"
      ]
     },
     "metadata": {},
     "output_type": "display_data"
    },
    {
     "name": "stdout",
     "output_type": "stream",
     "text": [
      "Epoch:6 |Train Loss:0.7726314246460358|Valid Loss:0.816699297989116\n",
      "\u001b[32mLoss Decreased from 0.8227623677721211 to 0.816699297989116\u001b[0m\n",
      "\u001b[35mTime taken by epoch 6 is 86.85s\u001b[0m\n",
      "Epoch Started:7\n"
     ]
    },
    {
     "data": {
      "application/vnd.jupyter.widget-view+json": {
       "model_id": "09a1f653b92243e782374abc105b7c03",
       "version_major": 2,
       "version_minor": 0
      },
      "text/plain": [
       "  0%|          | 0/307 [00:00<?, ?it/s]"
      ]
     },
     "metadata": {},
     "output_type": "display_data"
    },
    {
     "data": {
      "application/vnd.jupyter.widget-view+json": {
       "model_id": "39bc59c2034447788a48f8ab99987448",
       "version_major": 2,
       "version_minor": 0
      },
      "text/plain": [
       "  0%|          | 0/51 [00:00<?, ?it/s]"
      ]
     },
     "metadata": {},
     "output_type": "display_data"
    },
    {
     "name": "stdout",
     "output_type": "stream",
     "text": [
      "Epoch:7 |Train Loss:0.767090184874954|Valid Loss:0.8100364769206327\n",
      "\u001b[32mLoss Decreased from 0.816699297989116 to 0.8100364769206327\u001b[0m\n",
      "\u001b[35mTime taken by epoch 7 is 88.10s\u001b[0m\n",
      "Epoch Started:8\n"
     ]
    },
    {
     "data": {
      "application/vnd.jupyter.widget-view+json": {
       "model_id": "f49abd909d324a5f9f9365f943f13277",
       "version_major": 2,
       "version_minor": 0
      },
      "text/plain": [
       "  0%|          | 0/307 [00:00<?, ?it/s]"
      ]
     },
     "metadata": {},
     "output_type": "display_data"
    },
    {
     "data": {
      "application/vnd.jupyter.widget-view+json": {
       "model_id": "ab677ea2f5384217b5ef2e4755215eb7",
       "version_major": 2,
       "version_minor": 0
      },
      "text/plain": [
       "  0%|          | 0/51 [00:00<?, ?it/s]"
      ]
     },
     "metadata": {},
     "output_type": "display_data"
    },
    {
     "name": "stdout",
     "output_type": "stream",
     "text": [
      "Epoch:8 |Train Loss:0.761820785191626|Valid Loss:0.8152131531752792\n",
      "\u001b[35mTime taken by epoch 8 is 87.52s\u001b[0m\n",
      "Epoch Started:9\n"
     ]
    },
    {
     "data": {
      "application/vnd.jupyter.widget-view+json": {
       "model_id": "d39f88743a1b42a68e008ec542590971",
       "version_major": 2,
       "version_minor": 0
      },
      "text/plain": [
       "  0%|          | 0/307 [00:00<?, ?it/s]"
      ]
     },
     "metadata": {},
     "output_type": "display_data"
    },
    {
     "data": {
      "application/vnd.jupyter.widget-view+json": {
       "model_id": "6e11da519be54e41bea601f904d811e1",
       "version_major": 2,
       "version_minor": 0
      },
      "text/plain": [
       "  0%|          | 0/51 [00:00<?, ?it/s]"
      ]
     },
     "metadata": {},
     "output_type": "display_data"
    },
    {
     "name": "stdout",
     "output_type": "stream",
     "text": [
      "Epoch:9 |Train Loss:0.757040132334644|Valid Loss:0.8122273110875896\n",
      "\u001b[35mTime taken by epoch 9 is 88.36s\u001b[0m\n",
      "Epoch Started:10\n"
     ]
    },
    {
     "data": {
      "application/vnd.jupyter.widget-view+json": {
       "model_id": "400cb61695ef428dbf09cab7e2fd9c12",
       "version_major": 2,
       "version_minor": 0
      },
      "text/plain": [
       "  0%|          | 0/307 [00:00<?, ?it/s]"
      ]
     },
     "metadata": {},
     "output_type": "display_data"
    },
    {
     "data": {
      "application/vnd.jupyter.widget-view+json": {
       "model_id": "877466db0a1348b79bb7b50ceee7e08c",
       "version_major": 2,
       "version_minor": 0
      },
      "text/plain": [
       "  0%|          | 0/51 [00:00<?, ?it/s]"
      ]
     },
     "metadata": {},
     "output_type": "display_data"
    },
    {
     "name": "stdout",
     "output_type": "stream",
     "text": [
      "Epoch:10 |Train Loss:0.7521057198800948|Valid Loss:0.8189901522561616\n",
      "\u001b[35mTime taken by epoch 10 is 86.89s\u001b[0m\n",
      "Epoch Started:11\n"
     ]
    },
    {
     "data": {
      "application/vnd.jupyter.widget-view+json": {
       "model_id": "4de5ad6415cc4182975585255d33c27f",
       "version_major": 2,
       "version_minor": 0
      },
      "text/plain": [
       "  0%|          | 0/307 [00:00<?, ?it/s]"
      ]
     },
     "metadata": {},
     "output_type": "display_data"
    },
    {
     "data": {
      "application/vnd.jupyter.widget-view+json": {
       "model_id": "8aa691c3eb1a46d3ac3a4400fafa6dde",
       "version_major": 2,
       "version_minor": 0
      },
      "text/plain": [
       "  0%|          | 0/51 [00:00<?, ?it/s]"
      ]
     },
     "metadata": {},
     "output_type": "display_data"
    },
    {
     "name": "stdout",
     "output_type": "stream",
     "text": [
      "Epoch:11 |Train Loss:0.7466959091273504|Valid Loss:0.8157240093923083\n",
      "\u001b[35mTime taken by epoch 11 is 85.88s\u001b[0m\n",
      "Epoch Started:12\n"
     ]
    },
    {
     "data": {
      "application/vnd.jupyter.widget-view+json": {
       "model_id": "7a76b7f047e14f2c9d4ee8c2d18e1a76",
       "version_major": 2,
       "version_minor": 0
      },
      "text/plain": [
       "  0%|          | 0/307 [00:00<?, ?it/s]"
      ]
     },
     "metadata": {},
     "output_type": "display_data"
    },
    {
     "data": {
      "application/vnd.jupyter.widget-view+json": {
       "model_id": "a948465c4eeb4f59a618f30580c27bbc",
       "version_major": 2,
       "version_minor": 0
      },
      "text/plain": [
       "  0%|          | 0/51 [00:00<?, ?it/s]"
      ]
     },
     "metadata": {},
     "output_type": "display_data"
    },
    {
     "name": "stdout",
     "output_type": "stream",
     "text": [
      "Epoch:12 |Train Loss:0.7418798054856663|Valid Loss:0.8139098017823463\n",
      "\u001b[35mTime taken by epoch 12 is 85.59s\u001b[0m\n",
      "Epoch Started:13\n"
     ]
    },
    {
     "data": {
      "application/vnd.jupyter.widget-view+json": {
       "model_id": "f5f342cc29ca4e34bc9f8347ccb6e1ba",
       "version_major": 2,
       "version_minor": 0
      },
      "text/plain": [
       "  0%|          | 0/307 [00:00<?, ?it/s]"
      ]
     },
     "metadata": {},
     "output_type": "display_data"
    },
    {
     "data": {
      "application/vnd.jupyter.widget-view+json": {
       "model_id": "7eea45b386cb4df8860cd90e4351ea8b",
       "version_major": 2,
       "version_minor": 0
      },
      "text/plain": [
       "  0%|          | 0/51 [00:00<?, ?it/s]"
      ]
     },
     "metadata": {},
     "output_type": "display_data"
    },
    {
     "name": "stdout",
     "output_type": "stream",
     "text": [
      "Epoch:13 |Train Loss:0.7368831789843034|Valid Loss:0.812757038602642\n",
      "\u001b[35mTime taken by epoch 13 is 86.23s\u001b[0m\n",
      "Epoch Started:14\n"
     ]
    },
    {
     "data": {
      "application/vnd.jupyter.widget-view+json": {
       "model_id": "a5cb924165e24abf9b6b734d267ee5dd",
       "version_major": 2,
       "version_minor": 0
      },
      "text/plain": [
       "  0%|          | 0/307 [00:00<?, ?it/s]"
      ]
     },
     "metadata": {},
     "output_type": "display_data"
    },
    {
     "data": {
      "application/vnd.jupyter.widget-view+json": {
       "model_id": "81fe5e68a1e64d9db2e68f59d430040b",
       "version_major": 2,
       "version_minor": 0
      },
      "text/plain": [
       "  0%|          | 0/51 [00:00<?, ?it/s]"
      ]
     },
     "metadata": {},
     "output_type": "display_data"
    },
    {
     "name": "stdout",
     "output_type": "stream",
     "text": [
      "Epoch:14 |Train Loss:0.7331833697685589|Valid Loss:0.8191622098286947\n",
      "\u001b[35mTime taken by epoch 14 is 87.13s\u001b[0m\n",
      "Epoch Started:15\n"
     ]
    },
    {
     "data": {
      "application/vnd.jupyter.widget-view+json": {
       "model_id": "5ab3a349c20243569e8dd05f384660f9",
       "version_major": 2,
       "version_minor": 0
      },
      "text/plain": [
       "  0%|          | 0/307 [00:00<?, ?it/s]"
      ]
     },
     "metadata": {},
     "output_type": "display_data"
    },
    {
     "data": {
      "application/vnd.jupyter.widget-view+json": {
       "model_id": "81154381608f4899929e0a8595a6151b",
       "version_major": 2,
       "version_minor": 0
      },
      "text/plain": [
       "  0%|          | 0/51 [00:00<?, ?it/s]"
      ]
     },
     "metadata": {},
     "output_type": "display_data"
    },
    {
     "name": "stdout",
     "output_type": "stream",
     "text": [
      "Epoch:15 |Train Loss:0.7281830073956169|Valid Loss:0.8183012417718476\n",
      "\u001b[35mTime taken by epoch 15 is 85.58s\u001b[0m\n",
      "Epoch Started:16\n"
     ]
    },
    {
     "data": {
      "application/vnd.jupyter.widget-view+json": {
       "model_id": "4d1f4dcadad14b7f88679fcfa49071de",
       "version_major": 2,
       "version_minor": 0
      },
      "text/plain": [
       "  0%|          | 0/307 [00:00<?, ?it/s]"
      ]
     },
     "metadata": {},
     "output_type": "display_data"
    },
    {
     "data": {
      "application/vnd.jupyter.widget-view+json": {
       "model_id": "cc72e15d3fc8486b8f9130a402b2d331",
       "version_major": 2,
       "version_minor": 0
      },
      "text/plain": [
       "  0%|          | 0/51 [00:00<?, ?it/s]"
      ]
     },
     "metadata": {},
     "output_type": "display_data"
    },
    {
     "name": "stdout",
     "output_type": "stream",
     "text": [
      "Epoch:16 |Train Loss:0.7239915060686366|Valid Loss:0.8174341075560626\n",
      "\u001b[35mTime taken by epoch 16 is 85.42s\u001b[0m\n",
      "Epoch Started:17\n"
     ]
    },
    {
     "data": {
      "application/vnd.jupyter.widget-view+json": {
       "model_id": "d681c710f0ba42338f4a494617cd703c",
       "version_major": 2,
       "version_minor": 0
      },
      "text/plain": [
       "  0%|          | 0/307 [00:00<?, ?it/s]"
      ]
     },
     "metadata": {},
     "output_type": "display_data"
    },
    {
     "data": {
      "application/vnd.jupyter.widget-view+json": {
       "model_id": "6b3faa4ee4d84c5ab704377c28ba3f1e",
       "version_major": 2,
       "version_minor": 0
      },
      "text/plain": [
       "  0%|          | 0/51 [00:00<?, ?it/s]"
      ]
     },
     "metadata": {},
     "output_type": "display_data"
    },
    {
     "name": "stdout",
     "output_type": "stream",
     "text": [
      "Epoch:17 |Train Loss:0.7198509599176214|Valid Loss:0.8131377626867855\n",
      "\u001b[32mEARLY STOPPING\n"
     ]
    }
   ],
   "source": [
    "# for fold in folds.keys():\n",
    "for fold in [1,2,3,4]:\n",
    "    print(f'Starting for fold: {fold}{r_}')\n",
    "    print(f'Preparing training data for fold: {fold}{m_}')\n",
    "    train_indxs = folds[fold]['train']\n",
    "    test_indxs = folds[fold]['test']\n",
    "    test_f_df = train_df[train_df.index.isin(test_indxs)].reset_index(drop=True)\n",
    "    train_f_df = train_df[train_df.index.isin(train_indxs)].reset_index(drop=True)\n",
    "    \n",
    "    print(train_f_df.shape)\n",
    "    count_df = train_f_df.groupby('investment_id',as_index=False).agg(c = ('time_id', len))\n",
    "    to_exclude_ids = count_df[count_df.c<input_chunk_length+1].investment_id.unique().tolist()\n",
    "    \n",
    "    X_train, Y_train, FCV_train = make_sequences(train_f_df,to_exclude_ids)\n",
    "    Y_train = Y_train.reshape(-1,1)\n",
    "    print(X_train.shape,Y_train.shape,FCV_train.shape)\n",
    "    \n",
    "    X_val, Y_val, FCV_val = make_sequences(test_f_df,to_exclude_ids)\n",
    "    Y_val = Y_val.reshape(-1,1)\n",
    "    print(X_val.shape,Y_val.shape,FCV_train.shape)\n",
    "    \n",
    "    model = LstmTsModel(num_classes, input_size, hidden_size, num_layers,seq_length)\n",
    "    train_dl = DataLoader(TSDataset(X_train, Y_train, FCV_train), batch_size=config['batch_size'], shuffle=config['train_shuffle'], num_workers=0)\n",
    "    val_dl = DataLoader(TSDataset(X_val, Y_val, FCV_val), batch_size=config['batch_size'], shuffle=config['train_shuffle'], num_workers=0)\n",
    "    \n",
    "    best_loss, model = run(model,train_dl,val_dl,fold)\n",
    "    \n",
    "    gc.collect()\n",
    "    "
   ]
  },
  {
   "cell_type": "code",
   "execution_count": null,
   "id": "b081e214",
   "metadata": {},
   "outputs": [],
   "source": []
  }
 ],
 "metadata": {
  "kernelspec": {
   "display_name": "Python 3",
   "language": "python",
   "name": "python3"
  },
  "language_info": {
   "codemirror_mode": {
    "name": "ipython",
    "version": 3
   },
   "file_extension": ".py",
   "mimetype": "text/x-python",
   "name": "python",
   "nbconvert_exporter": "python",
   "pygments_lexer": "ipython3",
   "version": "3.8.5"
  },
  "toc": {
   "base_numbering": 1,
   "nav_menu": {},
   "number_sections": false,
   "sideBar": true,
   "skip_h1_title": false,
   "title_cell": "Table of Contents",
   "title_sidebar": "Contents",
   "toc_cell": false,
   "toc_position": {},
   "toc_section_display": true,
   "toc_window_display": false
  }
 },
 "nbformat": 4,
 "nbformat_minor": 5
}
