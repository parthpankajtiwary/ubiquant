{
 "cells": [
  {
   "cell_type": "code",
   "execution_count": 1,
   "id": "52e247e0",
   "metadata": {
    "ExecuteTime": {
     "end_time": "2022-02-02T22:38:00.702819Z",
     "start_time": "2022-02-02T22:38:00.481055Z"
    }
   },
   "outputs": [],
   "source": [
    "import pandas as pd"
   ]
  },
  {
   "cell_type": "code",
   "execution_count": 2,
   "id": "9bd9dbb9",
   "metadata": {
    "ExecuteTime": {
     "end_time": "2022-02-02T22:38:00.708348Z",
     "start_time": "2022-02-02T22:38:00.705437Z"
    }
   },
   "outputs": [],
   "source": [
    "import numpy as np"
   ]
  },
  {
   "cell_type": "code",
   "execution_count": 3,
   "id": "28d43fd5",
   "metadata": {
    "ExecuteTime": {
     "end_time": "2022-02-02T22:38:00.962632Z",
     "start_time": "2022-02-02T22:38:00.710693Z"
    }
   },
   "outputs": [],
   "source": [
    "from scipy.stats import pearsonr"
   ]
  },
  {
   "cell_type": "code",
   "execution_count": 4,
   "id": "fdf509c2",
   "metadata": {
    "ExecuteTime": {
     "end_time": "2022-02-02T22:38:00.967718Z",
     "start_time": "2022-02-02T22:38:00.964712Z"
    }
   },
   "outputs": [],
   "source": [
    "BASE_DIR = '/sharedHDD/rohit/timeseries_learning/ubiquant/'\n",
    "OUTPUT_DIR = BASE_DIR+'output/'"
   ]
  },
  {
   "cell_type": "code",
   "execution_count": 5,
   "id": "27fe4055",
   "metadata": {
    "ExecuteTime": {
     "end_time": "2022-02-02T22:38:00.972340Z",
     "start_time": "2022-02-02T22:38:00.969654Z"
    }
   },
   "outputs": [],
   "source": [
    "# model_name = 'tabnet'\n",
    "# target_o = 'target'\n",
    "# target_p = 'predicted'\n",
    "\n",
    "model_name = 'lstm3'\n",
    "target_o = 'target_o'\n",
    "target_p = 'target'"
   ]
  },
  {
   "cell_type": "code",
   "execution_count": 6,
   "id": "ca6af8eb",
   "metadata": {
    "ExecuteTime": {
     "end_time": "2022-02-02T22:38:00.977802Z",
     "start_time": "2022-02-02T22:38:00.974286Z"
    }
   },
   "outputs": [],
   "source": [
    "def weighted_average(a):\n",
    "    w = []\n",
    "    n = len(a)\n",
    "    for j in range(1, n + 1):\n",
    "        j = 2 if j == 1 else j\n",
    "        w.append(1 / (2**(n + 1 - j)))\n",
    "    return np.average(a, weights = w)"
   ]
  },
  {
   "cell_type": "code",
   "execution_count": 7,
   "id": "503dc1fb",
   "metadata": {
    "ExecuteTime": {
     "end_time": "2022-02-02T22:38:00.983266Z",
     "start_time": "2022-02-02T22:38:00.980446Z"
    }
   },
   "outputs": [],
   "source": [
    "def get_pearson_r(row):\n",
    "    v,_ = pearsonr(row.target_p,row.target_o)\n",
    "    return v"
   ]
  },
  {
   "cell_type": "code",
   "execution_count": 8,
   "id": "99863c10",
   "metadata": {
    "ExecuteTime": {
     "end_time": "2022-02-02T22:38:05.727428Z",
     "start_time": "2022-02-02T22:38:00.985146Z"
    }
   },
   "outputs": [
    {
     "name": "stdout",
     "output_type": "stream",
     "text": [
      "Score for fold 0 is 0.13358354269958786\n",
      "Score for fold 1 is 0.12945932633771642\n",
      "Score for fold 2 is 0.14097429474499654\n",
      "Score for fold 3 is 0.13967688203223905\n",
      "Score for fold 4 is 0.12611406703308847\n"
     ]
    }
   ],
   "source": [
    "scores = []\n",
    "for fold in [0,1,2,3,4]:\n",
    "    df = pd.read_csv(OUTPUT_DIR+str(fold)+'_'+model_name+'.csv')\n",
    "    grp_df = df.groupby('time_id',as_index=False).agg(target_o = (target_o, list),\n",
    "                                                  target_p = (target_p, list),\n",
    "                                                  num_points = (target_p, len)\n",
    "                                                 )\n",
    "    grp_df = grp_df[grp_df.num_points>=2]\n",
    "    grp_df['pearson_r'] = grp_df.apply(lambda x: get_pearson_r(x), axis=1)\n",
    "    s = grp_df.pearson_r.mean()\n",
    "    scores.append(s)\n",
    "    print(f'Score for fold {fold} is {s}')"
   ]
  },
  {
   "cell_type": "code",
   "execution_count": 9,
   "id": "1f53cfc8",
   "metadata": {
    "ExecuteTime": {
     "end_time": "2022-02-02T22:38:05.738092Z",
     "start_time": "2022-02-02T22:38:05.730084Z"
    }
   },
   "outputs": [
    {
     "data": {
      "text/plain": [
       "0.1320382201825601"
      ]
     },
     "execution_count": 9,
     "metadata": {},
     "output_type": "execute_result"
    }
   ],
   "source": [
    "weighted_average(scores)"
   ]
  },
  {
   "cell_type": "code",
   "execution_count": null,
   "id": "19b85087",
   "metadata": {},
   "outputs": [],
   "source": []
  }
 ],
 "metadata": {
  "kernelspec": {
   "display_name": "Python 3",
   "language": "python",
   "name": "python3"
  },
  "language_info": {
   "codemirror_mode": {
    "name": "ipython",
    "version": 3
   },
   "file_extension": ".py",
   "mimetype": "text/x-python",
   "name": "python",
   "nbconvert_exporter": "python",
   "pygments_lexer": "ipython3",
   "version": "3.8.5"
  },
  "toc": {
   "base_numbering": 1,
   "nav_menu": {},
   "number_sections": false,
   "sideBar": true,
   "skip_h1_title": false,
   "title_cell": "Table of Contents",
   "title_sidebar": "Contents",
   "toc_cell": false,
   "toc_position": {},
   "toc_section_display": true,
   "toc_window_display": false
  }
 },
 "nbformat": 4,
 "nbformat_minor": 5
}
