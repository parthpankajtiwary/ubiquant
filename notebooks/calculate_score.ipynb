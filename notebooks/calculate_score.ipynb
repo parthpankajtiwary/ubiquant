{
 "cells": [
  {
   "cell_type": "code",
   "execution_count": 1,
   "id": "52e247e0",
   "metadata": {
    "ExecuteTime": {
     "end_time": "2022-02-05T02:05:00.941603Z",
     "start_time": "2022-02-05T02:05:00.722768Z"
    }
   },
   "outputs": [],
   "source": [
    "import pandas as pd"
   ]
  },
  {
   "cell_type": "code",
   "execution_count": 2,
   "id": "9bd9dbb9",
   "metadata": {
    "ExecuteTime": {
     "end_time": "2022-02-05T02:05:00.946936Z",
     "start_time": "2022-02-05T02:05:00.944015Z"
    }
   },
   "outputs": [],
   "source": [
    "import numpy as np"
   ]
  },
  {
   "cell_type": "code",
   "execution_count": 3,
   "id": "28d43fd5",
   "metadata": {
    "ExecuteTime": {
     "end_time": "2022-02-05T02:05:01.204134Z",
     "start_time": "2022-02-05T02:05:00.949035Z"
    }
   },
   "outputs": [],
   "source": [
    "from scipy.stats import pearsonr"
   ]
  },
  {
   "cell_type": "code",
   "execution_count": 4,
   "id": "fdf509c2",
   "metadata": {
    "ExecuteTime": {
     "end_time": "2022-02-05T02:05:01.209033Z",
     "start_time": "2022-02-05T02:05:01.206188Z"
    }
   },
   "outputs": [],
   "source": [
    "BASE_DIR = '/sharedHDD/rohit/timeseries_learning/ubiquant/'\n",
    "OUTPUT_DIR = BASE_DIR+'output/'"
   ]
  },
  {
   "cell_type": "code",
   "execution_count": 5,
   "id": "27fe4055",
   "metadata": {
    "ExecuteTime": {
     "end_time": "2022-02-05T02:05:01.213475Z",
     "start_time": "2022-02-05T02:05:01.210844Z"
    }
   },
   "outputs": [],
   "source": [
    "# model_name = 'baseline_mse'\n",
    "# target_o = 'target'\n",
    "# target_p = 'predicted'\n",
    "\n",
    "model_name = 'lstm5_c5'\n",
    "target_o = 'target_o'\n",
    "target_p = 'target'"
   ]
  },
  {
   "cell_type": "code",
   "execution_count": 6,
   "id": "ca6af8eb",
   "metadata": {
    "ExecuteTime": {
     "end_time": "2022-02-05T02:05:01.218753Z",
     "start_time": "2022-02-05T02:05:01.215260Z"
    }
   },
   "outputs": [],
   "source": [
    "def weighted_average(a):\n",
    "    w = []\n",
    "    n = len(a)\n",
    "    for j in range(1, n + 1):\n",
    "        j = 2 if j == 1 else j\n",
    "        w.append(1 / (2**(n + 1 - j)))\n",
    "    return np.average(a, weights = w)"
   ]
  },
  {
   "cell_type": "code",
   "execution_count": 7,
   "id": "503dc1fb",
   "metadata": {
    "ExecuteTime": {
     "end_time": "2022-02-05T02:05:01.223863Z",
     "start_time": "2022-02-05T02:05:01.221173Z"
    }
   },
   "outputs": [],
   "source": [
    "def get_pearson_r(row):\n",
    "    v,_ = pearsonr(row.target_p,row.target_o)\n",
    "    return v"
   ]
  },
  {
   "cell_type": "code",
   "execution_count": 8,
   "id": "99863c10",
   "metadata": {
    "ExecuteTime": {
     "end_time": "2022-02-05T02:05:06.080326Z",
     "start_time": "2022-02-05T02:05:01.225674Z"
    }
   },
   "outputs": [
    {
     "name": "stdout",
     "output_type": "stream",
     "text": [
      "Score for fold 0 is 0.14587750561624596\n",
      "Score for fold 1 is 0.1436932469631293\n",
      "Score for fold 2 is 0.14058888511705037\n",
      "Score for fold 3 is 0.14159085279981065\n",
      "Score for fold 4 is 0.13183429085319734\n"
     ]
    }
   ],
   "source": [
    "scores = []\n",
    "for fold in [0,1,2,3,4]:\n",
    "    df = pd.read_csv(OUTPUT_DIR+str(fold)+'_'+model_name+'.csv')\n",
    "    grp_df = df.groupby('time_id',as_index=False).agg(target_o = (target_o, list),\n",
    "                                                  target_p = (target_p, list),\n",
    "                                                  num_points = (target_p, len)\n",
    "                                                 )\n",
    "    grp_df = grp_df[grp_df.num_points>=2]\n",
    "    grp_df['pearson_r'] = grp_df.apply(lambda x: get_pearson_r(x), axis=1)\n",
    "    s = grp_df.pearson_r.mean()\n",
    "    scores.append(s)\n",
    "    print(f'Score for fold {fold} is {s}')"
   ]
  },
  {
   "cell_type": "code",
   "execution_count": 9,
   "id": "1f53cfc8",
   "metadata": {
    "ExecuteTime": {
     "end_time": "2022-02-05T02:05:06.092199Z",
     "start_time": "2022-02-05T02:05:06.083418Z"
    }
   },
   "outputs": [
    {
     "data": {
      "text/plain": [
       "0.13698664130239357"
      ]
     },
     "execution_count": 9,
     "metadata": {},
     "output_type": "execute_result"
    }
   ],
   "source": [
    "weighted_average(scores)"
   ]
  },
  {
   "cell_type": "code",
   "execution_count": 10,
   "id": "538af40d",
   "metadata": {
    "ExecuteTime": {
     "end_time": "2022-02-05T02:05:06.096781Z",
     "start_time": "2022-02-05T02:05:06.094092Z"
    }
   },
   "outputs": [],
   "source": [
    "#Baseline\n",
    "# Score for fold 0 is 0.1467740282937247\n",
    "# Score for fold 1 is 0.15057857567785543\n",
    "# Score for fold 2 is 0.14759561511448138\n",
    "# Score for fold 3 is 0.14926066146755804\n",
    "# Score for fold 4 is 0.1427633580641973"
   ]
  },
  {
   "cell_type": "code",
   "execution_count": 11,
   "id": "0114509c",
   "metadata": {
    "ExecuteTime": {
     "end_time": "2022-02-05T02:05:06.102034Z",
     "start_time": "2022-02-05T02:05:06.099169Z"
    }
   },
   "outputs": [],
   "source": [
    "#lstm5_c5\n",
    "# Score for fold 0 is 0.14587750561624596\n",
    "# Score for fold 1 is 0.1436932469631293\n",
    "# Score for fold 2 is 0.14058888511705037\n",
    "# Score for fold 3 is 0.14159085279981065\n",
    "# Score for fold 4 is 0.11675470430659692"
   ]
  }
 ],
 "metadata": {
  "kernelspec": {
   "display_name": "Python 3",
   "language": "python",
   "name": "python3"
  },
  "language_info": {
   "codemirror_mode": {
    "name": "ipython",
    "version": 3
   },
   "file_extension": ".py",
   "mimetype": "text/x-python",
   "name": "python",
   "nbconvert_exporter": "python",
   "pygments_lexer": "ipython3",
   "version": "3.8.5"
  },
  "toc": {
   "base_numbering": 1,
   "nav_menu": {},
   "number_sections": false,
   "sideBar": true,
   "skip_h1_title": false,
   "title_cell": "Table of Contents",
   "title_sidebar": "Contents",
   "toc_cell": false,
   "toc_position": {},
   "toc_section_display": true,
   "toc_window_display": false
  }
 },
 "nbformat": 4,
 "nbformat_minor": 5
}
