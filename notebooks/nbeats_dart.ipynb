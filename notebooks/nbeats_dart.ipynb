{
 "cells": [
  {
   "cell_type": "code",
   "execution_count": 1,
   "id": "5f1b600b-7d82-4220-8012-69ac123cc62e",
   "metadata": {},
   "outputs": [],
   "source": [
    "import pandas as pd"
   ]
  },
  {
   "cell_type": "code",
   "execution_count": 2,
   "id": "16e7d28e-519e-408d-915f-39216e80d78b",
   "metadata": {},
   "outputs": [],
   "source": [
    "import numpy as np"
   ]
  },
  {
   "cell_type": "code",
   "execution_count": 3,
   "id": "e1991463-bb39-444f-a320-4a0ba879541c",
   "metadata": {},
   "outputs": [],
   "source": [
    "from darts.models import NBEATSModel"
   ]
  },
  {
   "cell_type": "code",
   "execution_count": 4,
   "id": "41d450ce-7bf0-4d52-91a7-4500d18522dd",
   "metadata": {},
   "outputs": [],
   "source": [
    "import dask.dataframe as dd"
   ]
  },
  {
   "cell_type": "code",
   "execution_count": 5,
   "id": "abf6c8f8-6534-4c2f-bcd4-f2662116c401",
   "metadata": {},
   "outputs": [],
   "source": [
    "from darts.timeseries import TimeSeries"
   ]
  },
  {
   "cell_type": "code",
   "execution_count": 6,
   "id": "e5f9603b-66aa-4ed8-b3b5-11548372025e",
   "metadata": {},
   "outputs": [],
   "source": [
    "import gc"
   ]
  },
  {
   "cell_type": "code",
   "execution_count": 7,
   "id": "99106e62-9d0c-45ed-9f72-24f85627289f",
   "metadata": {},
   "outputs": [],
   "source": [
    "import pickle"
   ]
  },
  {
   "cell_type": "code",
   "execution_count": 8,
   "id": "5c1ba2c3-1c17-45ab-8c85-dba3fd303279",
   "metadata": {},
   "outputs": [],
   "source": [
    "# import sys\n",
    "# sys.path.append(\"../data/\")"
   ]
  },
  {
   "cell_type": "code",
   "execution_count": 9,
   "id": "51d98fa5-8b9b-49c5-8531-794ecdb2c79d",
   "metadata": {},
   "outputs": [],
   "source": [
    "# import ubiquant"
   ]
  },
  {
   "cell_type": "markdown",
   "id": "3c1bf97e-41fb-4dc4-b8d1-6ccbf9cceb6b",
   "metadata": {},
   "source": [
    "##### Global Variables ####"
   ]
  },
  {
   "cell_type": "code",
   "execution_count": 10,
   "id": "f07d7d8b-e7ea-4883-bbb4-1f6ff3d78ef7",
   "metadata": {},
   "outputs": [
    {
     "data": {
      "text/plain": [
       "22"
      ]
     },
     "execution_count": 10,
     "metadata": {},
     "output_type": "execute_result"
    }
   ],
   "source": [
    "gc.collect()"
   ]
  },
  {
   "cell_type": "code",
   "execution_count": 11,
   "id": "673f4f00-3768-4b71-b0b4-0da183a96683",
   "metadata": {},
   "outputs": [],
   "source": [
    "DATA_DIR = '../data/parquet/'"
   ]
  },
  {
   "cell_type": "code",
   "execution_count": 12,
   "id": "94733efa-2ac4-4cea-b5a2-937bce3758af",
   "metadata": {},
   "outputs": [],
   "source": [
    "input_chunk_length = 30\n",
    "output_chunk_length = 1"
   ]
  },
  {
   "cell_type": "code",
   "execution_count": 13,
   "id": "fcf63364-92d3-477c-b400-9735ea8a624b",
   "metadata": {},
   "outputs": [],
   "source": [
    "features = [f'f_{i}' for i in range(300)]"
   ]
  },
  {
   "cell_type": "code",
   "execution_count": null,
   "id": "35dd2a6d-6136-482e-99ba-b70d38d492e5",
   "metadata": {},
   "outputs": [],
   "source": []
  },
  {
   "cell_type": "markdown",
   "id": "bb64ff3e-4d39-45e0-834f-726220ac6481",
   "metadata": {},
   "source": [
    "#### Read Data #####"
   ]
  },
  {
   "cell_type": "code",
   "execution_count": 14,
   "id": "61b9b0e3-ed2a-4b48-a49b-ee83a3afb102",
   "metadata": {},
   "outputs": [],
   "source": [
    "# from IPython.display import clear_output\n",
    "# clear_output()"
   ]
  },
  {
   "cell_type": "code",
   "execution_count": 15,
   "id": "c629cc5a-ec0e-4ccb-a07f-959ab01bc739",
   "metadata": {},
   "outputs": [],
   "source": [
    "# %%time \n",
    "# train = dd.read_csv(DATA_DIR+'train.csv')"
   ]
  },
  {
   "cell_type": "code",
   "execution_count": 16,
   "id": "53f447c3-f035-46d8-b8d5-8e2987237c56",
   "metadata": {},
   "outputs": [],
   "source": [
    "# %%time\n",
    "# train_df = train.compute()"
   ]
  },
  {
   "cell_type": "code",
   "execution_count": 17,
   "id": "7b2ba24d-302d-48d8-b1e1-9c760cbe1d55",
   "metadata": {},
   "outputs": [
    {
     "name": "stdout",
     "output_type": "stream",
     "text": [
      "CPU times: user 27.7 s, sys: 9.77 s, total: 37.5 s\n",
      "Wall time: 6.4 s\n"
     ]
    }
   ],
   "source": [
    "%%time\n",
    "train_df = pd.read_parquet(DATA_DIR+'train_low_mem.parquet')"
   ]
  },
  {
   "cell_type": "code",
   "execution_count": 18,
   "id": "d0491c4f-5d9b-474d-a1f0-ea235b11eb19",
   "metadata": {},
   "outputs": [
    {
     "data": {
      "text/html": [
       "<div>\n",
       "<style scoped>\n",
       "    .dataframe tbody tr th:only-of-type {\n",
       "        vertical-align: middle;\n",
       "    }\n",
       "\n",
       "    .dataframe tbody tr th {\n",
       "        vertical-align: top;\n",
       "    }\n",
       "\n",
       "    .dataframe thead th {\n",
       "        text-align: right;\n",
       "    }\n",
       "</style>\n",
       "<table border=\"1\" class=\"dataframe\">\n",
       "  <thead>\n",
       "    <tr style=\"text-align: right;\">\n",
       "      <th></th>\n",
       "      <th>row_id</th>\n",
       "      <th>time_id</th>\n",
       "      <th>investment_id</th>\n",
       "      <th>target</th>\n",
       "      <th>f_0</th>\n",
       "      <th>f_1</th>\n",
       "      <th>f_2</th>\n",
       "      <th>f_3</th>\n",
       "      <th>f_4</th>\n",
       "      <th>f_5</th>\n",
       "      <th>...</th>\n",
       "      <th>f_290</th>\n",
       "      <th>f_291</th>\n",
       "      <th>f_292</th>\n",
       "      <th>f_293</th>\n",
       "      <th>f_294</th>\n",
       "      <th>f_295</th>\n",
       "      <th>f_296</th>\n",
       "      <th>f_297</th>\n",
       "      <th>f_298</th>\n",
       "      <th>f_299</th>\n",
       "    </tr>\n",
       "  </thead>\n",
       "  <tbody>\n",
       "    <tr>\n",
       "      <th>0</th>\n",
       "      <td>0_1</td>\n",
       "      <td>0</td>\n",
       "      <td>1</td>\n",
       "      <td>-0.300875</td>\n",
       "      <td>0.932573</td>\n",
       "      <td>0.113691</td>\n",
       "      <td>-0.402206</td>\n",
       "      <td>0.378386</td>\n",
       "      <td>-0.203938</td>\n",
       "      <td>-0.413469</td>\n",
       "      <td>...</td>\n",
       "      <td>0.366028</td>\n",
       "      <td>-1.095620</td>\n",
       "      <td>0.200075</td>\n",
       "      <td>0.819155</td>\n",
       "      <td>0.941183</td>\n",
       "      <td>-0.086764</td>\n",
       "      <td>-1.087009</td>\n",
       "      <td>-1.044826</td>\n",
       "      <td>-0.287605</td>\n",
       "      <td>0.321566</td>\n",
       "    </tr>\n",
       "    <tr>\n",
       "      <th>1</th>\n",
       "      <td>0_2</td>\n",
       "      <td>0</td>\n",
       "      <td>2</td>\n",
       "      <td>-0.231040</td>\n",
       "      <td>0.810802</td>\n",
       "      <td>-0.514115</td>\n",
       "      <td>0.742368</td>\n",
       "      <td>-0.616673</td>\n",
       "      <td>-0.194255</td>\n",
       "      <td>1.771210</td>\n",
       "      <td>...</td>\n",
       "      <td>-0.154193</td>\n",
       "      <td>0.912726</td>\n",
       "      <td>-0.734579</td>\n",
       "      <td>0.819155</td>\n",
       "      <td>0.941183</td>\n",
       "      <td>-0.387617</td>\n",
       "      <td>-1.087009</td>\n",
       "      <td>-0.929529</td>\n",
       "      <td>-0.974060</td>\n",
       "      <td>-0.343624</td>\n",
       "    </tr>\n",
       "    <tr>\n",
       "      <th>2</th>\n",
       "      <td>0_6</td>\n",
       "      <td>0</td>\n",
       "      <td>6</td>\n",
       "      <td>0.568807</td>\n",
       "      <td>0.393974</td>\n",
       "      <td>0.615937</td>\n",
       "      <td>0.567806</td>\n",
       "      <td>-0.607963</td>\n",
       "      <td>0.068883</td>\n",
       "      <td>-1.083155</td>\n",
       "      <td>...</td>\n",
       "      <td>-0.138020</td>\n",
       "      <td>0.912726</td>\n",
       "      <td>-0.551904</td>\n",
       "      <td>-1.220772</td>\n",
       "      <td>-1.060166</td>\n",
       "      <td>-0.219097</td>\n",
       "      <td>-1.087009</td>\n",
       "      <td>-0.612428</td>\n",
       "      <td>-0.113944</td>\n",
       "      <td>0.243608</td>\n",
       "    </tr>\n",
       "    <tr>\n",
       "      <th>3</th>\n",
       "      <td>0_7</td>\n",
       "      <td>0</td>\n",
       "      <td>7</td>\n",
       "      <td>-1.064780</td>\n",
       "      <td>-2.343535</td>\n",
       "      <td>-0.011870</td>\n",
       "      <td>1.874606</td>\n",
       "      <td>-0.606346</td>\n",
       "      <td>-0.586827</td>\n",
       "      <td>-0.815737</td>\n",
       "      <td>...</td>\n",
       "      <td>0.382201</td>\n",
       "      <td>0.912726</td>\n",
       "      <td>-0.266359</td>\n",
       "      <td>-1.220772</td>\n",
       "      <td>0.941183</td>\n",
       "      <td>-0.609113</td>\n",
       "      <td>0.104928</td>\n",
       "      <td>-0.783423</td>\n",
       "      <td>1.151730</td>\n",
       "      <td>-0.773309</td>\n",
       "    </tr>\n",
       "    <tr>\n",
       "      <th>4</th>\n",
       "      <td>0_8</td>\n",
       "      <td>0</td>\n",
       "      <td>8</td>\n",
       "      <td>-0.531940</td>\n",
       "      <td>0.842057</td>\n",
       "      <td>-0.262993</td>\n",
       "      <td>2.330030</td>\n",
       "      <td>-0.583422</td>\n",
       "      <td>-0.618392</td>\n",
       "      <td>-0.742814</td>\n",
       "      <td>...</td>\n",
       "      <td>-0.170365</td>\n",
       "      <td>0.912726</td>\n",
       "      <td>-0.741355</td>\n",
       "      <td>-1.220772</td>\n",
       "      <td>0.941183</td>\n",
       "      <td>-0.588445</td>\n",
       "      <td>0.104928</td>\n",
       "      <td>0.753279</td>\n",
       "      <td>1.345611</td>\n",
       "      <td>-0.737624</td>\n",
       "    </tr>\n",
       "  </tbody>\n",
       "</table>\n",
       "<p>5 rows × 304 columns</p>\n",
       "</div>"
      ],
      "text/plain": [
       "  row_id  time_id  investment_id    target       f_0       f_1       f_2  \\\n",
       "0    0_1        0              1 -0.300875  0.932573  0.113691 -0.402206   \n",
       "1    0_2        0              2 -0.231040  0.810802 -0.514115  0.742368   \n",
       "2    0_6        0              6  0.568807  0.393974  0.615937  0.567806   \n",
       "3    0_7        0              7 -1.064780 -2.343535 -0.011870  1.874606   \n",
       "4    0_8        0              8 -0.531940  0.842057 -0.262993  2.330030   \n",
       "\n",
       "        f_3       f_4       f_5  ...     f_290     f_291     f_292     f_293  \\\n",
       "0  0.378386 -0.203938 -0.413469  ...  0.366028 -1.095620  0.200075  0.819155   \n",
       "1 -0.616673 -0.194255  1.771210  ... -0.154193  0.912726 -0.734579  0.819155   \n",
       "2 -0.607963  0.068883 -1.083155  ... -0.138020  0.912726 -0.551904 -1.220772   \n",
       "3 -0.606346 -0.586827 -0.815737  ...  0.382201  0.912726 -0.266359 -1.220772   \n",
       "4 -0.583422 -0.618392 -0.742814  ... -0.170365  0.912726 -0.741355 -1.220772   \n",
       "\n",
       "      f_294     f_295     f_296     f_297     f_298     f_299  \n",
       "0  0.941183 -0.086764 -1.087009 -1.044826 -0.287605  0.321566  \n",
       "1  0.941183 -0.387617 -1.087009 -0.929529 -0.974060 -0.343624  \n",
       "2 -1.060166 -0.219097 -1.087009 -0.612428 -0.113944  0.243608  \n",
       "3  0.941183 -0.609113  0.104928 -0.783423  1.151730 -0.773309  \n",
       "4  0.941183 -0.588445  0.104928  0.753279  1.345611 -0.737624  \n",
       "\n",
       "[5 rows x 304 columns]"
      ]
     },
     "execution_count": 18,
     "metadata": {},
     "output_type": "execute_result"
    }
   ],
   "source": [
    "train_df.head()"
   ]
  },
  {
   "cell_type": "code",
   "execution_count": 19,
   "id": "ce7ebfac-cecf-4b2e-8759-d951575a31b1",
   "metadata": {},
   "outputs": [],
   "source": [
    "####### Filter out only Fold 1 data ###########"
   ]
  },
  {
   "cell_type": "code",
   "execution_count": 20,
   "id": "32c2c36e-7ee8-4327-890a-b79278aadd94",
   "metadata": {},
   "outputs": [],
   "source": [
    "with open('../input/folds.pickle', 'rb') as f:\n",
    "    folds = pickle.load(f)"
   ]
  },
  {
   "cell_type": "code",
   "execution_count": 21,
   "id": "5b7f1c13-cf74-4d18-9bc7-fe62c2dbc5eb",
   "metadata": {},
   "outputs": [],
   "source": [
    "train_indxs = folds[0]['train']\n",
    "test_indxs = folds[0]['test']"
   ]
  },
  {
   "cell_type": "code",
   "execution_count": 22,
   "id": "6f0f8f91-887c-4dd5-af2b-e81fdf5f025f",
   "metadata": {},
   "outputs": [],
   "source": [
    "test_df = train_df[train_df.index.isin(test_indxs)].reset_index(drop=True)\n",
    "train_df = train_df[train_df.index.isin(train_indxs)].reset_index(drop=True)"
   ]
  },
  {
   "cell_type": "code",
   "execution_count": 23,
   "id": "14ad439a-50ef-4c9f-83fc-bcc274c30359",
   "metadata": {},
   "outputs": [
    {
     "data": {
      "text/plain": [
       "0"
      ]
     },
     "execution_count": 23,
     "metadata": {},
     "output_type": "execute_result"
    }
   ],
   "source": [
    "gc.collect()"
   ]
  },
  {
   "cell_type": "code",
   "execution_count": 24,
   "id": "353c45e1-7300-43ac-a657-ca7f20bf1b01",
   "metadata": {},
   "outputs": [
    {
     "name": "stdout",
     "output_type": "stream",
     "text": [
      "<class 'pandas.core.frame.DataFrame'>\n",
      "RangeIndex: 531075 entries, 0 to 531074\n",
      "Columns: 304 entries, row_id to f_299\n",
      "dtypes: float32(301), object(1), uint16(2)\n",
      "memory usage: 615.9+ MB\n"
     ]
    }
   ],
   "source": [
    "train_df.info()"
   ]
  },
  {
   "cell_type": "code",
   "execution_count": 25,
   "id": "f10bf7a3-3cab-471e-b8bf-843522da1fb8",
   "metadata": {},
   "outputs": [],
   "source": [
    "# train_df = train_df.sample(frac=0.2)"
   ]
  },
  {
   "cell_type": "code",
   "execution_count": 26,
   "id": "aecc7aa7-5083-45d4-b1ba-d84669783c82",
   "metadata": {},
   "outputs": [],
   "source": [
    "investment_ids = train_df.investment_id.unique().tolist()"
   ]
  },
  {
   "cell_type": "code",
   "execution_count": 27,
   "id": "40e5d59d-3bef-45d6-bed3-a279082f1ffc",
   "metadata": {},
   "outputs": [],
   "source": [
    "count_df = train_df.groupby('investment_id',as_index=False).agg(c = ('time_id', len))"
   ]
  },
  {
   "cell_type": "code",
   "execution_count": 28,
   "id": "f3fba66e-0e45-4a54-8830-8c1a2f015635",
   "metadata": {},
   "outputs": [
    {
     "data": {
      "text/plain": [
       "count    3577.000000\n",
       "mean      148.469388\n",
       "std        52.384007\n",
       "min         2.000000\n",
       "25%       116.000000\n",
       "50%       170.000000\n",
       "75%       191.000000\n",
       "max       206.000000\n",
       "Name: c, dtype: float64"
      ]
     },
     "execution_count": 28,
     "metadata": {},
     "output_type": "execute_result"
    }
   ],
   "source": [
    "count_df.c.describe()"
   ]
  },
  {
   "cell_type": "code",
   "execution_count": 29,
   "id": "fea79903-85ae-4199-86e1-301a74d69f85",
   "metadata": {},
   "outputs": [],
   "source": [
    "to_exclude_ids = count_df[count_df.c<input_chunk_length+2].investment_id.unique().tolist()"
   ]
  },
  {
   "cell_type": "code",
   "execution_count": 30,
   "id": "3fe4ad28-3af4-4645-b8bb-27b242de9347",
   "metadata": {},
   "outputs": [
    {
     "data": {
      "text/plain": [
       "(531075, 304)"
      ]
     },
     "execution_count": 30,
     "metadata": {},
     "output_type": "execute_result"
    }
   ],
   "source": [
    "train_df.shape"
   ]
  },
  {
   "cell_type": "code",
   "execution_count": 31,
   "id": "d3ba9546-3e02-43ef-8a5c-45bbc757983a",
   "metadata": {},
   "outputs": [],
   "source": [
    "#### past covariates will be features #####"
   ]
  },
  {
   "cell_type": "markdown",
   "id": "51bee626-4abd-48bd-8535-85b94943aadd",
   "metadata": {},
   "source": [
    "##### Target and past covariates for each timeseries ######"
   ]
  },
  {
   "cell_type": "code",
   "execution_count": 32,
   "id": "e5a5e7fb-6850-4b37-a9f7-2219491b53aa",
   "metadata": {},
   "outputs": [],
   "source": [
    "data_dict = {}"
   ]
  },
  {
   "cell_type": "code",
   "execution_count": 33,
   "id": "4abd70fc-0e19-4b47-b37a-a9372b2d1217",
   "metadata": {},
   "outputs": [],
   "source": [
    "def create_data_dict():\n",
    "    for investment_id in investment_ids:\n",
    "        if investment_id not in to_exclude_ids:\n",
    "            df = train_df[train_df.investment_id == investment_id]\n",
    "\n",
    "            data_dict[str(investment_id)] = {}\n",
    "            data_dict[str(investment_id)]['targets'] = TimeSeries.from_dataframe(df,time_col = 'time_id', value_cols = 'target')\n",
    "            data_dict[str(investment_id)]['past_covariates'] = TimeSeries.from_dataframe(df,time_col = 'time_id', value_cols = features)\n",
    "        \n",
    "    return"
   ]
  },
  {
   "cell_type": "code",
   "execution_count": 34,
   "id": "10373343-f8a6-4a38-bbbd-1fe1a80092f1",
   "metadata": {},
   "outputs": [
    {
     "name": "stdout",
     "output_type": "stream",
     "text": [
      "CPU times: user 9.43 s, sys: 37.9 ms, total: 9.47 s\n",
      "Wall time: 9.47 s\n"
     ]
    }
   ],
   "source": [
    "%%time\n",
    "create_data_dict()"
   ]
  },
  {
   "cell_type": "markdown",
   "id": "b808f08b-0824-4cb6-95d9-6972c9ecdd15",
   "metadata": {},
   "source": [
    "### Model ####"
   ]
  },
  {
   "cell_type": "code",
   "execution_count": 35,
   "id": "cdfbac96-5e0c-467a-8a82-397fd73e848a",
   "metadata": {},
   "outputs": [],
   "source": [
    "model = NBEATSModel(input_chunk_length=input_chunk_length, \n",
    "                             output_chunk_length=output_chunk_length)"
   ]
  },
  {
   "cell_type": "code",
   "execution_count": 36,
   "id": "252f2190-6de4-499d-8816-3c9f11e56762",
   "metadata": {},
   "outputs": [],
   "source": [
    "train_series = [data_dict[k]['targets'] for k in data_dict.keys()]"
   ]
  },
  {
   "cell_type": "code",
   "execution_count": 37,
   "id": "2b7ddb1e-b571-4d28-8340-49af67311327",
   "metadata": {},
   "outputs": [],
   "source": [
    "train_past_covariates_series = [data_dict[k]['past_covariates'] for k in data_dict.keys()]"
   ]
  },
  {
   "cell_type": "code",
   "execution_count": 38,
   "id": "04997664-c4be-44e8-aa76-30280e5765f7",
   "metadata": {},
   "outputs": [
    {
     "data": {
      "text/plain": [
       "0"
      ]
     },
     "execution_count": 38,
     "metadata": {},
     "output_type": "execute_result"
    }
   ],
   "source": [
    "gc.collect()"
   ]
  },
  {
   "cell_type": "code",
   "execution_count": 39,
   "id": "08d037b8-e500-408b-b20e-350d4aec6433",
   "metadata": {},
   "outputs": [
    {
     "name": "stderr",
     "output_type": "stream",
     "text": [
      "[2022-01-31 00:35:47,963] INFO | darts.models.forecasting.torch_forecasting_model | Train dataset contains 1710 samples.\n",
      "[2022-01-31 00:35:47,963] INFO | darts.models.forecasting.torch_forecasting_model | Train dataset contains 1710 samples.\n",
      "[2022-01-31 00:35:48,326] INFO | darts.models.forecasting.torch_forecasting_model | Time series values are 32-bits; casting model to float32.\n",
      "[2022-01-31 00:35:48,326] INFO | darts.models.forecasting.torch_forecasting_model | Time series values are 32-bits; casting model to float32.\n"
     ]
    },
    {
     "data": {
      "application/vnd.jupyter.widget-view+json": {
       "model_id": "8472e9b73bbc4edfa73f59d5f7ebb7c5",
       "version_major": 2,
       "version_minor": 0
      },
      "text/plain": [
       "  0%|          | 0/5 [00:00<?, ?it/s]"
      ]
     },
     "metadata": {},
     "output_type": "display_data"
    },
    {
     "name": "stdout",
     "output_type": "stream",
     "text": [
      "Training loss: 15.5312\r"
     ]
    }
   ],
   "source": [
    "model.fit(train_series[:10],past_covariates=train_past_covariates_series[:10], \n",
    "                 epochs=5, \n",
    "                 verbose=True)"
   ]
  },
  {
   "cell_type": "markdown",
   "id": "8bd60443-830a-4378-98a3-f30353f3a0b0",
   "metadata": {},
   "source": [
    "### Inference #####"
   ]
  },
  {
   "cell_type": "code",
   "execution_count": 40,
   "id": "aa6ded13-3159-4b72-a5c6-657433d350dd",
   "metadata": {},
   "outputs": [
    {
     "data": {
      "text/html": [
       "<div>\n",
       "<style scoped>\n",
       "    .dataframe tbody tr th:only-of-type {\n",
       "        vertical-align: middle;\n",
       "    }\n",
       "\n",
       "    .dataframe tbody tr th {\n",
       "        vertical-align: top;\n",
       "    }\n",
       "\n",
       "    .dataframe thead th {\n",
       "        text-align: right;\n",
       "    }\n",
       "</style>\n",
       "<table border=\"1\" class=\"dataframe\">\n",
       "  <thead>\n",
       "    <tr style=\"text-align: right;\">\n",
       "      <th></th>\n",
       "      <th>row_id</th>\n",
       "      <th>time_id</th>\n",
       "      <th>investment_id</th>\n",
       "      <th>target</th>\n",
       "      <th>f_0</th>\n",
       "      <th>f_1</th>\n",
       "      <th>f_2</th>\n",
       "      <th>f_3</th>\n",
       "      <th>f_4</th>\n",
       "      <th>f_5</th>\n",
       "      <th>...</th>\n",
       "      <th>f_290</th>\n",
       "      <th>f_291</th>\n",
       "      <th>f_292</th>\n",
       "      <th>f_293</th>\n",
       "      <th>f_294</th>\n",
       "      <th>f_295</th>\n",
       "      <th>f_296</th>\n",
       "      <th>f_297</th>\n",
       "      <th>f_298</th>\n",
       "      <th>f_299</th>\n",
       "    </tr>\n",
       "  </thead>\n",
       "  <tbody>\n",
       "    <tr>\n",
       "      <th>0</th>\n",
       "      <td>13_168</td>\n",
       "      <td>13</td>\n",
       "      <td>168</td>\n",
       "      <td>-0.069346</td>\n",
       "      <td>0.471798</td>\n",
       "      <td>-1.888772</td>\n",
       "      <td>1.528517</td>\n",
       "      <td>-0.498815</td>\n",
       "      <td>-0.565286</td>\n",
       "      <td>0.787917</td>\n",
       "      <td>...</td>\n",
       "      <td>1.401624</td>\n",
       "      <td>1.529582</td>\n",
       "      <td>0.048327</td>\n",
       "      <td>-0.831065</td>\n",
       "      <td>0.854191</td>\n",
       "      <td>-0.617494</td>\n",
       "      <td>-1.367622</td>\n",
       "      <td>-0.002489</td>\n",
       "      <td>1.055625</td>\n",
       "      <td>-0.710585</td>\n",
       "    </tr>\n",
       "    <tr>\n",
       "      <th>1</th>\n",
       "      <td>14_168</td>\n",
       "      <td>14</td>\n",
       "      <td>168</td>\n",
       "      <td>-0.229911</td>\n",
       "      <td>0.214289</td>\n",
       "      <td>-1.990782</td>\n",
       "      <td>1.544363</td>\n",
       "      <td>-0.511079</td>\n",
       "      <td>-0.569731</td>\n",
       "      <td>0.443899</td>\n",
       "      <td>...</td>\n",
       "      <td>0.302519</td>\n",
       "      <td>-0.848933</td>\n",
       "      <td>0.341934</td>\n",
       "      <td>-1.440869</td>\n",
       "      <td>-0.938487</td>\n",
       "      <td>-0.441435</td>\n",
       "      <td>1.106537</td>\n",
       "      <td>-0.535386</td>\n",
       "      <td>0.779353</td>\n",
       "      <td>-0.729012</td>\n",
       "    </tr>\n",
       "    <tr>\n",
       "      <th>2</th>\n",
       "      <td>15_168</td>\n",
       "      <td>15</td>\n",
       "      <td>168</td>\n",
       "      <td>-0.198795</td>\n",
       "      <td>-0.363923</td>\n",
       "      <td>-2.102880</td>\n",
       "      <td>1.597715</td>\n",
       "      <td>-0.568584</td>\n",
       "      <td>-0.565837</td>\n",
       "      <td>0.473172</td>\n",
       "      <td>...</td>\n",
       "      <td>-0.472090</td>\n",
       "      <td>0.446282</td>\n",
       "      <td>-0.653184</td>\n",
       "      <td>-1.878950</td>\n",
       "      <td>0.409130</td>\n",
       "      <td>-0.419934</td>\n",
       "      <td>0.698586</td>\n",
       "      <td>0.295534</td>\n",
       "      <td>0.775944</td>\n",
       "      <td>-0.746361</td>\n",
       "    </tr>\n",
       "    <tr>\n",
       "      <th>3</th>\n",
       "      <td>16_168</td>\n",
       "      <td>16</td>\n",
       "      <td>168</td>\n",
       "      <td>0.006404</td>\n",
       "      <td>0.014698</td>\n",
       "      <td>-1.890795</td>\n",
       "      <td>1.606887</td>\n",
       "      <td>-0.616617</td>\n",
       "      <td>-0.561555</td>\n",
       "      <td>0.557014</td>\n",
       "      <td>...</td>\n",
       "      <td>0.086683</td>\n",
       "      <td>0.555996</td>\n",
       "      <td>-0.730524</td>\n",
       "      <td>0.678793</td>\n",
       "      <td>-0.881622</td>\n",
       "      <td>-0.578475</td>\n",
       "      <td>-0.249035</td>\n",
       "      <td>0.031241</td>\n",
       "      <td>1.019552</td>\n",
       "      <td>-0.730968</td>\n",
       "    </tr>\n",
       "    <tr>\n",
       "      <th>4</th>\n",
       "      <td>17_168</td>\n",
       "      <td>17</td>\n",
       "      <td>168</td>\n",
       "      <td>0.163887</td>\n",
       "      <td>0.220540</td>\n",
       "      <td>-1.846194</td>\n",
       "      <td>1.694260</td>\n",
       "      <td>-0.651389</td>\n",
       "      <td>-0.557331</td>\n",
       "      <td>0.627228</td>\n",
       "      <td>...</td>\n",
       "      <td>-1.062184</td>\n",
       "      <td>0.514449</td>\n",
       "      <td>-0.662535</td>\n",
       "      <td>0.523865</td>\n",
       "      <td>0.740017</td>\n",
       "      <td>-0.561478</td>\n",
       "      <td>1.117373</td>\n",
       "      <td>0.063991</td>\n",
       "      <td>0.904364</td>\n",
       "      <td>-0.735987</td>\n",
       "    </tr>\n",
       "    <tr>\n",
       "      <th>...</th>\n",
       "      <td>...</td>\n",
       "      <td>...</td>\n",
       "      <td>...</td>\n",
       "      <td>...</td>\n",
       "      <td>...</td>\n",
       "      <td>...</td>\n",
       "      <td>...</td>\n",
       "      <td>...</td>\n",
       "      <td>...</td>\n",
       "      <td>...</td>\n",
       "      <td>...</td>\n",
       "      <td>...</td>\n",
       "      <td>...</td>\n",
       "      <td>...</td>\n",
       "      <td>...</td>\n",
       "      <td>...</td>\n",
       "      <td>...</td>\n",
       "      <td>...</td>\n",
       "      <td>...</td>\n",
       "      <td>...</td>\n",
       "      <td>...</td>\n",
       "    </tr>\n",
       "    <tr>\n",
       "      <th>522061</th>\n",
       "      <td>1211_890</td>\n",
       "      <td>1211</td>\n",
       "      <td>890</td>\n",
       "      <td>-0.208120</td>\n",
       "      <td>0.188757</td>\n",
       "      <td>0.042285</td>\n",
       "      <td>0.000000</td>\n",
       "      <td>1.583300</td>\n",
       "      <td>-0.176820</td>\n",
       "      <td>-0.761516</td>\n",
       "      <td>...</td>\n",
       "      <td>-0.144227</td>\n",
       "      <td>-0.776686</td>\n",
       "      <td>-1.242701</td>\n",
       "      <td>0.165202</td>\n",
       "      <td>-0.676523</td>\n",
       "      <td>-0.626533</td>\n",
       "      <td>0.714443</td>\n",
       "      <td>-0.373408</td>\n",
       "      <td>-1.984618</td>\n",
       "      <td>-0.414150</td>\n",
       "    </tr>\n",
       "    <tr>\n",
       "      <th>522062</th>\n",
       "      <td>1215_85</td>\n",
       "      <td>1215</td>\n",
       "      <td>85</td>\n",
       "      <td>-3.547906</td>\n",
       "      <td>-1.853507</td>\n",
       "      <td>1.620525</td>\n",
       "      <td>0.000000</td>\n",
       "      <td>10.258781</td>\n",
       "      <td>0.244644</td>\n",
       "      <td>-0.110384</td>\n",
       "      <td>...</td>\n",
       "      <td>-2.165493</td>\n",
       "      <td>-0.694756</td>\n",
       "      <td>1.247323</td>\n",
       "      <td>0.769126</td>\n",
       "      <td>0.966756</td>\n",
       "      <td>2.331125</td>\n",
       "      <td>-1.303493</td>\n",
       "      <td>1.633453</td>\n",
       "      <td>2.820497</td>\n",
       "      <td>2.505889</td>\n",
       "    </tr>\n",
       "    <tr>\n",
       "      <th>522063</th>\n",
       "      <td>1215_905</td>\n",
       "      <td>1215</td>\n",
       "      <td>905</td>\n",
       "      <td>-1.416078</td>\n",
       "      <td>0.559272</td>\n",
       "      <td>0.318800</td>\n",
       "      <td>0.000000</td>\n",
       "      <td>3.273175</td>\n",
       "      <td>0.761414</td>\n",
       "      <td>1.991194</td>\n",
       "      <td>...</td>\n",
       "      <td>-0.979614</td>\n",
       "      <td>-0.694756</td>\n",
       "      <td>-0.071421</td>\n",
       "      <td>0.769126</td>\n",
       "      <td>0.966756</td>\n",
       "      <td>2.679727</td>\n",
       "      <td>1.138049</td>\n",
       "      <td>-0.651654</td>\n",
       "      <td>0.000000</td>\n",
       "      <td>5.052356</td>\n",
       "    </tr>\n",
       "    <tr>\n",
       "      <th>522064</th>\n",
       "      <td>1215_2558</td>\n",
       "      <td>1215</td>\n",
       "      <td>2558</td>\n",
       "      <td>-1.296170</td>\n",
       "      <td>0.747612</td>\n",
       "      <td>0.029528</td>\n",
       "      <td>0.000000</td>\n",
       "      <td>-0.278775</td>\n",
       "      <td>1.447511</td>\n",
       "      <td>-1.339483</td>\n",
       "      <td>...</td>\n",
       "      <td>1.316046</td>\n",
       "      <td>-0.694756</td>\n",
       "      <td>-0.514473</td>\n",
       "      <td>-1.300175</td>\n",
       "      <td>0.966756</td>\n",
       "      <td>1.476327</td>\n",
       "      <td>1.138049</td>\n",
       "      <td>-0.391025</td>\n",
       "      <td>0.000000</td>\n",
       "      <td>2.544184</td>\n",
       "    </tr>\n",
       "    <tr>\n",
       "      <th>522065</th>\n",
       "      <td>1215_3662</td>\n",
       "      <td>1215</td>\n",
       "      <td>3662</td>\n",
       "      <td>-1.066624</td>\n",
       "      <td>0.428246</td>\n",
       "      <td>2.632978</td>\n",
       "      <td>0.000000</td>\n",
       "      <td>11.470883</td>\n",
       "      <td>1.625636</td>\n",
       "      <td>0.439476</td>\n",
       "      <td>...</td>\n",
       "      <td>0.206264</td>\n",
       "      <td>-0.694756</td>\n",
       "      <td>2.791611</td>\n",
       "      <td>0.769126</td>\n",
       "      <td>0.966756</td>\n",
       "      <td>5.973172</td>\n",
       "      <td>-1.303493</td>\n",
       "      <td>-0.899450</td>\n",
       "      <td>0.000000</td>\n",
       "      <td>-0.734868</td>\n",
       "    </tr>\n",
       "  </tbody>\n",
       "</table>\n",
       "<p>522066 rows × 304 columns</p>\n",
       "</div>"
      ],
      "text/plain": [
       "           row_id  time_id  investment_id    target       f_0       f_1  \\\n",
       "0          13_168       13            168 -0.069346  0.471798 -1.888772   \n",
       "1          14_168       14            168 -0.229911  0.214289 -1.990782   \n",
       "2          15_168       15            168 -0.198795 -0.363923 -2.102880   \n",
       "3          16_168       16            168  0.006404  0.014698 -1.890795   \n",
       "4          17_168       17            168  0.163887  0.220540 -1.846194   \n",
       "...           ...      ...            ...       ...       ...       ...   \n",
       "522061   1211_890     1211            890 -0.208120  0.188757  0.042285   \n",
       "522062    1215_85     1215             85 -3.547906 -1.853507  1.620525   \n",
       "522063   1215_905     1215            905 -1.416078  0.559272  0.318800   \n",
       "522064  1215_2558     1215           2558 -1.296170  0.747612  0.029528   \n",
       "522065  1215_3662     1215           3662 -1.066624  0.428246  2.632978   \n",
       "\n",
       "             f_2        f_3       f_4       f_5  ...     f_290     f_291  \\\n",
       "0       1.528517  -0.498815 -0.565286  0.787917  ...  1.401624  1.529582   \n",
       "1       1.544363  -0.511079 -0.569731  0.443899  ...  0.302519 -0.848933   \n",
       "2       1.597715  -0.568584 -0.565837  0.473172  ... -0.472090  0.446282   \n",
       "3       1.606887  -0.616617 -0.561555  0.557014  ...  0.086683  0.555996   \n",
       "4       1.694260  -0.651389 -0.557331  0.627228  ... -1.062184  0.514449   \n",
       "...          ...        ...       ...       ...  ...       ...       ...   \n",
       "522061  0.000000   1.583300 -0.176820 -0.761516  ... -0.144227 -0.776686   \n",
       "522062  0.000000  10.258781  0.244644 -0.110384  ... -2.165493 -0.694756   \n",
       "522063  0.000000   3.273175  0.761414  1.991194  ... -0.979614 -0.694756   \n",
       "522064  0.000000  -0.278775  1.447511 -1.339483  ...  1.316046 -0.694756   \n",
       "522065  0.000000  11.470883  1.625636  0.439476  ...  0.206264 -0.694756   \n",
       "\n",
       "           f_292     f_293     f_294     f_295     f_296     f_297     f_298  \\\n",
       "0       0.048327 -0.831065  0.854191 -0.617494 -1.367622 -0.002489  1.055625   \n",
       "1       0.341934 -1.440869 -0.938487 -0.441435  1.106537 -0.535386  0.779353   \n",
       "2      -0.653184 -1.878950  0.409130 -0.419934  0.698586  0.295534  0.775944   \n",
       "3      -0.730524  0.678793 -0.881622 -0.578475 -0.249035  0.031241  1.019552   \n",
       "4      -0.662535  0.523865  0.740017 -0.561478  1.117373  0.063991  0.904364   \n",
       "...          ...       ...       ...       ...       ...       ...       ...   \n",
       "522061 -1.242701  0.165202 -0.676523 -0.626533  0.714443 -0.373408 -1.984618   \n",
       "522062  1.247323  0.769126  0.966756  2.331125 -1.303493  1.633453  2.820497   \n",
       "522063 -0.071421  0.769126  0.966756  2.679727  1.138049 -0.651654  0.000000   \n",
       "522064 -0.514473 -1.300175  0.966756  1.476327  1.138049 -0.391025  0.000000   \n",
       "522065  2.791611  0.769126  0.966756  5.973172 -1.303493 -0.899450  0.000000   \n",
       "\n",
       "           f_299  \n",
       "0      -0.710585  \n",
       "1      -0.729012  \n",
       "2      -0.746361  \n",
       "3      -0.730968  \n",
       "4      -0.735987  \n",
       "...          ...  \n",
       "522061 -0.414150  \n",
       "522062  2.505889  \n",
       "522063  5.052356  \n",
       "522064  2.544184  \n",
       "522065 -0.734868  \n",
       "\n",
       "[522066 rows x 304 columns]"
      ]
     },
     "execution_count": 40,
     "metadata": {},
     "output_type": "execute_result"
    }
   ],
   "source": [
    "test_df"
   ]
  },
  {
   "cell_type": "code",
   "execution_count": null,
   "id": "53d1b51a-363a-4553-a1fd-e629384e333e",
   "metadata": {},
   "outputs": [],
   "source": []
  }
 ],
 "metadata": {
  "kernelspec": {
   "display_name": "Python 3 (ipykernel)",
   "language": "python",
   "name": "python3"
  },
  "language_info": {
   "codemirror_mode": {
    "name": "ipython",
    "version": 3
   },
   "file_extension": ".py",
   "mimetype": "text/x-python",
   "name": "python",
   "nbconvert_exporter": "python",
   "pygments_lexer": "ipython3",
   "version": "3.8.10"
  }
 },
 "nbformat": 4,
 "nbformat_minor": 5
}
