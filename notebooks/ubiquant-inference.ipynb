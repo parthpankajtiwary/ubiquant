{
 "cells": [
  {
   "cell_type": "code",
   "execution_count": 1,
   "id": "226f9e1c",
   "metadata": {
    "_cell_guid": "b1076dfc-b9ad-4769-8c92-a6c4dae69d19",
    "_uuid": "8f2839f25d086af736a60e9eeb907d3b93b6e0e5",
    "execution": {
     "iopub.execute_input": "2022-01-30T21:40:03.819057Z",
     "iopub.status.busy": "2022-01-30T21:40:03.817461Z",
     "iopub.status.idle": "2022-01-30T21:40:03.852471Z",
     "shell.execute_reply": "2022-01-30T21:40:03.852912Z",
     "shell.execute_reply.started": "2022-01-30T21:37:27.359111Z"
    },
    "papermill": {
     "duration": 0.046307,
     "end_time": "2022-01-30T21:40:03.853164",
     "exception": false,
     "start_time": "2022-01-30T21:40:03.806857",
     "status": "completed"
    },
    "tags": []
   },
   "outputs": [],
   "source": [
    "import ubiquant"
   ]
  },
  {
   "cell_type": "code",
   "execution_count": 2,
   "id": "46684ad8",
   "metadata": {
    "execution": {
     "iopub.execute_input": "2022-01-30T21:40:03.869819Z",
     "iopub.status.busy": "2022-01-30T21:40:03.868823Z",
     "iopub.status.idle": "2022-01-30T21:40:11.899853Z",
     "shell.execute_reply": "2022-01-30T21:40:11.899298Z",
     "shell.execute_reply.started": "2022-01-30T21:37:27.381594Z"
    },
    "papermill": {
     "duration": 8.040436,
     "end_time": "2022-01-30T21:40:11.900003",
     "exception": false,
     "start_time": "2022-01-30T21:40:03.859567",
     "status": "completed"
    },
    "tags": []
   },
   "outputs": [],
   "source": [
    "import torch\n",
    "import torch.optim as optim\n",
    "import torch.nn as nn\n",
    "from torch.utils.data import Dataset, DataLoader\n",
    "import pytorch_lightning as pl\n",
    "from pytorch_lightning import Trainer\n",
    "from pytorch_lightning.callbacks import ModelCheckpoint\n",
    "from typing import List"
   ]
  },
  {
   "cell_type": "code",
   "execution_count": 3,
   "id": "94b0391b",
   "metadata": {
    "execution": {
     "iopub.execute_input": "2022-01-30T21:40:11.916541Z",
     "iopub.status.busy": "2022-01-30T21:40:11.915756Z",
     "iopub.status.idle": "2022-01-30T21:40:11.918212Z",
     "shell.execute_reply": "2022-01-30T21:40:11.917783Z",
     "shell.execute_reply.started": "2022-01-30T21:37:30.410959Z"
    },
    "papermill": {
     "duration": 0.012377,
     "end_time": "2022-01-30T21:40:11.918325",
     "exception": false,
     "start_time": "2022-01-30T21:40:11.905948",
     "status": "completed"
    },
    "tags": []
   },
   "outputs": [],
   "source": [
    "env = ubiquant.make_env()  \n",
    "iter_test = env.iter_test()"
   ]
  },
  {
   "cell_type": "code",
   "execution_count": 4,
   "id": "0039514e",
   "metadata": {
    "execution": {
     "iopub.execute_input": "2022-01-30T21:40:11.946305Z",
     "iopub.status.busy": "2022-01-30T21:40:11.931725Z",
     "iopub.status.idle": "2022-01-30T21:40:11.948519Z",
     "shell.execute_reply": "2022-01-30T21:40:11.948091Z",
     "shell.execute_reply.started": "2022-01-30T21:37:30.419449Z"
    },
    "papermill": {
     "duration": 0.024653,
     "end_time": "2022-01-30T21:40:11.948617",
     "exception": false,
     "start_time": "2022-01-30T21:40:11.923964",
     "status": "completed"
    },
    "tags": []
   },
   "outputs": [],
   "source": [
    "class Net(nn.Module):\n",
    "    def __init__(self,\n",
    "                 dropout_mlp: float,\n",
    "                 dropout_emb: float,\n",
    "                 output_dims: List[int],\n",
    "                 cat_dims: List[int],\n",
    "                 emb_output: int,\n",
    "                 categorical=False):\n",
    "\n",
    "        super().__init__()\n",
    "        self.categorical = categorical\n",
    "        mlp_layers: List[nn.Module] = []\n",
    "        input_dim: int = 300\n",
    "\n",
    "        if categorical:\n",
    "            cat_input_dim: int = 3774\n",
    "            emb_layers: List[nn.Module] = [nn.Embedding(cat_input_dim, emb_output)]\n",
    "            cat_input_dim = emb_output\n",
    "            for cat_output_dim in cat_dims:\n",
    "                emb_layers.append(nn.Linear(cat_input_dim, cat_output_dim))\n",
    "                emb_layers.append(nn.ReLU())\n",
    "                emb_layers.append(nn.Dropout(dropout_emb))\n",
    "                cat_input_dim = cat_output_dim\n",
    "\n",
    "            input_dim += cat_output_dim\n",
    "\n",
    "            for output_dim in output_dims:\n",
    "                mlp_layers.append(nn.Linear(input_dim, output_dim))\n",
    "                mlp_layers.append(nn.ReLU())\n",
    "                mlp_layers.append(nn.Dropout(dropout_mlp))\n",
    "                input_dim = output_dim\n",
    "        else:\n",
    "            for output_dim in output_dims:\n",
    "                mlp_layers.append(nn.Linear(input_dim, output_dim))\n",
    "                mlp_layers.append(nn.ReLU())\n",
    "                mlp_layers.append(nn.Dropout(dropout_mlp))\n",
    "                input_dim = output_dim\n",
    "\n",
    "        mlp_layers.append(nn.Linear(input_dim, 1))\n",
    "\n",
    "        if self.categorical:\n",
    "            self.emb_nn: nn.Module = nn.Sequential(*emb_layers)\n",
    "        self.mlp_nn: nn.Module = nn.Sequential(*mlp_layers)\n",
    "\n",
    "    def forward(self, x_cont, x_cat):\n",
    "        if self.categorical:\n",
    "            x_cat = self.emb_nn(x_cat)\n",
    "            concat = torch.cat([x_cat, x_cont], 1)\n",
    "            output = self.mlp_nn(concat)\n",
    "        else:\n",
    "            output = self.mlp_nn(x_cont)\n",
    "        return output\n",
    "\n",
    "\n",
    "class UbiquantModel(pl.LightningModule):\n",
    "    def __init__(self,\n",
    "                 dropout_mlp: float,\n",
    "                 dropout_emb: float,\n",
    "                 output_dims: List[int],\n",
    "                 emb_dims: List[int],\n",
    "                 emb_output: int,\n",
    "                 l_rate: float,\n",
    "                 categorical: bool):\n",
    "        super().__init__()\n",
    "        self.model = Net(dropout_mlp,\n",
    "                         dropout_emb,\n",
    "                         output_dims,\n",
    "                         emb_dims,\n",
    "                         emb_output,\n",
    "                         categorical=categorical)\n",
    "        self.l_rate = l_rate\n",
    "        self.categorical = categorical\n",
    "\n",
    "    def forward(self, x_cont, x_cat):\n",
    "        return self.model(x_cont, x_cat)\n",
    "\n",
    "    def training_step(self, batch, batch_idx):\n",
    "        if self.categorical:\n",
    "            x_cont, x_cat, y = batch\n",
    "            logits = self.forward(x_cont, x_cat)\n",
    "        else:\n",
    "            x_cont, _, y = batch\n",
    "            logits = self.forward(x_cont, [])\n",
    "        loss = pearson_loss(logits, y)\n",
    "        logs = {'loss': loss}\n",
    "        return {'loss': loss, 'log': logs}"
   ]
  },
  {
   "cell_type": "code",
   "execution_count": 5,
   "id": "3aee5023",
   "metadata": {
    "execution": {
     "iopub.execute_input": "2022-01-30T21:40:11.964389Z",
     "iopub.status.busy": "2022-01-30T21:40:11.963756Z",
     "iopub.status.idle": "2022-01-30T21:40:12.134265Z",
     "shell.execute_reply": "2022-01-30T21:40:12.133718Z",
     "shell.execute_reply.started": "2022-01-30T21:37:30.439357Z"
    },
    "papermill": {
     "duration": 0.180082,
     "end_time": "2022-01-30T21:40:12.134376",
     "exception": false,
     "start_time": "2022-01-30T21:40:11.954294",
     "status": "completed"
    },
    "tags": []
   },
   "outputs": [],
   "source": [
    "model = UbiquantModel.load_from_checkpoint('../input/ubiquantmodels/fold-4-ubiquant-mlp-epoch14-val_loss0.00.ckpt',\n",
    "                                           dropout_mlp=0.4217199217221381,\n",
    "                                           dropout_emb=0.4250209544891712,\n",
    "                                           output_dims=[508, 405],\n",
    "                                           emb_dims=[245, 238, 230],\n",
    "                                           emb_output=56,\n",
    "                                           l_rate=0.00026840511349794486,\n",
    "                                           categorical=False)"
   ]
  },
  {
   "cell_type": "code",
   "execution_count": 6,
   "id": "95239aa2",
   "metadata": {
    "execution": {
     "iopub.execute_input": "2022-01-30T21:40:12.149157Z",
     "iopub.status.busy": "2022-01-30T21:40:12.148337Z",
     "iopub.status.idle": "2022-01-30T21:40:12.155614Z",
     "shell.execute_reply": "2022-01-30T21:40:12.156079Z",
     "shell.execute_reply.started": "2022-01-30T21:37:30.465497Z"
    },
    "papermill": {
     "duration": 0.015659,
     "end_time": "2022-01-30T21:40:12.156199",
     "exception": false,
     "start_time": "2022-01-30T21:40:12.140540",
     "status": "completed"
    },
    "tags": []
   },
   "outputs": [
    {
     "data": {
      "text/plain": [
       "UbiquantModel(\n",
       "  (model): Net(\n",
       "    (mlp_nn): Sequential(\n",
       "      (0): Linear(in_features=300, out_features=508, bias=True)\n",
       "      (1): ReLU()\n",
       "      (2): Dropout(p=0.4217199217221381, inplace=False)\n",
       "      (3): Linear(in_features=508, out_features=405, bias=True)\n",
       "      (4): ReLU()\n",
       "      (5): Dropout(p=0.4217199217221381, inplace=False)\n",
       "      (6): Linear(in_features=405, out_features=1, bias=True)\n",
       "    )\n",
       "  )\n",
       ")"
      ]
     },
     "execution_count": 6,
     "metadata": {},
     "output_type": "execute_result"
    }
   ],
   "source": [
    "model.eval()"
   ]
  },
  {
   "cell_type": "code",
   "execution_count": 7,
   "id": "ce7518b5",
   "metadata": {
    "execution": {
     "iopub.execute_input": "2022-01-30T21:40:12.171206Z",
     "iopub.status.busy": "2022-01-30T21:40:12.170387Z",
     "iopub.status.idle": "2022-01-30T21:40:12.312945Z",
     "shell.execute_reply": "2022-01-30T21:40:12.312517Z",
     "shell.execute_reply.started": "2022-01-30T21:37:32.963113Z"
    },
    "papermill": {
     "duration": 0.150692,
     "end_time": "2022-01-30T21:40:12.313096",
     "exception": false,
     "start_time": "2022-01-30T21:40:12.162404",
     "status": "completed"
    },
    "tags": []
   },
   "outputs": [
    {
     "name": "stdout",
     "output_type": "stream",
     "text": [
      "This version of the API is not optimized and should not be used to estimate the runtime of your code on the hidden test set.\n"
     ]
    }
   ],
   "source": [
    "for (test_df, sub_df) in iter_test:\n",
    "    data = test_df.drop(['row_id', 'investment_id'], axis=1).values\n",
    "    data = torch.tensor(data).float()\n",
    "    with torch.no_grad():\n",
    "        preds = model.forward(data, [])\n",
    "    sub_df['target'] = preds.view(-1).cpu().numpy()\n",
    "    env.predict(sub_df) "
   ]
  }
 ],
 "metadata": {
  "kernelspec": {
   "display_name": "Python 3",
   "language": "python",
   "name": "python3"
  },
  "language_info": {
   "codemirror_mode": {
    "name": "ipython",
    "version": 3
   },
   "file_extension": ".py",
   "mimetype": "text/x-python",
   "name": "python",
   "nbconvert_exporter": "python",
   "pygments_lexer": "ipython3",
   "version": "3.7.12"
  },
  "papermill": {
   "default_parameters": {},
   "duration": 19.429744,
   "end_time": "2022-01-30T21:40:15.206465",
   "environment_variables": {},
   "exception": null,
   "input_path": "__notebook__.ipynb",
   "output_path": "__notebook__.ipynb",
   "parameters": {},
   "start_time": "2022-01-30T21:39:55.776721",
   "version": "2.3.3"
  }
 },
 "nbformat": 4,
 "nbformat_minor": 5
}
