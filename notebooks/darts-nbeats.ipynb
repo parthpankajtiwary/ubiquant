{
 "cells": [
  {
   "cell_type": "code",
   "execution_count": 1,
   "metadata": {
    "ExecuteTime": {
     "end_time": "2022-01-26T20:09:41.821649Z",
     "start_time": "2022-01-26T20:09:41.583503Z"
    },
    "execution": {
     "iopub.execute_input": "2022-01-25T23:06:22.645064Z",
     "iopub.status.busy": "2022-01-25T23:06:22.644689Z",
     "iopub.status.idle": "2022-01-25T23:06:22.650478Z",
     "shell.execute_reply": "2022-01-25T23:06:22.649773Z",
     "shell.execute_reply.started": "2022-01-25T23:06:22.645020Z"
    }
   },
   "outputs": [],
   "source": [
    "import pandas as pd"
   ]
  },
  {
   "cell_type": "code",
   "execution_count": 2,
   "metadata": {
    "ExecuteTime": {
     "end_time": "2022-01-26T20:09:42.373822Z",
     "start_time": "2022-01-26T20:09:42.369662Z"
    },
    "execution": {
     "iopub.execute_input": "2022-01-25T23:06:22.652397Z",
     "iopub.status.busy": "2022-01-25T23:06:22.651649Z",
     "iopub.status.idle": "2022-01-25T23:06:22.664533Z",
     "shell.execute_reply": "2022-01-25T23:06:22.663582Z",
     "shell.execute_reply.started": "2022-01-25T23:06:22.652361Z"
    }
   },
   "outputs": [],
   "source": [
    "import numpy as np"
   ]
  },
  {
   "cell_type": "code",
   "execution_count": 3,
   "metadata": {
    "ExecuteTime": {
     "end_time": "2022-01-26T20:09:46.758523Z",
     "start_time": "2022-01-26T20:09:42.957010Z"
    },
    "execution": {
     "iopub.execute_input": "2022-01-25T23:06:22.666598Z",
     "iopub.status.busy": "2022-01-25T23:06:22.666250Z",
     "iopub.status.idle": "2022-01-25T23:06:26.696828Z",
     "shell.execute_reply": "2022-01-25T23:06:26.695979Z",
     "shell.execute_reply.started": "2022-01-25T23:06:22.666555Z"
    }
   },
   "outputs": [],
   "source": [
    "from darts.models import NBEATSModel"
   ]
  },
  {
   "cell_type": "code",
   "execution_count": 4,
   "metadata": {
    "ExecuteTime": {
     "end_time": "2022-01-26T20:09:48.054040Z",
     "start_time": "2022-01-26T20:09:48.048418Z"
    },
    "execution": {
     "iopub.execute_input": "2022-01-25T23:06:26.699347Z",
     "iopub.status.busy": "2022-01-25T23:06:26.698939Z",
     "iopub.status.idle": "2022-01-25T23:06:26.703008Z",
     "shell.execute_reply": "2022-01-25T23:06:26.702332Z",
     "shell.execute_reply.started": "2022-01-25T23:06:26.699306Z"
    }
   },
   "outputs": [],
   "source": [
    "import dask.dataframe as dd"
   ]
  },
  {
   "cell_type": "code",
   "execution_count": 5,
   "metadata": {
    "ExecuteTime": {
     "end_time": "2022-01-26T20:09:48.883864Z",
     "start_time": "2022-01-26T20:09:48.878453Z"
    },
    "execution": {
     "iopub.execute_input": "2022-01-25T23:06:26.706455Z",
     "iopub.status.busy": "2022-01-25T23:06:26.705791Z",
     "iopub.status.idle": "2022-01-25T23:06:26.720421Z",
     "shell.execute_reply": "2022-01-25T23:06:26.719661Z",
     "shell.execute_reply.started": "2022-01-25T23:06:26.706413Z"
    }
   },
   "outputs": [],
   "source": [
    "from darts.timeseries import TimeSeries"
   ]
  },
  {
   "cell_type": "markdown",
   "metadata": {},
   "source": [
    "##### Global Variables ####"
   ]
  },
  {
   "cell_type": "code",
   "execution_count": 6,
   "metadata": {
    "ExecuteTime": {
     "end_time": "2022-01-26T20:09:57.915055Z",
     "start_time": "2022-01-26T20:09:57.910202Z"
    },
    "execution": {
     "iopub.execute_input": "2022-01-25T23:06:26.722224Z",
     "iopub.status.busy": "2022-01-25T23:06:26.721681Z",
     "iopub.status.idle": "2022-01-25T23:06:26.730580Z",
     "shell.execute_reply": "2022-01-25T23:06:26.729814Z",
     "shell.execute_reply.started": "2022-01-25T23:06:26.722173Z"
    }
   },
   "outputs": [],
   "source": [
    "DATA_DIR = '../data/'"
   ]
  },
  {
   "cell_type": "code",
   "execution_count": 7,
   "metadata": {
    "ExecuteTime": {
     "end_time": "2022-01-26T20:09:59.345218Z",
     "start_time": "2022-01-26T20:09:59.340185Z"
    },
    "execution": {
     "iopub.execute_input": "2022-01-25T23:06:26.732834Z",
     "iopub.status.busy": "2022-01-25T23:06:26.732221Z",
     "iopub.status.idle": "2022-01-25T23:06:26.740642Z",
     "shell.execute_reply": "2022-01-25T23:06:26.739996Z",
     "shell.execute_reply.started": "2022-01-25T23:06:26.732792Z"
    }
   },
   "outputs": [],
   "source": [
    "input_chunk_length = 30\n",
    "output_chunk_length = 1"
   ]
  },
  {
   "cell_type": "code",
   "execution_count": 8,
   "metadata": {
    "ExecuteTime": {
     "end_time": "2022-01-26T20:09:59.973811Z",
     "start_time": "2022-01-26T20:09:59.968200Z"
    },
    "execution": {
     "iopub.execute_input": "2022-01-25T23:06:26.742980Z",
     "iopub.status.busy": "2022-01-25T23:06:26.742145Z",
     "iopub.status.idle": "2022-01-25T23:06:26.751228Z",
     "shell.execute_reply": "2022-01-25T23:06:26.750644Z",
     "shell.execute_reply.started": "2022-01-25T23:06:26.742928Z"
    }
   },
   "outputs": [],
   "source": [
    "features = [f'f_{i}' for i in range(300)]"
   ]
  },
  {
   "cell_type": "code",
   "execution_count": null,
   "metadata": {},
   "outputs": [],
   "source": []
  },
  {
   "cell_type": "markdown",
   "metadata": {},
   "source": [
    "#### Read Data #####"
   ]
  },
  {
   "cell_type": "code",
   "execution_count": 9,
   "metadata": {
    "ExecuteTime": {
     "end_time": "2022-01-26T20:10:01.449560Z",
     "start_time": "2022-01-26T20:10:01.442391Z"
    },
    "execution": {
     "iopub.execute_input": "2022-01-25T23:06:26.753063Z",
     "iopub.status.busy": "2022-01-25T23:06:26.752458Z",
     "iopub.status.idle": "2022-01-25T23:06:26.762696Z",
     "shell.execute_reply": "2022-01-25T23:06:26.761853Z",
     "shell.execute_reply.started": "2022-01-25T23:06:26.753026Z"
    }
   },
   "outputs": [],
   "source": [
    "from IPython.display import clear_output\n",
    "clear_output()"
   ]
  },
  {
   "cell_type": "code",
   "execution_count": 10,
   "metadata": {
    "ExecuteTime": {
     "end_time": "2022-01-26T20:10:02.656655Z",
     "start_time": "2022-01-26T20:10:02.463160Z"
    },
    "execution": {
     "iopub.execute_input": "2022-01-25T23:06:26.764226Z",
     "iopub.status.busy": "2022-01-25T23:06:26.763876Z",
     "iopub.status.idle": "2022-01-25T23:06:26.880455Z",
     "shell.execute_reply": "2022-01-25T23:06:26.879823Z",
     "shell.execute_reply.started": "2022-01-25T23:06:26.764179Z"
    }
   },
   "outputs": [
    {
     "name": "stdout",
     "output_type": "stream",
     "text": [
      "CPU times: user 187 ms, sys: 0 ns, total: 187 ms\n",
      "Wall time: 187 ms\n"
     ]
    }
   ],
   "source": [
    "%%time \n",
    "train = dd.read_csv(DATA_DIR+'train.csv')"
   ]
  },
  {
   "cell_type": "code",
   "execution_count": 11,
   "metadata": {
    "ExecuteTime": {
     "end_time": "2022-01-26T20:14:33.274174Z",
     "start_time": "2022-01-26T20:10:03.895892Z"
    },
    "execution": {
     "iopub.execute_input": "2022-01-25T23:06:26.881962Z",
     "iopub.status.busy": "2022-01-25T23:06:26.881566Z",
     "iopub.status.idle": "2022-01-25T23:09:43.573875Z",
     "shell.execute_reply": "2022-01-25T23:09:43.572897Z",
     "shell.execute_reply.started": "2022-01-25T23:06:26.881933Z"
    }
   },
   "outputs": [
    {
     "name": "stdout",
     "output_type": "stream",
     "text": [
      "CPU times: user 11min 54s, sys: 4min 12s, total: 16min 7s\n",
      "Wall time: 4min 29s\n"
     ]
    }
   ],
   "source": [
    "%%time\n",
    "train_df = train.compute()"
   ]
  },
  {
   "cell_type": "code",
   "execution_count": 12,
   "metadata": {
    "ExecuteTime": {
     "end_time": "2022-01-26T20:14:33.324865Z",
     "start_time": "2022-01-26T20:14:33.279101Z"
    },
    "execution": {
     "iopub.execute_input": "2022-01-25T23:09:43.575805Z",
     "iopub.status.busy": "2022-01-25T23:09:43.575477Z",
     "iopub.status.idle": "2022-01-25T23:09:43.610594Z",
     "shell.execute_reply": "2022-01-25T23:09:43.609706Z",
     "shell.execute_reply.started": "2022-01-25T23:09:43.575760Z"
    }
   },
   "outputs": [
    {
     "data": {
      "text/html": [
       "<div>\n",
       "<style scoped>\n",
       "    .dataframe tbody tr th:only-of-type {\n",
       "        vertical-align: middle;\n",
       "    }\n",
       "\n",
       "    .dataframe tbody tr th {\n",
       "        vertical-align: top;\n",
       "    }\n",
       "\n",
       "    .dataframe thead th {\n",
       "        text-align: right;\n",
       "    }\n",
       "</style>\n",
       "<table border=\"1\" class=\"dataframe\">\n",
       "  <thead>\n",
       "    <tr style=\"text-align: right;\">\n",
       "      <th></th>\n",
       "      <th>row_id</th>\n",
       "      <th>time_id</th>\n",
       "      <th>investment_id</th>\n",
       "      <th>target</th>\n",
       "      <th>f_0</th>\n",
       "      <th>f_1</th>\n",
       "      <th>f_2</th>\n",
       "      <th>f_3</th>\n",
       "      <th>f_4</th>\n",
       "      <th>f_5</th>\n",
       "      <th>...</th>\n",
       "      <th>f_290</th>\n",
       "      <th>f_291</th>\n",
       "      <th>f_292</th>\n",
       "      <th>f_293</th>\n",
       "      <th>f_294</th>\n",
       "      <th>f_295</th>\n",
       "      <th>f_296</th>\n",
       "      <th>f_297</th>\n",
       "      <th>f_298</th>\n",
       "      <th>f_299</th>\n",
       "    </tr>\n",
       "  </thead>\n",
       "  <tbody>\n",
       "    <tr>\n",
       "      <th>0</th>\n",
       "      <td>0_1</td>\n",
       "      <td>0</td>\n",
       "      <td>1</td>\n",
       "      <td>-0.300875</td>\n",
       "      <td>0.932573</td>\n",
       "      <td>0.113691</td>\n",
       "      <td>-0.402206</td>\n",
       "      <td>0.378386</td>\n",
       "      <td>-0.203938</td>\n",
       "      <td>-0.413469</td>\n",
       "      <td>...</td>\n",
       "      <td>0.366028</td>\n",
       "      <td>-1.095620</td>\n",
       "      <td>0.200075</td>\n",
       "      <td>0.819155</td>\n",
       "      <td>0.941183</td>\n",
       "      <td>-0.086764</td>\n",
       "      <td>-1.087009</td>\n",
       "      <td>-1.044826</td>\n",
       "      <td>-0.287605</td>\n",
       "      <td>0.321566</td>\n",
       "    </tr>\n",
       "    <tr>\n",
       "      <th>1</th>\n",
       "      <td>0_2</td>\n",
       "      <td>0</td>\n",
       "      <td>2</td>\n",
       "      <td>-0.231040</td>\n",
       "      <td>0.810802</td>\n",
       "      <td>-0.514115</td>\n",
       "      <td>0.742368</td>\n",
       "      <td>-0.616673</td>\n",
       "      <td>-0.194255</td>\n",
       "      <td>1.771210</td>\n",
       "      <td>...</td>\n",
       "      <td>-0.154193</td>\n",
       "      <td>0.912726</td>\n",
       "      <td>-0.734579</td>\n",
       "      <td>0.819155</td>\n",
       "      <td>0.941183</td>\n",
       "      <td>-0.387617</td>\n",
       "      <td>-1.087009</td>\n",
       "      <td>-0.929529</td>\n",
       "      <td>-0.974060</td>\n",
       "      <td>-0.343624</td>\n",
       "    </tr>\n",
       "    <tr>\n",
       "      <th>2</th>\n",
       "      <td>0_6</td>\n",
       "      <td>0</td>\n",
       "      <td>6</td>\n",
       "      <td>0.568807</td>\n",
       "      <td>0.393974</td>\n",
       "      <td>0.615937</td>\n",
       "      <td>0.567806</td>\n",
       "      <td>-0.607963</td>\n",
       "      <td>0.068883</td>\n",
       "      <td>-1.083155</td>\n",
       "      <td>...</td>\n",
       "      <td>-0.138020</td>\n",
       "      <td>0.912726</td>\n",
       "      <td>-0.551904</td>\n",
       "      <td>-1.220772</td>\n",
       "      <td>-1.060166</td>\n",
       "      <td>-0.219097</td>\n",
       "      <td>-1.087009</td>\n",
       "      <td>-0.612428</td>\n",
       "      <td>-0.113944</td>\n",
       "      <td>0.243608</td>\n",
       "    </tr>\n",
       "    <tr>\n",
       "      <th>3</th>\n",
       "      <td>0_7</td>\n",
       "      <td>0</td>\n",
       "      <td>7</td>\n",
       "      <td>-1.064780</td>\n",
       "      <td>-2.343535</td>\n",
       "      <td>-0.011870</td>\n",
       "      <td>1.874606</td>\n",
       "      <td>-0.606346</td>\n",
       "      <td>-0.586827</td>\n",
       "      <td>-0.815737</td>\n",
       "      <td>...</td>\n",
       "      <td>0.382201</td>\n",
       "      <td>0.912726</td>\n",
       "      <td>-0.266359</td>\n",
       "      <td>-1.220772</td>\n",
       "      <td>0.941183</td>\n",
       "      <td>-0.609113</td>\n",
       "      <td>0.104928</td>\n",
       "      <td>-0.783423</td>\n",
       "      <td>1.151730</td>\n",
       "      <td>-0.773309</td>\n",
       "    </tr>\n",
       "    <tr>\n",
       "      <th>4</th>\n",
       "      <td>0_8</td>\n",
       "      <td>0</td>\n",
       "      <td>8</td>\n",
       "      <td>-0.531940</td>\n",
       "      <td>0.842057</td>\n",
       "      <td>-0.262993</td>\n",
       "      <td>2.330030</td>\n",
       "      <td>-0.583422</td>\n",
       "      <td>-0.618392</td>\n",
       "      <td>-0.742814</td>\n",
       "      <td>...</td>\n",
       "      <td>-0.170365</td>\n",
       "      <td>0.912726</td>\n",
       "      <td>-0.741355</td>\n",
       "      <td>-1.220772</td>\n",
       "      <td>0.941183</td>\n",
       "      <td>-0.588445</td>\n",
       "      <td>0.104928</td>\n",
       "      <td>0.753279</td>\n",
       "      <td>1.345611</td>\n",
       "      <td>-0.737624</td>\n",
       "    </tr>\n",
       "  </tbody>\n",
       "</table>\n",
       "<p>5 rows × 304 columns</p>\n",
       "</div>"
      ],
      "text/plain": [
       "  row_id  time_id  investment_id    target       f_0       f_1       f_2  \\\n",
       "0    0_1        0              1 -0.300875  0.932573  0.113691 -0.402206   \n",
       "1    0_2        0              2 -0.231040  0.810802 -0.514115  0.742368   \n",
       "2    0_6        0              6  0.568807  0.393974  0.615937  0.567806   \n",
       "3    0_7        0              7 -1.064780 -2.343535 -0.011870  1.874606   \n",
       "4    0_8        0              8 -0.531940  0.842057 -0.262993  2.330030   \n",
       "\n",
       "        f_3       f_4       f_5  ...     f_290     f_291     f_292     f_293  \\\n",
       "0  0.378386 -0.203938 -0.413469  ...  0.366028 -1.095620  0.200075  0.819155   \n",
       "1 -0.616673 -0.194255  1.771210  ... -0.154193  0.912726 -0.734579  0.819155   \n",
       "2 -0.607963  0.068883 -1.083155  ... -0.138020  0.912726 -0.551904 -1.220772   \n",
       "3 -0.606346 -0.586827 -0.815737  ...  0.382201  0.912726 -0.266359 -1.220772   \n",
       "4 -0.583422 -0.618392 -0.742814  ... -0.170365  0.912726 -0.741355 -1.220772   \n",
       "\n",
       "      f_294     f_295     f_296     f_297     f_298     f_299  \n",
       "0  0.941183 -0.086764 -1.087009 -1.044826 -0.287605  0.321566  \n",
       "1  0.941183 -0.387617 -1.087009 -0.929529 -0.974060 -0.343624  \n",
       "2 -1.060166 -0.219097 -1.087009 -0.612428 -0.113944  0.243608  \n",
       "3  0.941183 -0.609113  0.104928 -0.783423  1.151730 -0.773309  \n",
       "4  0.941183 -0.588445  0.104928  0.753279  1.345611 -0.737624  \n",
       "\n",
       "[5 rows x 304 columns]"
      ]
     },
     "execution_count": 12,
     "metadata": {},
     "output_type": "execute_result"
    }
   ],
   "source": [
    "train_df.head()"
   ]
  },
  {
   "cell_type": "code",
   "execution_count": 13,
   "metadata": {
    "ExecuteTime": {
     "end_time": "2022-01-26T20:14:33.333391Z",
     "start_time": "2022-01-26T20:14:33.329707Z"
    },
    "execution": {
     "iopub.execute_input": "2022-01-25T23:09:43.613771Z",
     "iopub.status.busy": "2022-01-25T23:09:43.613512Z",
     "iopub.status.idle": "2022-01-25T23:09:43.616952Z",
     "shell.execute_reply": "2022-01-25T23:09:43.616320Z",
     "shell.execute_reply.started": "2022-01-25T23:09:43.613729Z"
    }
   },
   "outputs": [],
   "source": [
    "# train_df = train_df.sample(frac=0.2)"
   ]
  },
  {
   "cell_type": "code",
   "execution_count": 14,
   "metadata": {
    "ExecuteTime": {
     "end_time": "2022-01-26T20:14:33.368330Z",
     "start_time": "2022-01-26T20:14:33.336877Z"
    },
    "execution": {
     "iopub.execute_input": "2022-01-25T23:09:43.618509Z",
     "iopub.status.busy": "2022-01-25T23:09:43.618111Z",
     "iopub.status.idle": "2022-01-25T23:09:43.664248Z",
     "shell.execute_reply": "2022-01-25T23:09:43.663484Z",
     "shell.execute_reply.started": "2022-01-25T23:09:43.618466Z"
    }
   },
   "outputs": [],
   "source": [
    "investment_ids = train_df.investment_id.unique().tolist()"
   ]
  },
  {
   "cell_type": "code",
   "execution_count": 33,
   "metadata": {
    "ExecuteTime": {
     "end_time": "2022-01-26T20:35:09.510571Z",
     "start_time": "2022-01-26T20:35:09.214909Z"
    }
   },
   "outputs": [],
   "source": [
    "grp_df = train_df.groupby('investment_id',as_index=False).agg(c = ('target', len))"
   ]
  },
  {
   "cell_type": "code",
   "execution_count": null,
   "metadata": {
    "ExecuteTime": {
     "end_time": "2022-01-26T20:35:17.028125Z",
     "start_time": "2022-01-26T20:35:17.014486Z"
    }
   },
   "outputs": [],
   "source": []
  },
  {
   "cell_type": "code",
   "execution_count": 36,
   "metadata": {
    "ExecuteTime": {
     "end_time": "2022-01-26T20:35:25.485277Z",
     "start_time": "2022-01-26T20:35:25.477282Z"
    }
   },
   "outputs": [],
   "source": [
    "not_to_include_investment_ids = grp_df[grp_df.c < input_chunk_length+1].investment_id.unique().tolist()"
   ]
  },
  {
   "cell_type": "code",
   "execution_count": 15,
   "metadata": {
    "ExecuteTime": {
     "end_time": "2022-01-26T20:14:33.374437Z",
     "start_time": "2022-01-26T20:14:33.370094Z"
    },
    "execution": {
     "iopub.execute_input": "2022-01-25T23:09:43.666100Z",
     "iopub.status.busy": "2022-01-25T23:09:43.665643Z",
     "iopub.status.idle": "2022-01-25T23:09:43.671554Z",
     "shell.execute_reply": "2022-01-25T23:09:43.670916Z",
     "shell.execute_reply.started": "2022-01-25T23:09:43.666068Z"
    }
   },
   "outputs": [
    {
     "data": {
      "text/plain": [
       "(3141410, 304)"
      ]
     },
     "execution_count": 15,
     "metadata": {},
     "output_type": "execute_result"
    }
   ],
   "source": [
    "train_df.shape"
   ]
  },
  {
   "cell_type": "code",
   "execution_count": 16,
   "metadata": {
    "ExecuteTime": {
     "end_time": "2022-01-26T20:14:33.378380Z",
     "start_time": "2022-01-26T20:14:33.376097Z"
    },
    "execution": {
     "iopub.execute_input": "2022-01-25T23:09:43.672888Z",
     "iopub.status.busy": "2022-01-25T23:09:43.672416Z",
     "iopub.status.idle": "2022-01-25T23:09:43.682560Z",
     "shell.execute_reply": "2022-01-25T23:09:43.681928Z",
     "shell.execute_reply.started": "2022-01-25T23:09:43.672853Z"
    }
   },
   "outputs": [],
   "source": [
    "#### past covariates will be features #####"
   ]
  },
  {
   "cell_type": "markdown",
   "metadata": {},
   "source": [
    "##### Target and past covariates for each timeseries ######"
   ]
  },
  {
   "cell_type": "code",
   "execution_count": 37,
   "metadata": {
    "ExecuteTime": {
     "end_time": "2022-01-26T20:36:21.090872Z",
     "start_time": "2022-01-26T20:36:21.082645Z"
    },
    "execution": {
     "iopub.execute_input": "2022-01-25T23:09:43.684155Z",
     "iopub.status.busy": "2022-01-25T23:09:43.683489Z",
     "iopub.status.idle": "2022-01-25T23:09:43.696021Z",
     "shell.execute_reply": "2022-01-25T23:09:43.695107Z",
     "shell.execute_reply.started": "2022-01-25T23:09:43.684124Z"
    }
   },
   "outputs": [],
   "source": [
    "data_dict = {}"
   ]
  },
  {
   "cell_type": "code",
   "execution_count": 39,
   "metadata": {
    "ExecuteTime": {
     "end_time": "2022-01-26T20:36:27.904257Z",
     "start_time": "2022-01-26T20:36:27.895406Z"
    },
    "execution": {
     "iopub.execute_input": "2022-01-25T23:09:43.697751Z",
     "iopub.status.busy": "2022-01-25T23:09:43.697321Z",
     "iopub.status.idle": "2022-01-25T23:09:43.707985Z",
     "shell.execute_reply": "2022-01-25T23:09:43.706956Z",
     "shell.execute_reply.started": "2022-01-25T23:09:43.697709Z"
    }
   },
   "outputs": [],
   "source": [
    "def create_data_dict():\n",
    "    for investment_id in investment_ids:\n",
    "        if investment_id not in not_to_include_investment_ids:\n",
    "            df = train_df[train_df.investment_id == investment_id]\n",
    "\n",
    "            data_dict[str(investment_id)] = {}\n",
    "            data_dict[str(investment_id)]['targets'] = TimeSeries.from_dataframe(df,time_col = 'time_id', value_cols = 'target')\n",
    "            data_dict[str(investment_id)]['past_covariates'] = TimeSeries.from_dataframe(df,time_col = 'time_id', value_cols = features)\n",
    "        \n",
    "    return"
   ]
  },
  {
   "cell_type": "code",
   "execution_count": 40,
   "metadata": {
    "ExecuteTime": {
     "end_time": "2022-01-26T20:37:13.590102Z",
     "start_time": "2022-01-26T20:36:29.473384Z"
    },
    "execution": {
     "iopub.execute_input": "2022-01-25T23:09:43.710148Z",
     "iopub.status.busy": "2022-01-25T23:09:43.709515Z",
     "iopub.status.idle": "2022-01-25T23:10:57.365142Z",
     "shell.execute_reply": "2022-01-25T23:10:57.364073Z",
     "shell.execute_reply.started": "2022-01-25T23:09:43.710097Z"
    }
   },
   "outputs": [
    {
     "name": "stdout",
     "output_type": "stream",
     "text": [
      "CPU times: user 39.9 s, sys: 4.23 s, total: 44.1 s\n",
      "Wall time: 44.1 s\n"
     ]
    }
   ],
   "source": [
    "%%time\n",
    "create_data_dict()"
   ]
  },
  {
   "cell_type": "markdown",
   "metadata": {},
   "source": [
    "### Model ####"
   ]
  },
  {
   "cell_type": "code",
   "execution_count": 49,
   "metadata": {
    "ExecuteTime": {
     "end_time": "2022-01-26T23:04:59.695353Z",
     "start_time": "2022-01-26T23:04:59.686771Z"
    },
    "execution": {
     "iopub.execute_input": "2022-01-25T23:10:57.366795Z",
     "iopub.status.busy": "2022-01-25T23:10:57.366491Z",
     "iopub.status.idle": "2022-01-25T23:10:57.432662Z",
     "shell.execute_reply": "2022-01-25T23:10:57.431867Z",
     "shell.execute_reply.started": "2022-01-25T23:10:57.366753Z"
    }
   },
   "outputs": [],
   "source": [
    "model = NBEATSModel(input_chunk_length=input_chunk_length, \n",
    "                             output_chunk_length=output_chunk_length)"
   ]
  },
  {
   "cell_type": "code",
   "execution_count": 50,
   "metadata": {
    "ExecuteTime": {
     "end_time": "2022-01-26T23:05:00.293409Z",
     "start_time": "2022-01-26T23:05:00.278213Z"
    },
    "execution": {
     "iopub.execute_input": "2022-01-25T23:10:57.434477Z",
     "iopub.status.busy": "2022-01-25T23:10:57.434021Z",
     "iopub.status.idle": "2022-01-25T23:10:57.441035Z",
     "shell.execute_reply": "2022-01-25T23:10:57.440318Z",
     "shell.execute_reply.started": "2022-01-25T23:10:57.434446Z"
    }
   },
   "outputs": [],
   "source": [
    "train_series = [data_dict[k]['targets'] for k in data_dict.keys()]"
   ]
  },
  {
   "cell_type": "code",
   "execution_count": 51,
   "metadata": {
    "ExecuteTime": {
     "end_time": "2022-01-26T23:05:00.758320Z",
     "start_time": "2022-01-26T23:05:00.749479Z"
    },
    "execution": {
     "iopub.execute_input": "2022-01-25T23:10:57.442855Z",
     "iopub.status.busy": "2022-01-25T23:10:57.442163Z",
     "iopub.status.idle": "2022-01-25T23:10:57.454858Z",
     "shell.execute_reply": "2022-01-25T23:10:57.454164Z",
     "shell.execute_reply.started": "2022-01-25T23:10:57.442824Z"
    }
   },
   "outputs": [],
   "source": [
    "train_past_covariates_series = [data_dict[k]['past_covariates'] for k in data_dict.keys()]"
   ]
  },
  {
   "cell_type": "code",
   "execution_count": 52,
   "metadata": {
    "ExecuteTime": {
     "end_time": "2022-01-27T01:28:13.707748Z",
     "start_time": "2022-01-26T23:05:18.217675Z"
    },
    "execution": {
     "iopub.execute_input": "2022-01-25T23:10:57.456444Z",
     "iopub.status.busy": "2022-01-25T23:10:57.456101Z"
    }
   },
   "outputs": [
    {
     "name": "stderr",
     "output_type": "stream",
     "text": [
      "[2022-01-26 23:05:18,222] INFO | darts.models.forecasting.torch_forecasting_model | Train dataset contains 117600 samples.\n",
      "[2022-01-26 23:05:18,222] INFO | darts.models.forecasting.torch_forecasting_model | Train dataset contains 117600 samples.\n",
      "[2022-01-26 23:05:18,837] INFO | darts.models.forecasting.torch_forecasting_model | Time series values are 64-bits; casting model to float64.\n",
      "[2022-01-26 23:05:18,837] INFO | darts.models.forecasting.torch_forecasting_model | Time series values are 64-bits; casting model to float64.\n"
     ]
    },
    {
     "data": {
      "application/vnd.jupyter.widget-view+json": {
       "model_id": "366860b3ecfe40e38180e9b667e55423",
       "version_major": 2,
       "version_minor": 0
      },
      "text/plain": [
       "  0%|          | 0/20 [00:00<?, ?it/s]"
      ]
     },
     "metadata": {},
     "output_type": "display_data"
    },
    {
     "name": "stdout",
     "output_type": "stream",
     "text": [
      "Training loss: 207335738334334805390393344.00002576.0000\r"
     ]
    }
   ],
   "source": [
    "model.fit(train_series[:100],past_covariates=train_past_covariates_series[:100], \n",
    "                 epochs=20, \n",
    "                 verbose=True)"
   ]
  },
  {
   "cell_type": "code",
   "execution_count": null,
   "metadata": {},
   "outputs": [],
   "source": []
  },
  {
   "cell_type": "code",
   "execution_count": null,
   "metadata": {},
   "outputs": [],
   "source": []
  },
  {
   "cell_type": "code",
   "execution_count": null,
   "metadata": {},
   "outputs": [],
   "source": []
  }
 ],
 "metadata": {
  "kernelspec": {
   "display_name": "Python 3",
   "language": "python",
   "name": "python3"
  },
  "language_info": {
   "codemirror_mode": {
    "name": "ipython",
    "version": 3
   },
   "file_extension": ".py",
   "mimetype": "text/x-python",
   "name": "python",
   "nbconvert_exporter": "python",
   "pygments_lexer": "ipython3",
   "version": "3.8.5"
  },
  "toc": {
   "base_numbering": 1,
   "nav_menu": {},
   "number_sections": false,
   "sideBar": true,
   "skip_h1_title": false,
   "title_cell": "Table of Contents",
   "title_sidebar": "Contents",
   "toc_cell": false,
   "toc_position": {},
   "toc_section_display": true,
   "toc_window_display": false
  }
 },
 "nbformat": 4,
 "nbformat_minor": 4
}
