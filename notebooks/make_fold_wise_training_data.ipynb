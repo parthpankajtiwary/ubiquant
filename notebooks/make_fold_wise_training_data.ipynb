{
 "cells": [
  {
   "cell_type": "code",
   "execution_count": 1,
   "id": "5f1b600b-7d82-4220-8012-69ac123cc62e",
   "metadata": {
    "ExecuteTime": {
     "end_time": "2022-01-31T21:04:39.157174Z",
     "start_time": "2022-01-31T21:04:38.935122Z"
    }
   },
   "outputs": [],
   "source": [
    "import pandas as pd"
   ]
  },
  {
   "cell_type": "code",
   "execution_count": 2,
   "id": "16e7d28e-519e-408d-915f-39216e80d78b",
   "metadata": {
    "ExecuteTime": {
     "end_time": "2022-01-31T21:04:39.162435Z",
     "start_time": "2022-01-31T21:04:39.159637Z"
    }
   },
   "outputs": [],
   "source": [
    "import numpy as np"
   ]
  },
  {
   "cell_type": "code",
   "execution_count": 3,
   "id": "41d450ce-7bf0-4d52-91a7-4500d18522dd",
   "metadata": {
    "ExecuteTime": {
     "end_time": "2022-01-31T21:04:40.337181Z",
     "start_time": "2022-01-31T21:04:39.164548Z"
    }
   },
   "outputs": [],
   "source": [
    "import dask.dataframe as dd"
   ]
  },
  {
   "cell_type": "code",
   "execution_count": 4,
   "id": "e5f9603b-66aa-4ed8-b3b5-11548372025e",
   "metadata": {
    "ExecuteTime": {
     "end_time": "2022-01-31T21:04:40.341259Z",
     "start_time": "2022-01-31T21:04:40.338906Z"
    }
   },
   "outputs": [],
   "source": [
    "import gc"
   ]
  },
  {
   "cell_type": "code",
   "execution_count": 5,
   "id": "99106e62-9d0c-45ed-9f72-24f85627289f",
   "metadata": {
    "ExecuteTime": {
     "end_time": "2022-01-31T21:04:40.345286Z",
     "start_time": "2022-01-31T21:04:40.342678Z"
    }
   },
   "outputs": [],
   "source": [
    "import pickle"
   ]
  },
  {
   "cell_type": "markdown",
   "id": "3c1bf97e-41fb-4dc4-b8d1-6ccbf9cceb6b",
   "metadata": {},
   "source": [
    "##### Global Variables ####"
   ]
  },
  {
   "cell_type": "code",
   "execution_count": 6,
   "id": "f07d7d8b-e7ea-4883-bbb4-1f6ff3d78ef7",
   "metadata": {
    "ExecuteTime": {
     "end_time": "2022-01-31T21:04:40.440160Z",
     "start_time": "2022-01-31T21:04:40.346832Z"
    }
   },
   "outputs": [
    {
     "data": {
      "text/plain": [
       "294"
      ]
     },
     "execution_count": 6,
     "metadata": {},
     "output_type": "execute_result"
    }
   ],
   "source": [
    "gc.collect()"
   ]
  },
  {
   "cell_type": "code",
   "execution_count": 7,
   "id": "673f4f00-3768-4b71-b0b4-0da183a96683",
   "metadata": {
    "ExecuteTime": {
     "end_time": "2022-01-31T21:04:40.444411Z",
     "start_time": "2022-01-31T21:04:40.441833Z"
    }
   },
   "outputs": [],
   "source": [
    "BASE_DIR = '/sharedHDD/rohit/timeseries_learning/ubiquant/'\n",
    "DATA_DIR = BASE_DIR+'data/parquet/'"
   ]
  },
  {
   "cell_type": "code",
   "execution_count": 8,
   "id": "94733efa-2ac4-4cea-b5a2-937bce3758af",
   "metadata": {
    "ExecuteTime": {
     "end_time": "2022-01-31T21:04:40.449649Z",
     "start_time": "2022-01-31T21:04:40.447223Z"
    }
   },
   "outputs": [],
   "source": [
    "input_chunk_length = 30\n",
    "output_chunk_length = 1"
   ]
  },
  {
   "cell_type": "code",
   "execution_count": 9,
   "id": "fcf63364-92d3-477c-b400-9735ea8a624b",
   "metadata": {
    "ExecuteTime": {
     "end_time": "2022-01-31T21:04:40.454355Z",
     "start_time": "2022-01-31T21:04:40.451602Z"
    }
   },
   "outputs": [],
   "source": [
    "features = [f'f_{i}' for i in range(300)]"
   ]
  },
  {
   "cell_type": "markdown",
   "id": "bb64ff3e-4d39-45e0-834f-726220ac6481",
   "metadata": {},
   "source": [
    "#### Read Data #####"
   ]
  },
  {
   "cell_type": "code",
   "execution_count": 10,
   "id": "7b2ba24d-302d-48d8-b1e1-9c760cbe1d55",
   "metadata": {
    "ExecuteTime": {
     "end_time": "2022-01-31T21:04:44.784735Z",
     "start_time": "2022-01-31T21:04:40.456068Z"
    }
   },
   "outputs": [
    {
     "name": "stdout",
     "output_type": "stream",
     "text": [
      "CPU times: user 8.71 s, sys: 14.1 s, total: 22.8 s\n",
      "Wall time: 4.32 s\n"
     ]
    }
   ],
   "source": [
    "%%time\n",
    "train_df = pd.read_parquet(DATA_DIR+'train_low_mem.parquet')"
   ]
  },
  {
   "cell_type": "code",
   "execution_count": 11,
   "id": "d0491c4f-5d9b-474d-a1f0-ea235b11eb19",
   "metadata": {
    "ExecuteTime": {
     "end_time": "2022-01-31T21:04:44.815052Z",
     "start_time": "2022-01-31T21:04:44.788117Z"
    }
   },
   "outputs": [
    {
     "data": {
      "text/html": [
       "<div>\n",
       "<style scoped>\n",
       "    .dataframe tbody tr th:only-of-type {\n",
       "        vertical-align: middle;\n",
       "    }\n",
       "\n",
       "    .dataframe tbody tr th {\n",
       "        vertical-align: top;\n",
       "    }\n",
       "\n",
       "    .dataframe thead th {\n",
       "        text-align: right;\n",
       "    }\n",
       "</style>\n",
       "<table border=\"1\" class=\"dataframe\">\n",
       "  <thead>\n",
       "    <tr style=\"text-align: right;\">\n",
       "      <th></th>\n",
       "      <th>row_id</th>\n",
       "      <th>time_id</th>\n",
       "      <th>investment_id</th>\n",
       "      <th>target</th>\n",
       "      <th>f_0</th>\n",
       "      <th>f_1</th>\n",
       "      <th>f_2</th>\n",
       "      <th>f_3</th>\n",
       "      <th>f_4</th>\n",
       "      <th>f_5</th>\n",
       "      <th>...</th>\n",
       "      <th>f_290</th>\n",
       "      <th>f_291</th>\n",
       "      <th>f_292</th>\n",
       "      <th>f_293</th>\n",
       "      <th>f_294</th>\n",
       "      <th>f_295</th>\n",
       "      <th>f_296</th>\n",
       "      <th>f_297</th>\n",
       "      <th>f_298</th>\n",
       "      <th>f_299</th>\n",
       "    </tr>\n",
       "  </thead>\n",
       "  <tbody>\n",
       "    <tr>\n",
       "      <th>0</th>\n",
       "      <td>0_1</td>\n",
       "      <td>0</td>\n",
       "      <td>1</td>\n",
       "      <td>-0.300875</td>\n",
       "      <td>0.932573</td>\n",
       "      <td>0.113691</td>\n",
       "      <td>-0.402206</td>\n",
       "      <td>0.378386</td>\n",
       "      <td>-0.203938</td>\n",
       "      <td>-0.413469</td>\n",
       "      <td>...</td>\n",
       "      <td>0.366028</td>\n",
       "      <td>-1.095620</td>\n",
       "      <td>0.200075</td>\n",
       "      <td>0.819155</td>\n",
       "      <td>0.941183</td>\n",
       "      <td>-0.086764</td>\n",
       "      <td>-1.087009</td>\n",
       "      <td>-1.044826</td>\n",
       "      <td>-0.287605</td>\n",
       "      <td>0.321566</td>\n",
       "    </tr>\n",
       "    <tr>\n",
       "      <th>1</th>\n",
       "      <td>0_2</td>\n",
       "      <td>0</td>\n",
       "      <td>2</td>\n",
       "      <td>-0.231040</td>\n",
       "      <td>0.810802</td>\n",
       "      <td>-0.514115</td>\n",
       "      <td>0.742368</td>\n",
       "      <td>-0.616673</td>\n",
       "      <td>-0.194255</td>\n",
       "      <td>1.771210</td>\n",
       "      <td>...</td>\n",
       "      <td>-0.154193</td>\n",
       "      <td>0.912726</td>\n",
       "      <td>-0.734579</td>\n",
       "      <td>0.819155</td>\n",
       "      <td>0.941183</td>\n",
       "      <td>-0.387617</td>\n",
       "      <td>-1.087009</td>\n",
       "      <td>-0.929529</td>\n",
       "      <td>-0.974060</td>\n",
       "      <td>-0.343624</td>\n",
       "    </tr>\n",
       "    <tr>\n",
       "      <th>2</th>\n",
       "      <td>0_6</td>\n",
       "      <td>0</td>\n",
       "      <td>6</td>\n",
       "      <td>0.568807</td>\n",
       "      <td>0.393974</td>\n",
       "      <td>0.615937</td>\n",
       "      <td>0.567806</td>\n",
       "      <td>-0.607963</td>\n",
       "      <td>0.068883</td>\n",
       "      <td>-1.083155</td>\n",
       "      <td>...</td>\n",
       "      <td>-0.138020</td>\n",
       "      <td>0.912726</td>\n",
       "      <td>-0.551904</td>\n",
       "      <td>-1.220772</td>\n",
       "      <td>-1.060166</td>\n",
       "      <td>-0.219097</td>\n",
       "      <td>-1.087009</td>\n",
       "      <td>-0.612428</td>\n",
       "      <td>-0.113944</td>\n",
       "      <td>0.243608</td>\n",
       "    </tr>\n",
       "    <tr>\n",
       "      <th>3</th>\n",
       "      <td>0_7</td>\n",
       "      <td>0</td>\n",
       "      <td>7</td>\n",
       "      <td>-1.064780</td>\n",
       "      <td>-2.343535</td>\n",
       "      <td>-0.011870</td>\n",
       "      <td>1.874606</td>\n",
       "      <td>-0.606346</td>\n",
       "      <td>-0.586827</td>\n",
       "      <td>-0.815737</td>\n",
       "      <td>...</td>\n",
       "      <td>0.382201</td>\n",
       "      <td>0.912726</td>\n",
       "      <td>-0.266359</td>\n",
       "      <td>-1.220772</td>\n",
       "      <td>0.941183</td>\n",
       "      <td>-0.609113</td>\n",
       "      <td>0.104928</td>\n",
       "      <td>-0.783423</td>\n",
       "      <td>1.151730</td>\n",
       "      <td>-0.773309</td>\n",
       "    </tr>\n",
       "    <tr>\n",
       "      <th>4</th>\n",
       "      <td>0_8</td>\n",
       "      <td>0</td>\n",
       "      <td>8</td>\n",
       "      <td>-0.531940</td>\n",
       "      <td>0.842057</td>\n",
       "      <td>-0.262993</td>\n",
       "      <td>2.330030</td>\n",
       "      <td>-0.583422</td>\n",
       "      <td>-0.618392</td>\n",
       "      <td>-0.742814</td>\n",
       "      <td>...</td>\n",
       "      <td>-0.170365</td>\n",
       "      <td>0.912726</td>\n",
       "      <td>-0.741355</td>\n",
       "      <td>-1.220772</td>\n",
       "      <td>0.941183</td>\n",
       "      <td>-0.588445</td>\n",
       "      <td>0.104928</td>\n",
       "      <td>0.753279</td>\n",
       "      <td>1.345611</td>\n",
       "      <td>-0.737624</td>\n",
       "    </tr>\n",
       "  </tbody>\n",
       "</table>\n",
       "<p>5 rows × 304 columns</p>\n",
       "</div>"
      ],
      "text/plain": [
       "  row_id  time_id  investment_id    target       f_0       f_1       f_2  \\\n",
       "0    0_1        0              1 -0.300875  0.932573  0.113691 -0.402206   \n",
       "1    0_2        0              2 -0.231040  0.810802 -0.514115  0.742368   \n",
       "2    0_6        0              6  0.568807  0.393974  0.615937  0.567806   \n",
       "3    0_7        0              7 -1.064780 -2.343535 -0.011870  1.874606   \n",
       "4    0_8        0              8 -0.531940  0.842057 -0.262993  2.330030   \n",
       "\n",
       "        f_3       f_4       f_5  ...     f_290     f_291     f_292     f_293  \\\n",
       "0  0.378386 -0.203938 -0.413469  ...  0.366028 -1.095620  0.200075  0.819155   \n",
       "1 -0.616673 -0.194255  1.771210  ... -0.154193  0.912726 -0.734579  0.819155   \n",
       "2 -0.607963  0.068883 -1.083155  ... -0.138020  0.912726 -0.551904 -1.220772   \n",
       "3 -0.606346 -0.586827 -0.815737  ...  0.382201  0.912726 -0.266359 -1.220772   \n",
       "4 -0.583422 -0.618392 -0.742814  ... -0.170365  0.912726 -0.741355 -1.220772   \n",
       "\n",
       "      f_294     f_295     f_296     f_297     f_298     f_299  \n",
       "0  0.941183 -0.086764 -1.087009 -1.044826 -0.287605  0.321566  \n",
       "1  0.941183 -0.387617 -1.087009 -0.929529 -0.974060 -0.343624  \n",
       "2 -1.060166 -0.219097 -1.087009 -0.612428 -0.113944  0.243608  \n",
       "3  0.941183 -0.609113  0.104928 -0.783423  1.151730 -0.773309  \n",
       "4  0.941183 -0.588445  0.104928  0.753279  1.345611 -0.737624  \n",
       "\n",
       "[5 rows x 304 columns]"
      ]
     },
     "execution_count": 11,
     "metadata": {},
     "output_type": "execute_result"
    }
   ],
   "source": [
    "train_df.head()"
   ]
  },
  {
   "cell_type": "code",
   "execution_count": 12,
   "id": "5a81b0ef",
   "metadata": {
    "ExecuteTime": {
     "end_time": "2022-01-31T21:04:44.838151Z",
     "start_time": "2022-01-31T21:04:44.816720Z"
    }
   },
   "outputs": [
    {
     "name": "stdout",
     "output_type": "stream",
     "text": [
      "<class 'pandas.core.frame.DataFrame'>\n",
      "RangeIndex: 3141410 entries, 0 to 3141409\n",
      "Columns: 304 entries, row_id to f_299\n",
      "dtypes: float32(301), object(1), uint16(2)\n",
      "memory usage: 3.6+ GB\n"
     ]
    }
   ],
   "source": [
    "train_df.info()"
   ]
  },
  {
   "cell_type": "code",
   "execution_count": 13,
   "id": "b0c99742",
   "metadata": {
    "ExecuteTime": {
     "end_time": "2022-01-31T21:04:44.859827Z",
     "start_time": "2022-01-31T21:04:44.840533Z"
    }
   },
   "outputs": [],
   "source": [
    "investment_ids = train_df.investment_id.unique().tolist()"
   ]
  },
  {
   "cell_type": "code",
   "execution_count": 14,
   "id": "ce7ebfac-cecf-4b2e-8759-d951575a31b1",
   "metadata": {
    "ExecuteTime": {
     "end_time": "2022-01-31T21:04:44.864181Z",
     "start_time": "2022-01-31T21:04:44.861668Z"
    }
   },
   "outputs": [],
   "source": [
    "####### Filter out only Fold 1 data ###########"
   ]
  },
  {
   "cell_type": "code",
   "execution_count": 15,
   "id": "32c2c36e-7ee8-4327-890a-b79278aadd94",
   "metadata": {
    "ExecuteTime": {
     "end_time": "2022-01-31T21:04:45.542088Z",
     "start_time": "2022-01-31T21:04:44.866292Z"
    }
   },
   "outputs": [],
   "source": [
    "with open(BASE_DIR+'input/folds.pickle', 'rb') as f:\n",
    "    folds = pickle.load(f)"
   ]
  },
  {
   "cell_type": "code",
   "execution_count": 16,
   "id": "e129aa1e",
   "metadata": {
    "ExecuteTime": {
     "end_time": "2022-01-31T21:04:45.549859Z",
     "start_time": "2022-01-31T21:04:45.544723Z"
    }
   },
   "outputs": [
    {
     "data": {
      "text/plain": [
       "dict_keys([0, 1, 2, 3, 4])"
      ]
     },
     "execution_count": 16,
     "metadata": {},
     "output_type": "execute_result"
    }
   ],
   "source": [
    "folds.keys()"
   ]
  },
  {
   "cell_type": "code",
   "execution_count": null,
   "id": "39ae7223",
   "metadata": {},
   "outputs": [],
   "source": []
  },
  {
   "cell_type": "markdown",
   "id": "55ed7912-cfe8-411a-b307-92dfe8934d56",
   "metadata": {},
   "source": [
    "##### Prepare data ######"
   ]
  },
  {
   "cell_type": "code",
   "execution_count": 17,
   "id": "b876152b-52be-4d18-9e5d-5f9002f8dcc7",
   "metadata": {
    "ExecuteTime": {
     "end_time": "2022-01-31T21:04:45.557917Z",
     "start_time": "2022-01-31T21:04:45.553367Z"
    }
   },
   "outputs": [],
   "source": [
    "all_features_columns = ['investment_id', 'target'] + features"
   ]
  },
  {
   "cell_type": "code",
   "execution_count": 18,
   "id": "3b64999c-aa33-4149-9beb-42ae79a853c1",
   "metadata": {
    "ExecuteTime": {
     "end_time": "2022-01-31T21:04:45.566089Z",
     "start_time": "2022-01-31T21:04:45.561148Z"
    }
   },
   "outputs": [],
   "source": [
    "def get_feature_array_train(rows):\n",
    "    target_val = rows.target.values\n",
    "    \n",
    "    inp_vec = rows[all_features_columns].values\n",
    "    \n",
    "    return inp_vec,target_val"
   ]
  },
  {
   "cell_type": "code",
   "execution_count": 19,
   "id": "25947fd1-47fc-48ca-be8d-ee9636ee707f",
   "metadata": {
    "ExecuteTime": {
     "end_time": "2022-01-31T21:04:45.574598Z",
     "start_time": "2022-01-31T21:04:45.568870Z"
    }
   },
   "outputs": [],
   "source": [
    "def sliding_windows(X,Y,seq_length,prediction_length):\n",
    "    x = []\n",
    "    y = []\n",
    "    for i in range(len(X)-(prediction_length+seq_length)):\n",
    "        _x = X[i:(i+seq_length),:].reshape(seq_length,-1)\n",
    "#         _y = Y[(i+seq_length):(i+prediction_length+seq_length),:]\n",
    "        _y = Y[i+seq_length]\n",
    "        x.append(_x)\n",
    "        y.append(_y)\n",
    "\n",
    "    return x,y"
   ]
  },
  {
   "cell_type": "code",
   "execution_count": 20,
   "id": "12782abe-57c2-45b6-913f-e3f54de2f618",
   "metadata": {
    "ExecuteTime": {
     "end_time": "2022-01-31T21:04:45.591457Z",
     "start_time": "2022-01-31T21:04:45.576953Z"
    }
   },
   "outputs": [],
   "source": [
    "def make_sequences(df):\n",
    "    x = []\n",
    "    y = []\n",
    "    investment_ids = df.investment_id.unique()\n",
    "    for iid in investment_ids:\n",
    "        if iid not in to_exclude_ids:\n",
    "            df_tmp = df[df.investment_id == iid].sort_values('time_id')\n",
    "            tmp_X,tmp_Y = get_feature_array_train(df_tmp)\n",
    "            _x,_y = sliding_windows(tmp_X,tmp_Y,input_chunk_length,output_chunk_length)\n",
    "            x.extend(_x)\n",
    "            y.extend(_y)\n",
    "            \n",
    "#             gc.collect()\n",
    "        # else:\n",
    "        #     print('Not including iid:', iid)\n",
    "    \n",
    "    return np.float32(np.array(x)),np.float32(np.array(y))\n",
    "            \n",
    "            \n",
    "        "
   ]
  },
  {
   "cell_type": "code",
   "execution_count": null,
   "id": "5499a796-61f5-444a-9197-88a58036d064",
   "metadata": {},
   "outputs": [],
   "source": []
  },
  {
   "cell_type": "code",
   "execution_count": 21,
   "id": "5344b74f-8e69-4869-986d-f357b55f43c6",
   "metadata": {
    "ExecuteTime": {
     "end_time": "2022-01-31T21:04:45.595946Z",
     "start_time": "2022-01-31T21:04:45.593631Z"
    }
   },
   "outputs": [],
   "source": [
    "#### For now doing only for 1 fold ######"
   ]
  },
  {
   "cell_type": "code",
   "execution_count": null,
   "id": "506ddd96-4bc9-454c-b394-8d2499606b0c",
   "metadata": {
    "ExecuteTime": {
     "start_time": "2022-01-31T21:04:38.943Z"
    }
   },
   "outputs": [
    {
     "name": "stdout",
     "output_type": "stream",
     "text": [
      "Preparing training data for fold: 0\n",
      "(531075, 304)\n",
      "(421258, 30, 302) (421258,)\n",
      "Preparing training data for fold: 1\n",
      "(1053141, 304)\n",
      "(942773, 30, 302) (942773,)\n",
      "Preparing training data for fold: 2\n",
      "(1575207, 304)\n",
      "(1464649, 30, 302) (1464649,)\n",
      "Preparing training data for fold: 3\n",
      "(2097273, 304)\n"
     ]
    }
   ],
   "source": [
    "for fold in folds.keys():\n",
    "#     train_data_fold = {}\n",
    "    print('Preparing training data for fold:', fold)\n",
    "    train_indxs = folds[fold]['train']\n",
    "    test_indxs = folds[fold]['test']\n",
    "#     test_f_df = train_df[train_df.index.isin(test_indxs)].reset_index(drop=True)\n",
    "    train_f_df = train_df[train_df.index.isin(train_indxs)].reset_index(drop=True)\n",
    "    print(train_f_df.shape)\n",
    "    count_df = train_f_df.groupby('investment_id',as_index=False).agg(c = ('time_id', len))\n",
    "    to_exclude_ids = count_df[count_df.c<input_chunk_length+1].investment_id.unique().tolist()\n",
    "    \n",
    "    X_train, Y_train = make_sequences(train_f_df)\n",
    "#     Y_train = Y_train.reshape(-1,1)\n",
    "    print(X_train.shape,Y_train.shape)\n",
    "    np.savez_compressed(BASE_DIR+'input/fold_train_'+str(fold),X_train=X_train,Y_train=Y_train )\n",
    "#     train_data_fold['X_train'] = X_train\n",
    "#     train_data_fold['Y_train'] = Y_train\n",
    "#     with open(BASE_DIR+'input/fold_train_X_'+str(fold)+'.pickle', 'wb') as handle:\n",
    "#         pickle.dump(X_train, handle, protocol=pickle.HIGHEST_PROTOCOL)\n",
    "#     with open(BASE_DIR+'input/fold_train_Y_'+str(fold)+'.pickle', 'wb') as handle:\n",
    "#         pickle.dump(Y_train, handle, protocol=pickle.HIGHEST_PROTOCOL)\n",
    "\n",
    "    "
   ]
  },
  {
   "cell_type": "code",
   "execution_count": null,
   "id": "4c5cdd76",
   "metadata": {},
   "outputs": [],
   "source": []
  }
 ],
 "metadata": {
  "kernelspec": {
   "display_name": "Python 3",
   "language": "python",
   "name": "python3"
  },
  "language_info": {
   "codemirror_mode": {
    "name": "ipython",
    "version": 3
   },
   "file_extension": ".py",
   "mimetype": "text/x-python",
   "name": "python",
   "nbconvert_exporter": "python",
   "pygments_lexer": "ipython3",
   "version": "3.8.5"
  },
  "toc": {
   "base_numbering": 1,
   "nav_menu": {},
   "number_sections": false,
   "sideBar": true,
   "skip_h1_title": false,
   "title_cell": "Table of Contents",
   "title_sidebar": "Contents",
   "toc_cell": false,
   "toc_position": {},
   "toc_section_display": true,
   "toc_window_display": false
  }
 },
 "nbformat": 4,
 "nbformat_minor": 5
}
