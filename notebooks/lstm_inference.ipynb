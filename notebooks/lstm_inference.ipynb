{
 "cells": [
  {
   "cell_type": "code",
   "execution_count": 1,
   "id": "75828541",
   "metadata": {
    "ExecuteTime": {
     "end_time": "2022-02-02T16:59:52.291029Z",
     "start_time": "2022-02-02T16:59:51.775859Z"
    }
   },
   "outputs": [],
   "source": [
    "import numpy as np\n",
    "import pandas as pd\n",
    "import pickle\n",
    "from datetime import datetime\n",
    "from matplotlib import pyplot as plt\n",
    "from sklearn.preprocessing import LabelEncoder\n",
    "from sklearn.model_selection import GroupKFold\n",
    "import dateutil.easter as easter"
   ]
  },
  {
   "cell_type": "code",
   "execution_count": 2,
   "id": "14d1e7b5",
   "metadata": {
    "ExecuteTime": {
     "end_time": "2022-02-02T16:59:53.354780Z",
     "start_time": "2022-02-02T16:59:52.293512Z"
    }
   },
   "outputs": [],
   "source": [
    "import torch\n",
    "import torch.nn as nn\n",
    "from torch.autograd import Variable"
   ]
  },
  {
   "cell_type": "code",
   "execution_count": 3,
   "id": "6c51c393",
   "metadata": {
    "ExecuteTime": {
     "end_time": "2022-02-02T16:59:53.360038Z",
     "start_time": "2022-02-02T16:59:53.357051Z"
    }
   },
   "outputs": [],
   "source": [
    "from torch.utils.data import Dataset, DataLoader"
   ]
  },
  {
   "cell_type": "code",
   "execution_count": 4,
   "id": "bed4adaf",
   "metadata": {
    "ExecuteTime": {
     "end_time": "2022-02-02T16:59:53.385316Z",
     "start_time": "2022-02-02T16:59:53.361983Z"
    }
   },
   "outputs": [],
   "source": [
    "from accelerate import Accelerator\n",
    "import torch.optim as optim"
   ]
  },
  {
   "cell_type": "code",
   "execution_count": 5,
   "id": "a8e0469e",
   "metadata": {
    "ExecuteTime": {
     "end_time": "2022-02-02T16:59:53.390905Z",
     "start_time": "2022-02-02T16:59:53.387264Z"
    }
   },
   "outputs": [],
   "source": [
    "import time"
   ]
  },
  {
   "cell_type": "code",
   "execution_count": 6,
   "id": "91ffe8e9",
   "metadata": {
    "ExecuteTime": {
     "end_time": "2022-02-02T16:59:53.395432Z",
     "start_time": "2022-02-02T16:59:53.392933Z"
    }
   },
   "outputs": [],
   "source": [
    "from tqdm.notebook import tqdm"
   ]
  },
  {
   "cell_type": "code",
   "execution_count": 7,
   "id": "45800f4d",
   "metadata": {
    "ExecuteTime": {
     "end_time": "2022-02-02T16:59:53.400453Z",
     "start_time": "2022-02-02T16:59:53.398144Z"
    }
   },
   "outputs": [],
   "source": [
    "import gc"
   ]
  },
  {
   "cell_type": "code",
   "execution_count": null,
   "id": "38549631",
   "metadata": {},
   "outputs": [],
   "source": []
  },
  {
   "cell_type": "markdown",
   "id": "6cd565ee",
   "metadata": {},
   "source": [
    "## Global Variables ###"
   ]
  },
  {
   "cell_type": "code",
   "execution_count": 8,
   "id": "005e79f5",
   "metadata": {
    "ExecuteTime": {
     "end_time": "2022-02-02T16:59:53.430735Z",
     "start_time": "2022-02-02T16:59:53.402652Z"
    }
   },
   "outputs": [],
   "source": [
    "device = torch.device(\"cuda:0\" if torch.cuda.is_available() else \"cpu\")"
   ]
  },
  {
   "cell_type": "code",
   "execution_count": 9,
   "id": "fc940149",
   "metadata": {
    "ExecuteTime": {
     "end_time": "2022-02-02T16:59:53.438176Z",
     "start_time": "2022-02-02T16:59:53.432508Z"
    }
   },
   "outputs": [
    {
     "data": {
      "text/plain": [
       "device(type='cuda', index=0)"
      ]
     },
     "execution_count": 9,
     "metadata": {},
     "output_type": "execute_result"
    }
   ],
   "source": [
    "device"
   ]
  },
  {
   "cell_type": "code",
   "execution_count": 10,
   "id": "1c37f739",
   "metadata": {
    "ExecuteTime": {
     "end_time": "2022-02-02T16:59:53.443033Z",
     "start_time": "2022-02-02T16:59:53.439663Z"
    }
   },
   "outputs": [],
   "source": [
    "from colorama import Fore, Back, Style\n",
    "r_ = Fore.RED\n",
    "b_ = Fore.BLUE\n",
    "c_ = Fore.CYAN\n",
    "g_ = Fore.GREEN\n",
    "y_ = Fore.YELLOW\n",
    "m_ = Fore.MAGENTA\n",
    "sr_ = Style.RESET_ALL"
   ]
  },
  {
   "cell_type": "code",
   "execution_count": 11,
   "id": "5f83348c",
   "metadata": {
    "ExecuteTime": {
     "end_time": "2022-02-02T16:59:53.447772Z",
     "start_time": "2022-02-02T16:59:53.444836Z"
    }
   },
   "outputs": [],
   "source": [
    "BASE_DIR = '/sharedHDD/rohit/timeseries_learning/ubiquant/'\n",
    "DATA_DIR = BASE_DIR+'data/parquet/'\n",
    "INPUT_DIR = BASE_DIR+'input/'\n",
    "WEIGHTS_DIR = BASE_DIR + 'weights/'\n",
    "OUTPUT_DIR = BASE_DIR+'output/'"
   ]
  },
  {
   "cell_type": "code",
   "execution_count": 12,
   "id": "f4ab31b6",
   "metadata": {
    "ExecuteTime": {
     "end_time": "2022-02-02T16:59:53.452051Z",
     "start_time": "2022-02-02T16:59:53.449366Z"
    }
   },
   "outputs": [],
   "source": [
    "input_chunk_length = 30\n",
    "output_chunk_length = 1\n",
    "embedding_dim = 50 ## Investment id embedding dim"
   ]
  },
  {
   "cell_type": "code",
   "execution_count": 13,
   "id": "2309c605",
   "metadata": {
    "ExecuteTime": {
     "end_time": "2022-02-02T16:59:53.456512Z",
     "start_time": "2022-02-02T16:59:53.453734Z"
    }
   },
   "outputs": [],
   "source": [
    "features = [f'f_{i}' for i in range(300)]"
   ]
  },
  {
   "cell_type": "markdown",
   "id": "d35a6b41",
   "metadata": {},
   "source": [
    "## Load data ##"
   ]
  },
  {
   "cell_type": "code",
   "execution_count": 14,
   "id": "9b55ee2d",
   "metadata": {
    "ExecuteTime": {
     "end_time": "2022-02-02T16:59:57.609534Z",
     "start_time": "2022-02-02T16:59:53.458521Z"
    }
   },
   "outputs": [
    {
     "name": "stdout",
     "output_type": "stream",
     "text": [
      "CPU times: user 8.55 s, sys: 14.7 s, total: 23.3 s\n",
      "Wall time: 4.14 s\n"
     ]
    }
   ],
   "source": [
    "%%time\n",
    "train_df = pd.read_parquet(DATA_DIR+'train_low_mem.parquet')"
   ]
  },
  {
   "cell_type": "code",
   "execution_count": 15,
   "id": "27c5fc29",
   "metadata": {
    "ExecuteTime": {
     "end_time": "2022-02-02T16:59:57.635504Z",
     "start_time": "2022-02-02T16:59:57.613566Z"
    }
   },
   "outputs": [],
   "source": [
    "investment_ids = train_df.investment_id.unique().tolist()"
   ]
  },
  {
   "cell_type": "code",
   "execution_count": 16,
   "id": "e1f8de92",
   "metadata": {
    "ExecuteTime": {
     "end_time": "2022-02-02T16:59:58.313498Z",
     "start_time": "2022-02-02T16:59:57.637178Z"
    }
   },
   "outputs": [],
   "source": [
    "with open(BASE_DIR+'input/folds.pickle', 'rb') as f:\n",
    "    folds = pickle.load(f)"
   ]
  },
  {
   "cell_type": "markdown",
   "id": "347de882",
   "metadata": {},
   "source": [
    "## Model ##"
   ]
  },
  {
   "cell_type": "code",
   "execution_count": 17,
   "id": "c2d673a9",
   "metadata": {
    "ExecuteTime": {
     "end_time": "2022-02-02T16:59:58.330100Z",
     "start_time": "2022-02-02T16:59:58.320434Z"
    }
   },
   "outputs": [],
   "source": [
    "config = {\n",
    "    'seq_length' : input_chunk_length,\n",
    "    'num_epochs' : 100,\n",
    "    'lr' : 0.00001,\n",
    "    'input_size' : 351,\n",
    "    'hidden_size' : 351,\n",
    "    'num_layers' : 1,\n",
    "    'num_classes' :1, ## This is  output dimension\n",
    "    'train_shuffle': True,\n",
    "    'val_shuffle': True,\n",
    "    'batch_size' : 4096*2,\n",
    "    'best_model_name' : 'lstm',\n",
    "    'bidirectional' : False,\n",
    "    'only_last_hidden': True\n",
    "}"
   ]
  },
  {
   "cell_type": "code",
   "execution_count": 18,
   "id": "a6e64db6",
   "metadata": {
    "ExecuteTime": {
     "end_time": "2022-02-02T16:59:58.336580Z",
     "start_time": "2022-02-02T16:59:58.332358Z"
    }
   },
   "outputs": [],
   "source": [
    "num_epochs = config['num_epochs']\n",
    "lr = config['lr']\n",
    "input_size = config['input_size']\n",
    "hidden_size = config['hidden_size']\n",
    "num_layers = config['num_layers']\n",
    "num_classes = config['num_classes']\n",
    "seq_length = config['seq_length']\n",
    "bidirectional = config['bidirectional']\n",
    "only_last_hidden = config['only_last_hidden']"
   ]
  },
  {
   "cell_type": "code",
   "execution_count": 19,
   "id": "61e85ec2",
   "metadata": {
    "ExecuteTime": {
     "end_time": "2022-02-02T16:59:58.448137Z",
     "start_time": "2022-02-02T16:59:58.338488Z"
    }
   },
   "outputs": [],
   "source": [
    "class LstmTsModel(nn.Module):\n",
    "\n",
    "    def __init__(self, num_classes, input_size, hidden_size, num_layers,seq_length):\n",
    "        super(LstmTsModel, self).__init__()\n",
    "        \n",
    "        self.num_classes = num_classes\n",
    "        self.num_layers = num_layers\n",
    "        self.input_size = input_size\n",
    "        self.hidden_size = hidden_size\n",
    "        self.seq_length = seq_length\n",
    "        \n",
    "        cat_input_dim: int = 3774\n",
    "        \n",
    "        self.embedding = nn.Embedding(cat_input_dim, embedding_dim)\n",
    "        \n",
    "        self.lstm = nn.LSTM(input_size=input_size, hidden_size=hidden_size,\n",
    "                            num_layers=num_layers, batch_first=True,bidirectional=bidirectional)\n",
    "        \n",
    "        if bidirectional:\n",
    "            m=2\n",
    "        else:\n",
    "            m=1\n",
    "        \n",
    "        if only_last_hidden:\n",
    "            input_fc_dim = hidden_size*m\n",
    "        else:\n",
    "            input_fc_dim = self.seq_length*hidden_size*m\n",
    "        \n",
    "        print(input_fc_dim)\n",
    "        \n",
    "        self.fc = nn.Sequential(nn.Linear(input_fc_dim, input_fc_dim//2),\n",
    "                                nn.BatchNorm1d(num_features=input_fc_dim//2),\n",
    "                                nn.Dropout(0.2),\n",
    "                                nn.ReLU(),\n",
    "                                \n",
    "#                                 nn.Linear(input_fc_dim//4, input_fc_dim//16),\n",
    "#                                 nn.BatchNorm1d(num_features=input_fc_dim//16),\n",
    "#                                 nn.Dropout(0.2),\n",
    "#                                 nn.ReLU(),\n",
    "                                \n",
    "#                                 nn.Linear(input_fc_dim//16, input_fc_dim//32),\n",
    "#                                 nn.BatchNorm1d(num_features=input_fc_dim//32),\n",
    "#                                 # nn.Dropout(0.2),\n",
    "#                                 nn.ReLU(),\n",
    "                                \n",
    "                                \n",
    "                                nn.Linear(input_fc_dim//2, self.num_classes)\n",
    "                                )\n",
    "\n",
    "    def forward(self, x):\n",
    "        # Propagate input through LSTM\n",
    "        \n",
    "        investment_ids = x[:,:,0].type(torch.LongTensor).to(device)\n",
    "        \n",
    "        embeddings = self.embedding(investment_ids)\n",
    "        \n",
    "        x = torch.cat([embeddings,x[:,:,1:]], dim=2)\n",
    "        \n",
    "        h_out, (h_n, _) = self.lstm(x)\n",
    "        if only_last_hidden:\n",
    "            h_out = h_out[:,-1:,:]\n",
    "        \n",
    "#         print(h_out.shape)\n",
    "        h_out = h_out.flatten(start_dim=1)\n",
    "#         print(h_out.shape)\n",
    "        \n",
    "        out = self.fc(h_out)\n",
    "        \n",
    "        return out"
   ]
  },
  {
   "cell_type": "markdown",
   "id": "5ecf33ad",
   "metadata": {},
   "source": [
    "## Prediction ###"
   ]
  },
  {
   "cell_type": "code",
   "execution_count": 20,
   "id": "6b15dcee",
   "metadata": {
    "ExecuteTime": {
     "end_time": "2022-02-02T16:59:58.452916Z",
     "start_time": "2022-02-02T16:59:58.450025Z"
    }
   },
   "outputs": [],
   "source": [
    "all_features_columns = ['investment_id', 'target'] + features"
   ]
  },
  {
   "cell_type": "code",
   "execution_count": 21,
   "id": "b7e63330",
   "metadata": {
    "ExecuteTime": {
     "end_time": "2022-02-02T16:59:58.459798Z",
     "start_time": "2022-02-02T16:59:58.454782Z"
    }
   },
   "outputs": [],
   "source": [
    "def create_context_for_investment_id(df,iid,context_length):\n",
    "    ### df is df for investment id #####\n",
    "    df = df.sort_values('time_id').reset_index(drop=True)\n",
    "    if len(df) >= context_length:\n",
    "        c_df = df.iloc[-context_length:,:].reset_index(drop=True)\n",
    "        c = c_df[all_features_columns].values\n",
    "    elif len(df) == 0:\n",
    "        c = np.zeros((context_length,len(all_features_columns)))\n",
    "        c[:, 0] = iid\n",
    "    else:\n",
    "        c_df = df.iloc[-context_length:,:].reset_index(drop=True)\n",
    "        c = c_df[all_features_columns].values\n",
    "        c = np.resize(c, (context_length, c.shape[-1]))\n",
    "        \n",
    "    \n",
    "    c = np.expand_dims(c, axis=0)\n",
    "    return c\n",
    "    "
   ]
  },
  {
   "cell_type": "code",
   "execution_count": 22,
   "id": "330d1149",
   "metadata": {
    "ExecuteTime": {
     "end_time": "2022-02-02T16:59:58.464850Z",
     "start_time": "2022-02-02T16:59:58.462623Z"
    }
   },
   "outputs": [],
   "source": [
    "# create_context_for_investment_id(train_f_df[train_f_df.investment_id == 1],input_chunk_length)"
   ]
  },
  {
   "cell_type": "code",
   "execution_count": 23,
   "id": "49c48b0a",
   "metadata": {
    "ExecuteTime": {
     "end_time": "2022-02-02T17:26:08.356408Z",
     "start_time": "2022-02-02T16:59:58.466587Z"
    }
   },
   "outputs": [
    {
     "name": "stdout",
     "output_type": "stream",
     "text": [
      "Starting for fold: 2\u001b[31m\n",
      "Preparing data for fold: 2\u001b[35m\n",
      "351\n",
      "Starting for fold: 3\u001b[31m\n",
      "Preparing data for fold: 3\u001b[35m\n",
      "351\n"
     ]
    },
    {
     "ename": "KeyboardInterrupt",
     "evalue": "",
     "output_type": "error",
     "traceback": [
      "\u001b[0;31m---------------------------------------------------------------------------\u001b[0m",
      "\u001b[0;31mKeyboardInterrupt\u001b[0m                         Traceback (most recent call last)",
      "\u001b[0;32m<ipython-input-23-9feeb6e9da28>\u001b[0m in \u001b[0;36m<module>\u001b[0;34m\u001b[0m\n\u001b[1;32m     30\u001b[0m             \u001b[0minv_id\u001b[0m \u001b[0;34m=\u001b[0m \u001b[0mrow\u001b[0m\u001b[0;34m[\u001b[0m\u001b[0;34m'investment_id'\u001b[0m\u001b[0;34m]\u001b[0m\u001b[0;34m\u001b[0m\u001b[0;34m\u001b[0m\u001b[0m\n\u001b[1;32m     31\u001b[0m             \u001b[0mctx\u001b[0m \u001b[0;34m=\u001b[0m \u001b[0mcontext\u001b[0m\u001b[0;34m[\u001b[0m\u001b[0minv_id\u001b[0m\u001b[0;34m]\u001b[0m\u001b[0;34m\u001b[0m\u001b[0;34m\u001b[0m\u001b[0m\n\u001b[0;32m---> 32\u001b[0;31m             \u001b[0mout\u001b[0m \u001b[0;34m=\u001b[0m \u001b[0mmodel\u001b[0m\u001b[0;34m(\u001b[0m\u001b[0mtorch\u001b[0m\u001b[0;34m.\u001b[0m\u001b[0mTensor\u001b[0m\u001b[0;34m(\u001b[0m\u001b[0mctx\u001b[0m\u001b[0;34m.\u001b[0m\u001b[0mastype\u001b[0m\u001b[0;34m(\u001b[0m\u001b[0mfloat\u001b[0m\u001b[0;34m)\u001b[0m\u001b[0;34m)\u001b[0m\u001b[0;34m.\u001b[0m\u001b[0mto\u001b[0m\u001b[0;34m(\u001b[0m\u001b[0mdevice\u001b[0m\u001b[0;34m)\u001b[0m\u001b[0;34m)\u001b[0m\u001b[0;34m.\u001b[0m\u001b[0msqueeze\u001b[0m\u001b[0;34m(\u001b[0m\u001b[0;34m)\u001b[0m\u001b[0;34m.\u001b[0m\u001b[0mcpu\u001b[0m\u001b[0;34m(\u001b[0m\u001b[0;34m)\u001b[0m\u001b[0;34m.\u001b[0m\u001b[0mitem\u001b[0m\u001b[0;34m(\u001b[0m\u001b[0;34m)\u001b[0m\u001b[0;34m\u001b[0m\u001b[0;34m\u001b[0m\u001b[0m\n\u001b[0m\u001b[1;32m     33\u001b[0m \u001b[0;31m#             print(out)\u001b[0m\u001b[0;34m\u001b[0m\u001b[0;34m\u001b[0m\u001b[0;34m\u001b[0m\u001b[0m\n\u001b[1;32m     34\u001b[0m             \u001b[0mtest_f_df\u001b[0m\u001b[0;34m.\u001b[0m\u001b[0mat\u001b[0m\u001b[0;34m[\u001b[0m\u001b[0mi\u001b[0m\u001b[0;34m,\u001b[0m \u001b[0;34m'target'\u001b[0m\u001b[0;34m]\u001b[0m \u001b[0;34m=\u001b[0m \u001b[0mfloat\u001b[0m\u001b[0;34m(\u001b[0m\u001b[0mout\u001b[0m\u001b[0;34m)\u001b[0m\u001b[0;34m\u001b[0m\u001b[0;34m\u001b[0m\u001b[0m\n",
      "\u001b[0;32m~/opt/conda/lib/python3.8/site-packages/torch/nn/modules/module.py\u001b[0m in \u001b[0;36m_call_impl\u001b[0;34m(self, *input, **kwargs)\u001b[0m\n\u001b[1;32m   1100\u001b[0m         if not (self._backward_hooks or self._forward_hooks or self._forward_pre_hooks or _global_backward_hooks\n\u001b[1;32m   1101\u001b[0m                 or _global_forward_hooks or _global_forward_pre_hooks):\n\u001b[0;32m-> 1102\u001b[0;31m             \u001b[0;32mreturn\u001b[0m \u001b[0mforward_call\u001b[0m\u001b[0;34m(\u001b[0m\u001b[0;34m*\u001b[0m\u001b[0minput\u001b[0m\u001b[0;34m,\u001b[0m \u001b[0;34m**\u001b[0m\u001b[0mkwargs\u001b[0m\u001b[0;34m)\u001b[0m\u001b[0;34m\u001b[0m\u001b[0;34m\u001b[0m\u001b[0m\n\u001b[0m\u001b[1;32m   1103\u001b[0m         \u001b[0;31m# Do not call functions when jit is used\u001b[0m\u001b[0;34m\u001b[0m\u001b[0;34m\u001b[0m\u001b[0;34m\u001b[0m\u001b[0m\n\u001b[1;32m   1104\u001b[0m         \u001b[0mfull_backward_hooks\u001b[0m\u001b[0;34m,\u001b[0m \u001b[0mnon_full_backward_hooks\u001b[0m \u001b[0;34m=\u001b[0m \u001b[0;34m[\u001b[0m\u001b[0;34m]\u001b[0m\u001b[0;34m,\u001b[0m \u001b[0;34m[\u001b[0m\u001b[0;34m]\u001b[0m\u001b[0;34m\u001b[0m\u001b[0;34m\u001b[0m\u001b[0m\n",
      "\u001b[0;32m<ipython-input-19-54fc7120cb3c>\u001b[0m in \u001b[0;36mforward\u001b[0;34m(self, x)\u001b[0m\n\u001b[1;32m     57\u001b[0m         \u001b[0mx\u001b[0m \u001b[0;34m=\u001b[0m \u001b[0mtorch\u001b[0m\u001b[0;34m.\u001b[0m\u001b[0mcat\u001b[0m\u001b[0;34m(\u001b[0m\u001b[0;34m[\u001b[0m\u001b[0membeddings\u001b[0m\u001b[0;34m,\u001b[0m\u001b[0mx\u001b[0m\u001b[0;34m[\u001b[0m\u001b[0;34m:\u001b[0m\u001b[0;34m,\u001b[0m\u001b[0;34m:\u001b[0m\u001b[0;34m,\u001b[0m\u001b[0;36m1\u001b[0m\u001b[0;34m:\u001b[0m\u001b[0;34m]\u001b[0m\u001b[0;34m]\u001b[0m\u001b[0;34m,\u001b[0m \u001b[0mdim\u001b[0m\u001b[0;34m=\u001b[0m\u001b[0;36m2\u001b[0m\u001b[0;34m)\u001b[0m\u001b[0;34m\u001b[0m\u001b[0;34m\u001b[0m\u001b[0m\n\u001b[1;32m     58\u001b[0m \u001b[0;34m\u001b[0m\u001b[0m\n\u001b[0;32m---> 59\u001b[0;31m         \u001b[0mh_out\u001b[0m\u001b[0;34m,\u001b[0m \u001b[0;34m(\u001b[0m\u001b[0mh_n\u001b[0m\u001b[0;34m,\u001b[0m \u001b[0m_\u001b[0m\u001b[0;34m)\u001b[0m \u001b[0;34m=\u001b[0m \u001b[0mself\u001b[0m\u001b[0;34m.\u001b[0m\u001b[0mlstm\u001b[0m\u001b[0;34m(\u001b[0m\u001b[0mx\u001b[0m\u001b[0;34m)\u001b[0m\u001b[0;34m\u001b[0m\u001b[0;34m\u001b[0m\u001b[0m\n\u001b[0m\u001b[1;32m     60\u001b[0m         \u001b[0;32mif\u001b[0m \u001b[0monly_last_hidden\u001b[0m\u001b[0;34m:\u001b[0m\u001b[0;34m\u001b[0m\u001b[0;34m\u001b[0m\u001b[0m\n\u001b[1;32m     61\u001b[0m             \u001b[0mh_out\u001b[0m \u001b[0;34m=\u001b[0m \u001b[0mh_out\u001b[0m\u001b[0;34m[\u001b[0m\u001b[0;34m:\u001b[0m\u001b[0;34m,\u001b[0m\u001b[0;34m-\u001b[0m\u001b[0;36m1\u001b[0m\u001b[0;34m:\u001b[0m\u001b[0;34m,\u001b[0m\u001b[0;34m:\u001b[0m\u001b[0;34m]\u001b[0m\u001b[0;34m\u001b[0m\u001b[0;34m\u001b[0m\u001b[0m\n",
      "\u001b[0;32m~/opt/conda/lib/python3.8/site-packages/torch/nn/modules/module.py\u001b[0m in \u001b[0;36m_call_impl\u001b[0;34m(self, *input, **kwargs)\u001b[0m\n\u001b[1;32m   1100\u001b[0m         if not (self._backward_hooks or self._forward_hooks or self._forward_pre_hooks or _global_backward_hooks\n\u001b[1;32m   1101\u001b[0m                 or _global_forward_hooks or _global_forward_pre_hooks):\n\u001b[0;32m-> 1102\u001b[0;31m             \u001b[0;32mreturn\u001b[0m \u001b[0mforward_call\u001b[0m\u001b[0;34m(\u001b[0m\u001b[0;34m*\u001b[0m\u001b[0minput\u001b[0m\u001b[0;34m,\u001b[0m \u001b[0;34m**\u001b[0m\u001b[0mkwargs\u001b[0m\u001b[0;34m)\u001b[0m\u001b[0;34m\u001b[0m\u001b[0;34m\u001b[0m\u001b[0m\n\u001b[0m\u001b[1;32m   1103\u001b[0m         \u001b[0;31m# Do not call functions when jit is used\u001b[0m\u001b[0;34m\u001b[0m\u001b[0;34m\u001b[0m\u001b[0;34m\u001b[0m\u001b[0m\n\u001b[1;32m   1104\u001b[0m         \u001b[0mfull_backward_hooks\u001b[0m\u001b[0;34m,\u001b[0m \u001b[0mnon_full_backward_hooks\u001b[0m \u001b[0;34m=\u001b[0m \u001b[0;34m[\u001b[0m\u001b[0;34m]\u001b[0m\u001b[0;34m,\u001b[0m \u001b[0;34m[\u001b[0m\u001b[0;34m]\u001b[0m\u001b[0;34m\u001b[0m\u001b[0;34m\u001b[0m\u001b[0m\n",
      "\u001b[0;32m~/opt/conda/lib/python3.8/site-packages/torch/nn/modules/rnn.py\u001b[0m in \u001b[0;36mforward\u001b[0;34m(self, input, hx)\u001b[0m\n\u001b[1;32m    689\u001b[0m         \u001b[0mself\u001b[0m\u001b[0;34m.\u001b[0m\u001b[0mcheck_forward_args\u001b[0m\u001b[0;34m(\u001b[0m\u001b[0minput\u001b[0m\u001b[0;34m,\u001b[0m \u001b[0mhx\u001b[0m\u001b[0;34m,\u001b[0m \u001b[0mbatch_sizes\u001b[0m\u001b[0;34m)\u001b[0m\u001b[0;34m\u001b[0m\u001b[0;34m\u001b[0m\u001b[0m\n\u001b[1;32m    690\u001b[0m         \u001b[0;32mif\u001b[0m \u001b[0mbatch_sizes\u001b[0m \u001b[0;32mis\u001b[0m \u001b[0;32mNone\u001b[0m\u001b[0;34m:\u001b[0m\u001b[0;34m\u001b[0m\u001b[0;34m\u001b[0m\u001b[0m\n\u001b[0;32m--> 691\u001b[0;31m             result = _VF.lstm(input, hx, self._flat_weights, self.bias, self.num_layers,\n\u001b[0m\u001b[1;32m    692\u001b[0m                               self.dropout, self.training, self.bidirectional, self.batch_first)\n\u001b[1;32m    693\u001b[0m         \u001b[0;32melse\u001b[0m\u001b[0;34m:\u001b[0m\u001b[0;34m\u001b[0m\u001b[0;34m\u001b[0m\u001b[0m\n",
      "\u001b[0;31mKeyboardInterrupt\u001b[0m: "
     ]
    }
   ],
   "source": [
    "\n",
    "# for fold in folds.keys():\n",
    "for fold in [2,3,4]:\n",
    "    print(f'Starting for fold: {fold}{r_}')\n",
    "    print(f'Preparing data for fold: {fold}{m_}')\n",
    "    train_indxs = folds[fold]['train']\n",
    "    test_indxs = folds[fold]['test']\n",
    "    test_f_df = train_df[train_df.index.isin(test_indxs)].reset_index(drop=True)\n",
    "    train_f_df = train_df[train_df.index.isin(train_indxs)].reset_index(drop=True)\n",
    "    \n",
    "    test_f_df = test_f_df.sort_values(['investment_id','time_id']).rename(columns = {'target': 'target_o'}).reset_index(drop=True)\n",
    "    test_f_df['target'] = -111.1\n",
    "\n",
    "    #### Create Context #####\n",
    "    context = {}\n",
    "    for iid in investment_ids:\n",
    "#             print(f'fold: {fold} Investment id {iid}{r_}')\n",
    "        iid_df = train_f_df[train_f_df.investment_id == iid]\n",
    "        c = create_context_for_investment_id(iid_df,iid,input_chunk_length)\n",
    "        context[iid] = c\n",
    "\n",
    "\n",
    "    #### Load model #####\n",
    "    model = LstmTsModel(num_classes, input_size, hidden_size, num_layers,seq_length).to(device)\n",
    "    model.load_state_dict(torch.load(WEIGHTS_DIR+str(fold)+'_'+config['best_model_name']))\n",
    "    model.eval()\n",
    "    \n",
    "    #### Prediction ####\n",
    "    with torch.no_grad():\n",
    "        for i, row in test_f_df.iterrows():\n",
    "            inv_id = row['investment_id']\n",
    "            ctx = context[inv_id]\n",
    "            out = model(torch.Tensor(ctx.astype(float)).to(device)).squeeze().cpu().item()\n",
    "#             print(out)\n",
    "            test_f_df.at[i, 'target'] = float(out)\n",
    "            \n",
    "            ### Update Context #####\n",
    "            new_in_ctx = test_f_df.loc[i][all_features_columns].values.reshape(1,-1).reshape(1,1,-1)\n",
    "            \n",
    "            context[inv_id] = np.concatenate((context[inv_id][:,1:,:], new_in_ctx),axis=1)\n",
    "    \n",
    "    \n",
    "    test_f_df[['row_id','time_id','investment_id','target_o','target']].to_csv(OUTPUT_DIR+str(fold)+'_'+config['best_model_name']+'.csv', index=False)\n",
    "    \n",
    "    \n",
    "    \n",
    "        \n",
    "        "
   ]
  },
  {
   "cell_type": "code",
   "execution_count": null,
   "id": "5771f019",
   "metadata": {
    "ExecuteTime": {
     "end_time": "2022-02-02T17:26:08.358946Z",
     "start_time": "2022-02-02T16:59:51.634Z"
    }
   },
   "outputs": [],
   "source": [
    "test_f_df.loc[:500]['target'].hist()"
   ]
  },
  {
   "cell_type": "code",
   "execution_count": null,
   "id": "0ed9eb52",
   "metadata": {},
   "outputs": [],
   "source": []
  }
 ],
 "metadata": {
  "kernelspec": {
   "display_name": "Python 3",
   "language": "python",
   "name": "python3"
  },
  "language_info": {
   "codemirror_mode": {
    "name": "ipython",
    "version": 3
   },
   "file_extension": ".py",
   "mimetype": "text/x-python",
   "name": "python",
   "nbconvert_exporter": "python",
   "pygments_lexer": "ipython3",
   "version": "3.8.5"
  },
  "toc": {
   "base_numbering": 1,
   "nav_menu": {},
   "number_sections": false,
   "sideBar": true,
   "skip_h1_title": false,
   "title_cell": "Table of Contents",
   "title_sidebar": "Contents",
   "toc_cell": false,
   "toc_position": {},
   "toc_section_display": true,
   "toc_window_display": false
  }
 },
 "nbformat": 4,
 "nbformat_minor": 5
}
