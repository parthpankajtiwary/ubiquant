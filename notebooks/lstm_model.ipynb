{
 "cells": [
  {
   "cell_type": "code",
   "execution_count": 1,
   "id": "5f1b600b-7d82-4220-8012-69ac123cc62e",
   "metadata": {},
   "outputs": [],
   "source": [
    "import pandas as pd"
   ]
  },
  {
   "cell_type": "code",
   "execution_count": 2,
   "id": "16e7d28e-519e-408d-915f-39216e80d78b",
   "metadata": {},
   "outputs": [],
   "source": [
    "import numpy as np"
   ]
  },
  {
   "cell_type": "code",
   "execution_count": 3,
   "id": "41d450ce-7bf0-4d52-91a7-4500d18522dd",
   "metadata": {},
   "outputs": [],
   "source": [
    "import dask.dataframe as dd"
   ]
  },
  {
   "cell_type": "code",
   "execution_count": 4,
   "id": "e5f9603b-66aa-4ed8-b3b5-11548372025e",
   "metadata": {},
   "outputs": [],
   "source": [
    "import gc"
   ]
  },
  {
   "cell_type": "code",
   "execution_count": 5,
   "id": "99106e62-9d0c-45ed-9f72-24f85627289f",
   "metadata": {},
   "outputs": [],
   "source": [
    "import pickle"
   ]
  },
  {
   "cell_type": "code",
   "execution_count": 6,
   "id": "feb83842-4f27-48d6-b6c8-d5d5f33f47de",
   "metadata": {},
   "outputs": [],
   "source": [
    "import torch\n",
    "import torch.nn as nn\n",
    "from torch.autograd import Variable"
   ]
  },
  {
   "cell_type": "code",
   "execution_count": 7,
   "id": "551659d1-b66f-4070-b7ab-79b04b05aea2",
   "metadata": {},
   "outputs": [],
   "source": [
    "from torch.utils.data import Dataset, DataLoader\n",
    "from accelerate import Accelerator\n",
    "import torch.optim as optim\n",
    "from sklearn.model_selection import train_test_split\n"
   ]
  },
  {
   "cell_type": "code",
   "execution_count": null,
   "id": "f24b0d51-e9a5-4cfe-8456-fb1c105023ed",
   "metadata": {},
   "outputs": [],
   "source": []
  },
  {
   "cell_type": "code",
   "execution_count": 8,
   "id": "5c1ba2c3-1c17-45ab-8c85-dba3fd303279",
   "metadata": {},
   "outputs": [],
   "source": [
    "# import sys\n",
    "# sys.path.append(\"../data/\")"
   ]
  },
  {
   "cell_type": "code",
   "execution_count": 9,
   "id": "51d98fa5-8b9b-49c5-8531-794ecdb2c79d",
   "metadata": {},
   "outputs": [],
   "source": [
    "# import ubiquant"
   ]
  },
  {
   "cell_type": "markdown",
   "id": "3c1bf97e-41fb-4dc4-b8d1-6ccbf9cceb6b",
   "metadata": {},
   "source": [
    "##### Global Variables ####"
   ]
  },
  {
   "cell_type": "code",
   "execution_count": 10,
   "id": "74bbea23-607f-40de-a115-2609aa8ce160",
   "metadata": {},
   "outputs": [],
   "source": [
    "from colorama import Fore, Back, Style\n",
    "r_ = Fore.RED\n",
    "b_ = Fore.BLUE\n",
    "c_ = Fore.CYAN\n",
    "g_ = Fore.GREEN\n",
    "y_ = Fore.YELLOW\n",
    "m_ = Fore.MAGENTA\n",
    "sr_ = Style.RESET_ALL"
   ]
  },
  {
   "cell_type": "code",
   "execution_count": 11,
   "id": "f07d7d8b-e7ea-4883-bbb4-1f6ff3d78ef7",
   "metadata": {},
   "outputs": [
    {
     "data": {
      "text/plain": [
       "0"
      ]
     },
     "execution_count": 11,
     "metadata": {},
     "output_type": "execute_result"
    }
   ],
   "source": [
    "gc.collect()"
   ]
  },
  {
   "cell_type": "code",
   "execution_count": 12,
   "id": "673f4f00-3768-4b71-b0b4-0da183a96683",
   "metadata": {},
   "outputs": [],
   "source": [
    "DATA_DIR = '../data/parquet/'"
   ]
  },
  {
   "cell_type": "code",
   "execution_count": 13,
   "id": "8d9094ba-bc90-4076-afcd-ddf3f7e86eb4",
   "metadata": {},
   "outputs": [],
   "source": [
    "device = torch.device(\"cuda:0\" if torch.cuda.is_available() else \"cpu\")"
   ]
  },
  {
   "cell_type": "code",
   "execution_count": 14,
   "id": "7f081ba8-ae4c-4627-ab75-f98afdc1eacf",
   "metadata": {},
   "outputs": [
    {
     "data": {
      "text/plain": [
       "device(type='cuda', index=0)"
      ]
     },
     "execution_count": 14,
     "metadata": {},
     "output_type": "execute_result"
    }
   ],
   "source": [
    "device"
   ]
  },
  {
   "cell_type": "code",
   "execution_count": 15,
   "id": "94733efa-2ac4-4cea-b5a2-937bce3758af",
   "metadata": {},
   "outputs": [],
   "source": [
    "input_chunk_length = 30\n",
    "output_chunk_length = 1\n",
    "hidden_size = 50"
   ]
  },
  {
   "cell_type": "code",
   "execution_count": 16,
   "id": "fcf63364-92d3-477c-b400-9735ea8a624b",
   "metadata": {},
   "outputs": [],
   "source": [
    "features = [f'f_{i}' for i in range(300)]"
   ]
  },
  {
   "cell_type": "code",
   "execution_count": 17,
   "id": "35dd2a6d-6136-482e-99ba-b70d38d492e5",
   "metadata": {},
   "outputs": [],
   "source": [
    "config = {\n",
    "    'seq_length' : input_chunk_length,\n",
    "    'pred_length':output_chunk_length,\n",
    "    'num_epochs' : 1,\n",
    "    'lr' : 0.001,\n",
    "    'input_size' : 180, \n",
    "    'hidden_size' : hidden_size,\n",
    "    'num_layers' : 2,\n",
    "    'num_classes' :1, ## This is  output dimension\n",
    "    'train_shuffle': True,\n",
    "    'val_shuffle': True,\n",
    "    'batch_size' : 128,\n",
    "    'best_model_name' : 'lstm_'+str(input_chunk_length)+'_'+str(output_chunk_length)+'_'+str(hidden_size),\n",
    "    'bidirectional' : False,\n",
    "    'only_last_hidden': False\n",
    "}"
   ]
  },
  {
   "cell_type": "markdown",
   "id": "bb64ff3e-4d39-45e0-834f-726220ac6481",
   "metadata": {},
   "source": [
    "#### Read Data #####"
   ]
  },
  {
   "cell_type": "code",
   "execution_count": 18,
   "id": "7b2ba24d-302d-48d8-b1e1-9c760cbe1d55",
   "metadata": {},
   "outputs": [
    {
     "name": "stdout",
     "output_type": "stream",
     "text": [
      "CPU times: user 26.8 s, sys: 9.26 s, total: 36 s\n",
      "Wall time: 6.08 s\n"
     ]
    }
   ],
   "source": [
    "%%time\n",
    "train_df = pd.read_parquet(DATA_DIR+'train_low_mem.parquet')"
   ]
  },
  {
   "cell_type": "code",
   "execution_count": 19,
   "id": "d0491c4f-5d9b-474d-a1f0-ea235b11eb19",
   "metadata": {},
   "outputs": [
    {
     "data": {
      "text/html": [
       "<div>\n",
       "<style scoped>\n",
       "    .dataframe tbody tr th:only-of-type {\n",
       "        vertical-align: middle;\n",
       "    }\n",
       "\n",
       "    .dataframe tbody tr th {\n",
       "        vertical-align: top;\n",
       "    }\n",
       "\n",
       "    .dataframe thead th {\n",
       "        text-align: right;\n",
       "    }\n",
       "</style>\n",
       "<table border=\"1\" class=\"dataframe\">\n",
       "  <thead>\n",
       "    <tr style=\"text-align: right;\">\n",
       "      <th></th>\n",
       "      <th>row_id</th>\n",
       "      <th>time_id</th>\n",
       "      <th>investment_id</th>\n",
       "      <th>target</th>\n",
       "      <th>f_0</th>\n",
       "      <th>f_1</th>\n",
       "      <th>f_2</th>\n",
       "      <th>f_3</th>\n",
       "      <th>f_4</th>\n",
       "      <th>f_5</th>\n",
       "      <th>...</th>\n",
       "      <th>f_290</th>\n",
       "      <th>f_291</th>\n",
       "      <th>f_292</th>\n",
       "      <th>f_293</th>\n",
       "      <th>f_294</th>\n",
       "      <th>f_295</th>\n",
       "      <th>f_296</th>\n",
       "      <th>f_297</th>\n",
       "      <th>f_298</th>\n",
       "      <th>f_299</th>\n",
       "    </tr>\n",
       "  </thead>\n",
       "  <tbody>\n",
       "    <tr>\n",
       "      <th>0</th>\n",
       "      <td>0_1</td>\n",
       "      <td>0</td>\n",
       "      <td>1</td>\n",
       "      <td>-0.300875</td>\n",
       "      <td>0.932573</td>\n",
       "      <td>0.113691</td>\n",
       "      <td>-0.402206</td>\n",
       "      <td>0.378386</td>\n",
       "      <td>-0.203938</td>\n",
       "      <td>-0.413469</td>\n",
       "      <td>...</td>\n",
       "      <td>0.366028</td>\n",
       "      <td>-1.095620</td>\n",
       "      <td>0.200075</td>\n",
       "      <td>0.819155</td>\n",
       "      <td>0.941183</td>\n",
       "      <td>-0.086764</td>\n",
       "      <td>-1.087009</td>\n",
       "      <td>-1.044826</td>\n",
       "      <td>-0.287605</td>\n",
       "      <td>0.321566</td>\n",
       "    </tr>\n",
       "    <tr>\n",
       "      <th>1</th>\n",
       "      <td>0_2</td>\n",
       "      <td>0</td>\n",
       "      <td>2</td>\n",
       "      <td>-0.231040</td>\n",
       "      <td>0.810802</td>\n",
       "      <td>-0.514115</td>\n",
       "      <td>0.742368</td>\n",
       "      <td>-0.616673</td>\n",
       "      <td>-0.194255</td>\n",
       "      <td>1.771210</td>\n",
       "      <td>...</td>\n",
       "      <td>-0.154193</td>\n",
       "      <td>0.912726</td>\n",
       "      <td>-0.734579</td>\n",
       "      <td>0.819155</td>\n",
       "      <td>0.941183</td>\n",
       "      <td>-0.387617</td>\n",
       "      <td>-1.087009</td>\n",
       "      <td>-0.929529</td>\n",
       "      <td>-0.974060</td>\n",
       "      <td>-0.343624</td>\n",
       "    </tr>\n",
       "    <tr>\n",
       "      <th>2</th>\n",
       "      <td>0_6</td>\n",
       "      <td>0</td>\n",
       "      <td>6</td>\n",
       "      <td>0.568807</td>\n",
       "      <td>0.393974</td>\n",
       "      <td>0.615937</td>\n",
       "      <td>0.567806</td>\n",
       "      <td>-0.607963</td>\n",
       "      <td>0.068883</td>\n",
       "      <td>-1.083155</td>\n",
       "      <td>...</td>\n",
       "      <td>-0.138020</td>\n",
       "      <td>0.912726</td>\n",
       "      <td>-0.551904</td>\n",
       "      <td>-1.220772</td>\n",
       "      <td>-1.060166</td>\n",
       "      <td>-0.219097</td>\n",
       "      <td>-1.087009</td>\n",
       "      <td>-0.612428</td>\n",
       "      <td>-0.113944</td>\n",
       "      <td>0.243608</td>\n",
       "    </tr>\n",
       "    <tr>\n",
       "      <th>3</th>\n",
       "      <td>0_7</td>\n",
       "      <td>0</td>\n",
       "      <td>7</td>\n",
       "      <td>-1.064780</td>\n",
       "      <td>-2.343535</td>\n",
       "      <td>-0.011870</td>\n",
       "      <td>1.874606</td>\n",
       "      <td>-0.606346</td>\n",
       "      <td>-0.586827</td>\n",
       "      <td>-0.815737</td>\n",
       "      <td>...</td>\n",
       "      <td>0.382201</td>\n",
       "      <td>0.912726</td>\n",
       "      <td>-0.266359</td>\n",
       "      <td>-1.220772</td>\n",
       "      <td>0.941183</td>\n",
       "      <td>-0.609113</td>\n",
       "      <td>0.104928</td>\n",
       "      <td>-0.783423</td>\n",
       "      <td>1.151730</td>\n",
       "      <td>-0.773309</td>\n",
       "    </tr>\n",
       "    <tr>\n",
       "      <th>4</th>\n",
       "      <td>0_8</td>\n",
       "      <td>0</td>\n",
       "      <td>8</td>\n",
       "      <td>-0.531940</td>\n",
       "      <td>0.842057</td>\n",
       "      <td>-0.262993</td>\n",
       "      <td>2.330030</td>\n",
       "      <td>-0.583422</td>\n",
       "      <td>-0.618392</td>\n",
       "      <td>-0.742814</td>\n",
       "      <td>...</td>\n",
       "      <td>-0.170365</td>\n",
       "      <td>0.912726</td>\n",
       "      <td>-0.741355</td>\n",
       "      <td>-1.220772</td>\n",
       "      <td>0.941183</td>\n",
       "      <td>-0.588445</td>\n",
       "      <td>0.104928</td>\n",
       "      <td>0.753279</td>\n",
       "      <td>1.345611</td>\n",
       "      <td>-0.737624</td>\n",
       "    </tr>\n",
       "  </tbody>\n",
       "</table>\n",
       "<p>5 rows × 304 columns</p>\n",
       "</div>"
      ],
      "text/plain": [
       "  row_id  time_id  investment_id    target       f_0       f_1       f_2  \\\n",
       "0    0_1        0              1 -0.300875  0.932573  0.113691 -0.402206   \n",
       "1    0_2        0              2 -0.231040  0.810802 -0.514115  0.742368   \n",
       "2    0_6        0              6  0.568807  0.393974  0.615937  0.567806   \n",
       "3    0_7        0              7 -1.064780 -2.343535 -0.011870  1.874606   \n",
       "4    0_8        0              8 -0.531940  0.842057 -0.262993  2.330030   \n",
       "\n",
       "        f_3       f_4       f_5  ...     f_290     f_291     f_292     f_293  \\\n",
       "0  0.378386 -0.203938 -0.413469  ...  0.366028 -1.095620  0.200075  0.819155   \n",
       "1 -0.616673 -0.194255  1.771210  ... -0.154193  0.912726 -0.734579  0.819155   \n",
       "2 -0.607963  0.068883 -1.083155  ... -0.138020  0.912726 -0.551904 -1.220772   \n",
       "3 -0.606346 -0.586827 -0.815737  ...  0.382201  0.912726 -0.266359 -1.220772   \n",
       "4 -0.583422 -0.618392 -0.742814  ... -0.170365  0.912726 -0.741355 -1.220772   \n",
       "\n",
       "      f_294     f_295     f_296     f_297     f_298     f_299  \n",
       "0  0.941183 -0.086764 -1.087009 -1.044826 -0.287605  0.321566  \n",
       "1  0.941183 -0.387617 -1.087009 -0.929529 -0.974060 -0.343624  \n",
       "2 -1.060166 -0.219097 -1.087009 -0.612428 -0.113944  0.243608  \n",
       "3  0.941183 -0.609113  0.104928 -0.783423  1.151730 -0.773309  \n",
       "4  0.941183 -0.588445  0.104928  0.753279  1.345611 -0.737624  \n",
       "\n",
       "[5 rows x 304 columns]"
      ]
     },
     "execution_count": 19,
     "metadata": {},
     "output_type": "execute_result"
    }
   ],
   "source": [
    "train_df.head()"
   ]
  },
  {
   "cell_type": "code",
   "execution_count": 20,
   "id": "ce7ebfac-cecf-4b2e-8759-d951575a31b1",
   "metadata": {},
   "outputs": [],
   "source": [
    "####### Filter out only Fold 1 data ###########"
   ]
  },
  {
   "cell_type": "code",
   "execution_count": 21,
   "id": "32c2c36e-7ee8-4327-890a-b79278aadd94",
   "metadata": {},
   "outputs": [],
   "source": [
    "with open('../input/folds.pickle', 'rb') as f:\n",
    "    folds = pickle.load(f)"
   ]
  },
  {
   "cell_type": "code",
   "execution_count": 22,
   "id": "5b7f1c13-cf74-4d18-9bc7-fe62c2dbc5eb",
   "metadata": {},
   "outputs": [],
   "source": [
    "train_indxs = folds[0]['train']\n",
    "test_indxs = folds[0]['test']"
   ]
  },
  {
   "cell_type": "code",
   "execution_count": null,
   "id": "cbfc20d8-7b56-4bd3-b480-3df1459ff1f2",
   "metadata": {},
   "outputs": [],
   "source": []
  },
  {
   "cell_type": "code",
   "execution_count": 23,
   "id": "6f0f8f91-887c-4dd5-af2b-e81fdf5f025f",
   "metadata": {},
   "outputs": [],
   "source": [
    "test_df = train_df[train_df.index.isin(test_indxs)].reset_index(drop=True)\n",
    "train_df = train_df[train_df.index.isin(train_indxs)].reset_index(drop=True)"
   ]
  },
  {
   "cell_type": "code",
   "execution_count": 24,
   "id": "14ad439a-50ef-4c9f-83fc-bcc274c30359",
   "metadata": {},
   "outputs": [
    {
     "data": {
      "text/plain": [
       "0"
      ]
     },
     "execution_count": 24,
     "metadata": {},
     "output_type": "execute_result"
    }
   ],
   "source": [
    "gc.collect()"
   ]
  },
  {
   "cell_type": "code",
   "execution_count": 25,
   "id": "353c45e1-7300-43ac-a657-ca7f20bf1b01",
   "metadata": {},
   "outputs": [
    {
     "name": "stdout",
     "output_type": "stream",
     "text": [
      "<class 'pandas.core.frame.DataFrame'>\n",
      "RangeIndex: 531075 entries, 0 to 531074\n",
      "Columns: 304 entries, row_id to f_299\n",
      "dtypes: float32(301), object(1), uint16(2)\n",
      "memory usage: 615.9+ MB\n"
     ]
    }
   ],
   "source": [
    "train_df.info()"
   ]
  },
  {
   "cell_type": "code",
   "execution_count": 26,
   "id": "f10bf7a3-3cab-471e-b8bf-843522da1fb8",
   "metadata": {},
   "outputs": [],
   "source": [
    "# train_df = train_df.sample(frac=0.2)"
   ]
  },
  {
   "cell_type": "code",
   "execution_count": 27,
   "id": "aecc7aa7-5083-45d4-b1ba-d84669783c82",
   "metadata": {},
   "outputs": [],
   "source": [
    "investment_ids = train_df.investment_id.unique().tolist()"
   ]
  },
  {
   "cell_type": "code",
   "execution_count": 28,
   "id": "40e5d59d-3bef-45d6-bed3-a279082f1ffc",
   "metadata": {},
   "outputs": [],
   "source": [
    "count_df = train_df.groupby('investment_id',as_index=False).agg(c = ('time_id', len))"
   ]
  },
  {
   "cell_type": "code",
   "execution_count": 29,
   "id": "f3fba66e-0e45-4a54-8830-8c1a2f015635",
   "metadata": {},
   "outputs": [
    {
     "data": {
      "text/plain": [
       "count    3577.000000\n",
       "mean      148.469388\n",
       "std        52.384007\n",
       "min         2.000000\n",
       "25%       116.000000\n",
       "50%       170.000000\n",
       "75%       191.000000\n",
       "max       206.000000\n",
       "Name: c, dtype: float64"
      ]
     },
     "execution_count": 29,
     "metadata": {},
     "output_type": "execute_result"
    }
   ],
   "source": [
    "count_df.c.describe()"
   ]
  },
  {
   "cell_type": "code",
   "execution_count": 30,
   "id": "fea79903-85ae-4199-86e1-301a74d69f85",
   "metadata": {},
   "outputs": [],
   "source": [
    "to_exclude_ids = count_df[count_df.c<input_chunk_length+1].investment_id.unique().tolist()"
   ]
  },
  {
   "cell_type": "code",
   "execution_count": 31,
   "id": "3fe4ad28-3af4-4645-b8bb-27b242de9347",
   "metadata": {},
   "outputs": [
    {
     "data": {
      "text/plain": [
       "(531075, 304)"
      ]
     },
     "execution_count": 31,
     "metadata": {},
     "output_type": "execute_result"
    }
   ],
   "source": [
    "train_df.shape"
   ]
  },
  {
   "cell_type": "markdown",
   "id": "95457430-b8bd-4b95-a89c-e7f46b95061f",
   "metadata": {},
   "source": [
    "## Modeling ##"
   ]
  },
  {
   "cell_type": "markdown",
   "id": "55ed7912-cfe8-411a-b307-92dfe8934d56",
   "metadata": {},
   "source": [
    "##### Prepare data ######"
   ]
  },
  {
   "cell_type": "code",
   "execution_count": 32,
   "id": "b876152b-52be-4d18-9e5d-5f9002f8dcc7",
   "metadata": {},
   "outputs": [],
   "source": [
    "all_features_columns = ['investment_id', 'target'] + features"
   ]
  },
  {
   "cell_type": "code",
   "execution_count": 33,
   "id": "3b64999c-aa33-4149-9beb-42ae79a853c1",
   "metadata": {},
   "outputs": [],
   "source": [
    "def get_feature_array_train(rows):\n",
    "    target_val = rows.target.values.reshape(-1,1)\n",
    "    \n",
    "    inp_vec = rows[all_features_columns].values\n",
    "    \n",
    "    return inp_vec,target_val"
   ]
  },
  {
   "cell_type": "code",
   "execution_count": 34,
   "id": "25947fd1-47fc-48ca-be8d-ee9636ee707f",
   "metadata": {},
   "outputs": [],
   "source": [
    "def sliding_windows(X,Y,seq_length,prediction_length):\n",
    "    x = []\n",
    "    y = []\n",
    "    for i in range(len(X)-(prediction_length+seq_length)):\n",
    "        _x = X[i:(i+seq_length),:].reshape(seq_length,-1)\n",
    "        _y = Y[(i+seq_length):(i+prediction_length+seq_length),:]\n",
    "        x.append(_x)\n",
    "        y.append(_y)\n",
    "\n",
    "    return x,y"
   ]
  },
  {
   "cell_type": "code",
   "execution_count": 35,
   "id": "12782abe-57c2-45b6-913f-e3f54de2f618",
   "metadata": {},
   "outputs": [],
   "source": [
    "def make_sequences(df):\n",
    "    x = []\n",
    "    y = []\n",
    "    investment_ids = df.investment_id.unique()\n",
    "    for iid in investment_ids:\n",
    "        if iid not in to_exclude_ids:\n",
    "            df_tmp = df[df.investment_id == iid].sort_values('time_id')\n",
    "            tmp_X,tmp_Y = get_feature_array_train(df_tmp)\n",
    "            _x,_y = sliding_windows(tmp_X,tmp_Y,input_chunk_length,output_chunk_length)\n",
    "            x.extend(_x)\n",
    "            y.extend(_y)\n",
    "            \n",
    "            gc.collect()\n",
    "        # else:\n",
    "        #     print('Not including iid:', iid)\n",
    "    \n",
    "    return np.array(x),np.array(y)\n",
    "            \n",
    "            \n",
    "        "
   ]
  },
  {
   "cell_type": "code",
   "execution_count": null,
   "id": "5499a796-61f5-444a-9197-88a58036d064",
   "metadata": {},
   "outputs": [],
   "source": []
  },
  {
   "cell_type": "code",
   "execution_count": null,
   "id": "5344b74f-8e69-4869-986d-f357b55f43c6",
   "metadata": {},
   "outputs": [],
   "source": [
    "X_train, Y_train = make_sequences(train_df)"
   ]
  },
  {
   "cell_type": "code",
   "execution_count": null,
   "id": "1a82b3e4-3fbf-488f-b0db-6a5c594616f5",
   "metadata": {},
   "outputs": [],
   "source": [
    "X_train.shape"
   ]
  },
  {
   "cell_type": "code",
   "execution_count": null,
   "id": "f480d791-58bd-4c26-a50e-87be4b6b4dd5",
   "metadata": {},
   "outputs": [],
   "source": [
    "Y_train.shape"
   ]
  },
  {
   "cell_type": "code",
   "execution_count": null,
   "id": "506ddd96-4bc9-454c-b394-8d2499606b0c",
   "metadata": {},
   "outputs": [],
   "source": []
  }
 ],
 "metadata": {
  "kernelspec": {
   "display_name": "Python 3 (ipykernel)",
   "language": "python",
   "name": "python3"
  },
  "language_info": {
   "codemirror_mode": {
    "name": "ipython",
    "version": 3
   },
   "file_extension": ".py",
   "mimetype": "text/x-python",
   "name": "python",
   "nbconvert_exporter": "python",
   "pygments_lexer": "ipython3",
   "version": "3.8.10"
  }
 },
 "nbformat": 4,
 "nbformat_minor": 5
}
